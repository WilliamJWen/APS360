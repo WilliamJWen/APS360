{
  "cells": [
    {
      "cell_type": "markdown",
      "metadata": {
        "id": "DjU0K-Jy2STo"
      },
      "source": [
        "# Tutorial 5 - Recurrent Neural Networks\n",
        "\n",
        "This tutorial is split into three parts. Parts A and B were covered in the lecture and focus on Word2Vec and GloVe word embeddings. Sentiment analysis using GloVe embeddings with a simple ANN classifier is the focus of Part B. Part C introduces recurrent neural networks (RNNs) for sentiment analysis and provides sample code for batching of data."
      ]
    },
    {
      "cell_type": "code",
      "source": [
        "# this need to be added\n",
        "!pip install torchtext==0.15.2"
      ],
      "metadata": {
        "id": "YCZpRquXW1l_",
        "outputId": "ab70b972-216e-4d8f-ec49-8e510ab96ac5",
        "colab": {
          "base_uri": "https://localhost:8080/"
        }
      },
      "execution_count": 1,
      "outputs": [
        {
          "output_type": "stream",
          "name": "stdout",
          "text": [
            "Collecting torchtext==0.15.2\n",
            "  Downloading torchtext-0.15.2-cp311-cp311-manylinux1_x86_64.whl.metadata (7.4 kB)\n",
            "Requirement already satisfied: tqdm in /usr/local/lib/python3.11/dist-packages (from torchtext==0.15.2) (4.67.1)\n",
            "Requirement already satisfied: requests in /usr/local/lib/python3.11/dist-packages (from torchtext==0.15.2) (2.32.3)\n",
            "Collecting torch==2.0.1 (from torchtext==0.15.2)\n",
            "  Downloading torch-2.0.1-cp311-cp311-manylinux1_x86_64.whl.metadata (24 kB)\n",
            "Requirement already satisfied: numpy in /usr/local/lib/python3.11/dist-packages (from torchtext==0.15.2) (2.0.2)\n",
            "Collecting torchdata==0.6.1 (from torchtext==0.15.2)\n",
            "  Downloading torchdata-0.6.1-cp311-cp311-manylinux_2_17_x86_64.manylinux2014_x86_64.whl.metadata (13 kB)\n",
            "Requirement already satisfied: filelock in /usr/local/lib/python3.11/dist-packages (from torch==2.0.1->torchtext==0.15.2) (3.17.0)\n",
            "Requirement already satisfied: typing-extensions in /usr/local/lib/python3.11/dist-packages (from torch==2.0.1->torchtext==0.15.2) (4.12.2)\n",
            "Requirement already satisfied: sympy in /usr/local/lib/python3.11/dist-packages (from torch==2.0.1->torchtext==0.15.2) (1.13.1)\n",
            "Requirement already satisfied: networkx in /usr/local/lib/python3.11/dist-packages (from torch==2.0.1->torchtext==0.15.2) (3.4.2)\n",
            "Requirement already satisfied: jinja2 in /usr/local/lib/python3.11/dist-packages (from torch==2.0.1->torchtext==0.15.2) (3.1.6)\n",
            "Collecting nvidia-cuda-nvrtc-cu11==11.7.99 (from torch==2.0.1->torchtext==0.15.2)\n",
            "  Downloading nvidia_cuda_nvrtc_cu11-11.7.99-2-py3-none-manylinux1_x86_64.whl.metadata (1.5 kB)\n",
            "Collecting nvidia-cuda-runtime-cu11==11.7.99 (from torch==2.0.1->torchtext==0.15.2)\n",
            "  Downloading nvidia_cuda_runtime_cu11-11.7.99-py3-none-manylinux1_x86_64.whl.metadata (1.6 kB)\n",
            "Collecting nvidia-cuda-cupti-cu11==11.7.101 (from torch==2.0.1->torchtext==0.15.2)\n",
            "  Downloading nvidia_cuda_cupti_cu11-11.7.101-py3-none-manylinux1_x86_64.whl.metadata (1.6 kB)\n",
            "Collecting nvidia-cudnn-cu11==8.5.0.96 (from torch==2.0.1->torchtext==0.15.2)\n",
            "  Downloading nvidia_cudnn_cu11-8.5.0.96-2-py3-none-manylinux1_x86_64.whl.metadata (1.6 kB)\n",
            "Collecting nvidia-cublas-cu11==11.10.3.66 (from torch==2.0.1->torchtext==0.15.2)\n",
            "  Downloading nvidia_cublas_cu11-11.10.3.66-py3-none-manylinux1_x86_64.whl.metadata (1.6 kB)\n",
            "Collecting nvidia-cufft-cu11==10.9.0.58 (from torch==2.0.1->torchtext==0.15.2)\n",
            "  Downloading nvidia_cufft_cu11-10.9.0.58-py3-none-manylinux2014_x86_64.whl.metadata (1.5 kB)\n",
            "Collecting nvidia-curand-cu11==10.2.10.91 (from torch==2.0.1->torchtext==0.15.2)\n",
            "  Downloading nvidia_curand_cu11-10.2.10.91-py3-none-manylinux1_x86_64.whl.metadata (1.6 kB)\n",
            "Collecting nvidia-cusolver-cu11==11.4.0.1 (from torch==2.0.1->torchtext==0.15.2)\n",
            "  Downloading nvidia_cusolver_cu11-11.4.0.1-2-py3-none-manylinux1_x86_64.whl.metadata (1.6 kB)\n",
            "Collecting nvidia-cusparse-cu11==11.7.4.91 (from torch==2.0.1->torchtext==0.15.2)\n",
            "  Downloading nvidia_cusparse_cu11-11.7.4.91-py3-none-manylinux1_x86_64.whl.metadata (1.6 kB)\n",
            "Collecting nvidia-nccl-cu11==2.14.3 (from torch==2.0.1->torchtext==0.15.2)\n",
            "  Downloading nvidia_nccl_cu11-2.14.3-py3-none-manylinux1_x86_64.whl.metadata (1.8 kB)\n",
            "Collecting nvidia-nvtx-cu11==11.7.91 (from torch==2.0.1->torchtext==0.15.2)\n",
            "  Downloading nvidia_nvtx_cu11-11.7.91-py3-none-manylinux1_x86_64.whl.metadata (1.7 kB)\n",
            "Collecting triton==2.0.0 (from torch==2.0.1->torchtext==0.15.2)\n",
            "  Downloading triton-2.0.0-1-cp311-cp311-manylinux2014_x86_64.manylinux_2_17_x86_64.whl.metadata (1.0 kB)\n",
            "Requirement already satisfied: urllib3>=1.25 in /usr/local/lib/python3.11/dist-packages (from torchdata==0.6.1->torchtext==0.15.2) (2.3.0)\n",
            "Requirement already satisfied: setuptools in /usr/local/lib/python3.11/dist-packages (from nvidia-cublas-cu11==11.10.3.66->torch==2.0.1->torchtext==0.15.2) (75.1.0)\n",
            "Requirement already satisfied: wheel in /usr/local/lib/python3.11/dist-packages (from nvidia-cublas-cu11==11.10.3.66->torch==2.0.1->torchtext==0.15.2) (0.45.1)\n",
            "Requirement already satisfied: cmake in /usr/local/lib/python3.11/dist-packages (from triton==2.0.0->torch==2.0.1->torchtext==0.15.2) (3.31.6)\n",
            "Collecting lit (from triton==2.0.0->torch==2.0.1->torchtext==0.15.2)\n",
            "  Downloading lit-18.1.8-py3-none-any.whl.metadata (2.5 kB)\n",
            "Requirement already satisfied: charset-normalizer<4,>=2 in /usr/local/lib/python3.11/dist-packages (from requests->torchtext==0.15.2) (3.4.1)\n",
            "Requirement already satisfied: idna<4,>=2.5 in /usr/local/lib/python3.11/dist-packages (from requests->torchtext==0.15.2) (3.10)\n",
            "Requirement already satisfied: certifi>=2017.4.17 in /usr/local/lib/python3.11/dist-packages (from requests->torchtext==0.15.2) (2025.1.31)\n",
            "Requirement already satisfied: MarkupSafe>=2.0 in /usr/local/lib/python3.11/dist-packages (from jinja2->torch==2.0.1->torchtext==0.15.2) (3.0.2)\n",
            "Requirement already satisfied: mpmath<1.4,>=1.1.0 in /usr/local/lib/python3.11/dist-packages (from sympy->torch==2.0.1->torchtext==0.15.2) (1.3.0)\n",
            "Downloading torchtext-0.15.2-cp311-cp311-manylinux1_x86_64.whl (2.0 MB)\n",
            "\u001b[2K   \u001b[90m━━━━━━━━━━━━━━━━━━━━━━━━━━━━━━━━━━━━━━━━\u001b[0m \u001b[32m2.0/2.0 MB\u001b[0m \u001b[31m17.4 MB/s\u001b[0m eta \u001b[36m0:00:00\u001b[0m\n",
            "\u001b[?25hDownloading torch-2.0.1-cp311-cp311-manylinux1_x86_64.whl (619.9 MB)\n",
            "\u001b[2K   \u001b[90m━━━━━━━━━━━━━━━━━━━━━━━━━━━━━━━━━━━━━━━━\u001b[0m \u001b[32m619.9/619.9 MB\u001b[0m \u001b[31m2.6 MB/s\u001b[0m eta \u001b[36m0:00:00\u001b[0m\n",
            "\u001b[?25hDownloading torchdata-0.6.1-cp311-cp311-manylinux_2_17_x86_64.manylinux2014_x86_64.whl (4.6 MB)\n",
            "\u001b[2K   \u001b[90m━━━━━━━━━━━━━━━━━━━━━━━━━━━━━━━━━━━━━━━━\u001b[0m \u001b[32m4.6/4.6 MB\u001b[0m \u001b[31m35.9 MB/s\u001b[0m eta \u001b[36m0:00:00\u001b[0m\n",
            "\u001b[?25hDownloading nvidia_cublas_cu11-11.10.3.66-py3-none-manylinux1_x86_64.whl (317.1 MB)\n",
            "\u001b[2K   \u001b[90m━━━━━━━━━━━━━━━━━━━━━━━━━━━━━━━━━━━━━━━━\u001b[0m \u001b[32m317.1/317.1 MB\u001b[0m \u001b[31m4.2 MB/s\u001b[0m eta \u001b[36m0:00:00\u001b[0m\n",
            "\u001b[?25hDownloading nvidia_cuda_cupti_cu11-11.7.101-py3-none-manylinux1_x86_64.whl (11.8 MB)\n",
            "\u001b[2K   \u001b[90m━━━━━━━━━━━━━━━━━━━━━━━━━━━━━━━━━━━━━━━━\u001b[0m \u001b[32m11.8/11.8 MB\u001b[0m \u001b[31m86.6 MB/s\u001b[0m eta \u001b[36m0:00:00\u001b[0m\n",
            "\u001b[?25hDownloading nvidia_cuda_nvrtc_cu11-11.7.99-2-py3-none-manylinux1_x86_64.whl (21.0 MB)\n",
            "\u001b[2K   \u001b[90m━━━━━━━━━━━━━━━━━━━━━━━━━━━━━━━━━━━━━━━━\u001b[0m \u001b[32m21.0/21.0 MB\u001b[0m \u001b[31m77.5 MB/s\u001b[0m eta \u001b[36m0:00:00\u001b[0m\n",
            "\u001b[?25hDownloading nvidia_cuda_runtime_cu11-11.7.99-py3-none-manylinux1_x86_64.whl (849 kB)\n",
            "\u001b[2K   \u001b[90m━━━━━━━━━━━━━━━━━━━━━━━━━━━━━━━━━━━━━━━━\u001b[0m \u001b[32m849.3/849.3 kB\u001b[0m \u001b[31m43.9 MB/s\u001b[0m eta \u001b[36m0:00:00\u001b[0m\n",
            "\u001b[?25hDownloading nvidia_cudnn_cu11-8.5.0.96-2-py3-none-manylinux1_x86_64.whl (557.1 MB)\n",
            "\u001b[2K   \u001b[90m━━━━━━━━━━━━━━━━━━━━━━━━━━━━━━━━━━━━━━━━\u001b[0m \u001b[32m557.1/557.1 MB\u001b[0m \u001b[31m1.6 MB/s\u001b[0m eta \u001b[36m0:00:00\u001b[0m\n",
            "\u001b[?25hDownloading nvidia_cufft_cu11-10.9.0.58-py3-none-manylinux2014_x86_64.whl (168.4 MB)\n",
            "\u001b[2K   \u001b[90m━━━━━━━━━━━━━━━━━━━━━━━━━━━━━━━━━━━━━━━━\u001b[0m \u001b[32m168.4/168.4 MB\u001b[0m \u001b[31m5.7 MB/s\u001b[0m eta \u001b[36m0:00:00\u001b[0m\n",
            "\u001b[?25hDownloading nvidia_curand_cu11-10.2.10.91-py3-none-manylinux1_x86_64.whl (54.6 MB)\n",
            "\u001b[2K   \u001b[90m━━━━━━━━━━━━━━━━━━━━━━━━━━━━━━━━━━━━━━━━\u001b[0m \u001b[32m54.6/54.6 MB\u001b[0m \u001b[31m10.3 MB/s\u001b[0m eta \u001b[36m0:00:00\u001b[0m\n",
            "\u001b[?25hDownloading nvidia_cusolver_cu11-11.4.0.1-2-py3-none-manylinux1_x86_64.whl (102.6 MB)\n",
            "\u001b[2K   \u001b[90m━━━━━━━━━━━━━━━━━━━━━━━━━━━━━━━━━━━━━━━━\u001b[0m \u001b[32m102.6/102.6 MB\u001b[0m \u001b[31m8.2 MB/s\u001b[0m eta \u001b[36m0:00:00\u001b[0m\n",
            "\u001b[?25hDownloading nvidia_cusparse_cu11-11.7.4.91-py3-none-manylinux1_x86_64.whl (173.2 MB)\n",
            "\u001b[2K   \u001b[90m━━━━━━━━━━━━━━━━━━━━━━━━━━━━━━━━━━━━━━━━\u001b[0m \u001b[32m173.2/173.2 MB\u001b[0m \u001b[31m5.5 MB/s\u001b[0m eta \u001b[36m0:00:00\u001b[0m\n",
            "\u001b[?25hDownloading nvidia_nccl_cu11-2.14.3-py3-none-manylinux1_x86_64.whl (177.1 MB)\n",
            "\u001b[2K   \u001b[90m━━━━━━━━━━━━━━━━━━━━━━━━━━━━━━━━━━━━━━━━\u001b[0m \u001b[32m177.1/177.1 MB\u001b[0m \u001b[31m7.1 MB/s\u001b[0m eta \u001b[36m0:00:00\u001b[0m\n",
            "\u001b[?25hDownloading nvidia_nvtx_cu11-11.7.91-py3-none-manylinux1_x86_64.whl (98 kB)\n",
            "\u001b[2K   \u001b[90m━━━━━━━━━━━━━━━━━━━━━━━━━━━━━━━━━━━━━━━━\u001b[0m \u001b[32m98.6/98.6 kB\u001b[0m \u001b[31m6.8 MB/s\u001b[0m eta \u001b[36m0:00:00\u001b[0m\n",
            "\u001b[?25hDownloading triton-2.0.0-1-cp311-cp311-manylinux2014_x86_64.manylinux_2_17_x86_64.whl (63.3 MB)\n",
            "\u001b[2K   \u001b[90m━━━━━━━━━━━━━━━━━━━━━━━━━━━━━━━━━━━━━━━━\u001b[0m \u001b[32m63.3/63.3 MB\u001b[0m \u001b[31m9.9 MB/s\u001b[0m eta \u001b[36m0:00:00\u001b[0m\n",
            "\u001b[?25hDownloading lit-18.1.8-py3-none-any.whl (96 kB)\n",
            "\u001b[2K   \u001b[90m━━━━━━━━━━━━━━━━━━━━━━━━━━━━━━━━━━━━━━━━\u001b[0m \u001b[32m96.4/96.4 kB\u001b[0m \u001b[31m6.7 MB/s\u001b[0m eta \u001b[36m0:00:00\u001b[0m\n",
            "\u001b[?25hInstalling collected packages: lit, nvidia-nvtx-cu11, nvidia-nccl-cu11, nvidia-cusparse-cu11, nvidia-curand-cu11, nvidia-cufft-cu11, nvidia-cuda-runtime-cu11, nvidia-cuda-nvrtc-cu11, nvidia-cuda-cupti-cu11, nvidia-cublas-cu11, nvidia-cusolver-cu11, nvidia-cudnn-cu11, triton, torch, torchdata, torchtext\n",
            "  Attempting uninstall: triton\n",
            "    Found existing installation: triton 3.2.0\n",
            "    Uninstalling triton-3.2.0:\n",
            "      Successfully uninstalled triton-3.2.0\n",
            "  Attempting uninstall: torch\n",
            "    Found existing installation: torch 2.6.0+cu124\n",
            "    Uninstalling torch-2.6.0+cu124:\n",
            "      Successfully uninstalled torch-2.6.0+cu124\n",
            "\u001b[31mERROR: pip's dependency resolver does not currently take into account all the packages that are installed. This behaviour is the source of the following dependency conflicts.\n",
            "torchaudio 2.6.0+cu124 requires torch==2.6.0, but you have torch 2.0.1 which is incompatible.\n",
            "torchvision 0.21.0+cu124 requires torch==2.6.0, but you have torch 2.0.1 which is incompatible.\u001b[0m\u001b[31m\n",
            "\u001b[0mSuccessfully installed lit-18.1.8 nvidia-cublas-cu11-11.10.3.66 nvidia-cuda-cupti-cu11-11.7.101 nvidia-cuda-nvrtc-cu11-11.7.99 nvidia-cuda-runtime-cu11-11.7.99 nvidia-cudnn-cu11-8.5.0.96 nvidia-cufft-cu11-10.9.0.58 nvidia-curand-cu11-10.2.10.91 nvidia-cusolver-cu11-11.4.0.1 nvidia-cusparse-cu11-11.7.4.91 nvidia-nccl-cu11-2.14.3 nvidia-nvtx-cu11-11.7.91 torch-2.0.1 torchdata-0.6.1 torchtext-0.15.2 triton-2.0.0\n"
          ]
        }
      ]
    },
    {
      "cell_type": "markdown",
      "metadata": {
        "id": "vsDHAKK-6e16"
      },
      "source": [
        "#Part A: Word2Vec and GloVe Vectors\n",
        "We saw how autoencoders are used to learn a latent\n",
        "**embedding space**: an alternative, low-dimensional representation\n",
        "of a set of data with some appealing properties:\n",
        "for example, we saw that interpolating in the latent space\n",
        "is a way of generating new examples. In particular,\n",
        "interpolation in the latent space generates more compelling\n",
        "examples than, say, interpolating in the raw pixel space.\n",
        "\n",
        "The idea of learning an alternative representation/features/*embeddings* of data\n",
        "is a prevalent one in machine learning. Good representations will\n",
        "make downstream tasks (like generating new data, clustering, computing distances) perform much better.\n",
        "\n",
        "With autoencoders, we were able to learn a representation of MNIST digits.\n",
        "In lab 4, we use an autoencoder to learn a representation of a census record.\n",
        "In both cases, we used a model that looks like this:\n",
        "\n",
        "- **Encoder**: data -> embedding\n",
        "- **Decoder**: embedding -> data\n",
        "\n",
        "This type of architecture works well for certain types of data (e.g. images)\n",
        "that are easy to generate, and whose meaning is encoded in the input data\n",
        "representation (e.g. the pixels).\n",
        "\n",
        "But what if we want to train an embedding on words? Words are different\n",
        "from images, in that the meaning of a word is not represented\n",
        "by the letters that make up the word (the same way that the meaning\n",
        "of an image is represented by the pixels that make up the pixel). Instead,\n",
        "the meaning of words comes from how they are used in conjunction with other\n",
        "words.\n",
        "\n",
        "## word2vec models\n",
        "\n",
        "A word2vec model learns embedding of words using the following architecture:\n",
        "\n",
        "- **Encoder**: word -> embedding\n",
        "- **Decoder**: embedding -> nearby words (context)\n",
        "\n",
        "Specific word2vec models differ in the which \"nearby words\" is predicted\n",
        "using the decoder: is it the 3 context words that appeared *before*\n",
        "the input word? Is it the 3 words that appeared *after*? Or is it a combination\n",
        "of the two words that appeared before and two words that appeared after\n",
        "the input word?\n",
        "\n",
        "These models are trained using a large corpus of text: for example the whole\n",
        "of Wikipedia or a large collection of news articles. We won't train our\n",
        "own word2vec models in this course, so we won't talk about the many considerations involved in training a word2vec model.\n",
        "\n",
        "Instead, we will use a set of pre-trained word embeddings. These are embeddings\n",
        "that someone else took the time and computational power to train.\n",
        "One of the most commonly-used pre-trained word embeddings are the **GloVe embeddings**.\n",
        "\n",
        "GloVe is a variation of a word2vec model. Again, the specifics of the algorithm\n",
        "and its training will be beyond the scope of this course.\n",
        "You should think of **GloVe embeddings** similarly to pre-trained AlexNet weights in that they \"may\" provide improvements to the representation of data.\n",
        "\n",
        "More information about GloVe is available here: https://nlp.stanford.edu/projects/glove/\n",
        "\n",
        "Unlike AlexNet, there are several variations of GloVe embeddings. They\n",
        "differ in the corpus used to train the embedding, and the *size* of the embeddings.\n",
        "\n",
        "## GloVe Embeddings\n",
        "\n",
        "To load pre-trained GloVe embeddings, we'll use a package called `torchtext`.\n",
        "The package `torchtext` contains other useful tools for working with text\n",
        "that we will see later in the course. The documentation for torchtext\n",
        "GloVe vectors are available at: https://torchtext.readthedocs.io/en/latest/vocab.html#glove\n",
        "\n",
        "We'll begin by loading a set of GloVe embeddings. The first time you run the code below, Python will download a large file (862MB) containing the pre-trained embeddings."
      ]
    },
    {
      "cell_type": "code",
      "execution_count": 2,
      "metadata": {
        "id": "UORHOkpF6e18",
        "outputId": "f59680f6-6db5-48c0-e48e-6551fbb2b9a9",
        "colab": {
          "base_uri": "https://localhost:8080/"
        }
      },
      "outputs": [
        {
          "output_type": "stream",
          "name": "stderr",
          "text": [
            ".vector_cache/glove.6B.zip: 862MB [02:41, 5.33MB/s]                           \n",
            "\n",
            "A module that was compiled using NumPy 1.x cannot be run in\n",
            "NumPy 2.0.2 as it may crash. To support both 1.x and 2.x\n",
            "versions of NumPy, modules must be compiled with NumPy 2.0.\n",
            "Some module may need to rebuild instead e.g. with 'pybind11>=2.12'.\n",
            "\n",
            "If you are a user of the module, the easiest solution will be to\n",
            "downgrade to 'numpy<2' or try to upgrade the affected module.\n",
            "We expect that some modules will need time to support NumPy 2.\n",
            "\n",
            "Traceback (most recent call last):  File \"<frozen runpy>\", line 198, in _run_module_as_main\n",
            "  File \"<frozen runpy>\", line 88, in _run_code\n",
            "  File \"/usr/local/lib/python3.11/dist-packages/colab_kernel_launcher.py\", line 37, in <module>\n",
            "    ColabKernelApp.launch_instance()\n",
            "  File \"/usr/local/lib/python3.11/dist-packages/traitlets/config/application.py\", line 992, in launch_instance\n",
            "    app.start()\n",
            "  File \"/usr/local/lib/python3.11/dist-packages/ipykernel/kernelapp.py\", line 712, in start\n",
            "    self.io_loop.start()\n",
            "  File \"/usr/local/lib/python3.11/dist-packages/tornado/platform/asyncio.py\", line 205, in start\n",
            "    self.asyncio_loop.run_forever()\n",
            "  File \"/usr/lib/python3.11/asyncio/base_events.py\", line 608, in run_forever\n",
            "    self._run_once()\n",
            "  File \"/usr/lib/python3.11/asyncio/base_events.py\", line 1936, in _run_once\n",
            "    handle._run()\n",
            "  File \"/usr/lib/python3.11/asyncio/events.py\", line 84, in _run\n",
            "    self._context.run(self._callback, *self._args)\n",
            "  File \"/usr/local/lib/python3.11/dist-packages/ipykernel/kernelbase.py\", line 510, in dispatch_queue\n",
            "    await self.process_one()\n",
            "  File \"/usr/local/lib/python3.11/dist-packages/ipykernel/kernelbase.py\", line 499, in process_one\n",
            "    await dispatch(*args)\n",
            "  File \"/usr/local/lib/python3.11/dist-packages/ipykernel/kernelbase.py\", line 406, in dispatch_shell\n",
            "    await result\n",
            "  File \"/usr/local/lib/python3.11/dist-packages/ipykernel/kernelbase.py\", line 730, in execute_request\n",
            "    reply_content = await reply_content\n",
            "  File \"/usr/local/lib/python3.11/dist-packages/ipykernel/ipkernel.py\", line 383, in do_execute\n",
            "    res = shell.run_cell(\n",
            "  File \"/usr/local/lib/python3.11/dist-packages/ipykernel/zmqshell.py\", line 528, in run_cell\n",
            "    return super().run_cell(*args, **kwargs)\n",
            "  File \"/usr/local/lib/python3.11/dist-packages/IPython/core/interactiveshell.py\", line 2975, in run_cell\n",
            "    result = self._run_cell(\n",
            "  File \"/usr/local/lib/python3.11/dist-packages/IPython/core/interactiveshell.py\", line 3030, in _run_cell\n",
            "    return runner(coro)\n",
            "  File \"/usr/local/lib/python3.11/dist-packages/IPython/core/async_helpers.py\", line 78, in _pseudo_sync_runner\n",
            "    coro.send(None)\n",
            "  File \"/usr/local/lib/python3.11/dist-packages/IPython/core/interactiveshell.py\", line 3257, in run_cell_async\n",
            "    has_raised = await self.run_ast_nodes(code_ast.body, cell_name,\n",
            "  File \"/usr/local/lib/python3.11/dist-packages/IPython/core/interactiveshell.py\", line 3473, in run_ast_nodes\n",
            "    if (await self.run_code(code, result,  async_=asy)):\n",
            "  File \"/usr/local/lib/python3.11/dist-packages/IPython/core/interactiveshell.py\", line 3553, in run_code\n",
            "    exec(code_obj, self.user_global_ns, self.user_ns)\n",
            "  File \"<ipython-input-2-4143cfe6b7fa>\", line 6, in <cell line: 0>\n",
            "    glove = GloVe(name=\"6B\", # trained on Wikipedia 2014 corpus\n",
            "  File \"/usr/local/lib/python3.11/dist-packages/torchtext/vocab/vectors.py\", line 220, in __init__\n",
            "    super(GloVe, self).__init__(name, url=url, **kwargs)\n",
            "  File \"/usr/local/lib/python3.11/dist-packages/torchtext/vocab/vectors.py\", line 59, in __init__\n",
            "    self.cache(name, cache, url=url, max_vectors=max_vectors)\n",
            "  File \"/usr/local/lib/python3.11/dist-packages/torchtext/vocab/vectors.py\", line 124, in cache\n",
            "    itos, vectors, dim = [], torch.zeros((max_vectors, dim)), None\n",
            "/usr/local/lib/python3.11/dist-packages/torchtext/vocab/vectors.py:124: UserWarning: Failed to initialize NumPy: _ARRAY_API not found (Triggered internally at ../torch/csrc/utils/tensor_numpy.cpp:84.)\n",
            "  itos, vectors, dim = [], torch.zeros((max_vectors, dim)), None\n",
            "100%|█████████▉| 399999/400000 [00:14<00:00, 28460.00it/s]\n"
          ]
        }
      ],
      "source": [
        "import torch\n",
        "import torchtext\n",
        "from torchtext.vocab import GloVe\n",
        "\n",
        "# The first time you run this will download a ~823MB file\n",
        "glove = GloVe(name=\"6B\", # trained on Wikipedia 2014 corpus\n",
        "                      dim=50) # embedding size = 50"
      ]
    },
    {
      "cell_type": "markdown",
      "metadata": {
        "id": "I18-A-vX6e2B"
      },
      "source": [
        "Let's look at what the embedding of the word \"car\" looks like:"
      ]
    },
    {
      "cell_type": "code",
      "execution_count": 3,
      "metadata": {
        "id": "45MJth3T6e2C",
        "outputId": "baa0243a-c581-46b6-b2f8-3208085cb9e2",
        "colab": {
          "base_uri": "https://localhost:8080/"
        }
      },
      "outputs": [
        {
          "output_type": "execute_result",
          "data": {
            "text/plain": [
              "tensor([ 0.4769, -0.0846,  1.4641,  0.0470,  0.1469,  0.5082, -1.2228, -0.2261,\n",
              "         0.1931, -0.2976,  0.2060, -0.7128, -1.6288,  0.1710,  0.7480, -0.0619,\n",
              "        -0.6577,  1.3786, -0.6804, -1.7551,  0.5832,  0.2516, -1.2114,  0.8134,\n",
              "         0.0948, -1.6819, -0.6450,  0.6322,  1.1211,  0.1611,  2.5379,  0.2485,\n",
              "        -0.2682,  0.3282,  1.2916,  0.2355,  0.6147, -0.1344, -0.1324,  0.2740,\n",
              "        -0.1182,  0.1354,  0.0743, -0.6195,  0.4547, -0.3032, -0.2188, -0.5605,\n",
              "         1.1177, -0.3659])"
            ]
          },
          "metadata": {},
          "execution_count": 3
        }
      ],
      "source": [
        "glove['car']"
      ]
    },
    {
      "cell_type": "markdown",
      "metadata": {
        "id": "pnMtWa6i6e2G"
      },
      "source": [
        "It is a torch tensor with dimension `(50,)`. It is difficult to determine what each\n",
        "number in this embedding means, if anything. However, we know that there is structure\n",
        "in this embedding space. That is, distances in this embedding space is meaningful.\n",
        "\n",
        "## Measuring Distance\n",
        "\n",
        "To explore the structure of the embedding space, it is necessary to introduce\n",
        "a notion of *distance*. You are probably already familiar with the notion\n",
        "of the **Euclidean distance**. The Euclidean distance of two vectors $x = [x_1, x_2, ... x_n]$ and\n",
        "$y = [y_1, y_2, ... y_n]$ is just the 2-norm of their difference $x - y$. We can compute\n",
        "the Euclidean distance between $x$ and $y$:\n",
        "$\\sqrt{\\sum_i (x_i - y_i)^2}$\n",
        "\n",
        "The PyTorch function `torch.norm` computes the 2-norm of a vector for us, so we\n",
        "can compute the Euclidean distance between two vectors like this:"
      ]
    },
    {
      "cell_type": "code",
      "execution_count": 4,
      "metadata": {
        "id": "1AF5zD3r6e2H",
        "outputId": "494a7c93-3f2a-4872-97a7-5db2c6b5c777",
        "colab": {
          "base_uri": "https://localhost:8080/"
        }
      },
      "outputs": [
        {
          "output_type": "execute_result",
          "data": {
            "text/plain": [
              "tensor(1.8846)"
            ]
          },
          "metadata": {},
          "execution_count": 4
        }
      ],
      "source": [
        "x = glove['cat']\n",
        "y = glove['dog']\n",
        "torch.norm(y - x)"
      ]
    },
    {
      "cell_type": "code",
      "execution_count": 5,
      "metadata": {
        "id": "B9d4OENG6e2L",
        "outputId": "e31ac717-7f1f-49f7-8c52-5f671c716ed1",
        "colab": {
          "base_uri": "https://localhost:8080/"
        }
      },
      "outputs": [
        {
          "output_type": "execute_result",
          "data": {
            "text/plain": [
              "tensor(3.3189)"
            ]
          },
          "metadata": {},
          "execution_count": 5
        }
      ],
      "source": [
        "torch.norm(glove['good'] - glove['bad'])"
      ]
    },
    {
      "cell_type": "code",
      "execution_count": 6,
      "metadata": {
        "id": "XYYTNoJd6e2P",
        "outputId": "fe091d05-67ac-48f4-c1f0-1050ff645d63",
        "colab": {
          "base_uri": "https://localhost:8080/"
        }
      },
      "outputs": [
        {
          "output_type": "execute_result",
          "data": {
            "text/plain": [
              "tensor(5.3390)"
            ]
          },
          "metadata": {},
          "execution_count": 6
        }
      ],
      "source": [
        "torch.norm(glove['good'] - glove['water'])"
      ]
    },
    {
      "cell_type": "code",
      "execution_count": 7,
      "metadata": {
        "id": "agzsKxtB6e2S",
        "outputId": "7efa92f3-26cb-432a-9e98-04df081882f4",
        "colab": {
          "base_uri": "https://localhost:8080/"
        }
      },
      "outputs": [
        {
          "output_type": "execute_result",
          "data": {
            "text/plain": [
              "tensor(2.7703)"
            ]
          },
          "metadata": {},
          "execution_count": 7
        }
      ],
      "source": [
        "torch.norm(glove['good'] - glove['well'])"
      ]
    },
    {
      "cell_type": "code",
      "execution_count": 8,
      "metadata": {
        "id": "Ja6wXHUR6e2f",
        "outputId": "5afb1a8b-0f41-48e6-a2c3-c4fb6e4973ef",
        "colab": {
          "base_uri": "https://localhost:8080/"
        }
      },
      "outputs": [
        {
          "output_type": "execute_result",
          "data": {
            "text/plain": [
              "tensor(2.8834)"
            ]
          },
          "metadata": {},
          "execution_count": 8
        }
      ],
      "source": [
        "torch.norm(glove['good'] - glove['perfect'])"
      ]
    },
    {
      "cell_type": "code",
      "execution_count": 9,
      "metadata": {
        "id": "J5yo0nRA6e2j",
        "outputId": "1e7b21c5-f02a-4356-87cf-33a68d89f8df",
        "colab": {
          "base_uri": "https://localhost:8080/"
        }
      },
      "outputs": [
        {
          "output_type": "execute_result",
          "data": {
            "text/plain": [
              "tensor(6.2940)"
            ]
          },
          "metadata": {},
          "execution_count": 9
        }
      ],
      "source": [
        "torch.norm(glove['good'] - glove['bravo'])"
      ]
    },
    {
      "cell_type": "markdown",
      "metadata": {
        "id": "L68vJPyp6e2l"
      },
      "source": [
        "An alternative measure of distance is the **Cosine Similarity**.\n",
        "The cosine similarity measures the *angle* between two vectors,\n",
        "and has the property that it only considers the *direction* of the\n",
        "vectors, not their magnitudes."
      ]
    },
    {
      "cell_type": "code",
      "execution_count": 10,
      "metadata": {
        "id": "kQGqLuLo6e2m",
        "outputId": "9c3531ff-0daa-4ae8-a1b8-6ddd351bea79",
        "colab": {
          "base_uri": "https://localhost:8080/"
        }
      },
      "outputs": [
        {
          "output_type": "execute_result",
          "data": {
            "text/plain": [
              "tensor([0.3333])"
            ]
          },
          "metadata": {},
          "execution_count": 10
        }
      ],
      "source": [
        "x = torch.tensor([1., 1., 1.]).unsqueeze(0)\n",
        "y = torch.tensor([2., 2., -2.]).unsqueeze(0)\n",
        "torch.cosine_similarity(x, y)"
      ]
    },
    {
      "cell_type": "markdown",
      "metadata": {
        "id": "v1iL4y9G6e2p"
      },
      "source": [
        "The cosine similarity is a *similarity* measure rather than a *distance* measure:\n",
        "The larger the similarity,\n",
        "the \"closer\" the word embeddings are to each other."
      ]
    },
    {
      "cell_type": "code",
      "execution_count": 11,
      "metadata": {
        "id": "nq5TjyjM6e2q",
        "outputId": "abcd66e3-3611-421b-98d9-958f02fa6a1c",
        "colab": {
          "base_uri": "https://localhost:8080/"
        }
      },
      "outputs": [
        {
          "output_type": "execute_result",
          "data": {
            "text/plain": [
              "tensor([0.9218])"
            ]
          },
          "metadata": {},
          "execution_count": 11
        }
      ],
      "source": [
        "x = glove['cat']\n",
        "y = glove['dog']\n",
        "torch.cosine_similarity(x.unsqueeze(0), y.unsqueeze(0))"
      ]
    },
    {
      "cell_type": "code",
      "execution_count": 12,
      "metadata": {
        "id": "Isp4ENaP6e2s",
        "outputId": "48c1f481-c909-4f29-8613-eac80955e8e5",
        "colab": {
          "base_uri": "https://localhost:8080/"
        }
      },
      "outputs": [
        {
          "output_type": "execute_result",
          "data": {
            "text/plain": [
              "tensor([0.7965])"
            ]
          },
          "metadata": {},
          "execution_count": 12
        }
      ],
      "source": [
        "torch.cosine_similarity(glove['good'].unsqueeze(0),\n",
        "                        glove['bad'].unsqueeze(0))"
      ]
    },
    {
      "cell_type": "code",
      "execution_count": 13,
      "metadata": {
        "id": "7KT6t--m6e2v",
        "outputId": "6715e6c6-2022-4976-90d6-01ff5b63e777",
        "colab": {
          "base_uri": "https://localhost:8080/"
        }
      },
      "outputs": [
        {
          "output_type": "execute_result",
          "data": {
            "text/plain": [
              "tensor([0.8511])"
            ]
          },
          "metadata": {},
          "execution_count": 13
        }
      ],
      "source": [
        "torch.cosine_similarity(glove['good'].unsqueeze(0),\n",
        "                        glove['well'].unsqueeze(0))"
      ]
    },
    {
      "cell_type": "code",
      "execution_count": 14,
      "metadata": {
        "id": "JrrYJjtg6e2y",
        "outputId": "9946af41-5fef-44bc-ef80-5dd42e005678",
        "colab": {
          "base_uri": "https://localhost:8080/"
        }
      },
      "outputs": [
        {
          "output_type": "execute_result",
          "data": {
            "text/plain": [
              "tensor([0.8376])"
            ]
          },
          "metadata": {},
          "execution_count": 14
        }
      ],
      "source": [
        "torch.cosine_similarity(glove['good'].unsqueeze(0),\n",
        "                        glove['perfect'].unsqueeze(0))"
      ]
    },
    {
      "cell_type": "code",
      "execution_count": 15,
      "metadata": {
        "id": "s2j5GhxN6e21",
        "outputId": "ea2a1e97-f11d-4157-a2b5-fcf2fcd19954",
        "colab": {
          "base_uri": "https://localhost:8080/"
        }
      },
      "outputs": [
        {
          "output_type": "execute_result",
          "data": {
            "text/plain": [
              "tensor([0.1991])"
            ]
          },
          "metadata": {},
          "execution_count": 15
        }
      ],
      "source": [
        "torch.cosine_similarity(glove['good'].unsqueeze(0),\n",
        "                        glove['bravo'].unsqueeze(0))"
      ]
    },
    {
      "cell_type": "markdown",
      "metadata": {
        "id": "2prXo1u16e28"
      },
      "source": [
        "## Word Similarity\n",
        "\n",
        "Now that we have a notion of distance in our embedding space, we can talk\n",
        "about words that are \"close\" to each other in the embedding space.\n",
        "For now, let's use Euclidean distances to look at how close various words\n",
        "are to the word \"cat\"."
      ]
    },
    {
      "cell_type": "code",
      "execution_count": 16,
      "metadata": {
        "id": "PjOT20nu6e29",
        "outputId": "294773f6-86d7-4b74-bbf0-1eb3d2eff428",
        "colab": {
          "base_uri": "https://localhost:8080/"
        }
      },
      "outputs": [
        {
          "output_type": "stream",
          "name": "stdout",
          "text": [
            "pet 3.03967547416687\n",
            "dog 1.8846030235290527\n",
            "bike 5.048375129699707\n",
            "kitten 3.5068607330322266\n",
            "puppy 3.0644657611846924\n",
            "kite 4.210376262664795\n",
            "computer 6.0306525230407715\n",
            "neuron 6.228668212890625\n"
          ]
        }
      ],
      "source": [
        "word = 'cat'\n",
        "other = ['pet', 'dog', 'bike', 'kitten', 'puppy', 'kite', 'computer', 'neuron']\n",
        "for w in other:\n",
        "    dist = torch.norm(glove[word] - glove[w]) # euclidean distance\n",
        "    print(w, float(dist))"
      ]
    },
    {
      "cell_type": "markdown",
      "metadata": {
        "id": "w8xuChOT6e3B"
      },
      "source": [
        "In fact, we can look through our entire vocabulary for words that are closest\n",
        "to a point in the embedding space -- for example, we can look for words\n",
        "that are closest to another word like \"cat\"."
      ]
    },
    {
      "cell_type": "code",
      "source": [
        "import numpy as np"
      ],
      "metadata": {
        "id": "JP0P1-EWYuNM"
      },
      "execution_count": 18,
      "outputs": []
    },
    {
      "cell_type": "code",
      "execution_count": 20,
      "metadata": {
        "id": "fyIdY_Ol6e3C",
        "outputId": "d49b2b50-5045-46bd-a709-f82298711cda",
        "colab": {
          "base_uri": "https://localhost:8080/"
        }
      },
      "outputs": [
        {
          "output_type": "stream",
          "name": "stdout",
          "text": [
            "dog 1.8846030235290527\n",
            "rabbit 2.457279920578003\n",
            "monkey 2.8102054595947266\n",
            "cats 2.8972246646881104\n",
            "rat 2.9455349445343018\n",
            "beast 2.9878406524658203\n",
            "monster 3.0022194385528564\n",
            "pet 3.03967547416687\n",
            "snake 3.0617995262145996\n",
            "puppy 3.0644657611846924\n"
          ]
        }
      ],
      "source": [
        "def print_closest_words(vec, n=5):\n",
        "    dists = torch.norm(glove.vectors - vec, dim=1)     # compute distances to all words\n",
        "    lst = sorted(enumerate(dists.tolist()), key=lambda x: x[1]) # sort by distance\n",
        "    for idx, difference in lst[1:n+1]:                         # take the top n\n",
        "        print(glove.itos[idx], difference)\n",
        "\n",
        "print_closest_words(glove[\"cat\"], n=10)"
      ]
    },
    {
      "cell_type": "code",
      "execution_count": 21,
      "metadata": {
        "id": "QPiEs8Dx6e3G",
        "outputId": "193bd981-bf35-45c4-feac-bc48f1e6c514",
        "colab": {
          "base_uri": "https://localhost:8080/"
        }
      },
      "outputs": [
        {
          "output_type": "stream",
          "name": "stdout",
          "text": [
            "doctor 3.127453088760376\n",
            "dentist 3.1306612491607666\n",
            "nurses 3.2687199115753174\n",
            "pediatrician 3.321220636367798\n",
            "counselor 3.398711681365967\n"
          ]
        }
      ],
      "source": [
        "print_closest_words(glove['nurse'])"
      ]
    },
    {
      "cell_type": "code",
      "execution_count": 22,
      "metadata": {
        "id": "yKQmaqwe6e3O",
        "outputId": "d836b3fc-8164-4e8b-9a85-3dce885ac988",
        "colab": {
          "base_uri": "https://localhost:8080/"
        }
      },
      "outputs": [
        {
          "output_type": "stream",
          "name": "stdout",
          "text": [
            "computers 2.4362666606903076\n",
            "software 2.9268229007720947\n",
            "technology 3.1903510093688965\n",
            "electronic 3.5067410469055176\n",
            "computing 3.5999789237976074\n"
          ]
        }
      ],
      "source": [
        "print_closest_words(glove['computer'])"
      ]
    },
    {
      "cell_type": "code",
      "execution_count": 23,
      "metadata": {
        "id": "_nEYq4UB6e3V",
        "outputId": "04d87013-198f-4bd5-ab9f-83f300832ed2",
        "colab": {
          "base_uri": "https://localhost:8080/"
        }
      },
      "outputs": [
        {
          "output_type": "stream",
          "name": "stdout",
          "text": [
            "margaret 2.0074970722198486\n",
            "mary 2.2703938484191895\n",
            "anne 2.3006908893585205\n",
            "catherine 2.6155545711517334\n",
            "katherine 2.722238779067993\n"
          ]
        }
      ],
      "source": [
        "print_closest_words(glove['elizabeth'])"
      ]
    },
    {
      "cell_type": "code",
      "execution_count": 24,
      "metadata": {
        "id": "JRyHGVsU6e3Z",
        "outputId": "64a47f1f-b154-4dfb-c761-e74d76dac170",
        "colab": {
          "base_uri": "https://localhost:8080/"
        }
      },
      "outputs": [
        {
          "output_type": "stream",
          "name": "stdout",
          "text": [
            "peter 2.922137975692749\n",
            "moore 2.9317657947540283\n",
            "david 2.944610595703125\n",
            "steven 2.988178253173828\n",
            "murphy 3.0184166431427\n"
          ]
        }
      ],
      "source": [
        "print_closest_words(glove['michael'])"
      ]
    },
    {
      "cell_type": "code",
      "execution_count": 25,
      "metadata": {
        "id": "O-SDsoL46e3c",
        "outputId": "6704b6df-94f8-433c-990b-3fbe0868e926",
        "colab": {
          "base_uri": "https://localhost:8080/"
        }
      },
      "outputs": [
        {
          "output_type": "stream",
          "name": "stdout",
          "text": [
            "marlon 3.796621799468994\n",
            "dwayne 3.8805975914001465\n",
            "coco 3.9080119132995605\n",
            "hooper 3.9350461959838867\n",
            "lara 4.029811859130859\n"
          ]
        }
      ],
      "source": [
        "print_closest_words(glove['bravo'])"
      ]
    },
    {
      "cell_type": "markdown",
      "metadata": {
        "id": "ZefA2jV86e3e"
      },
      "source": [
        "We could also look at which words are closest to the midpoints of two words:"
      ]
    },
    {
      "cell_type": "code",
      "execution_count": 26,
      "metadata": {
        "id": "UbAyMQjw6e3f",
        "outputId": "840aa970-9f3a-4b2e-9c81-ce883792ba40",
        "colab": {
          "base_uri": "https://localhost:8080/"
        }
      },
      "outputs": [
        {
          "output_type": "stream",
          "name": "stdout",
          "text": [
            "happy 1.91997492313385\n",
            "feels 2.360464096069336\n",
            "sorry 2.4984781742095947\n",
            "hardly 2.5259296894073486\n",
            "imagine 2.5652787685394287\n"
          ]
        }
      ],
      "source": [
        "print_closest_words((glove['happy'] + glove['sad']) / 2)"
      ]
    },
    {
      "cell_type": "code",
      "execution_count": 27,
      "metadata": {
        "id": "AZaSgfTm6e3l",
        "outputId": "e0a7b326-a89c-44a3-988e-831b45baabef",
        "colab": {
          "base_uri": "https://localhost:8080/"
        }
      },
      "outputs": [
        {
          "output_type": "stream",
          "name": "stdout",
          "text": [
            "surrounding 3.0698413848876953\n",
            "nearby 3.111206531524658\n",
            "bridge 3.1585500240325928\n",
            "along 3.1610183715820312\n",
            "shore 3.161881923675537\n"
          ]
        }
      ],
      "source": [
        "print_closest_words((glove['lake'] + glove['building']) / 2)"
      ]
    },
    {
      "cell_type": "code",
      "execution_count": 31,
      "metadata": {
        "id": "7fDh7JSr6e3p",
        "outputId": "bef58110-115f-4327-c562-5927a28281e3",
        "colab": {
          "base_uri": "https://localhost:8080/"
        }
      },
      "outputs": [
        {
          "output_type": "stream",
          "name": "stdout",
          "text": [
            "farrell 2.8013925552368164\n",
            "anderson 2.8506860733032227\n",
            "jacobs 2.8537046909332275\n",
            "boyle 2.857822895050049\n",
            "slater 2.8654890060424805\n"
          ]
        }
      ],
      "source": [
        "print_closest_words((glove['bravo'] + glove['michael']) / 2)"
      ]
    },
    {
      "cell_type": "code",
      "execution_count": 32,
      "metadata": {
        "id": "1NZ5vxDt6e3s",
        "outputId": "ad56acd6-a39f-451d-d00b-0d59af8b2840",
        "colab": {
          "base_uri": "https://localhost:8080/"
        }
      },
      "outputs": [
        {
          "output_type": "stream",
          "name": "stdout",
          "text": [
            "ten 1.5737571716308594\n",
            "only 1.8805303573608398\n",
            "three 2.0309953689575195\n",
            "five 2.0468995571136475\n",
            "four 2.112553119659424\n"
          ]
        }
      ],
      "source": [
        "print_closest_words((glove['one'] + glove['ten']) / 2)"
      ]
    },
    {
      "cell_type": "markdown",
      "metadata": {
        "id": "-4kJq7qN6e3w"
      },
      "source": [
        "## Analogies\n",
        "\n",
        "One surprising aspect of GloVe vectors is that the *directions* in the\n",
        "embedding space can be meaningful. The structure of the GloVe vectors\n",
        "certain analogy-like relationship like this tend to hold:\n",
        "\n",
        "$$ king - man + woman \\approx queen $$"
      ]
    },
    {
      "cell_type": "code",
      "execution_count": 33,
      "metadata": {
        "id": "pJ2AXRTo6e3x",
        "outputId": "5985f3aa-a235-4438-a93d-b4305ff861b0",
        "colab": {
          "base_uri": "https://localhost:8080/"
        }
      },
      "outputs": [
        {
          "output_type": "stream",
          "name": "stdout",
          "text": [
            "queen 2.839120864868164\n",
            "prince 3.661004066467285\n",
            "elizabeth 3.715251922607422\n",
            "daughter 3.8317878246307373\n",
            "widow 3.8493776321411133\n"
          ]
        }
      ],
      "source": [
        "print_closest_words(glove['king'] - glove['man'] + glove['woman'])"
      ]
    },
    {
      "cell_type": "markdown",
      "metadata": {
        "id": "Y-HjB0406e30"
      },
      "source": [
        "We get reasonable answers like \"queen\", \"throne\" and the name of\n",
        "our current queen.\n",
        "\n",
        "We can likewise flip the analogy around:"
      ]
    },
    {
      "cell_type": "code",
      "execution_count": 34,
      "metadata": {
        "id": "N2HhfeRs6e32",
        "outputId": "8a721179-f93b-48ef-a9ba-e5dba1a72ac9",
        "colab": {
          "base_uri": "https://localhost:8080/"
        }
      },
      "outputs": [
        {
          "output_type": "stream",
          "name": "stdout",
          "text": [
            "king 2.839120864868164\n",
            "prince 3.250898838043213\n",
            "crown 3.448519229888916\n",
            "knight 3.558743715286255\n",
            "coronation 3.6198906898498535\n"
          ]
        }
      ],
      "source": [
        "print_closest_words(glove['queen'] - glove['woman'] + glove['man'])"
      ]
    },
    {
      "cell_type": "markdown",
      "metadata": {
        "id": "UXHR54mM6e38"
      },
      "source": [
        "Or, try a different but related analogies along the gender axis:"
      ]
    },
    {
      "cell_type": "code",
      "execution_count": 35,
      "metadata": {
        "id": "oXqfqaOW6e3-",
        "outputId": "c5e470d2-62af-4d81-c0e5-a33b15ae2e0e",
        "colab": {
          "base_uri": "https://localhost:8080/"
        }
      },
      "outputs": [
        {
          "output_type": "stream",
          "name": "stdout",
          "text": [
            "queen 3.1845967769622803\n",
            "king 3.9103291034698486\n",
            "bride 4.2857208251953125\n",
            "lady 4.299570560455322\n",
            "sister 4.421177387237549\n"
          ]
        }
      ],
      "source": [
        "print_closest_words(glove['king'] - glove['prince'] + glove['princess'])"
      ]
    },
    {
      "cell_type": "code",
      "execution_count": 36,
      "metadata": {
        "id": "mlokVrC06e4E",
        "outputId": "225c89e6-78da-460c-9d0e-a734f46ab73d",
        "colab": {
          "base_uri": "https://localhost:8080/"
        }
      },
      "outputs": [
        {
          "output_type": "stream",
          "name": "stdout",
          "text": [
            "grandmother 2.3233530521392822\n",
            "aunt 2.3527891635894775\n",
            "granddaughter 2.36153244972229\n",
            "daughter 2.403928756713867\n",
            "uncle 2.602623701095581\n"
          ]
        }
      ],
      "source": [
        "print_closest_words(glove['uncle'] - glove['man'] + glove['woman'])"
      ]
    },
    {
      "cell_type": "code",
      "execution_count": 37,
      "metadata": {
        "id": "ZLhkBKcq6e4I",
        "outputId": "fd7a76f3-a390-48d7-f9bb-c361f5951664",
        "colab": {
          "base_uri": "https://localhost:8080/"
        }
      },
      "outputs": [
        {
          "output_type": "stream",
          "name": "stdout",
          "text": [
            "uncle 2.078442096710205\n",
            "father 2.0912482738494873\n",
            "grandson 2.296557664871216\n",
            "nephew 2.353550672531128\n",
            "elder 2.427469491958618\n"
          ]
        }
      ],
      "source": [
        "print_closest_words(glove['grandmother'] - glove['mother'] + glove['father'])"
      ]
    },
    {
      "cell_type": "code",
      "execution_count": 38,
      "metadata": {
        "id": "vfvleT6A6e4L",
        "outputId": "4e604f73-bb03-423e-c30d-894fca3e232a",
        "colab": {
          "base_uri": "https://localhost:8080/"
        }
      },
      "outputs": [
        {
          "output_type": "stream",
          "name": "stdout",
          "text": [
            "father 4.032661437988281\n",
            "son 4.406540870666504\n",
            "grandfather 4.518509387969971\n",
            "grandson 4.72208833694458\n",
            "daughter 4.786715507507324\n"
          ]
        }
      ],
      "source": [
        "print_closest_words(glove['old'] - glove['young'] + glove['father'])"
      ]
    },
    {
      "cell_type": "markdown",
      "metadata": {
        "id": "bhO_pa1r6e4P"
      },
      "source": [
        "We can move an embedding towards the direction of \"goodness\" or \"badness\":"
      ]
    },
    {
      "cell_type": "code",
      "execution_count": 39,
      "metadata": {
        "id": "N5wYLXZf6e4P",
        "outputId": "1f4f9a68-6a76-4e06-e084-e1856eea3aff",
        "colab": {
          "base_uri": "https://localhost:8080/"
        }
      },
      "outputs": [
        {
          "output_type": "stream",
          "name": "stdout",
          "text": [
            "versatile 4.381561279296875\n",
            "creative 4.569000244140625\n",
            "entrepreneur 4.634373664855957\n",
            "enables 4.717772483825684\n",
            "intelligent 4.734997272491455\n"
          ]
        }
      ],
      "source": [
        "print_closest_words(glove['good'] - glove['bad'] + glove['programmer'])"
      ]
    },
    {
      "cell_type": "code",
      "execution_count": 40,
      "metadata": {
        "id": "Y9plKEy76e4S",
        "outputId": "e49c9f78-03f6-4c99-aeb3-11702242917c",
        "colab": {
          "base_uri": "https://localhost:8080/"
        }
      },
      "outputs": [
        {
          "output_type": "stream",
          "name": "stdout",
          "text": [
            "hacker 3.838365077972412\n",
            "glitch 4.003872871398926\n",
            "originator 4.041952133178711\n",
            "hack 4.0477190017700195\n",
            "serial 4.225067615509033\n"
          ]
        }
      ],
      "source": [
        "print_closest_words(glove['bad'] - glove['good'] + glove['programmer'])"
      ]
    },
    {
      "cell_type": "markdown",
      "metadata": {
        "id": "KRoLUQVu6e4W"
      },
      "source": [
        "## Biased in Word Vectors\n",
        "\n",
        "Machine learning models have an air of \"fairness\" about them, since models\n",
        "make decisions without human intervention. However, models can and do learn\n",
        "whatever bias is present in the training data!\n",
        "\n",
        "GloVe vectors seems innocuous enough: they are just representations of\n",
        "words in some embedding space. Even so, we'll show that the structure\n",
        "of the GloVe vectors encodes the everyday biases present in the texts\n",
        "that they are trained on.\n",
        "\n",
        "We'll start with an example analogy:\n",
        "\n",
        "$$doctor - man + woman \\approx ??$$\n",
        "\n",
        "Let's use GloVe vectors to find the answer to the above analogy:"
      ]
    },
    {
      "cell_type": "code",
      "execution_count": 28,
      "metadata": {
        "id": "Icjm4OIT6e4X",
        "outputId": "0d5e4b64-ab31-4e6e-c308-a4ee9e0475f6",
        "colab": {
          "base_uri": "https://localhost:8080/"
        }
      },
      "outputs": [
        {
          "output_type": "stream",
          "name": "stdout",
          "text": [
            "nurse 3.1355347633361816\n",
            "pregnant 3.7805368900299072\n",
            "child 3.7834699153900146\n",
            "woman 3.8643105030059814\n",
            "mother 3.9222304821014404\n"
          ]
        }
      ],
      "source": [
        "print_closest_words(glove['doctor'] - glove['man'] + glove['woman'])"
      ]
    },
    {
      "cell_type": "markdown",
      "metadata": {
        "id": "vR-lVcpe6e4a"
      },
      "source": [
        "The $$doctor - man + woman \\approx nurse$$ analogy is very concerning.\n",
        "Just to verify, the same result does not appear if we flip the gender terms:"
      ]
    },
    {
      "cell_type": "code",
      "execution_count": 29,
      "metadata": {
        "id": "J7_Jo_0X6e4a",
        "outputId": "5d89eb28-7ebe-4092-c24a-b37d670f4fe5",
        "colab": {
          "base_uri": "https://localhost:8080/"
        }
      },
      "outputs": [
        {
          "output_type": "stream",
          "name": "stdout",
          "text": [
            "man 3.933562994003296\n",
            "colleague 3.9755022525787354\n",
            "himself 3.98477840423584\n",
            "brother 3.9997010231018066\n",
            "another 4.029070854187012\n"
          ]
        }
      ],
      "source": [
        "print_closest_words(glove['doctor'] - glove['woman'] + glove['man'])"
      ]
    },
    {
      "cell_type": "markdown",
      "metadata": {
        "id": "phDarqJp6e4d"
      },
      "source": [
        "We see similar types of gender bias with other professions."
      ]
    },
    {
      "cell_type": "code",
      "execution_count": 30,
      "metadata": {
        "id": "8_ZzBBpl6e4d",
        "outputId": "bddcf17d-888c-4662-b807-7a55ae6b9b3a",
        "colab": {
          "base_uri": "https://localhost:8080/"
        }
      },
      "outputs": [
        {
          "output_type": "stream",
          "name": "stdout",
          "text": [
            "prodigy 3.6688528060913086\n",
            "psychotherapist 3.806952953338623\n",
            "therapist 3.8087193965911865\n",
            "introduces 3.90645432472229\n",
            "swedish-born 4.117885589599609\n"
          ]
        }
      ],
      "source": [
        "print_closest_words(glove['programmer'] - glove['man'] + glove['woman'])"
      ]
    },
    {
      "cell_type": "markdown",
      "metadata": {
        "id": "icCpHxi66e4g"
      },
      "source": [
        "Beyond the first result, none of the other words are even related to\n",
        "programming! In contrast, if we flip the gender terms, we get very\n",
        "different results:"
      ]
    },
    {
      "cell_type": "code",
      "execution_count": 41,
      "metadata": {
        "id": "QW9IjXqI6e4g",
        "outputId": "29fbdd95-fd97-47bc-932c-2563fdde7d1a",
        "colab": {
          "base_uri": "https://localhost:8080/"
        }
      },
      "outputs": [
        {
          "output_type": "stream",
          "name": "stdout",
          "text": [
            "setup 4.002241611480713\n",
            "innovator 4.066188335418701\n",
            "programmers 4.172957420349121\n",
            "hacker 4.22566556930542\n",
            "genius 4.364410400390625\n"
          ]
        }
      ],
      "source": [
        "print_closest_words(glove['programmer'] - glove['woman'] + glove['man'])"
      ]
    },
    {
      "cell_type": "markdown",
      "metadata": {
        "id": "qtx2n7Nj6e4i"
      },
      "source": [
        "Here are the results for \"engineer\":"
      ]
    },
    {
      "cell_type": "code",
      "execution_count": 42,
      "metadata": {
        "id": "0dFlol9D6e4j",
        "outputId": "171ac46a-8f7b-4677-c3b5-67e09ba818a3",
        "colab": {
          "base_uri": "https://localhost:8080/"
        }
      },
      "outputs": [
        {
          "output_type": "stream",
          "name": "stdout",
          "text": [
            "technician 3.692697286605835\n",
            "mechanic 3.9212746620178223\n",
            "pioneer 4.15439510345459\n",
            "pioneering 4.188087463378906\n",
            "educator 4.226457595825195\n"
          ]
        }
      ],
      "source": [
        "print_closest_words(glove['engineer'] - glove['man'] + glove['woman'])"
      ]
    },
    {
      "cell_type": "code",
      "execution_count": 43,
      "metadata": {
        "id": "kV-XgFbD6e4l",
        "outputId": "2486becf-ba2a-4328-94d7-50a1048ada50",
        "colab": {
          "base_uri": "https://localhost:8080/"
        }
      },
      "outputs": [
        {
          "output_type": "stream",
          "name": "stdout",
          "text": [
            "builder 4.352386474609375\n",
            "mechanic 4.402976036071777\n",
            "engineers 4.47798490524292\n",
            "worked 4.528131484985352\n",
            "replacing 4.6002044677734375\n"
          ]
        }
      ],
      "source": [
        "print_closest_words(glove['engineer'] - glove['woman'] + glove['man'])"
      ]
    },
    {
      "cell_type": "markdown",
      "metadata": {
        "id": "wBaKH4os6dym"
      },
      "source": [
        "#Part B: GloVe vectors for sentiment analysis\n",
        "## Sentiment Analysis\n",
        "\n",
        "**Sentiment Analysis** is the problem of identifying the writer's sentiment given a piece of text. Sentiment Analysis can be applied to movie reviews, emails, tweets, and much more.\n",
        "\n",
        "Rudimentary forms of **sentiment analysis** might involve scoring each\n",
        "word on a scale from \"sad\" to \"happy\", then averaging the \"happiness score\" of the words in a piece of text. This technique has obvious drawbacks: it won't be able to handle negation, sarcasm, or any complex syntactical form. We can do better.\n",
        "\n",
        "We will perform sentiment analysis using the Sentiment140 data set, which contains tweets with either a positive or negative emoticon. Our goal is to determine whether which type of emoticon the tweet (with the emoticon removed) contained. The dataset was actually collected by a group of students, just like you, who were working on their machine learning project, just like you are doing.\n",
        "\n",
        "This tutorial will require that you download the file \"*training.1600000.processed.noemoticon.csv*\" from Quercus (or from http://help.sentiment140.com/) and upload it to your Google Drive. Please make sure to mount your Drive and that you are able to load the file, otherwise the sample code will not work as intended.\n",
        "\n",
        "Let's look at the data:"
      ]
    },
    {
      "cell_type": "code",
      "execution_count": 45,
      "metadata": {
        "id": "aNXtT6iCVsrY",
        "outputId": "6a606627-1ed7-41c2-a8a8-a74cbcf80242",
        "colab": {
          "base_uri": "https://localhost:8080/"
        }
      },
      "outputs": [
        {
          "output_type": "stream",
          "name": "stdout",
          "text": [
            "Mounted at /content/drive\n"
          ]
        }
      ],
      "source": [
        "#setup Google Drive\n",
        "from google.colab import drive\n",
        "drive.mount('/content/drive')"
      ]
    },
    {
      "cell_type": "code",
      "execution_count": 46,
      "metadata": {
        "id": "ZwgOTTGD6dyp",
        "outputId": "2dd01875-93ea-47e0-9f1e-b3b66d093443",
        "colab": {
          "base_uri": "https://localhost:8080/"
        }
      },
      "outputs": [
        {
          "output_type": "stream",
          "name": "stdout",
          "text": [
            "4 I LOVE @Health4UandPets u guys r the best!! \n"
          ]
        }
      ],
      "source": [
        "import csv\n",
        "\n",
        "# file location (make sure to use your file location)\n",
        "file_dir = '/content/drive/MyDrive/APS360/tut5/'\n",
        "\n",
        "# load csv file\n",
        "def get_data():\n",
        "    return csv.reader(open(file_dir + \"training.1600000.processed.noemoticon.csv\",\"rt\", encoding=\"latin-1\"))\n",
        "\n",
        "# print only the first tweet\n",
        "for i, line in enumerate(get_data()):\n",
        "    if line[0] != '0':\n",
        "        print(line[0], line[-1])\n",
        "        break"
      ]
    },
    {
      "cell_type": "markdown",
      "metadata": {
        "id": "QQVuCUQH6dys"
      },
      "source": [
        "The columns we care about is the first one and the last one. The first column is the\n",
        "label (the label `0` means \"sad\" tweet, `4` means \"happy\" tweet), and the last column\n",
        "contains the tweet. Our task is to predict the sentiment of the tweet given the text.\n",
        "\n",
        "The approach today is as follows, for each tweet:\n",
        "\n",
        "1. We will split the text into words. We will do so by splitting at all whitespace\n",
        "   characters. There are better ways to perform the split, but let's keep our\n",
        "   dependencies light.\n",
        "2. We will look up the GloVe embedding of each word.\n",
        "   Words that do not have a GloVe vector will be ignored.\n",
        "3. We will sum up all the embeddings to get an embedding for an entire tweet.\n",
        "4. Finally, we will use a fully-connected neural network\n",
        "   to predict whether the tweet has positive or negative sentiment.\n",
        "\n",
        "First, let's sanity check that there are enough words for us to work with."
      ]
    },
    {
      "cell_type": "code",
      "execution_count": 47,
      "metadata": {
        "id": "fzUmQaAI6dyw",
        "outputId": "85ae281d-e13c-4f44-be3a-2b0dc9e45875",
        "colab": {
          "base_uri": "https://localhost:8080/"
        }
      },
      "outputs": [
        {
          "output_type": "execute_result",
          "data": {
            "text/plain": [
              "['hello', ';', \"don't\", 'you', 'know', '?']"
            ]
          },
          "metadata": {},
          "execution_count": 47
        }
      ],
      "source": [
        "import torchtext\n",
        "glove = torchtext.vocab.GloVe(name=\"6B\", dim=50)\n",
        "\n",
        "def split_tweet(tweet):\n",
        "    # separate punctuations\n",
        "    tweet = tweet.replace(\".\", \" . \") \\\n",
        "                 .replace(\",\", \" , \") \\\n",
        "                 .replace(\";\", \" ; \") \\\n",
        "                 .replace(\"?\", \" ? \")\n",
        "    return tweet.lower().split()\n",
        "\n",
        "split_tweet(\"hello; don't you know?\")"
      ]
    },
    {
      "cell_type": "code",
      "execution_count": 48,
      "metadata": {
        "id": "dXfvRbMSgGpJ",
        "outputId": "b749ab6d-d271-4023-ac7c-5e84ad9859da",
        "colab": {
          "base_uri": "https://localhost:8080/"
        }
      },
      "outputs": [
        {
          "output_type": "stream",
          "name": "stdout",
          "text": [
            "21\n",
            "23\n",
            "17\n",
            "10\n",
            "22\n",
            "4\n",
            "3\n",
            "21\n",
            "4\n",
            "3\n",
            "9\n",
            "4\n",
            "19\n",
            "15\n",
            "19\n",
            "18\n",
            "18\n",
            "4\n",
            "9\n",
            "13\n",
            "11\n",
            "23\n",
            "8\n",
            "9\n",
            "4\n",
            "11\n",
            "13\n",
            "6\n",
            "23\n",
            "20\n",
            "13\n"
          ]
        }
      ],
      "source": [
        "# verify that each tweet has a reasonable number of words\n",
        "# that have GloVe embeddings\n",
        "for i, line in enumerate(get_data()):\n",
        "    if i > 30:\n",
        "        break\n",
        "    print(sum(int(w in glove.stoi) for w in split_tweet(line[-1])))"
      ]
    },
    {
      "cell_type": "markdown",
      "metadata": {
        "id": "iMijpmBs6dyz"
      },
      "source": [
        "Looks like each tweet has at least one word that has an embedding.\n",
        "\n",
        "Now, steps 1-3 from above can be done ahead of time, just like the transfer learning\n",
        "portion of Lab 3. So, we will write a function that will take the tweets data\n",
        "file, computes the tweet embeddings, and splits the data into train/validation/test.\n",
        "\n",
        "We will only use $\\frac{1}{59}$ of the data in the file, so that this demo runs\n",
        "relatively quickly."
      ]
    },
    {
      "cell_type": "code",
      "execution_count": 49,
      "metadata": {
        "id": "dO-mRzST6dy0"
      },
      "outputs": [],
      "source": [
        "import torch\n",
        "import torch.nn as nn\n",
        "\n",
        "def get_tweet_vectors(glove_vector):\n",
        "    train, valid, test = [], [], []\n",
        "    for i, line in enumerate(get_data()):\n",
        "        tweet = line[-1]\n",
        "        if i % 59 == 0:\n",
        "            # obtain an embedding for the entire tweet\n",
        "            tweet_emb = sum(glove_vector[w] for w in split_tweet(tweet))\n",
        "            # generate a label: 1 = happy, 0 = sad\n",
        "            label = torch.tensor(int(line[0] == \"4\")).long()\n",
        "            # place the data set in either the training, validation, or test set\n",
        "            if i % 5 < 3:\n",
        "                train.append((tweet_emb, label)) # 60% training\n",
        "            elif i % 5 == 4:\n",
        "                valid.append((tweet_emb, label)) # 20% validation\n",
        "            else:\n",
        "                test.append((tweet_emb, label)) # 20% test\n",
        "    return train, valid, test"
      ]
    },
    {
      "cell_type": "markdown",
      "metadata": {
        "id": "r5Dh4nem6dy3"
      },
      "source": [
        "I'm making the `glove_vector` a parameter so that we can test the effect\n",
        "of using a higher dimensional GloVe\n",
        "embedding later. Now, let's get our training, validation, and test set.\n",
        "The format is what `torch.utils.data.DataLoader` expects."
      ]
    },
    {
      "cell_type": "code",
      "execution_count": 50,
      "metadata": {
        "id": "n0fMybj86dy4"
      },
      "outputs": [],
      "source": [
        "import torchtext\n",
        "\n",
        "glove = torchtext.vocab.GloVe(name=\"6B\", dim=50)\n",
        "\n",
        "train, valid, test = get_tweet_vectors(glove)\n",
        "\n",
        "train_loader = torch.utils.data.DataLoader(train, batch_size=128, shuffle=True)\n",
        "valid_loader = torch.utils.data.DataLoader(valid, batch_size=128, shuffle=True)\n",
        "test_loader = torch.utils.data.DataLoader(test, batch_size=128, shuffle=True)"
      ]
    },
    {
      "cell_type": "markdown",
      "metadata": {
        "id": "n5V051Cw6dy6"
      },
      "source": [
        "Now, our actual training script! Note that will we use `CrossEntropyLoss`,\n",
        "have two neurons in the final layer of our output layer, and use softmax instead of\n",
        "a sigmoid activation. This is different from our choice in the earlier weeks!\n",
        "Typically, machine learning practitioners will choose to use two output\n",
        "neurons instead of one, even in a binary classification task. The reason is that\n",
        "an extra neuron adds some more parameters to the network, and makes the network\n",
        "a little easier to train (performs better)."
      ]
    },
    {
      "cell_type": "code",
      "execution_count": 51,
      "metadata": {
        "id": "J9l9BR5v6dy7"
      },
      "outputs": [],
      "source": [
        "import matplotlib.pyplot as plt\n",
        "\n",
        "def train_network(model, train_loader, valid_loader, num_epochs=5, learning_rate=1e-5):\n",
        "    criterion = nn.CrossEntropyLoss()\n",
        "    optimizer = torch.optim.Adam(model.parameters(), lr=learning_rate)\n",
        "    losses, train_acc, valid_acc = [], [], []\n",
        "    epochs = []\n",
        "    for epoch in range(num_epochs):\n",
        "        for tweets, labels in train_loader:\n",
        "            optimizer.zero_grad()\n",
        "            pred = model(tweets)\n",
        "            loss = criterion(pred, labels)\n",
        "            loss.backward()\n",
        "            optimizer.step()\n",
        "\n",
        "        losses.append(float(loss))\n",
        "        if epoch % 5 == 4:\n",
        "            epochs.append(epoch)\n",
        "            train_acc.append(get_accuracy(model, train_loader))\n",
        "            valid_acc.append(get_accuracy(model, valid_loader))\n",
        "            print(\"Epoch %d; Loss %f; Train Acc %f; Val Acc %f\" % (\n",
        "                epoch+1, loss, train_acc[-1], valid_acc[-1]))\n",
        "\n",
        "    # plotting\n",
        "    plt.title(\"Training Curve\")\n",
        "    plt.plot(losses, label=\"Train\")\n",
        "    plt.xlabel(\"Epoch\")\n",
        "    plt.ylabel(\"Loss\")\n",
        "    plt.show()\n",
        "\n",
        "    plt.title(\"Training Curve\")\n",
        "    plt.plot(epochs, train_acc, label=\"Train\")\n",
        "    plt.plot(epochs, valid_acc, label=\"Validation\")\n",
        "    plt.xlabel(\"Epoch\")\n",
        "    plt.ylabel(\"Accuracy\")\n",
        "    plt.legend(loc='best')\n",
        "    plt.show()\n",
        "\n",
        "def get_accuracy(model, data_loader):\n",
        "    correct, total = 0, 0\n",
        "    for tweets, labels in data_loader:\n",
        "        output = model(tweets)\n",
        "        pred = output.max(1, keepdim=True)[1]\n",
        "        correct += pred.eq(labels.view_as(pred)).sum().item()\n",
        "        total += labels.shape[0]\n",
        "    return correct / total"
      ]
    },
    {
      "cell_type": "markdown",
      "metadata": {
        "id": "SarFbhzt6dy-"
      },
      "source": [
        "As for the actual mode, we will start with a 3-layer neural network.\n",
        "We won't create our own class since this is a fairly straightforward neural\n",
        "network, so an `nn.Sequential` object will do.\n",
        "Let's build and train our network."
      ]
    },
    {
      "cell_type": "code",
      "execution_count": 52,
      "metadata": {
        "id": "Sv9IctEO6dy_",
        "outputId": "4af67696-46b3-4ebd-f02f-2b48f14753fd",
        "colab": {
          "base_uri": "https://localhost:8080/",
          "height": 1000
        }
      },
      "outputs": [
        {
          "output_type": "stream",
          "name": "stdout",
          "text": [
            "Epoch 5; Loss 0.655689; Train Acc 0.603343; Val Acc 0.613569\n",
            "Epoch 10; Loss 0.650768; Train Acc 0.653740; Val Acc 0.655605\n",
            "Epoch 15; Loss 0.558030; Train Acc 0.668736; Val Acc 0.667220\n",
            "Epoch 20; Loss 0.558949; Train Acc 0.672792; Val Acc 0.672013\n",
            "Epoch 25; Loss 0.695386; Train Acc 0.677094; Val Acc 0.670170\n",
            "Epoch 30; Loss 0.538152; Train Acc 0.679122; Val Acc 0.670907\n",
            "Epoch 35; Loss 0.508672; Train Acc 0.681396; Val Acc 0.676807\n",
            "Epoch 40; Loss 0.498644; Train Acc 0.683670; Val Acc 0.674779\n",
            "Epoch 45; Loss 0.521821; Train Acc 0.685514; Val Acc 0.674410\n",
            "Epoch 50; Loss 0.632478; Train Acc 0.686682; Val Acc 0.676438\n",
            "Epoch 55; Loss 0.630861; Train Acc 0.689202; Val Acc 0.680310\n",
            "Epoch 60; Loss 0.547068; Train Acc 0.690062; Val Acc 0.675885\n",
            "Epoch 65; Loss 0.747970; Train Acc 0.691599; Val Acc 0.676807\n",
            "Epoch 70; Loss 0.592679; Train Acc 0.692705; Val Acc 0.677913\n",
            "Epoch 75; Loss 0.582059; Train Acc 0.695163; Val Acc 0.677913\n",
            "Epoch 80; Loss 0.649337; Train Acc 0.693074; Val Acc 0.680863\n",
            "Epoch 85; Loss 0.464307; Train Acc 0.696515; Val Acc 0.679019\n",
            "Epoch 90; Loss 0.605320; Train Acc 0.697806; Val Acc 0.678650\n",
            "Epoch 95; Loss 0.670110; Train Acc 0.698851; Val Acc 0.678466\n",
            "Epoch 100; Loss 0.836274; Train Acc 0.699158; Val Acc 0.677360\n"
          ]
        },
        {
          "output_type": "display_data",
          "data": {
            "text/plain": [
              "<Figure size 640x480 with 1 Axes>"
            ],
            "image/png": "[encoded data removed]"
          },
          "metadata": {}
        },
        {
          "output_type": "display_data",
          "data": {
            "text/plain": [
              "<Figure size 640x480 with 1 Axes>"
            ],
            "image/png": "[encoded data removed]"
          },
          "metadata": {}
        },
        {
          "output_type": "stream",
          "name": "stdout",
          "text": [
            "Final test accuracy: 0.6817846607669616\n"
          ]
        }
      ],
      "source": [
        "mymodel = nn.Sequential(nn.Linear(50, 30),\n",
        "                        nn.ReLU(),\n",
        "                        nn.Linear(30, 10),\n",
        "                        nn.ReLU(),\n",
        "                        nn.Linear(10, 2))\n",
        "train_network(mymodel, train_loader, valid_loader, num_epochs=100, learning_rate=1e-4)\n",
        "print(\"Final test accuracy:\", get_accuracy(mymodel, test_loader))"
      ]
    },
    {
      "cell_type": "code",
      "execution_count": 53,
      "metadata": {
        "id": "mhzOWZST6dzC",
        "outputId": "31ba44d8-5803-4ef5-a80a-aec99ef94d6c",
        "colab": {
          "base_uri": "https://localhost:8080/"
        }
      },
      "outputs": [
        {
          "output_type": "execute_result",
          "data": {
            "text/plain": [
              "tensor([[1]])"
            ]
          },
          "metadata": {},
          "execution_count": 53
        }
      ],
      "source": [
        "def test_model(model, glove_vector, tweet):\n",
        "    emb = sum(glove_vector[w] for w in split_tweet(tweet))\n",
        "    out = mymodel(emb.unsqueeze(0))\n",
        "    pred = out.max(1, keepdim=True)[1]\n",
        "    return pred\n",
        "\n",
        "test_model(mymodel, glove, \"very happy\")"
      ]
    },
    {
      "cell_type": "code",
      "execution_count": 54,
      "metadata": {
        "id": "XvNr30LO6dzE",
        "outputId": "27f6c254-b2ff-49cf-b679-b09a0500aec4",
        "colab": {
          "base_uri": "https://localhost:8080/"
        }
      },
      "outputs": [
        {
          "output_type": "execute_result",
          "data": {
            "text/plain": [
              "tensor([[0]])"
            ]
          },
          "metadata": {},
          "execution_count": 54
        }
      ],
      "source": [
        "test_model(mymodel, glove, \"This is a terrible tragedy\")"
      ]
    },
    {
      "cell_type": "code",
      "execution_count": 55,
      "metadata": {
        "id": "7ef-BznK6dzQ",
        "outputId": "8c0c8464-9da4-467e-d11b-c17a178b223f",
        "colab": {
          "base_uri": "https://localhost:8080/"
        }
      },
      "outputs": [
        {
          "output_type": "execute_result",
          "data": {
            "text/plain": [
              "tensor([[0]])"
            ]
          },
          "metadata": {},
          "execution_count": 55
        }
      ],
      "source": [
        "test_model(mymodel, glove, \"okay\")"
      ]
    },
    {
      "cell_type": "markdown",
      "metadata": {
        "id": "-WHkOGUz6dzT"
      },
      "source": [
        "Note that the model does not perform very well, but it does get it right from time to time. There are a number of things we could try to improve the performance, for example changing the number of hidden units, number of layers, or change the dimension of the Glove embeddings.\n",
        "\n",
        "Another option is to use a more powerful architecture."
      ]
    },
    {
      "cell_type": "markdown",
      "metadata": {
        "id": "5m-MCuRr6lAG"
      },
      "source": [
        "#Part C: Recurrent Neural Networks\n",
        "\n",
        "One of the drawbacks of the previous approach is that the order of\n",
        "words is lost. The tweets \"the cat likes the dog\" and \"the dog likes the cat\"\n",
        "would have the exact same embedding, even though the sentences have different\n",
        "meanings.\n",
        "\n",
        "For this part we will use a **recurrent neural network**. We will treat each tweet\n",
        "as a **sequence** of words. Like before, we will use GloVe embeddings as inputs\n",
        "to the recurrent network. (As a sidenote, not all recurrent neural networks use\n",
        "word embeddings as input. If we had a small enough vocabulary, we could have used\n",
        "a one-hot embedding of the words.)"
      ]
    },
    {
      "cell_type": "code",
      "execution_count": 64,
      "metadata": {
        "id": "bi_v650L6lAJ"
      },
      "outputs": [],
      "source": [
        "import csv\n",
        "import torch\n",
        "import torch.nn as nn\n",
        "import torch.nn.functional as F\n",
        "import torch.optim as optim\n",
        "import torchtext\n",
        "import numpy as np\n",
        "import matplotlib.pyplot as plt\n",
        "\n",
        "# file location (make sure to use your file location)\n",
        "file_dir = '/content/drive/MyDrive/APS360/tut5/'\n",
        "\n",
        "def get_data():\n",
        "    return csv.reader(open(file_dir + \"training.1600000.processed.noemoticon.csv\",\"rt\", encoding=\"latin-1\"))\n",
        "\n",
        "def split_tweet(tweet):\n",
        "    # separate punctuations\n",
        "    tweet = tweet.replace(\".\", \" . \") \\\n",
        "                 .replace(\",\", \" , \") \\\n",
        "                 .replace(\";\", \" ; \") \\\n",
        "                 .replace(\"?\", \" ? \")\n",
        "    return tweet.lower().split()\n",
        "\n",
        "glove = torchtext.vocab.GloVe(name=\"6B\", dim=50, max_vectors=10000) # use 10k most common words"
      ]
    },
    {
      "cell_type": "markdown",
      "metadata": {
        "id": "LSTiHPJA6lAM"
      },
      "source": [
        "Since we are going to store the individual words in a tweet,\n",
        "we will defer looking up the word embeddings.\n",
        "Instead, we will store the **index** of each word in a PyTorch tensor.\n",
        "Our choice is the most memory-efficient, since it takes fewer bits to\n",
        "store an integer index than a 50-dimensional vector or a word."
      ]
    },
    {
      "cell_type": "code",
      "execution_count": 65,
      "metadata": {
        "id": "0MoEcSg66lAN"
      },
      "outputs": [],
      "source": [
        "def get_tweet_words(glove_vector):\n",
        "    train, valid, test = [], [], []\n",
        "    for i, line in enumerate(get_data()):\n",
        "        if i % 29 == 0:\n",
        "            tweet = line[-1]\n",
        "            idxs = [glove_vector.stoi[w]        # lookup the index of word\n",
        "                    for w in split_tweet(tweet)\n",
        "                    if w in glove_vector.stoi] # keep words that has an embedding\n",
        "            if not idxs: # ignore tweets without any word with an embedding\n",
        "                continue\n",
        "            idxs = torch.tensor(idxs) # convert list to pytorch tensor\n",
        "            label = torch.tensor(int(line[0] == \"4\")).long()\n",
        "            if i % 5 < 3:\n",
        "                train.append((idxs, label))\n",
        "            elif i % 5 == 4:\n",
        "                valid.append((idxs, label))\n",
        "            else:\n",
        "                test.append((idxs, label))\n",
        "    return train, valid, test\n",
        "\n",
        "train, valid, test = get_tweet_words(glove)"
      ]
    },
    {
      "cell_type": "markdown",
      "metadata": {
        "id": "TH4fypPq6lAQ"
      },
      "source": [
        "Here's what an element of the training set looks like:"
      ]
    },
    {
      "cell_type": "code",
      "execution_count": 66,
      "metadata": {
        "id": "Pz3FWzVB6lAR",
        "outputId": "4e0c9689-ae8b-4137-9633-8c0f833c15c4",
        "colab": {
          "base_uri": "https://localhost:8080/"
        }
      },
      "outputs": [
        {
          "output_type": "stream",
          "name": "stdout",
          "text": [
            "tensor([   2,   11,    1,    7,    2,   81,  405,  684, 9912,    3,  245,  122,\n",
            "           4,   88,   20,    2,   89, 1968])\n",
            "tensor(0)\n"
          ]
        }
      ],
      "source": [
        "tweet, label = train[0]\n",
        "print(tweet)\n",
        "print(label)"
      ]
    },
    {
      "cell_type": "markdown",
      "metadata": {
        "id": "pUl6xwqt6lAU"
      },
      "source": [
        "Unlike in the past, each element of the training set will have a\n",
        "different shape. The difference will present some difficulties when\n",
        "we discuss batching later on."
      ]
    },
    {
      "cell_type": "code",
      "execution_count": 67,
      "metadata": {
        "id": "W_GUKqt76lAV",
        "outputId": "5f55b41d-0b26-40b2-eec7-7fbd00f415c6",
        "colab": {
          "base_uri": "https://localhost:8080/"
        }
      },
      "outputs": [
        {
          "output_type": "stream",
          "name": "stdout",
          "text": [
            "torch.Size([18])\n",
            "torch.Size([23])\n",
            "torch.Size([8])\n",
            "torch.Size([20])\n",
            "torch.Size([6])\n",
            "torch.Size([5])\n",
            "torch.Size([10])\n",
            "torch.Size([8])\n",
            "torch.Size([7])\n",
            "torch.Size([31])\n"
          ]
        }
      ],
      "source": [
        "for i in range(10):\n",
        "    tweet, label = train[i]\n",
        "    print(tweet.shape)"
      ]
    },
    {
      "cell_type": "markdown",
      "metadata": {
        "id": "Emg79Nia6lAY"
      },
      "source": [
        "## Embedding\n",
        "\n",
        "We are also going to use an `nn.Embedding` layer, instead of using the variable\n",
        "`glove` directly. The reason is that the `nn.Embedding` layer allows us look up\n",
        "the embeddings of multiple words simultaneously."
      ]
    },
    {
      "cell_type": "code",
      "execution_count": 68,
      "metadata": {
        "id": "JCb12CCp6lAZ",
        "outputId": "1529a044-5501-4c7f-e060-e82baf606051",
        "colab": {
          "base_uri": "https://localhost:8080/"
        }
      },
      "outputs": [
        {
          "output_type": "execute_result",
          "data": {
            "text/plain": [
              "torch.Size([31, 50])"
            ]
          },
          "metadata": {},
          "execution_count": 68
        }
      ],
      "source": [
        "glove_emb = nn.Embedding.from_pretrained(glove.vectors)\n",
        "\n",
        "# Example: we use the forward function of glove_emb to lookup the\n",
        "# embedding of each word in `tweet`\n",
        "tweet_emb = glove_emb(tweet)\n",
        "tweet_emb.shape"
      ]
    },
    {
      "cell_type": "markdown",
      "metadata": {
        "id": "KRczqTwm6lAc"
      },
      "source": [
        "## Recurrent Neural Network Module\n",
        "\n",
        "PyTorch has variations of recurrent neural network modules.\n",
        "These modules computes the following:\n",
        "\n",
        "$$hidden = updatefn(hidden, input)$$\n",
        "$$output = outputfn(hidden)$$\n",
        "\n",
        "These modules are more complex and less intuitive than the usual\n",
        "neural network layers, so let's take a look:"
      ]
    },
    {
      "cell_type": "code",
      "execution_count": 70,
      "metadata": {
        "id": "PaQnkloA6lAd"
      },
      "outputs": [],
      "source": [
        "rnn_layer = nn.RNN(input_size=50,    # dimension of the input repr ## should match glove dimension\n",
        "                   hidden_size=50,   # dimension of the hidden units\n",
        "                   batch_first=True) # input format is [batch_size, seq_len, repr_dim]"
      ]
    },
    {
      "cell_type": "markdown",
      "metadata": {
        "id": "McnkXSD06lAf"
      },
      "source": [
        "Now, let's try and run this untrained `rnn_layer` on `tweet_emb`.\n",
        "We will need to add an extra dimension to `tweet_emb` to account for\n",
        "batching. We will also need to initialize a set of hidden units of size\n",
        "`[batch_size, 1, repr_dim]`, to be used for the *first* set of computations.\n",
        "\n",
        "![](https://github.com/WilliamJWen/APS360/blob/main/tutorial/imgs/rnn.png?raw=1)"
      ]
    },
    {
      "cell_type": "code",
      "execution_count": 71,
      "metadata": {
        "id": "46ARRDO76lAg"
      },
      "outputs": [],
      "source": [
        "tweet_input = tweet_emb.unsqueeze(0) # add the batch_size dimension\n",
        "h0 = torch.zeros(1, 1, 50)           # initial hidden state\n",
        "out, last_hidden = rnn_layer(tweet_input, h0)"
      ]
    },
    {
      "cell_type": "markdown",
      "metadata": {
        "id": "TlHsKlu66lAj"
      },
      "source": [
        "We don't technically have to explictly provide the initial hidden state,\n",
        "if we want to use an initial state of zeros. Just for today, we will be\n",
        "explicit about the hidden states that we provide."
      ]
    },
    {
      "cell_type": "code",
      "execution_count": 72,
      "metadata": {
        "id": "rt5DhCRW6lAk"
      },
      "outputs": [],
      "source": [
        "out2, last_hidden2 = rnn_layer(tweet_input)"
      ]
    },
    {
      "cell_type": "markdown",
      "metadata": {
        "id": "ZFF1ZygN6lAn"
      },
      "source": [
        "Now, let's look at the output and hidden dimensions that we have:"
      ]
    },
    {
      "cell_type": "code",
      "execution_count": 74,
      "metadata": {
        "id": "fQG1B0Vj6lAo",
        "outputId": "a0ace87b-a84e-47d2-a6fc-747e39342723",
        "colab": {
          "base_uri": "https://localhost:8080/"
        }
      },
      "outputs": [
        {
          "output_type": "stream",
          "name": "stdout",
          "text": [
            "torch.Size([1, 31, 50])\n",
            "torch.Size([1, 1, 50])\n"
          ]
        }
      ],
      "source": [
        "print(out.shape) ## result of context of each step\n",
        "print(last_hidden.shape) ## at the last timestamp"
      ]
    },
    {
      "cell_type": "markdown",
      "metadata": {
        "id": "7ju9XGxQ6lAr"
      },
      "source": [
        "The shape of the hidden units is the same as our initial `h0`.\n",
        "The variable `out`, though, has the same shape as our `input`.\n",
        "The variable contains the concatenation of all of the output units\n",
        "for each word (i.e. at each time point).\n",
        "\n",
        "Normally, we only care about the output at the **final** time point,\n",
        "which we can extract like this."
      ]
    },
    {
      "cell_type": "code",
      "execution_count": 75,
      "metadata": {
        "id": "H3gdskfq6lAr",
        "outputId": "e6a666cb-69a0-4909-d8d7-b3ee6b656994",
        "colab": {
          "base_uri": "https://localhost:8080/"
        }
      },
      "outputs": [
        {
          "output_type": "execute_result",
          "data": {
            "text/plain": [
              "tensor([[ 0.0162,  0.2659,  0.1259, -0.5451,  0.0179,  0.4922,  0.5168, -0.2416,\n",
              "         -0.2252,  0.3866,  0.2672, -0.5910,  0.0812,  0.1204,  0.4338, -0.0641,\n",
              "         -0.2817, -0.2846,  0.7293,  0.0721,  0.4059,  0.1037, -0.0887, -0.1429,\n",
              "         -0.4210, -0.2230, -0.5315,  0.0431,  0.3900, -0.4788, -0.3644,  0.4283,\n",
              "         -0.6217, -0.0438, -0.4808,  0.0123, -0.5857, -0.1392, -0.5384,  0.0828,\n",
              "         -0.2942, -0.4289, -0.2387, -0.8047,  0.0646,  0.3297, -0.3946, -0.1762,\n",
              "          0.0868, -0.3119]], grad_fn=<SliceBackward0>)"
            ]
          },
          "metadata": {},
          "execution_count": 75
        }
      ],
      "source": [
        "out[:,-1,:]"
      ]
    },
    {
      "cell_type": "markdown",
      "metadata": {
        "id": "5StyRJQL6lAu"
      },
      "source": [
        "This tensor summarizes the entire tweet, and can be used as an input\n",
        "to a classifier.\n",
        "\n",
        "## Building a Model\n",
        "\n",
        "Let's put both the embedding layer, the RNN and the classifier into one model:"
      ]
    },
    {
      "cell_type": "code",
      "execution_count": 77,
      "metadata": {
        "id": "fAZ928tH6lAv"
      },
      "outputs": [],
      "source": [
        "class TweetRNN(nn.Module):\n",
        "    def __init__(self, input_size, hidden_size, num_classes):\n",
        "        super(TweetRNN, self).__init__()\n",
        "        self.emb = nn.Embedding.from_pretrained(glove.vectors)\n",
        "        self.hidden_size = hidden_size\n",
        "        self.rnn = nn.RNN(input_size, hidden_size, batch_first=True)\n",
        "        self.fc = nn.Linear(hidden_size, num_classes)\n",
        "\n",
        "    def forward(self, x):\n",
        "        # Look up the embedding\n",
        "        x = self.emb(x)\n",
        "        # Set an initial hidden state\n",
        "        h0 = torch.zeros(1, x.size(0), self.hidden_size)\n",
        "        # Forward propagate the RNN\n",
        "        out, _ = self.rnn(x, h0)\n",
        "        # Pass the output of the last time step to the classifier\n",
        "        out = self.fc(out[:, -1, :])\n",
        "        return out\n",
        "\n",
        "model = TweetRNN(50, 50, 2)"
      ]
    },
    {
      "cell_type": "markdown",
      "metadata": {
        "id": "SkZVSHki6lAx"
      },
      "source": [
        "We should be able to train this model similar to any other model that we have trained before. However, there is one caveat that we have been avoiding this entire time, **batching**.\n",
        "\n",
        "## Batching\n",
        "\n",
        "Unfortunately, we will not be able to use `DataLoader` with a\n",
        "`batch_size` of greater than one. This is because each tweet has\n",
        "a different shaped tensor."
      ]
    },
    {
      "cell_type": "code",
      "execution_count": 78,
      "metadata": {
        "id": "1fdPxVzz6lAy",
        "outputId": "a4dca01a-03db-4fef-f24a-fde34216820a",
        "colab": {
          "base_uri": "https://localhost:8080/"
        }
      },
      "outputs": [
        {
          "output_type": "stream",
          "name": "stdout",
          "text": [
            "torch.Size([18])\n",
            "torch.Size([23])\n",
            "torch.Size([8])\n",
            "torch.Size([20])\n",
            "torch.Size([6])\n",
            "torch.Size([5])\n",
            "torch.Size([10])\n",
            "torch.Size([8])\n",
            "torch.Size([7])\n",
            "torch.Size([31])\n"
          ]
        }
      ],
      "source": [
        "for i in range(10):\n",
        "    tweet, label = train[i]\n",
        "    print(tweet.shape)"
      ]
    },
    {
      "cell_type": "markdown",
      "metadata": {
        "id": "_9V-af5Q6lA1"
      },
      "source": [
        "PyTorch implementation of `DataLoader` class expects all data samples\n",
        "to have the same shape. So, if we create a DataLoader like below,\n",
        "it will throw an error when we try to iterate over its elements."
      ]
    },
    {
      "cell_type": "code",
      "execution_count": 79,
      "metadata": {
        "id": "IvCWcP3n6lA2"
      },
      "outputs": [],
      "source": [
        "#will_fail = torch.utils.data.DataLoader(train, batch_size=128)"
      ]
    },
    {
      "cell_type": "markdown",
      "metadata": {
        "id": "tV5LmijX6lA5"
      },
      "source": [
        "So, we will need a different way of batching.\n",
        "\n",
        "One strategy is to **pad shorter sequences with zero inputs**, so that\n",
        "every sequence is the same length. The following PyTorch utilities\n",
        "are helpful.\n",
        "\n",
        "- `torch.nn.utils.rnn.pad_sequence`\n",
        "- `torch.nn.utils.rnn.pad_packed_sequence`\n",
        "- `torch.nn.utils.rnn.pack_sequence`\n",
        "- `torch.nn.utils.rnn.pack_padded_sequence`\n",
        "\n",
        "(Actually, there are more powerful helpers in the `torchtext` module\n",
        "that we will use in Lab 5. We'll stick to these in this demo, so that\n",
        "you can see what's actually going on under the hood.)"
      ]
    },
    {
      "cell_type": "code",
      "execution_count": 80,
      "metadata": {
        "id": "td8JCx6H6lA6",
        "outputId": "08dd0269-fd19-426f-d4fc-8eab369c6ad6",
        "colab": {
          "base_uri": "https://localhost:8080/"
        }
      },
      "outputs": [
        {
          "output_type": "stream",
          "name": "stdout",
          "text": [
            "torch.Size([10, 31])\n",
            "tensor([[   2,   11,    1,    7,    2,   81,  405,  684, 9912,    3,  245,  122,\n",
            "            4,   88,   20,    2,   89, 1968,    0,    0,    0,    0,    0,    0,\n",
            "            0,    0,    0,    0,    0,    0,    0],\n",
            "        [ 192,    2,   41, 4284,   83,    0,   31, 1096,    4,   88,   17,   20,\n",
            "          188,   83,  100,    1,  500,    1,   41,  169,   20,    1,  837,    0,\n",
            "            0,    0,    0,    0,    0,    0,    0]])\n"
          ]
        }
      ],
      "source": [
        "from torch.nn.utils.rnn import pad_sequence\n",
        "\n",
        "tweet_padded = pad_sequence([tweet for tweet, label in train[:10]],\n",
        "                            batch_first=True)\n",
        "print(tweet_padded.shape)\n",
        "print(tweet_padded[0:2])"
      ]
    },
    {
      "cell_type": "markdown",
      "metadata": {
        "id": "UQ0DmJ-C6lA9"
      },
      "source": [
        "Now, we can pass multiple tweets in a batch through the RNN at once!"
      ]
    },
    {
      "cell_type": "code",
      "execution_count": 81,
      "metadata": {
        "id": "d2-AUHrx6lA-",
        "outputId": "584315ff-e81f-4502-faa4-626226e0ec47",
        "colab": {
          "base_uri": "https://localhost:8080/"
        }
      },
      "outputs": [
        {
          "output_type": "stream",
          "name": "stdout",
          "text": [
            "torch.Size([10, 2])\n"
          ]
        }
      ],
      "source": [
        "out = model(tweet_padded)\n",
        "print(out.shape)"
      ]
    },
    {
      "cell_type": "markdown",
      "metadata": {
        "id": "fd7YuKn86lBA"
      },
      "source": [
        "One issue we overlooked was that in our `TweetRNN` model, we always\n",
        "take the **last output unit** as input to the final classifier. Now\n",
        "that we are padding the input sequences, we should really be using\n",
        "the output at a previous time step. Recurrent neural networks therefore\n",
        "require much more record keeping than ANNs or even CNNs.\n",
        "\n",
        "There is yet another problem:\n",
        "the longest tweet has many, many more words than the shortest.\n",
        "Padding tweets so that every tweet has the same length as the longest\n",
        "tweet is impractical. Padding tweets in a mini-batch, however, is much\n",
        "more reasonable.\n",
        "\n",
        "In practice, practitioners will batch together tweets with the same\n",
        "length. For simplicity, we will do the same. We will implement a (more or less)\n",
        "straightforward way to batch tweets."
      ]
    },
    {
      "cell_type": "code",
      "execution_count": 82,
      "metadata": {
        "id": "JhS_q3E_6lBB"
      },
      "outputs": [],
      "source": [
        "import random\n",
        "\n",
        "class TweetBatcher:\n",
        "    def __init__(self, tweets, batch_size=32, drop_last=False):\n",
        "        # store tweets by length\n",
        "        self.tweets_by_length = {}\n",
        "        for words, label in tweets:\n",
        "            # compute the length of the tweet\n",
        "            wlen = words.shape[0]\n",
        "            # put the tweet in the correct key inside self.tweet_by_length\n",
        "            if wlen not in self.tweets_by_length:\n",
        "                self.tweets_by_length[wlen] = []\n",
        "            self.tweets_by_length[wlen].append((words, label),)\n",
        "\n",
        "        #  create a DataLoader for each set of tweets of the same length\n",
        "        self.loaders = {wlen : torch.utils.data.DataLoader(\n",
        "                                    tweets,\n",
        "                                    batch_size=batch_size,\n",
        "                                    shuffle=True,\n",
        "                                    drop_last=drop_last) # omit last batch if smaller than batch_size\n",
        "            for wlen, tweets in self.tweets_by_length.items()}\n",
        "\n",
        "    def __iter__(self): # called by Python to create an iterator\n",
        "        # make an iterator for every tweet length\n",
        "        iters = [iter(loader) for loader in self.loaders.values()]\n",
        "        while iters:\n",
        "            # pick an iterator (a length)\n",
        "            im = random.choice(iters)\n",
        "            try:\n",
        "                yield next(im)\n",
        "            except StopIteration:\n",
        "                # no more elements in the iterator, remove it\n",
        "                iters.remove(im)"
      ]
    },
    {
      "cell_type": "markdown",
      "metadata": {
        "id": "cB9bCg7-6lBH"
      },
      "source": [
        "Let's take a look at our batcher in action. We will set `drop_last` to be true for training,\n",
        "so that all of our batches have exactly the same size."
      ]
    },
    {
      "cell_type": "code",
      "execution_count": 83,
      "metadata": {
        "id": "C3JAsR4S6lBJ",
        "outputId": "c52ecad7-0119-4820-a9c8-b71e05f9b443",
        "colab": {
          "base_uri": "https://localhost:8080/"
        }
      },
      "outputs": [
        {
          "output_type": "stream",
          "name": "stdout",
          "text": [
            "torch.Size([32, 17]) torch.Size([32])\n",
            "torch.Size([32, 32]) torch.Size([32])\n",
            "torch.Size([32, 16]) torch.Size([32])\n",
            "torch.Size([32, 5]) torch.Size([32])\n",
            "torch.Size([32, 17]) torch.Size([32])\n",
            "torch.Size([32, 14]) torch.Size([32])\n",
            "torch.Size([32, 21]) torch.Size([32])\n",
            "torch.Size([32, 29]) torch.Size([32])\n",
            "torch.Size([32, 25]) torch.Size([32])\n",
            "torch.Size([32, 8]) torch.Size([32])\n",
            "torch.Size([32, 19]) torch.Size([32])\n",
            "torch.Size([32, 28]) torch.Size([32])\n",
            "torch.Size([32, 26]) torch.Size([32])\n",
            "torch.Size([32, 31]) torch.Size([32])\n",
            "torch.Size([32, 29]) torch.Size([32])\n",
            "torch.Size([32, 16]) torch.Size([32])\n",
            "torch.Size([32, 27]) torch.Size([32])\n",
            "torch.Size([32, 22]) torch.Size([32])\n",
            "torch.Size([32, 6]) torch.Size([32])\n",
            "torch.Size([32, 10]) torch.Size([32])\n",
            "torch.Size([32, 5]) torch.Size([32])\n"
          ]
        }
      ],
      "source": [
        "for i, (tweets, labels) in enumerate(TweetBatcher(train, drop_last=True)):\n",
        "    if i > 20: break\n",
        "    print(tweets.shape, labels.shape)"
      ]
    },
    {
      "cell_type": "markdown",
      "metadata": {
        "id": "sV8CYnwQ6lBM"
      },
      "source": [
        "Just to verify that our batching is reasonable, here is a modification of the\n",
        "`get_accuracy` function we wrote last time."
      ]
    },
    {
      "cell_type": "code",
      "execution_count": 84,
      "metadata": {
        "id": "V5XM9ewr6lBN",
        "outputId": "406a309c-bd10-49a5-9964-dfce77d72d8c",
        "colab": {
          "base_uri": "https://localhost:8080/"
        }
      },
      "outputs": [
        {
          "output_type": "execute_result",
          "data": {
            "text/plain": [
              "0.4950939935809262"
            ]
          },
          "metadata": {},
          "execution_count": 84
        }
      ],
      "source": [
        "def get_accuracy(model, data_loader):\n",
        "    correct, total = 0, 0\n",
        "    for tweets, labels in data_loader:\n",
        "        output = model(tweets)\n",
        "        pred = output.max(1, keepdim=True)[1]\n",
        "        correct += pred.eq(labels.view_as(pred)).sum().item()\n",
        "        total += labels.shape[0]\n",
        "    return correct / total\n",
        "\n",
        "test_loader = TweetBatcher(test, batch_size=64, drop_last=False)\n",
        "get_accuracy(model, test_loader)"
      ]
    },
    {
      "cell_type": "markdown",
      "metadata": {
        "id": "30ZsJhdP6lBP"
      },
      "source": [
        "Our training code will also be very similar to the code we wrote last time:"
      ]
    },
    {
      "cell_type": "code",
      "execution_count": 85,
      "metadata": {
        "id": "4tPj9gwy6lBQ"
      },
      "outputs": [],
      "source": [
        "def train_rnn_network(model, train, valid, num_epochs=5, learning_rate=1e-5):\n",
        "    criterion = nn.CrossEntropyLoss()\n",
        "    optimizer = torch.optim.Adam(model.parameters(), lr=learning_rate)\n",
        "    losses, train_acc, valid_acc = [], [], []\n",
        "    epochs = []\n",
        "    for epoch in range(num_epochs):\n",
        "        for tweets, labels in train:\n",
        "            optimizer.zero_grad()\n",
        "            pred = model(tweets)\n",
        "            loss = criterion(pred, labels)\n",
        "            loss.backward()\n",
        "            optimizer.step()\n",
        "        losses.append(float(loss))\n",
        "\n",
        "        epochs.append(epoch)\n",
        "        train_acc.append(get_accuracy(model, train_loader))\n",
        "        valid_acc.append(get_accuracy(model, valid_loader))\n",
        "        print(\"Epoch %d; Loss %f; Train Acc %f; Val Acc %f\" % (\n",
        "              epoch+1, loss, train_acc[-1], valid_acc[-1]))\n",
        "    # plotting\n",
        "    plt.title(\"Training Curve\")\n",
        "    plt.plot(losses, label=\"Train\")\n",
        "    plt.xlabel(\"Epoch\")\n",
        "    plt.ylabel(\"Loss\")\n",
        "    plt.show()\n",
        "\n",
        "    plt.title(\"Training Curve\")\n",
        "    plt.plot(epochs, train_acc, label=\"Train\")\n",
        "    plt.plot(epochs, valid_acc, label=\"Validation\")\n",
        "    plt.xlabel(\"Epoch\")\n",
        "    plt.ylabel(\"Accuracy\")\n",
        "    plt.legend(loc='best')\n",
        "    plt.show()"
      ]
    },
    {
      "cell_type": "markdown",
      "metadata": {
        "id": "AmB_73On6lBT"
      },
      "source": [
        "Let's train our model. Note that there will be some inaccuracies in computing the training loss.\n",
        "We are dropping some data from the training set by setting `drop_last=True`. Again, the choice is\n",
        "not ideal, but simplifies our code."
      ]
    },
    {
      "cell_type": "code",
      "execution_count": 86,
      "metadata": {
        "id": "Ym4cBxAP6lBU",
        "outputId": "08380f0f-76aa-47d7-ce4c-df0b8478f878",
        "colab": {
          "base_uri": "https://localhost:8080/",
          "height": 1000
        }
      },
      "outputs": [
        {
          "output_type": "stream",
          "name": "stdout",
          "text": [
            "Epoch 1; Loss 0.587063; Train Acc 0.655423; Val Acc 0.650105\n",
            "Epoch 2; Loss 0.592144; Train Acc 0.665097; Val Acc 0.659730\n",
            "Epoch 3; Loss 0.603572; Train Acc 0.668056; Val Acc 0.662572\n",
            "Epoch 4; Loss 0.578219; Train Acc 0.671239; Val Acc 0.662114\n",
            "Epoch 5; Loss 0.551358; Train Acc 0.670793; Val Acc 0.662756\n",
            "Epoch 6; Loss 0.561557; Train Acc 0.666752; Val Acc 0.661564\n",
            "Epoch 7; Loss 0.582915; Train Acc 0.675566; Val Acc 0.665597\n",
            "Epoch 8; Loss 0.576613; Train Acc 0.676521; Val Acc 0.670364\n",
            "Epoch 9; Loss 0.568720; Train Acc 0.678303; Val Acc 0.669631\n",
            "Epoch 10; Loss 0.678447; Train Acc 0.677508; Val Acc 0.672289\n",
            "Epoch 11; Loss 0.588012; Train Acc 0.679067; Val Acc 0.671556\n",
            "Epoch 12; Loss 0.589845; Train Acc 0.682918; Val Acc 0.672656\n",
            "Epoch 13; Loss 0.559277; Train Acc 0.682567; Val Acc 0.673206\n",
            "Epoch 14; Loss 0.679674; Train Acc 0.685591; Val Acc 0.674489\n",
            "Epoch 15; Loss 0.544445; Train Acc 0.684540; Val Acc 0.678064\n",
            "Epoch 16; Loss 0.547240; Train Acc 0.689378; Val Acc 0.675681\n",
            "Epoch 17; Loss 0.546899; Train Acc 0.691287; Val Acc 0.678431\n",
            "Epoch 18; Loss 0.627524; Train Acc 0.691001; Val Acc 0.677514\n",
            "Epoch 19; Loss 0.508251; Train Acc 0.692687; Val Acc 0.683289\n",
            "Epoch 20; Loss 0.492601; Train Acc 0.695519; Val Acc 0.681181\n"
          ]
        },
        {
          "output_type": "display_data",
          "data": {
            "text/plain": [
              "<Figure size 640x480 with 1 Axes>"
            ],
            "image/png": "[encoded data removed]"
          },
          "metadata": {}
        },
        {
          "output_type": "display_data",
          "data": {
            "text/plain": [
              "<Figure size 640x480 with 1 Axes>"
            ],
            "image/png": "[encoded data removed]"
          },
          "metadata": {}
        },
        {
          "output_type": "execute_result",
          "data": {
            "text/plain": [
              "0.6833562585969739"
            ]
          },
          "metadata": {},
          "execution_count": 86
        }
      ],
      "source": [
        "model = TweetRNN(50, 50, 2)\n",
        "train_loader = TweetBatcher(train, batch_size=64, drop_last=True)\n",
        "valid_loader = TweetBatcher(valid, batch_size=64, drop_last=False)\n",
        "train_rnn_network(model, train_loader, valid_loader, num_epochs=20, learning_rate=2e-4)\n",
        "get_accuracy(model, test_loader)"
      ]
    },
    {
      "cell_type": "markdown",
      "metadata": {
        "id": "Z86LNm5C6lBW"
      },
      "source": [
        "The hidden size and the input embedding size don't have to be the same."
      ]
    },
    {
      "cell_type": "code",
      "execution_count": 87,
      "metadata": {
        "id": "r_RTLW9r6lBX",
        "outputId": "6ee37bb0-05e4-4443-9d1b-2a57a61f8d0f",
        "colab": {
          "base_uri": "https://localhost:8080/",
          "height": 1000
        }
      },
      "outputs": [
        {
          "output_type": "stream",
          "name": "stdout",
          "text": [
            "Epoch 1; Loss 0.697638; Train Acc 0.656505; Val Acc 0.650564\n",
            "Epoch 2; Loss 0.584735; Train Acc 0.665956; Val Acc 0.661656\n",
            "Epoch 3; Loss 0.607167; Train Acc 0.643807; Val Acc 0.641580\n",
            "Epoch 4; Loss 0.591732; Train Acc 0.662646; Val Acc 0.656614\n",
            "Epoch 5; Loss 0.528102; Train Acc 0.668884; Val Acc 0.661564\n",
            "Epoch 6; Loss 0.623020; Train Acc 0.655518; Val Acc 0.649005\n",
            "Epoch 7; Loss 0.573345; Train Acc 0.665892; Val Acc 0.657347\n",
            "Epoch 8; Loss 0.665131; Train Acc 0.669520; Val Acc 0.661289\n",
            "Epoch 9; Loss 0.653493; Train Acc 0.676839; Val Acc 0.668072\n",
            "Epoch 10; Loss 0.598400; Train Acc 0.680276; Val Acc 0.668164\n",
            "Epoch 11; Loss 0.677396; Train Acc 0.681390; Val Acc 0.670822\n",
            "Epoch 12; Loss 0.619452; Train Acc 0.683904; Val Acc 0.670639\n",
            "Epoch 13; Loss 0.544638; Train Acc 0.684509; Val Acc 0.671372\n",
            "Epoch 14; Loss 0.647634; Train Acc 0.684063; Val Acc 0.672472\n",
            "Epoch 15; Loss 0.636747; Train Acc 0.682567; Val Acc 0.669722\n",
            "Epoch 16; Loss 0.571233; Train Acc 0.689982; Val Acc 0.672931\n",
            "Epoch 17; Loss 0.629877; Train Acc 0.693037; Val Acc 0.677239\n",
            "Epoch 18; Loss 0.654227; Train Acc 0.689568; Val Acc 0.670456\n",
            "Epoch 19; Loss 0.552397; Train Acc 0.697938; Val Acc 0.679806\n",
            "Epoch 20; Loss 0.583474; Train Acc 0.696506; Val Acc 0.679164\n"
          ]
        },
        {
          "output_type": "display_data",
          "data": {
            "text/plain": [
              "<Figure size 640x480 with 1 Axes>"
            ],
            "image/png": "[encoded data removed]"
          },
          "metadata": {}
        },
        {
          "output_type": "display_data",
          "data": {
            "text/plain": [
              "<Figure size 640x480 with 1 Axes>"
            ],
            "image/png": "[encoded data removed]"
          },
          "metadata": {}
        },
        {
          "output_type": "execute_result",
          "data": {
            "text/plain": [
              "0.6820724438331041"
            ]
          },
          "metadata": {},
          "execution_count": 87
        }
      ],
      "source": [
        "model = TweetRNN(50, 100, 2)\n",
        "train_rnn_network(model, train_loader, valid_loader, num_epochs=20, learning_rate=2e-4)\n",
        "get_accuracy(model, test_loader)"
      ]
    },
    {
      "cell_type": "markdown",
      "metadata": {
        "id": "rbkydKtxyvH_"
      },
      "source": [
        "##### Sentiment Analysis on New Tweets"
      ]
    },
    {
      "cell_type": "code",
      "execution_count": 88,
      "metadata": {
        "id": "Pi61Uk3lz0Ju"
      },
      "outputs": [],
      "source": [
        "def get_new_tweet(glove_vector, sample_tweet):\n",
        "    tweet = sample_tweet\n",
        "    idxs = [glove_vector.stoi[w]        # lookup the index of word\n",
        "            for w in split_tweet(tweet)\n",
        "            if w in glove_vector.stoi] # keep words that has an embedding\n",
        "    idxs = torch.tensor(idxs) # convert list to pytorch tensor\n",
        "    return idxs"
      ]
    },
    {
      "cell_type": "code",
      "execution_count": 89,
      "metadata": {
        "id": "kLEIMbmj2qI5",
        "outputId": "aea11d08-43c1-4914-a9ac-954932c890b9",
        "colab": {
          "base_uri": "https://localhost:8080/"
        }
      },
      "outputs": [
        {
          "output_type": "stream",
          "name": "stdout",
          "text": [
            "torch.Size([5])\n",
            "tensor([[0]])\n"
          ]
        }
      ],
      "source": [
        "new_tweet = get_new_tweet(glove, \"This is a terrible tragedy\")\n",
        "print(new_tweet.shape)\n",
        "\n",
        "out = torch.sigmoid(model(new_tweet.unsqueeze(0)))\n",
        "pred = out.max(1, keepdim=True)[1]\n",
        "print(pred)"
      ]
    },
    {
      "cell_type": "code",
      "execution_count": 90,
      "metadata": {
        "id": "Gyx3J5H7p6RQ",
        "outputId": "449464a6-4f67-4424-ec9b-d8c29809c1dc",
        "colab": {
          "base_uri": "https://localhost:8080/"
        }
      },
      "outputs": [
        {
          "output_type": "stream",
          "name": "stdout",
          "text": [
            "torch.Size([8])\n",
            "tensor([[1]])\n"
          ]
        }
      ],
      "source": [
        "new_tweet = get_new_tweet(glove, \"This is the best day of my life\")\n",
        "print(new_tweet.shape)\n",
        "\n",
        "out = torch.sigmoid(model(new_tweet.unsqueeze(0)))\n",
        "pred = out.max(1, keepdim=True)[1]\n",
        "print(pred)"
      ]
    },
    {
      "cell_type": "markdown",
      "metadata": {
        "id": "9HpLnBSFqDSo"
      },
      "source": [
        "Sentiment analysis is not a straight forward problem and it's impressive that without too much tunning we are able to get validation accuracy close to 70%. There are many ways that we can improve our performance:\n",
        "\n",
        "*   Tune hyperparameters\n",
        "*   Use all of the available data\n",
        "*   Apply more advanced RNN architectures (ex. LSTM and GRU)"
      ]
    },
    {
      "cell_type": "code",
      "execution_count": 91,
      "metadata": {
        "id": "MnMBwyGJ6lBs",
        "outputId": "ec239ec4-3cf6-4a1f-d3d8-2d744593f4c2",
        "colab": {
          "base_uri": "https://localhost:8080/",
          "height": 1000
        }
      },
      "outputs": [
        {
          "output_type": "stream",
          "name": "stdout",
          "text": [
            "Epoch 1; Loss 0.688091; Train Acc 0.575038; Val Acc 0.567605\n",
            "Epoch 2; Loss 0.686229; Train Acc 0.591904; Val Acc 0.586030\n",
            "Epoch 3; Loss 0.660896; Train Acc 0.614117; Val Acc 0.607847\n",
            "Epoch 4; Loss 0.667417; Train Acc 0.622932; Val Acc 0.619763\n",
            "Epoch 5; Loss 0.629435; Train Acc 0.635692; Val Acc 0.633789\n",
            "Epoch 6; Loss 0.655634; Train Acc 0.648167; Val Acc 0.647080\n",
            "Epoch 7; Loss 0.563276; Train Acc 0.654245; Val Acc 0.651480\n",
            "Epoch 8; Loss 0.614970; Train Acc 0.657841; Val Acc 0.654872\n",
            "Epoch 9; Loss 0.634222; Train Acc 0.660737; Val Acc 0.656614\n",
            "Epoch 10; Loss 0.661134; Train Acc 0.661755; Val Acc 0.657714\n",
            "Epoch 11; Loss 0.682307; Train Acc 0.663124; Val Acc 0.659089\n",
            "Epoch 12; Loss 0.644336; Train Acc 0.664365; Val Acc 0.660006\n",
            "Epoch 13; Loss 0.617984; Train Acc 0.664906; Val Acc 0.660372\n",
            "Epoch 14; Loss 0.534131; Train Acc 0.667834; Val Acc 0.662847\n",
            "Epoch 15; Loss 0.593727; Train Acc 0.667070; Val Acc 0.664681\n",
            "Epoch 16; Loss 0.662230; Train Acc 0.668884; Val Acc 0.665689\n",
            "Epoch 17; Loss 0.588572; Train Acc 0.670188; Val Acc 0.665506\n",
            "Epoch 18; Loss 0.584729; Train Acc 0.671811; Val Acc 0.667706\n",
            "Epoch 19; Loss 0.681811; Train Acc 0.671461; Val Acc 0.667706\n",
            "Epoch 20; Loss 0.634838; Train Acc 0.672416; Val Acc 0.665139\n"
          ]
        },
        {
          "output_type": "display_data",
          "data": {
            "text/plain": [
              "<Figure size 640x480 with 1 Axes>"
            ],
            "image/png": "[encoded data removed]"
          },
          "metadata": {}
        },
        {
          "output_type": "display_data",
          "data": {
            "text/plain": [
              "<Figure size 640x480 with 1 Axes>"
            ],
            "image/png": "[encoded data removed]"
          },
          "metadata": {}
        },
        {
          "output_type": "execute_result",
          "data": {
            "text/plain": [
              "0.664740944520862"
            ]
          },
          "metadata": {},
          "execution_count": 91
        }
      ],
      "source": [
        "class TweetLSTM(nn.Module):\n",
        "    def __init__(self, input_size, hidden_size, num_classes):\n",
        "        super(TweetLSTM, self).__init__()\n",
        "        self.emb = nn.Embedding.from_pretrained(glove.vectors)\n",
        "        self.hidden_size = hidden_size\n",
        "        self.rnn = nn.LSTM(input_size, hidden_size, batch_first=True)\n",
        "        self.fc = nn.Linear(hidden_size, num_classes)\n",
        "\n",
        "    def forward(self, x):\n",
        "        # Look up the embedding\n",
        "        x = self.emb(x)\n",
        "        # Set an initial hidden state and cell state\n",
        "        h0 = torch.zeros(1, x.size(0), self.hidden_size)\n",
        "        c0 = torch.zeros(1, x.size(0), self.hidden_size)\n",
        "        # Forward propagate the LSTM\n",
        "        out, _ = self.rnn(x, (h0, c0))\n",
        "        # Pass the output of the last time step to the classifier\n",
        "        out = self.fc(out[:, -1, :])\n",
        "        return out\n",
        "\n",
        "model = TweetLSTM(50, 50, 2)\n",
        "train_rnn_network(model, train_loader, valid_loader, num_epochs=20, learning_rate=2e-5)\n",
        "get_accuracy(model, test_loader)"
      ]
    }
  ],
  "metadata": {
    "colab": {
      "provenance": []
    },
    "kernelspec": {
      "display_name": "Python 3",
      "language": "python",
      "name": "python3"
    },
    "language_info": {
      "codemirror_mode": {
        "name": "ipython",
        "version": 3
      },
      "file_extension": ".py",
      "mimetype": "text/x-python",
      "name": "python",
      "nbconvert_exporter": "python",
      "pygments_lexer": "ipython3",
      "version": "3.7.4"
    }
  },
  "nbformat": 4,
  "nbformat_minor": 0
}