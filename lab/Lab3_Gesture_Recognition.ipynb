{
  "cells": [
    {
      "cell_type": "markdown",
      "metadata": {
        "id": "X6WDvajSqIDs"
      },
      "source": [
        "# Lab 3: Gesture Recognition using Convolutional Neural Networks\n",
        "\n",
        "In this lab you will train a convolutional neural network to make classifications on different hand gestures. By the end of the lab, you should be able to:\n",
        "\n",
        "1. Load and split data for training, validation and testing\n",
        "2. Train a Convolutional Neural Network\n",
        "3. Apply transfer learning to improve your model\n",
        "\n",
        "Note that for this lab we will not be providing you with any starter code. You should be able to take the code used in previous labs, tutorials and lectures and modify it accordingly to complete the tasks outlined below.\n",
        "\n",
        "### What to submit\n",
        "\n",
        "Submit a PDF file containing all your code, outputs, and write-up\n",
        "from parts 1-5. You can produce a PDF of your Google Colab file by\n",
        "going to **File > Print** and then save as PDF. The Colab instructions\n",
        "has more information. Make sure to review the PDF submission to ensure that your answers are easy to read. Make sure that your text is not cut off at the margins.\n",
        "\n",
        "**Do not submit any other files produced by your code.**\n",
        "\n",
        "Include a link to your colab file in your submission.\n",
        "\n",
        "Please use Google Colab to complete this assignment. If you want to use Jupyter Notebook, please complete the assignment and upload your Jupyter Notebook file to Google Colab for submission."
      ]
    },
    {
      "cell_type": "markdown",
      "metadata": {
        "id": "LfiFE_WOqIDu"
      },
      "source": [
        "## Colab Link\n",
        "\n",
        "Include a link to your colab file here\n",
        "\n",
        "Colab Link: https://colab.research.google.com/github/WilliamJWen/APS360/blob/main/lab/Lab3_Gesture_Recognition.ipynb"
      ]
    },
    {
      "cell_type": "markdown",
      "metadata": {
        "id": "kvTXpH_kqIDy"
      },
      "source": [
        "## Dataset\n",
        "\n",
        "American Sign Language (ASL) is a complete, complex language that employs signs made by moving the\n",
        "hands combined with facial expressions and postures of the body. It is the primary language of many\n",
        "North Americans who are deaf and is one of several communication options used by people who are deaf or\n",
        "hard-of-hearing. The hand gestures representing English alphabet are shown below. This lab focuses on classifying a subset\n",
        "of these hand gesture images using convolutional neural networks. Specifically, given an image of a hand\n",
        "showing one of the letters A-I, we want to detect which letter is being represented.\n",
        "\n",
        "![alt text](https://www.disabled-world.com/pics/1/asl-alphabet.jpg)"
      ]
    },
    {
      "cell_type": "markdown",
      "metadata": {
        "id": "bJxMgWGNqID2"
      },
      "source": [
        "## Part B. Building a CNN [50 pt]\n",
        "\n",
        "For this lab, we are not going to give you any starter code. You will be writing a convolutional neural network\n",
        "from scratch. You are welcome to use any code from previous labs, lectures and tutorials. You should also\n",
        "write your own code.\n",
        "\n",
        "You may use the PyTorch documentation freely. You might also find online tutorials helpful. However, all\n",
        "code that you submit must be your own.\n",
        "\n",
        "Make sure that your code is vectorized, and does not contain obvious inefficiencies (for example, unecessary\n",
        "for loops, or unnecessary calls to unsqueeze()). Ensure enough comments are included in the code so that\n",
        "your TA can understand what you are doing. It is your responsibility to show that you understand what you\n",
        "write.\n",
        "\n",
        "**This is much more challenging and time-consuming than the previous labs.** Make sure that you\n",
        "give yourself plenty of time by starting early."
      ]
    },
    {
      "cell_type": "markdown",
      "metadata": {
        "id": "MiDuQaAh56sT"
      },
      "source": [
        "### 1. Data Loading and Splitting [5 pt]\n",
        "\n",
        "Download the anonymized data provided on Quercus. To allow you to get a heads start on this project we will provide you with sample data from previous years. Split the data into training, validation, and test sets.\n",
        "\n",
        "Note: Data splitting is not as trivial in this lab. We want our test set to closely resemble the setting in which\n",
        "our model will be used. In particular, our test set should contain hands that are never seen in training!\n",
        "\n",
        "Explain how you split the data, either by describing what you did, or by showing the code that you used.\n",
        "Justify your choice of splitting strategy. How many training, validation, and test images do you have?\n",
        "\n",
        "For loading the data, you can use plt.imread as in Lab 1, or any other method that you choose. You may find\n",
        "torchvision.datasets.ImageFolder helpful. (see https://pytorch.org/docs/stable/torchvision/datasets.html?highlight=image%20folder#torchvision.datasets.ImageFolder\n",
        ")"
      ]
    },
    {
      "cell_type": "code",
      "source": [
        "import torch\n",
        "import torchvision\n",
        "import torchvision.transforms as transforms\n",
        "import torchvision.datasets as datasets\n",
        "import os\n",
        "import matplotlib.pyplot as plt\n",
        "import numpy as np\n",
        "\n",
        "from torch.utils.data import DataLoader, Subset\n",
        "from torch.utils.data.sampler import SubsetRandomSampler\n",
        "import random\n",
        "\n",
        "import torch.nn as nn"
      ],
      "metadata": {
        "id": "M3PlVHgFdOem"
      },
      "execution_count": null,
      "outputs": []
    },
    {
      "cell_type": "code",
      "source": [
        "from google.colab import drive\n",
        "drive.mount('/content/drive')"
      ],
      "metadata": {
        "colab": {
          "base_uri": "https://localhost:8080/"
        },
        "id": "nS4e0ceYhkZE",
        "outputId": "44d7dee3-64eb-43ba-a8a9-94e042acf1bb"
      },
      "execution_count": null,
      "outputs": [
        {
          "output_type": "stream",
          "name": "stdout",
          "text": [
            "Mounted at /content/drive\n"
          ]
        }
      ]
    },
    {
      "cell_type": "code",
      "source": [
        "cd /content/drive/MyDrive/APS360/lab3"
      ],
      "metadata": {
        "colab": {
          "base_uri": "https://localhost:8080/"
        },
        "id": "ogJeAzAAjZJd",
        "outputId": "415355e0-9180-4f29-d5f0-87e14be59b15"
      },
      "execution_count": null,
      "outputs": [
        {
          "output_type": "stream",
          "name": "stdout",
          "text": [
            "/content/drive/MyDrive/APS360/lab3\n"
          ]
        }
      ]
    },
    {
      "cell_type": "code",
      "source": [
        "# globals\n",
        "seed = 117\n",
        "random.seed(seed)\n",
        "\n",
        "torch.manual_seed(seed)"
      ],
      "metadata": {
        "id": "a4RVcCawEQ5Q"
      },
      "execution_count": null,
      "outputs": []
    },
    {
      "cell_type": "code",
      "source": [
        "dataset_path = 'Lab3_Gestures_Summer'\n",
        "\n",
        "# transformation process\n",
        "transform = transforms.Compose([transforms.Resize((224,224)),\n",
        "                                transforms.ToTensor(),\n",
        "                                transforms.Normalize((0.5, 0.5, 0.5), (0.5, 0.5, 0.5))])\n",
        "\n",
        "# load dataset\n",
        "dataset = datasets.ImageFolder(dataset_path, transform=transform)\n",
        "\n",
        "def get_prefix_num(filename):\n",
        "  return int(filename.split(\"_\")[0])\n",
        "def get_suffix_num(filename):\n",
        "  return int(filename.split(\"_\")[-1].split(\".\")[0])"
      ],
      "metadata": {
        "id": "FuLPBcbudLVV"
      },
      "execution_count": null,
      "outputs": []
    },
    {
      "cell_type": "code",
      "source": [
        "prefix_seen = set()\n",
        "duplicate = False\n",
        "\n",
        "for img_path, label in dataset.imgs:\n",
        "  filename = os.path.basename(img_path)\n",
        "  prefix_id = get_prefix_num(filename)\n",
        "  if prefix_id in prefix_seen:\n",
        "    duplicate = True\n",
        "    break\n",
        "\n",
        "if (duplicate):\n",
        "  print(\"There is duplicate prefix id.\")\n",
        "else:\n",
        "  print(\"All prefix id is unique confirmed\")"
      ],
      "metadata": {
        "colab": {
          "base_uri": "https://localhost:8080/"
        },
        "id": "orQHtp6i342l",
        "outputId": "5c4bbc50-b14c-4522-a047-f7f3f9c24f80"
      },
      "execution_count": null,
      "outputs": [
        {
          "output_type": "stream",
          "name": "stdout",
          "text": [
            "All prefix id is unique confirmed\n"
          ]
        }
      ]
    },
    {
      "cell_type": "code",
      "source": [
        "### put images into groups of same person and light\n",
        "\n",
        "# store original indices\n",
        "indexed_images = [(i, img_path, label) for i, (img_path, label) in enumerate(dataset.imgs)]\n",
        "sorted_images = sorted(indexed_images, key=lambda x: get_prefix_num(os.path.basename(x[1])))\n",
        "\n",
        "groups = []\n",
        "current_group = []\n",
        "\n",
        "for og_idx, img_path, label in sorted_images:\n",
        "  filename = os.path.basename(img_path)\n",
        "  prefix_id = get_prefix_num(filename)\n",
        "\n",
        "  if not current_group:\n",
        "    current_group.append(og_idx)\n",
        "  else:\n",
        "    prev_filename = os.path.basename(indexed_images[current_group[-1]][1])\n",
        "    prev_prefix = get_prefix_num(prev_filename)\n",
        "\n",
        "    # group sequential images into a group\n",
        "    if prefix_id == prev_prefix + 1 and get_suffix_num(filename) == get_suffix_num(prev_filename) + 1:\n",
        "      current_group.append(og_idx)\n",
        "    else:\n",
        "      # start a new group\n",
        "      groups.append(current_group)\n",
        "      current_group = [og_idx]\n",
        "\n",
        "# append last group\n",
        "if current_group:\n",
        "  groups.append(current_group)"
      ],
      "metadata": {
        "id": "XOUXx5yN33ve"
      },
      "execution_count": null,
      "outputs": []
    },
    {
      "cell_type": "code",
      "source": [
        "print(groups)"
      ],
      "metadata": {
        "colab": {
          "base_uri": "https://localhost:8080/"
        },
        "id": "N4rFVYZH9fSh",
        "outputId": "47b012a9-1f1b-4002-fb5d-b41ffa69c90c"
      },
      "execution_count": null,
      "outputs": [
        {
          "output_type": "stream",
          "name": "stdout",
          "text": [
            "[[118, 172], [429, 442, 455], [707, 720, 736], [992, 758, 774], [1026, 1036, 1049], [1302, 1314, 1329], [1583, 1593, 1609], [1858, 1871, 1884], [2131, 2132, 2136], [166, 167, 171], [418, 419, 423], [666, 667, 670], [917, 918, 922], [1168, 1169, 1173], [1407, 1408, 1412], [1662, 1663, 1667], [1910, 1911, 1915], [2162, 2163, 2167], [200], [204], [232, 233, 237], [483, 484, 488], [730, 731, 735], [980, 981, 985], [1231, 1232, 1236], [1470, 1471, 1475], [1725, 1476, 1480], [1729, 1730, 1734], [1976, 1977, 1981], [11, 12, 16], [269, 270, 274], [517, 518, 522], [768, 769, 773], [1017, 1018, 1022], [1266, 1267, 1268], [1508, 1509, 1513], [1759, 1760, 1764], [2007, 2008, 2012], [44, 45, 49], [302], [547, 548, 552], [797, 798, 799], [1043, 1044, 1048], [1290, 1291, 1295], [1538, 1539, 1543], [1789, 1790, 1794], [2037, 2038, 2042], [74, 75, 79], [328, 329, 333], [577, 578, 582], [827, 828, 832], [1077, 1078, 1082], [1323, 1324, 1328], [1571, 1572, 1576], [1822, 1823, 1824], [2070, 2071, 2075], [107, 108, 109], [358, 359, 363], [606, 607, 611], [857, 858, 862], [1107, 1108, 1112], [1354, 1355, 1359], [1603, 1604, 1608], [1849, 1850, 1854], [2100, 2101, 2105], [135, 136, 140], [389, 390, 393], [636, 637, 641], [887, 888, 892], [1138, 1139, 1143], [1379, 1380, 1384], [1634, 1635, 1639], [1881, 1882, 1883], [2128, 2129, 2130], [159, 160, 162], [409, 410, 411], [654, 655, 656], [902, 903, 904], [1150, 1151, 1152], [1388, 1389, 1390], [1640, 1641, 1642], [1885, 1886, 1887], [2133, 2134, 2135], [163, 164, 165], [412, 413, 414], [657, 658, 659], [905, 906, 907], [1153, 1154, 1155], [1391, 1392, 1393], [1643, 1644, 1645], [1888, 1889, 1890], [2137, 2138, 2139], [168, 169, 170], [415, 416, 417], [660, 661, 662], [908, 909, 910], [1156, 1157, 1158], [1394, 1395, 1396], [1646, 1647, 1648], [1891, 1892, 1893], [2140, 2141, 2142], [173, 174, 175], [420, 421, 422], [663, 664, 665], [911, 912, 913], [1159, 1160, 1161], [1397, 1398, 1399], [1649, 1650, 1651], [1894, 1895, 1896], [2143, 2144, 2145], [176, 177, 178], [424], [425], [668, 669], [914, 915, 916], [1162, 1163, 1164], [1400], [1652], [1897], [2146], [179, 180, 181], [426, 427, 428], [671, 672, 673], [919, 920, 921], [1165, 1166, 1167], [1401, 1402, 1403], [1653, 1654, 1655], [1898, 1899, 1900], [2147, 2148, 2149], [182, 183, 184], [430, 431, 432], [674, 675, 676], [923, 924, 925], [1170, 1171, 1172], [1404, 1405, 1406], [1656, 1657, 1658], [1901, 1902, 1903], [2150, 2151, 2152], [185, 186, 187], [433, 434, 435], [677, 678, 679], [926, 927, 928], [1174, 1175, 1176], [1409, 1410, 1411], [1659, 1660, 1661], [1904, 1905, 1906], [2153, 2154, 2155], [188, 189, 190], [436, 437, 438], [680, 681, 682], [929, 930, 931], [1177, 1178, 1179], [1413, 1414, 1415], [1664, 1665, 1666], [1907, 1908, 1909], [2156, 2157, 2158], [191, 192, 193], [439, 440, 441], [683, 684, 685], [932, 933, 934], [1180, 1181, 1182], [1416, 1417, 1418], [1668, 1669, 1670], [1912, 1913, 1914], [2159, 2160, 2161], [194, 195, 196], [443, 444, 445], [686, 687, 688], [935, 936, 937], [1183, 1184, 1185], [1419, 1420, 1421], [1671, 1672, 1673], [1916, 1917, 1918], [2164, 2165, 2166], [197, 198, 199], [446, 447, 448], [689, 690, 691], [938, 939, 940], [1186, 1187, 1188], [1422, 1423, 1424], [1674, 1675, 1676], [1919, 1920, 1921], [2168, 2169, 2170], [201, 202, 203], [449, 450, 451], [692, 693, 694], [941, 942, 943], [1189, 1190, 1191], [1425, 1426, 1427], [1677, 1678, 1679], [1922, 1923, 1924], [2171, 2172, 2173], [205, 206, 207], [452, 453, 454], [695, 696, 697], [944, 945, 946], [1192, 1193, 1194], [1428, 1429, 1430], [1680, 1681, 1682], [1925, 1926, 1927], [2174, 2175, 2176], [208, 209, 210], [456, 457, 458], [698, 699, 700], [947, 948, 949], [1195, 1196, 1197], [1431, 1432, 1433], [1683, 1684, 1685], [1928, 1929, 1930], [2177, 2178, 2179], [211, 212, 213], [459, 460, 461], [701, 702, 703], [950, 951, 952], [1198, 1199, 1200], [1434, 1435, 1436], [1686, 1687, 1688], [1931, 1932, 1933], [2180, 2181, 2182], [214, 215, 216], [462, 463, 464], [704, 705, 706], [953, 954, 955], [1201, 1202, 1203], [1437, 1438, 1439], [1689, 1690, 1691], [1934, 1935, 1936], [2183, 2184, 2185], [217, 218, 219], [465, 466, 467], [708, 709, 710], [956, 957, 958], [1204, 1205, 1206], [1440, 1441, 1442], [1692, 1693, 1694], [1937, 1938, 1939], [2186, 2187, 2188], [220, 221, 222], [468, 469, 470], [711, 712, 713], [959, 960, 961], [1207, 1208, 1209], [1443, 1444, 1445], [1695, 1696, 1697], [1940, 1941, 1942], [2189, 2190, 2191], [223, 224, 225], [471, 472, 473], [714, 715, 716], [962, 963, 964], [1210, 1211, 1212], [1446, 1447, 1448], [1698, 1699, 1700], [1943, 1944, 1945], [2192, 2193, 2194], [226, 227, 228], [474, 475, 476], [717, 718, 719], [965, 966, 967], [1213, 1214, 1215], [1449, 1450, 1451], [1701, 1702, 1703], [1946, 1947, 1948], [2195, 2196, 2197], [229, 230, 231], [477, 478, 479], [721, 722, 723], [968, 969, 970], [1216, 1217, 1218], [1452, 1453, 1454], [1704, 1705, 1706], [1949, 1950, 1951], [2198, 2199, 2200], [234, 235, 236], [480, 481, 482], [724, 725, 726], [971, 972, 973], [1219, 1220, 1221], [1455, 1456, 1457], [1707, 1708, 1709], [1952, 1953, 1954], [2201, 2202, 2203], [238, 239, 240], [485, 486, 487], [727, 728, 729], [974, 975, 976], [1222, 1223, 1224], [1458, 1459, 1460], [1710, 1711, 1712], [1955, 1956, 1957], [2204, 2205, 2206], [241, 242, 243], [489, 490, 491], [732, 733, 734], [977, 978, 979], [1225, 1226, 1227], [1461, 1462, 1463], [1713, 1714, 1715], [1958, 1959, 1960], [2207, 2208, 2209], [244, 245, 246], [492, 493, 494], [737, 738, 739], [982, 983, 984], [1228, 1229, 1230], [1464, 1465, 1466], [1716, 1717, 1718], [1961, 1962, 1963], [2210, 2211, 2212], [247, 248, 249], [495, 496, 497], [740, 741, 742], [986, 987, 988], [1233, 1234, 1235], [1467, 1468, 1469], [1719, 1720, 1721], [1964, 1965, 1966], [2213, 2214, 2215], [250, 251, 252], [498, 499, 500], [743, 744, 745], [989, 990, 991], [1237, 1238, 1239], [1472, 1473, 1474], [1722, 1723, 1724], [1967, 1968, 1969], [2216, 2217, 2218], [253, 0, 1], [254, 255, 256], [501], [746, 747, 748], [993, 994, 995], [1240, 1241, 1242], [1477, 1478, 1479], [1726, 1727, 1728], [1970, 1971, 1972], [2, 3, 4], [257, 258, 259], [502, 503, 504], [749, 750, 751], [996, 997, 998], [1243, 1244, 1245], [1481, 1482, 1483], [1731, 1732, 1733], [1973, 1974, 1975], [5, 6, 7], [260, 261, 262], [505, 506, 507], [752, 753, 754], [999, 1000, 1001], [1246, 1247, 1248], [1484, 1485, 1486], [1735, 1736, 1737], [1978, 1979, 1980], [8, 9, 10], [263, 264, 265], [508, 509, 510], [755, 756, 757], [1002, 1003, 1004], [1249, 1250, 1251], [1487, 1488, 1489], [1738, 1739, 1740], [1982, 1983, 1984], [13, 14, 15], [266, 267, 268], [511, 512, 513], [759, 760, 761], [1005, 1006, 1007], [1252, 1253, 1254], [1490, 1491, 1492], [1741, 1742, 1743], [1985, 1986, 1987], [17, 18, 19], [271, 272, 273], [514, 515, 516], [762, 763, 764], [1008, 1009, 1010], [1255, 1256, 1257], [1493, 1494, 1495], [1744, 1745, 1746], [1988, 1989, 1990], [20, 21, 22], [275, 276, 277], [519, 520, 521], [765, 766, 767], [1011, 1012, 1013], [1258, 1259, 1260], [1496, 1497, 1498], [1747, 1748, 1749], [1991, 1992, 1993], [23, 24, 25], [278, 279, 280], [523, 524, 525], [770, 771, 772], [1014, 1015, 1016], [1261], [1262], [1499, 1500, 1501], [1750, 1751, 1752], [1994, 1995, 1996], [26, 27, 28], [281, 282, 283], [526, 527, 528], [775, 776, 777], [1019, 1020, 1021], [1263, 1264, 1265], [1502, 1503, 1504], [1753, 1754, 1755], [1997, 1998, 1999], [29, 30, 31], [284, 285, 286], [529, 530, 531], [778], [1505, 1506, 1507], [2000], [32, 33, 34], [287, 288, 289], [532, 533, 534], [779, 780, 781], [1023, 1024, 1025], [1269, 1270, 1271], [1510, 1511, 1512], [1756, 1757, 1758], [2001, 2002, 2003], [35, 36, 37], [290, 291, 292], [535, 536, 537], [782, 783, 784], [1027, 1028, 1029], [1272, 1273, 1274], [1514, 1515, 1516], [1761, 1762, 1763], [2004, 2005, 2006], [38, 39, 40], [293, 294, 295], [538, 539, 540], [785, 786, 787], [1030, 1031, 1032], [1275, 1276, 1277], [1517, 1518, 1519], [1765, 1766, 1767], [2009, 2010, 2011], [41, 42, 43], [296, 297, 298], [541, 542, 543], [788, 789, 790], [1033, 1034, 1035], [1278, 1279, 1280], [1520, 1521, 1522], [1768, 1769, 1770], [2013, 2014, 2015], [46, 47, 48], [299, 300, 301], [1523, 1524, 1525], [1771, 1772, 1773], [2016, 2017, 2018], [50, 51, 52], [303, 304, 305], [544, 545, 546], [791, 792, 793], [1037, 1038, 1039], [1281, 1282, 1283], [1526, 1527, 1528], [1774, 1775, 1776], [2019, 2020, 2021], [53, 54, 55], [306, 307, 308], [549, 550, 551], [794, 795, 796], [1040, 1041, 1042], [1284, 1285, 1286], [1529, 1530, 1531], [1777, 1778, 1779], [2022, 2023, 2024], [56], [57, 58, 59], [309, 310, 311], [553, 554, 555], [800, 801, 802], [1045, 1046, 1047], [1287, 1288, 1289], [1532, 1533, 1534], [1780, 1781, 1782], [2025, 2026, 2027], [60, 61, 62], [312, 313, 314], [556, 557, 558], [803, 804, 805], [1050, 1051, 1052], [1292, 1293, 1294], [1535, 1536, 1537], [1783, 1784, 1785], [2028, 2029, 2030], [63, 64, 65], [315, 316, 317], [559, 560, 561], [806, 807, 808], [1053, 1054, 1055], [1296, 1297, 1298], [1540, 1541, 1542], [1786, 1787, 1788], [2031, 2032, 2033], [66], [67], [318], [562, 563, 564], [809, 810, 811], [1056, 1057, 1058], [1299, 1300, 1301], [1544, 1545, 1546], [1791, 1792, 1793], [2034, 2035, 2036], [68, 69, 70], [319, 320, 321], [565, 566, 567], [812, 813, 814], [1059, 1060, 1061], [1303, 1304, 1305], [1547, 1548, 1549], [1795, 1796, 1797], [2039, 2040, 2041], [71, 72, 73], [322, 323, 324], [568, 569, 570], [815, 816, 817], [1062, 1063, 1064], [1306, 1307], [1550, 1551, 1552], [1798, 1799, 1800], [2043, 2044, 2045], [76, 77, 78], [325, 326, 327], [571, 572, 573], [818, 819, 820], [1065, 1066, 1067], [1308, 1309, 1310], [1553, 1554, 1555], [1801, 1802, 1803], [2046, 2047, 2048], [80, 81, 82], [330, 331, 332], [574, 575, 576], [821, 822, 823], [1068, 1069, 1070], [1311, 1312, 1313], [1556, 1557, 1558], [1804, 1805, 1806], [2049, 2050, 2051], [83, 84, 85], [334, 335, 336], [579, 580, 581], [824, 825, 826], [1071, 1072, 1073], [1315, 1316, 1317], [1559, 1560, 1561], [1807, 1808, 1809], [2052, 2053, 2054], [86, 87, 88], [337, 338, 339], [583, 584, 585], [829, 830, 831], [1074, 1075, 1076], [1318, 1319], [1562, 1563, 1564], [1810, 1811, 1812], [2055, 2056, 2057], [89, 90, 91], [340, 341, 342], [586, 587, 588], [833, 834, 835], [1079, 1080, 1081], [1320, 1321, 1322], [1565, 1566, 1567], [1813, 1814, 1815], [2058, 2059, 2060], [92, 93, 94], [343, 344, 345], [589, 590, 591], [836, 837, 838], [1083, 1084, 1085], [1325, 1326, 1327], [1568, 1569, 1570], [1816, 1817, 1818], [2061, 2062, 2063], [95, 96, 97], [346, 347, 348], [592, 593, 594], [839, 840, 841], [1086, 1087, 1088], [1330, 1331, 1332], [1573, 1574, 1575], [1819, 1820, 1821], [2064, 2065, 2066], [98, 99, 100], [349, 350, 351], [595, 596, 597], [842, 843, 844], [1089, 1090, 1091], [1333, 1334, 1335], [1577, 1578, 1579], [2067, 2068, 2069], [101, 102, 103], [352, 353, 354], [598], [599], [845, 846, 847], [1092, 1093, 1094], [1336, 1337, 1338], [1580, 1581, 1582], [1825, 1826, 1827], [2072, 2073, 2074], [104, 105, 106], [355, 356, 357], [600, 601, 602], [848, 849, 850], [1095, 1096, 1097], [1339, 1340, 1341], [1584, 1585, 1586], [1828, 1829, 1830], [2076, 2077, 2078], [110, 111, 112], [360, 361, 362], [603, 604, 605], [851, 852, 853], [1098, 1099, 1100], [1342, 1343, 1344], [1587, 1588, 1589], [1831, 1832, 1833], [2079, 2080, 2081], [113, 114, 115], [364, 365, 366], [608, 609, 610], [854, 855, 856], [1101, 1102, 1103], [1345, 1346, 1347], [1590, 1591, 1592], [1834, 1835, 1836], [2082, 2083, 2084], [116, 117, 119], [367, 368, 369], [612, 613, 614], [859, 860, 861], [1104, 1105, 1106], [1348, 1349, 1350], [1594, 1595, 1596], [1837, 1838, 1839], [2085, 2086, 2087], [120, 121, 122], [370, 371, 372], [615, 616, 617], [863, 864, 865], [1109, 1110, 1111], [1351, 1352, 1353], [1597, 1598, 1599], [1840, 1841, 1842], [2088, 2089, 2090], [123, 124, 125], [373, 374, 375], [618, 619, 620], [866, 867, 868], [1113, 1114, 1115], [1356, 1357, 1358], [1600, 1601, 1602], [1843, 1844, 1845], [2091, 2092, 2093], [126, 127, 128], [376, 377, 378], [621, 622, 623], [869, 870, 871], [1116, 1117, 1118], [1360], [1605, 1606, 1607], [1846, 1847, 1848], [2094, 2095, 2096], [129, 130, 131], [379, 380, 381], [624, 625, 626], [872, 873, 874], [1119, 1120, 1121], [1361, 1362, 1363], [1610, 1611, 1612], [1851, 1852, 1853], [2097, 2098, 2099], [132, 133], [382, 383, 384], [627, 628, 629], [875, 876, 877], [1122, 1123, 1124], [1613, 1614, 1615], [1855, 1856, 1857], [2102, 2103, 2104], [134], [385], [1125], [1364], [2106], [137, 138, 139], [386, 387, 388], [630, 631, 632], [878, 879, 880], [1126, 1127, 1128], [1365, 1366, 1367], [1616, 1617, 1618], [1859, 1860, 1861], [2107, 2108, 2109], [141, 142, 143], [391, 392], [633, 634, 635], [881, 882, 883], [1129, 1130, 1131], [1368, 1369], [1619, 1620, 1621], [1862, 1863, 1864], [2110, 2111, 2112], [144, 145, 146], [394, 395, 396], [638, 639, 640], [884, 885, 886], [1132, 1133, 1134], [1370, 1371, 1372], [1622, 1623, 1624], [1865, 1866, 1867], [2113, 2114, 2115], [147, 148, 149], [397, 398, 399], [642, 643, 644], [889, 890, 891], [1135, 1136, 1137], [1373, 1374, 1375], [1625, 1626, 1627], [1868, 1869, 1870], [2116, 2117, 2118], [150, 151, 152], [400, 401, 402], [645, 646, 647], [893, 894, 895], [1140, 1141, 1142], [1376, 1377, 1378], [1628, 1629, 1630], [1872, 1873, 1874], [2119, 2120, 2121], [153, 154, 155], [403, 404, 405], [648, 649, 650], [896, 897, 898], [1144, 1145, 1146], [1381, 1382, 1383], [1631, 1632, 1633], [1875, 1876, 1877], [2122, 2123, 2124], [156, 157, 158], [406, 407, 408], [651, 652, 653], [899, 900, 901], [1147, 1148, 1149], [1385, 1386, 1387], [1636, 1637, 1638], [1878, 1879, 1880], [2125, 2126, 2127], [161]]\n"
          ]
        }
      ]
    },
    {
      "cell_type": "code",
      "source": [
        "# randomly split into train, val and test\n",
        "random.shuffle(groups)\n",
        "\n",
        "train_ratio, val_ratio = 0.7, 0.15\n",
        "num_groups = len(groups)\n",
        "train_end = int(train_ratio * num_groups)\n",
        "val_end = train_end + int(val_ratio * num_groups)\n",
        "\n",
        "# split the groups\n",
        "train_groups = groups[:train_end]\n",
        "val_groups = groups[train_end:val_end]\n",
        "test_groups = groups[val_end:]"
      ],
      "metadata": {
        "id": "qNdoZkz49kJT"
      },
      "execution_count": null,
      "outputs": []
    },
    {
      "cell_type": "code",
      "source": [
        "# collect indices from groups\n",
        "train_indices = [idx for group in train_groups for idx in group]\n",
        "val_indices = [idx for group in val_groups for idx in group]\n",
        "test_indices = [idx for group in test_groups for idx in group]\n",
        "\n",
        "\n",
        "# Subset Datasets\n",
        "train_set = Subset(dataset, train_indices)\n",
        "val_set = Subset(dataset, val_indices)\n",
        "test_set = Subset(dataset, test_indices)\n",
        "\n",
        "# DataLoaders\n",
        "batch_size = 32\n",
        "train_loader = DataLoader(train_set, batch_size=batch_size, shuffle=True)\n",
        "val_loader = DataLoader(val_set, batch_size=batch_size, shuffle=False)\n",
        "test_loader = DataLoader(test_set, batch_size=batch_size, shuffle=False)\n",
        "\n",
        "print(f\"Training set size: {len(train_set)}\")\n",
        "print(f\"Validation set size: {len(val_set)}\")\n",
        "print(f\"Testset size: {len(test_set)}\")\n"
      ],
      "metadata": {
        "colab": {
          "base_uri": "https://localhost:8080/"
        },
        "id": "3c9ydow39XbC",
        "outputId": "83c71de2-d6fc-4ab6-a512-5f798ce84d22"
      },
      "execution_count": null,
      "outputs": [
        {
          "output_type": "stream",
          "name": "stdout",
          "text": [
            "Training set size: 1560\n",
            "Validation set size: 330\n",
            "Testset size: 329\n"
          ]
        }
      ]
    },
    {
      "cell_type": "markdown",
      "source": [
        "Answer:\n",
        "- I first put all images into groups of images that have the same hand and lightning condition. And shuffled and splited the groups into 70-15-15 ratio for test-validation and test respectively. And then unpack the groups to images to load.\n",
        "\n",
        "- In this way, all images in validation and test would be hands that are not in test accuracy, so that they can accurately simulate model's performance when working with new data in real world.\n",
        "\n",
        "- Also, this global random shuffle on groups would work, because we have a balanced dataset where each class has around 266 images and each group has almost exact three images.\n",
        "\n"
      ],
      "metadata": {
        "id": "-1wDjqKnkrl_"
      }
    },
    {
      "cell_type": "markdown",
      "metadata": {
        "id": "5VWX4DGY5gQE"
      },
      "source": [
        "### 2. Model Building and Sanity Checking [15 pt]\n",
        "\n",
        "### Part (a) Convolutional Network - 5 pt\n",
        "\n",
        "Build a convolutional neural network model that takes the (224x224 RGB) image as input, and predicts the gesture\n",
        "letter. Your model should be a subclass of nn.Module. Explain your choice of neural network architecture: how\n",
        "many layers did you choose? What types of layers did you use? Were they fully-connected or convolutional?\n",
        "What about other decisions like pooling layers, activation functions, number of channels / hidden units?"
      ]
    },
    {
      "cell_type": "code",
      "source": [],
      "metadata": {
        "id": "TvL5zalcKlo1"
      },
      "execution_count": null,
      "outputs": []
    },
    {
      "cell_type": "code",
      "execution_count": null,
      "metadata": {
        "collapsed": true,
        "id": "2dtx1z5951fS",
        "jupyter": {
          "outputs_hidden": true
        }
      },
      "outputs": [],
      "source": [
        "class CNN(nn.Module):\n",
        "  def __init__(self):\n",
        "    super(CNN, self).__init__()\n",
        "    self.name = \"cnn\"\n",
        "    self.conv1 == nn.Conv2d(3, 5, 5)\n",
        "    self.pool = nn.MaxPool2d(2, 2)\n",
        "    self.conv2 = nn.Conv2d(5, 10, 5)\n",
        "\n"
      ]
    },
    {
      "cell_type": "markdown",
      "metadata": {
        "id": "XeGvelvb515e"
      },
      "source": [
        "### Part (b) Training Code - 5 pt\n",
        "\n",
        "Write code that trains your neural network given some training data. Your training code should make it easy\n",
        "to tweak the usual hyperparameters, like batch size, learning rate, and the model object itself. Make sure\n",
        "that you are checkpointing your models from time to time (the frequency is up to you). Explain your choice\n",
        "of loss function and optimizer."
      ]
    },
    {
      "cell_type": "code",
      "execution_count": null,
      "metadata": {
        "collapsed": true,
        "id": "17YTQv4l54W1",
        "jupyter": {
          "outputs_hidden": true
        }
      },
      "outputs": [],
      "source": []
    },
    {
      "cell_type": "markdown",
      "metadata": {
        "id": "bk1RNgAj54rZ"
      },
      "source": [
        "### Part (c) “Overfit” to a Small Dataset - 5 pt\n",
        "\n",
        "One way to sanity check our neural network model and training code is to check whether the model is capable\n",
        "of “overfitting” or “memorizing” a small dataset. A properly constructed CNN with correct training code\n",
        "should be able to memorize the answers to a small number of images quickly.\n",
        "\n",
        "Construct a small dataset (e.g. just the images that you have collected). Then show that your model and\n",
        "training code is capable of memorizing the labels of this small data set.\n",
        "\n",
        "With a large batch size (e.g. the entire small dataset) and learning rate that is not too high, You should be\n",
        "able to obtain a 100% training accuracy on that small dataset relatively quickly (within 200 iterations)."
      ]
    },
    {
      "cell_type": "code",
      "execution_count": null,
      "metadata": {
        "collapsed": true,
        "id": "lXYRBhQO6d3u",
        "jupyter": {
          "outputs_hidden": true
        }
      },
      "outputs": [],
      "source": []
    },
    {
      "cell_type": "markdown",
      "metadata": {
        "id": "nvDLw-Vz6eVS"
      },
      "source": [
        "### 3. Hyperparameter Search [15 pt]\n",
        "\n",
        "### Part (a) - 3 pt\n",
        "\n",
        "List 3 hyperparameters that you think are most worth tuning. Choose at least one hyperparameter related to\n",
        "the model architecture."
      ]
    },
    {
      "cell_type": "code",
      "execution_count": null,
      "metadata": {
        "collapsed": true,
        "id": "HXRQbgMqR_Qy",
        "jupyter": {
          "outputs_hidden": true
        }
      },
      "outputs": [],
      "source": []
    },
    {
      "cell_type": "markdown",
      "metadata": {
        "id": "zeD6EzPB6kSW"
      },
      "source": [
        "### Part (b) - 5 pt\n",
        "\n",
        "Tune the hyperparameters you listed in Part (a), trying as many values as you need to until you feel satisfied\n",
        "that you are getting a good model. Plot the training curve of at least 4 different hyperparameter settings."
      ]
    },
    {
      "cell_type": "code",
      "execution_count": null,
      "metadata": {
        "collapsed": true,
        "id": "UkvdR-cB6nzm",
        "jupyter": {
          "outputs_hidden": true
        }
      },
      "outputs": [],
      "source": []
    },
    {
      "cell_type": "markdown",
      "metadata": {
        "id": "H93iN5_l60BO"
      },
      "source": [
        "### Part (c) - 3 pt\n",
        "Choose the best model out of all the ones that you have trained. Justify your choice."
      ]
    },
    {
      "cell_type": "code",
      "execution_count": null,
      "metadata": {
        "collapsed": true,
        "id": "kIhcN7IG6zRO",
        "jupyter": {
          "outputs_hidden": true
        }
      },
      "outputs": [],
      "source": []
    },
    {
      "cell_type": "markdown",
      "metadata": {
        "id": "QzNA5oup67JO"
      },
      "source": [
        "### Part (d) - 4 pt\n",
        "Report the test accuracy of your best model. You should only do this step once and prior to this step you should have only used the training and validation data."
      ]
    },
    {
      "cell_type": "code",
      "execution_count": null,
      "metadata": {
        "collapsed": true,
        "id": "2eJ7AbVl6-ax",
        "jupyter": {
          "outputs_hidden": true
        }
      },
      "outputs": [],
      "source": []
    },
    {
      "cell_type": "markdown",
      "metadata": {
        "id": "Wrem-iXV6_Bz"
      },
      "source": [
        "### 4. Transfer Learning [15 pt]\n",
        "For many image classification tasks, it is generally not a good idea to train a very large deep neural network\n",
        "model from scratch due to the enormous compute requirements and lack of sufficient amounts of training\n",
        "data.\n",
        "\n",
        "One of the better options is to try using an existing model that performs a similar task to the one you need\n",
        "to solve. This method of utilizing a pre-trained network for other similar tasks is broadly termed **Transfer\n",
        "Learning**. In this assignment, we will use Transfer Learning to extract features from the hand gesture\n",
        "images. Then, train a smaller network to use these features as input and classify the hand gestures.\n",
        "\n",
        "As you have learned from the CNN lecture, convolution layers extract various features from the images which\n",
        "get utilized by the fully connected layers for correct classification. AlexNet architecture played a pivotal\n",
        "role in establishing Deep Neural Nets as a go-to tool for image classification problems and we will use an\n",
        "ImageNet pre-trained AlexNet model to extract features in this assignment."
      ]
    },
    {
      "cell_type": "markdown",
      "metadata": {
        "id": "rWdQJz4Q7O2F"
      },
      "source": [
        "### Part (a) - 5 pt\n",
        "Here is the code to load the AlexNet network, with pretrained weights. When you first run the code, PyTorch\n",
        "will download the pretrained weights from the internet."
      ]
    },
    {
      "cell_type": "code",
      "execution_count": null,
      "metadata": {
        "collapsed": true,
        "id": "BJKcTW9C7TZk",
        "jupyter": {
          "outputs_hidden": true
        }
      },
      "outputs": [],
      "source": [
        "import torchvision.models\n",
        "alexnet = torchvision.models.alexnet(pretrained=True)"
      ]
    },
    {
      "cell_type": "markdown",
      "metadata": {
        "id": "NQ0GZYaP7VAR"
      },
      "source": [
        "The alexnet model is split up into two components: *alexnet.features* and *alexnet.classifier*. The\n",
        "first neural network component, *alexnet.features*, is used to compute convolutional features, which are\n",
        "taken as input in *alexnet.classifier*.\n",
        "\n",
        "The neural network alexnet.features expects an image tensor of shape Nx3x224x224 as input and it will\n",
        "output a tensor of shape Nx256x6x6 . (N = batch size).\n",
        "\n",
        "Compute the AlexNet features for each of your training, validation, and test data. Here is an example code\n",
        "snippet showing how you can compute the AlexNet features for some images (your actual code might be\n",
        "different):"
      ]
    },
    {
      "cell_type": "code",
      "execution_count": null,
      "metadata": {
        "collapsed": true,
        "id": "oX7SjVdB7XAE",
        "jupyter": {
          "outputs_hidden": true
        }
      },
      "outputs": [],
      "source": [
        "# img = ... a PyTorch tensor with shape [N,3,224,224] containing hand images ...\n",
        "features = alexnet.features(img)"
      ]
    },
    {
      "cell_type": "markdown",
      "metadata": {
        "id": "DYcjHg_A7cCM"
      },
      "source": [
        "**Save the computed features**. You will be using these features as input to your neural network in Part\n",
        "(b), and you do not want to re-compute the features every time. Instead, run *alexnet.features* once for\n",
        "each image, and save the result."
      ]
    },
    {
      "cell_type": "code",
      "execution_count": null,
      "metadata": {
        "collapsed": true,
        "id": "TBo1BpL373LX",
        "jupyter": {
          "outputs_hidden": true
        }
      },
      "outputs": [],
      "source": []
    },
    {
      "cell_type": "markdown",
      "metadata": {
        "id": "OFWvvhFN73qY"
      },
      "source": [
        "### Part (b) - 3 pt\n",
        "Build a convolutional neural network model that takes as input these AlexNet features, and makes a\n",
        "prediction. Your model should be a subclass of nn.Module.\n",
        "\n",
        "Explain your choice of neural network architecture: how many layers did you choose? What types of layers\n",
        "did you use: fully-connected or convolutional? What about other decisions like pooling layers, activation\n",
        "functions, number of channels / hidden units in each layer?\n",
        "\n",
        "Here is an example of how your model may be called:"
      ]
    },
    {
      "cell_type": "code",
      "execution_count": null,
      "metadata": {
        "collapsed": true,
        "id": "oVTuHUeV78-U",
        "jupyter": {
          "outputs_hidden": true
        }
      },
      "outputs": [],
      "source": [
        "# features = ... load precomputed alexnet.features(img) ...\n",
        "output = model(features)\n",
        "prob = F.softmax(output)"
      ]
    },
    {
      "cell_type": "markdown",
      "metadata": {
        "id": "wVAGuURu7-9q"
      },
      "source": [
        "### Part (c) - 5 pt\n",
        "Train your new network, including any hyperparameter tuning. Plot and submit the training curve of your\n",
        "best model only.\n",
        "\n",
        "Note: Depending on how you are caching (saving) your AlexNet features, PyTorch might still be tracking\n",
        "updates to the **AlexNet weights**, which we are not tuning. One workaround is to convert your AlexNet\n",
        "feature tensor into a numpy array, and then back into a PyTorch tensor."
      ]
    },
    {
      "cell_type": "code",
      "execution_count": null,
      "metadata": {
        "collapsed": true,
        "id": "JCmiH11x7-q1",
        "jupyter": {
          "outputs_hidden": true
        }
      },
      "outputs": [],
      "source": [
        "tensor = torch.from_numpy(tensor.detach().numpy())"
      ]
    },
    {
      "cell_type": "markdown",
      "metadata": {
        "id": "hQ2tvqJ68Mqb"
      },
      "source": [
        "### Part (d) - 2 pt\n",
        "Report the test accuracy of your best model. How does the test accuracy compare to Part 3(d) without transfer learning?"
      ]
    },
    {
      "cell_type": "code",
      "execution_count": null,
      "metadata": {
        "collapsed": true,
        "id": "yCp_kFSg8Q2T",
        "jupyter": {
          "outputs_hidden": true
        }
      },
      "outputs": [],
      "source": []
    }
  ],
  "metadata": {
    "colab": {
      "name": "Lab 3 - Gesture Recognition.ipynb",
      "provenance": []
    },
    "kernelspec": {
      "display_name": "Python 3 (ipykernel)",
      "language": "python",
      "name": "python3"
    },
    "language_info": {
      "codemirror_mode": {
        "name": "ipython",
        "version": 3
      },
      "file_extension": ".py",
      "mimetype": "text/x-python",
      "name": "python",
      "nbconvert_exporter": "python",
      "pygments_lexer": "ipython3",
      "version": "3.9.4"
    }
  },
  "nbformat": 4,
  "nbformat_minor": 0
}