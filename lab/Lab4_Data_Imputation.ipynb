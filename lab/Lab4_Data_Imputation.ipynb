{
  "cells": [
    {
      "cell_type": "markdown",
      "metadata": {
        "id": "OhtOdxzd1ppr"
      },
      "source": [
        "# Lab 4: Data Imputation using an Autoencoder\n",
        "\n",
        "\n",
        "In this lab, you will build and train an autoencoder to impute (or \"fill in\") missing data.\n",
        "\n",
        "We will be using the\n",
        "Adult Data Set provided by the UCI Machine Learning Repository [1], available\n",
        "at https://archive.ics.uci.edu/ml/datasets/adult.\n",
        "The data set contains census record files of adults, including their\n",
        "age, martial status, the type of work they do, and other features.\n",
        "\n",
        "Normally, people use this data set to build a supervised classification\n",
        "model to classify whether a person is a high income earner.\n",
        "We will not use the dataset for this original intended purpose.\n",
        "\n",
        "Instead, we will perform the task of imputing (or \"filling in\") missing values in the dataset. For example,\n",
        "we may be missing one person's martial status, and another person's age, and\n",
        "a third person's level of education. Our model will predict the missing features\n",
        "based on the information that we do have about each person.\n",
        "\n",
        "We will use a variation of a denoising autoencoder to solve this data imputation\n",
        "problem. Our autoencoder will be trained using inputs that have one categorical feature artificially\n",
        "removed, and the goal of the autoencoder is to correctly reconstruct all features,\n",
        "including the one removed from the input.\n",
        "\n",
        "In the process, you are expected to learn to:\n",
        "\n",
        "1. Clean and process continuous and categorical data for machine learning.\n",
        "2. Implement an autoencoder that takes continuous and categorical (one-hot) inputs.\n",
        "3. Tune the hyperparameters of an autoencoder.\n",
        "4. Use baseline models to help interpret model performance.\n",
        "\n",
        "[1] Dua, D. and Karra Taniskidou, E. (2017). UCI Machine Learning Repository [http://archive.ics.uci.edu/ml]. Irvine, CA: University of California, School of Information and Computer Science.\n",
        "\n",
        "\n",
        "### What to submit\n",
        "\n",
        "Submit a PDF file containing all your code, outputs, and write-up. You can produce a PDF of your Google Colab file by going to File > Print and then save as PDF. The Colab instructions have more information.\n",
        "\n",
        "Do not submit any other files produced by your code.\n",
        "\n",
        "Include a link to your colab file in your submission.\n"
      ]
    },
    {
      "cell_type": "markdown",
      "metadata": {
        "id": "zbnrp2ig1pps"
      },
      "source": [
        "## Colab Link\n",
        "\n",
        "Include a link to your Colab file here. If you would like the TA to look at your\n",
        "Colab file in case your solutions are cut off, **please make sure that your Colab\n",
        "file is publicly accessible at the time of submission**.\n",
        "\n",
        "Colab Link: https://colab.research.google.com/github/WilliamJWen/APS360/blob/main/lab/Lab4_Data_Imputation.ipynb"
      ]
    },
    {
      "cell_type": "code",
      "execution_count": 1,
      "metadata": {
        "collapsed": true,
        "id": "z3p8N43E1ppt",
        "jupyter": {
          "outputs_hidden": true
        }
      },
      "outputs": [],
      "source": [
        "import csv\n",
        "import numpy as np\n",
        "import random\n",
        "import torch\n",
        "import torch.utils.data"
      ]
    },
    {
      "cell_type": "markdown",
      "metadata": {
        "id": "8ROwtHcz1ppx"
      },
      "source": [
        "## Part 0\n",
        "\n",
        "We will be using a package called `pandas` for this assignment.\n",
        "\n",
        "If you are using Colab, `pandas` should already be available.\n",
        "If you are using your own computer,\n",
        "installation instructions for `pandas` are available here:\n",
        "https://pandas.pydata.org/pandas-docs/stable/install.html"
      ]
    },
    {
      "cell_type": "code",
      "execution_count": 2,
      "metadata": {
        "collapsed": true,
        "id": "IXQ7BP151ppz",
        "jupyter": {
          "outputs_hidden": true
        }
      },
      "outputs": [],
      "source": [
        "import pandas as pd"
      ]
    },
    {
      "cell_type": "markdown",
      "metadata": {
        "id": "hqXihb4Q1pp2"
      },
      "source": [
        "# Part 1. Data Cleaning [15 pt]\n",
        "\n",
        "The adult.data file is available at `https://archive.ics.uci.edu/ml/machine-learning-databases/adult/adult.data`\n",
        "\n",
        "The function `pd.read_csv` loads the adult.data file into a pandas dataframe.\n",
        "You can read about the pandas documentation for `pd.read_csv` at\n",
        "https://pandas.pydata.org/pandas-docs/stable/reference/api/pandas.read_csv.html"
      ]
    },
    {
      "cell_type": "code",
      "execution_count": 38,
      "metadata": {
        "colab": {
          "base_uri": "https://localhost:8080/"
        },
        "collapsed": true,
        "id": "EOMItFKn1pp3",
        "jupyter": {
          "outputs_hidden": true
        },
        "outputId": "75c22811-82bf-4d32-ce81-0b855859e54b"
      },
      "outputs": [
        {
          "output_type": "stream",
          "name": "stderr",
          "text": [
            "<ipython-input-38-037957db2593>:3: ParserWarning: Length of header or names does not match length of data. This leads to a loss of data with index_col=False.\n",
            "  df = pd.read_csv(\n"
          ]
        }
      ],
      "source": [
        "header = ['age', 'work', 'fnlwgt', 'edu', 'yredu', 'marriage', 'occupation',\n",
        " 'relationship', 'race', 'sex', 'capgain', 'caploss', 'workhr', 'country']\n",
        "df = pd.read_csv(\n",
        "    \"https://archive.ics.uci.edu/ml/machine-learning-databases/adult/adult.data\",\n",
        "    names=header,\n",
        "    index_col=False)"
      ]
    },
    {
      "cell_type": "code",
      "execution_count": 4,
      "metadata": {
        "colab": {
          "base_uri": "https://localhost:8080/"
        },
        "id": "62Ot405q1pp5",
        "outputId": "1cc3199c-7ad6-4bdc-c2cb-3281e46917b3",
        "scrolled": true
      },
      "outputs": [
        {
          "output_type": "execute_result",
          "data": {
            "text/plain": [
              "(32561, 14)"
            ]
          },
          "metadata": {},
          "execution_count": 4
        }
      ],
      "source": [
        "df.shape # there are 32561 rows (records) in the data frame, and 14 columns (features)"
      ]
    },
    {
      "cell_type": "markdown",
      "metadata": {
        "id": "Tr7YG-QY1pp8"
      },
      "source": [
        "### Part (a) Continuous Features [3 pt]\n",
        "\n",
        "For each of the columns `[\"age\", \"yredu\", \"capgain\", \"caploss\", \"workhr\"]`, report the minimum, maximum, and average value across the dataset.\n",
        "\n",
        "Then, normalize each of the features `[\"age\", \"yredu\", \"capgain\", \"caploss\", \"workhr\"]`\n",
        "so that their values are always between 0 and 1.\n",
        "Make sure that you are actually modifying the dataframe `df`.\n",
        "\n",
        "Like numpy arrays and torch tensors,\n",
        "pandas data frames can be sliced. For example, we can\n",
        "display the first 3 rows of the data frame (3 records) below."
      ]
    },
    {
      "cell_type": "code",
      "execution_count": 39,
      "metadata": {
        "colab": {
          "base_uri": "https://localhost:8080/",
          "height": 233
        },
        "id": "9evSLsSa1pp9",
        "outputId": "05a2be11-1644-4876-a00a-65c1d5da868c"
      },
      "outputs": [
        {
          "output_type": "execute_result",
          "data": {
            "text/plain": [
              "   age               work  fnlwgt         edu  yredu             marriage  \\\n",
              "0   39          State-gov   77516   Bachelors     13        Never-married   \n",
              "1   50   Self-emp-not-inc   83311   Bachelors     13   Married-civ-spouse   \n",
              "2   38            Private  215646     HS-grad      9             Divorced   \n",
              "\n",
              "           occupation    relationship    race    sex  capgain  caploss  \\\n",
              "0        Adm-clerical   Not-in-family   White   Male     2174        0   \n",
              "1     Exec-managerial         Husband   White   Male        0        0   \n",
              "2   Handlers-cleaners   Not-in-family   White   Male        0        0   \n",
              "\n",
              "   workhr         country  \n",
              "0      40   United-States  \n",
              "1      13   United-States  \n",
              "2      40   United-States  "
            ],
            "text/html": [
              "\n",
              "  <div id=\"df-005a360f-185e-413e-8553-d5959070a6dd\" class=\"colab-df-container\">\n",
              "    <div>\n",
              "<style scoped>\n",
              "    .dataframe tbody tr th:only-of-type {\n",
              "        vertical-align: middle;\n",
              "    }\n",
              "\n",
              "    .dataframe tbody tr th {\n",
              "        vertical-align: top;\n",
              "    }\n",
              "\n",
              "    .dataframe thead th {\n",
              "        text-align: right;\n",
              "    }\n",
              "</style>\n",
              "<table border=\"1\" class=\"dataframe\">\n",
              "  <thead>\n",
              "    <tr style=\"text-align: right;\">\n",
              "      <th></th>\n",
              "      <th>age</th>\n",
              "      <th>work</th>\n",
              "      <th>fnlwgt</th>\n",
              "      <th>edu</th>\n",
              "      <th>yredu</th>\n",
              "      <th>marriage</th>\n",
              "      <th>occupation</th>\n",
              "      <th>relationship</th>\n",
              "      <th>race</th>\n",
              "      <th>sex</th>\n",
              "      <th>capgain</th>\n",
              "      <th>caploss</th>\n",
              "      <th>workhr</th>\n",
              "      <th>country</th>\n",
              "    </tr>\n",
              "  </thead>\n",
              "  <tbody>\n",
              "    <tr>\n",
              "      <th>0</th>\n",
              "      <td>39</td>\n",
              "      <td>State-gov</td>\n",
              "      <td>77516</td>\n",
              "      <td>Bachelors</td>\n",
              "      <td>13</td>\n",
              "      <td>Never-married</td>\n",
              "      <td>Adm-clerical</td>\n",
              "      <td>Not-in-family</td>\n",
              "      <td>White</td>\n",
              "      <td>Male</td>\n",
              "      <td>2174</td>\n",
              "      <td>0</td>\n",
              "      <td>40</td>\n",
              "      <td>United-States</td>\n",
              "    </tr>\n",
              "    <tr>\n",
              "      <th>1</th>\n",
              "      <td>50</td>\n",
              "      <td>Self-emp-not-inc</td>\n",
              "      <td>83311</td>\n",
              "      <td>Bachelors</td>\n",
              "      <td>13</td>\n",
              "      <td>Married-civ-spouse</td>\n",
              "      <td>Exec-managerial</td>\n",
              "      <td>Husband</td>\n",
              "      <td>White</td>\n",
              "      <td>Male</td>\n",
              "      <td>0</td>\n",
              "      <td>0</td>\n",
              "      <td>13</td>\n",
              "      <td>United-States</td>\n",
              "    </tr>\n",
              "    <tr>\n",
              "      <th>2</th>\n",
              "      <td>38</td>\n",
              "      <td>Private</td>\n",
              "      <td>215646</td>\n",
              "      <td>HS-grad</td>\n",
              "      <td>9</td>\n",
              "      <td>Divorced</td>\n",
              "      <td>Handlers-cleaners</td>\n",
              "      <td>Not-in-family</td>\n",
              "      <td>White</td>\n",
              "      <td>Male</td>\n",
              "      <td>0</td>\n",
              "      <td>0</td>\n",
              "      <td>40</td>\n",
              "      <td>United-States</td>\n",
              "    </tr>\n",
              "  </tbody>\n",
              "</table>\n",
              "</div>\n",
              "    <div class=\"colab-df-buttons\">\n",
              "\n",
              "  <div class=\"colab-df-container\">\n",
              "    <button class=\"colab-df-convert\" onclick=\"convertToInteractive('df-005a360f-185e-413e-8553-d5959070a6dd')\"\n",
              "            title=\"Convert this dataframe to an interactive table.\"\n",
              "            style=\"display:none;\">\n",
              "\n",
              "  <svg xmlns=\"http://www.w3.org/2000/svg\" height=\"24px\" viewBox=\"0 -960 960 960\">\n",
              "    <path d=\"M120-120v-720h720v720H120Zm60-500h600v-160H180v160Zm220 220h160v-160H400v160Zm0 220h160v-160H400v160ZM180-400h160v-160H180v160Zm440 0h160v-160H620v160ZM180-180h160v-160H180v160Zm440 0h160v-160H620v160Z\"/>\n",
              "  </svg>\n",
              "    </button>\n",
              "\n",
              "  <style>\n",
              "    .colab-df-container {\n",
              "      display:flex;\n",
              "      gap: 12px;\n",
              "    }\n",
              "\n",
              "    .colab-df-convert {\n",
              "      background-color: #E8F0FE;\n",
              "      border: none;\n",
              "      border-radius: 50%;\n",
              "      cursor: pointer;\n",
              "      display: none;\n",
              "      fill: #1967D2;\n",
              "      height: 32px;\n",
              "      padding: 0 0 0 0;\n",
              "      width: 32px;\n",
              "    }\n",
              "\n",
              "    .colab-df-convert:hover {\n",
              "      background-color: #E2EBFA;\n",
              "      box-shadow: 0px 1px 2px rgba(60, 64, 67, 0.3), 0px 1px 3px 1px rgba(60, 64, 67, 0.15);\n",
              "      fill: #174EA6;\n",
              "    }\n",
              "\n",
              "    .colab-df-buttons div {\n",
              "      margin-bottom: 4px;\n",
              "    }\n",
              "\n",
              "    [theme=dark] .colab-df-convert {\n",
              "      background-color: #3B4455;\n",
              "      fill: #D2E3FC;\n",
              "    }\n",
              "\n",
              "    [theme=dark] .colab-df-convert:hover {\n",
              "      background-color: #434B5C;\n",
              "      box-shadow: 0px 1px 3px 1px rgba(0, 0, 0, 0.15);\n",
              "      filter: drop-shadow(0px 1px 2px rgba(0, 0, 0, 0.3));\n",
              "      fill: #FFFFFF;\n",
              "    }\n",
              "  </style>\n",
              "\n",
              "    <script>\n",
              "      const buttonEl =\n",
              "        document.querySelector('#df-005a360f-185e-413e-8553-d5959070a6dd button.colab-df-convert');\n",
              "      buttonEl.style.display =\n",
              "        google.colab.kernel.accessAllowed ? 'block' : 'none';\n",
              "\n",
              "      async function convertToInteractive(key) {\n",
              "        const element = document.querySelector('#df-005a360f-185e-413e-8553-d5959070a6dd');\n",
              "        const dataTable =\n",
              "          await google.colab.kernel.invokeFunction('convertToInteractive',\n",
              "                                                    [key], {});\n",
              "        if (!dataTable) return;\n",
              "\n",
              "        const docLinkHtml = 'Like what you see? Visit the ' +\n",
              "          '<a target=\"_blank\" href=https://colab.research.google.com/notebooks/data_table.ipynb>data table notebook</a>'\n",
              "          + ' to learn more about interactive tables.';\n",
              "        element.innerHTML = '';\n",
              "        dataTable['output_type'] = 'display_data';\n",
              "        await google.colab.output.renderOutput(dataTable, element);\n",
              "        const docLink = document.createElement('div');\n",
              "        docLink.innerHTML = docLinkHtml;\n",
              "        element.appendChild(docLink);\n",
              "      }\n",
              "    </script>\n",
              "  </div>\n",
              "\n",
              "\n",
              "<div id=\"df-06bb9a13-1693-4fde-b153-2885d33a299c\">\n",
              "  <button class=\"colab-df-quickchart\" onclick=\"quickchart('df-06bb9a13-1693-4fde-b153-2885d33a299c')\"\n",
              "            title=\"Suggest charts\"\n",
              "            style=\"display:none;\">\n",
              "\n",
              "<svg xmlns=\"http://www.w3.org/2000/svg\" height=\"24px\"viewBox=\"0 0 24 24\"\n",
              "     width=\"24px\">\n",
              "    <g>\n",
              "        <path d=\"M19 3H5c-1.1 0-2 .9-2 2v14c0 1.1.9 2 2 2h14c1.1 0 2-.9 2-2V5c0-1.1-.9-2-2-2zM9 17H7v-7h2v7zm4 0h-2V7h2v10zm4 0h-2v-4h2v4z\"/>\n",
              "    </g>\n",
              "</svg>\n",
              "  </button>\n",
              "\n",
              "<style>\n",
              "  .colab-df-quickchart {\n",
              "      --bg-color: #E8F0FE;\n",
              "      --fill-color: #1967D2;\n",
              "      --hover-bg-color: #E2EBFA;\n",
              "      --hover-fill-color: #174EA6;\n",
              "      --disabled-fill-color: #AAA;\n",
              "      --disabled-bg-color: #DDD;\n",
              "  }\n",
              "\n",
              "  [theme=dark] .colab-df-quickchart {\n",
              "      --bg-color: #3B4455;\n",
              "      --fill-color: #D2E3FC;\n",
              "      --hover-bg-color: #434B5C;\n",
              "      --hover-fill-color: #FFFFFF;\n",
              "      --disabled-bg-color: #3B4455;\n",
              "      --disabled-fill-color: #666;\n",
              "  }\n",
              "\n",
              "  .colab-df-quickchart {\n",
              "    background-color: var(--bg-color);\n",
              "    border: none;\n",
              "    border-radius: 50%;\n",
              "    cursor: pointer;\n",
              "    display: none;\n",
              "    fill: var(--fill-color);\n",
              "    height: 32px;\n",
              "    padding: 0;\n",
              "    width: 32px;\n",
              "  }\n",
              "\n",
              "  .colab-df-quickchart:hover {\n",
              "    background-color: var(--hover-bg-color);\n",
              "    box-shadow: 0 1px 2px rgba(60, 64, 67, 0.3), 0 1px 3px 1px rgba(60, 64, 67, 0.15);\n",
              "    fill: var(--button-hover-fill-color);\n",
              "  }\n",
              "\n",
              "  .colab-df-quickchart-complete:disabled,\n",
              "  .colab-df-quickchart-complete:disabled:hover {\n",
              "    background-color: var(--disabled-bg-color);\n",
              "    fill: var(--disabled-fill-color);\n",
              "    box-shadow: none;\n",
              "  }\n",
              "\n",
              "  .colab-df-spinner {\n",
              "    border: 2px solid var(--fill-color);\n",
              "    border-color: transparent;\n",
              "    border-bottom-color: var(--fill-color);\n",
              "    animation:\n",
              "      spin 1s steps(1) infinite;\n",
              "  }\n",
              "\n",
              "  @keyframes spin {\n",
              "    0% {\n",
              "      border-color: transparent;\n",
              "      border-bottom-color: var(--fill-color);\n",
              "      border-left-color: var(--fill-color);\n",
              "    }\n",
              "    20% {\n",
              "      border-color: transparent;\n",
              "      border-left-color: var(--fill-color);\n",
              "      border-top-color: var(--fill-color);\n",
              "    }\n",
              "    30% {\n",
              "      border-color: transparent;\n",
              "      border-left-color: var(--fill-color);\n",
              "      border-top-color: var(--fill-color);\n",
              "      border-right-color: var(--fill-color);\n",
              "    }\n",
              "    40% {\n",
              "      border-color: transparent;\n",
              "      border-right-color: var(--fill-color);\n",
              "      border-top-color: var(--fill-color);\n",
              "    }\n",
              "    60% {\n",
              "      border-color: transparent;\n",
              "      border-right-color: var(--fill-color);\n",
              "    }\n",
              "    80% {\n",
              "      border-color: transparent;\n",
              "      border-right-color: var(--fill-color);\n",
              "      border-bottom-color: var(--fill-color);\n",
              "    }\n",
              "    90% {\n",
              "      border-color: transparent;\n",
              "      border-bottom-color: var(--fill-color);\n",
              "    }\n",
              "  }\n",
              "</style>\n",
              "\n",
              "  <script>\n",
              "    async function quickchart(key) {\n",
              "      const quickchartButtonEl =\n",
              "        document.querySelector('#' + key + ' button');\n",
              "      quickchartButtonEl.disabled = true;  // To prevent multiple clicks.\n",
              "      quickchartButtonEl.classList.add('colab-df-spinner');\n",
              "      try {\n",
              "        const charts = await google.colab.kernel.invokeFunction(\n",
              "            'suggestCharts', [key], {});\n",
              "      } catch (error) {\n",
              "        console.error('Error during call to suggestCharts:', error);\n",
              "      }\n",
              "      quickchartButtonEl.classList.remove('colab-df-spinner');\n",
              "      quickchartButtonEl.classList.add('colab-df-quickchart-complete');\n",
              "    }\n",
              "    (() => {\n",
              "      let quickchartButtonEl =\n",
              "        document.querySelector('#df-06bb9a13-1693-4fde-b153-2885d33a299c button');\n",
              "      quickchartButtonEl.style.display =\n",
              "        google.colab.kernel.accessAllowed ? 'block' : 'none';\n",
              "    })();\n",
              "  </script>\n",
              "</div>\n",
              "\n",
              "    </div>\n",
              "  </div>\n"
            ],
            "application/vnd.google.colaboratory.intrinsic+json": {
              "type": "dataframe",
              "summary": "{\n  \"name\": \"df[:3] # show the first 3 records\",\n  \"rows\": 3,\n  \"fields\": [\n    {\n      \"column\": \"age\",\n      \"properties\": {\n        \"dtype\": \"number\",\n        \"std\": 6,\n        \"min\": 38,\n        \"max\": 50,\n        \"num_unique_values\": 3,\n        \"samples\": [\n          39,\n          50,\n          38\n        ],\n        \"semantic_type\": \"\",\n        \"description\": \"\"\n      }\n    },\n    {\n      \"column\": \"work\",\n      \"properties\": {\n        \"dtype\": \"string\",\n        \"num_unique_values\": 3,\n        \"samples\": [\n          \" State-gov\",\n          \" Self-emp-not-inc\",\n          \" Private\"\n        ],\n        \"semantic_type\": \"\",\n        \"description\": \"\"\n      }\n    },\n    {\n      \"column\": \"fnlwgt\",\n      \"properties\": {\n        \"dtype\": \"number\",\n        \"std\": 78130,\n        \"min\": 77516,\n        \"max\": 215646,\n        \"num_unique_values\": 3,\n        \"samples\": [\n          77516,\n          83311,\n          215646\n        ],\n        \"semantic_type\": \"\",\n        \"description\": \"\"\n      }\n    },\n    {\n      \"column\": \"edu\",\n      \"properties\": {\n        \"dtype\": \"string\",\n        \"num_unique_values\": 2,\n        \"samples\": [\n          \" HS-grad\",\n          \" Bachelors\"\n        ],\n        \"semantic_type\": \"\",\n        \"description\": \"\"\n      }\n    },\n    {\n      \"column\": \"yredu\",\n      \"properties\": {\n        \"dtype\": \"number\",\n        \"std\": 2,\n        \"min\": 9,\n        \"max\": 13,\n        \"num_unique_values\": 2,\n        \"samples\": [\n          9,\n          13\n        ],\n        \"semantic_type\": \"\",\n        \"description\": \"\"\n      }\n    },\n    {\n      \"column\": \"marriage\",\n      \"properties\": {\n        \"dtype\": \"string\",\n        \"num_unique_values\": 3,\n        \"samples\": [\n          \" Never-married\",\n          \" Married-civ-spouse\"\n        ],\n        \"semantic_type\": \"\",\n        \"description\": \"\"\n      }\n    },\n    {\n      \"column\": \"occupation\",\n      \"properties\": {\n        \"dtype\": \"string\",\n        \"num_unique_values\": 3,\n        \"samples\": [\n          \" Adm-clerical\",\n          \" Exec-managerial\"\n        ],\n        \"semantic_type\": \"\",\n        \"description\": \"\"\n      }\n    },\n    {\n      \"column\": \"relationship\",\n      \"properties\": {\n        \"dtype\": \"string\",\n        \"num_unique_values\": 2,\n        \"samples\": [\n          \" Husband\",\n          \" Not-in-family\"\n        ],\n        \"semantic_type\": \"\",\n        \"description\": \"\"\n      }\n    },\n    {\n      \"column\": \"race\",\n      \"properties\": {\n        \"dtype\": \"category\",\n        \"num_unique_values\": 1,\n        \"samples\": [\n          \" White\"\n        ],\n        \"semantic_type\": \"\",\n        \"description\": \"\"\n      }\n    },\n    {\n      \"column\": \"sex\",\n      \"properties\": {\n        \"dtype\": \"category\",\n        \"num_unique_values\": 1,\n        \"samples\": [\n          \" Male\"\n        ],\n        \"semantic_type\": \"\",\n        \"description\": \"\"\n      }\n    },\n    {\n      \"column\": \"capgain\",\n      \"properties\": {\n        \"dtype\": \"number\",\n        \"std\": 1255,\n        \"min\": 0,\n        \"max\": 2174,\n        \"num_unique_values\": 2,\n        \"samples\": [\n          0\n        ],\n        \"semantic_type\": \"\",\n        \"description\": \"\"\n      }\n    },\n    {\n      \"column\": \"caploss\",\n      \"properties\": {\n        \"dtype\": \"number\",\n        \"std\": 0,\n        \"min\": 0,\n        \"max\": 0,\n        \"num_unique_values\": 1,\n        \"samples\": [\n          0\n        ],\n        \"semantic_type\": \"\",\n        \"description\": \"\"\n      }\n    },\n    {\n      \"column\": \"workhr\",\n      \"properties\": {\n        \"dtype\": \"number\",\n        \"std\": 15,\n        \"min\": 13,\n        \"max\": 40,\n        \"num_unique_values\": 2,\n        \"samples\": [\n          13\n        ],\n        \"semantic_type\": \"\",\n        \"description\": \"\"\n      }\n    },\n    {\n      \"column\": \"country\",\n      \"properties\": {\n        \"dtype\": \"category\",\n        \"num_unique_values\": 1,\n        \"samples\": [\n          \" United-States\"\n        ],\n        \"semantic_type\": \"\",\n        \"description\": \"\"\n      }\n    }\n  ]\n}"
            }
          },
          "metadata": {},
          "execution_count": 39
        }
      ],
      "source": [
        "original_df = df.copy() # save a copy of the original data frame\n",
        "df[:3] # show the first 3 records"
      ]
    },
    {
      "cell_type": "markdown",
      "metadata": {
        "id": "gBOojI6W1pqA"
      },
      "source": [
        "Alternatively, we can slice based on column names,\n",
        "for example `df[\"race\"]`, `df[\"hr\"]`, or even index multiple columns\n",
        "like below."
      ]
    },
    {
      "cell_type": "code",
      "execution_count": 40,
      "metadata": {
        "colab": {
          "base_uri": "https://localhost:8080/",
          "height": 143
        },
        "id": "4v6pp73A1pqB",
        "outputId": "843d7878-7fa6-460a-c7bc-49ddd153a204"
      },
      "outputs": [
        {
          "output_type": "execute_result",
          "data": {
            "text/plain": [
              "   age  yredu  capgain  caploss  workhr\n",
              "0   39     13     2174        0      40\n",
              "1   50     13        0        0      13\n",
              "2   38      9        0        0      40"
            ],
            "text/html": [
              "\n",
              "  <div id=\"df-8ad236f8-a84b-4f0e-8d6e-724054610d7b\" class=\"colab-df-container\">\n",
              "    <div>\n",
              "<style scoped>\n",
              "    .dataframe tbody tr th:only-of-type {\n",
              "        vertical-align: middle;\n",
              "    }\n",
              "\n",
              "    .dataframe tbody tr th {\n",
              "        vertical-align: top;\n",
              "    }\n",
              "\n",
              "    .dataframe thead th {\n",
              "        text-align: right;\n",
              "    }\n",
              "</style>\n",
              "<table border=\"1\" class=\"dataframe\">\n",
              "  <thead>\n",
              "    <tr style=\"text-align: right;\">\n",
              "      <th></th>\n",
              "      <th>age</th>\n",
              "      <th>yredu</th>\n",
              "      <th>capgain</th>\n",
              "      <th>caploss</th>\n",
              "      <th>workhr</th>\n",
              "    </tr>\n",
              "  </thead>\n",
              "  <tbody>\n",
              "    <tr>\n",
              "      <th>0</th>\n",
              "      <td>39</td>\n",
              "      <td>13</td>\n",
              "      <td>2174</td>\n",
              "      <td>0</td>\n",
              "      <td>40</td>\n",
              "    </tr>\n",
              "    <tr>\n",
              "      <th>1</th>\n",
              "      <td>50</td>\n",
              "      <td>13</td>\n",
              "      <td>0</td>\n",
              "      <td>0</td>\n",
              "      <td>13</td>\n",
              "    </tr>\n",
              "    <tr>\n",
              "      <th>2</th>\n",
              "      <td>38</td>\n",
              "      <td>9</td>\n",
              "      <td>0</td>\n",
              "      <td>0</td>\n",
              "      <td>40</td>\n",
              "    </tr>\n",
              "  </tbody>\n",
              "</table>\n",
              "</div>\n",
              "    <div class=\"colab-df-buttons\">\n",
              "\n",
              "  <div class=\"colab-df-container\">\n",
              "    <button class=\"colab-df-convert\" onclick=\"convertToInteractive('df-8ad236f8-a84b-4f0e-8d6e-724054610d7b')\"\n",
              "            title=\"Convert this dataframe to an interactive table.\"\n",
              "            style=\"display:none;\">\n",
              "\n",
              "  <svg xmlns=\"http://www.w3.org/2000/svg\" height=\"24px\" viewBox=\"0 -960 960 960\">\n",
              "    <path d=\"M120-120v-720h720v720H120Zm60-500h600v-160H180v160Zm220 220h160v-160H400v160Zm0 220h160v-160H400v160ZM180-400h160v-160H180v160Zm440 0h160v-160H620v160ZM180-180h160v-160H180v160Zm440 0h160v-160H620v160Z\"/>\n",
              "  </svg>\n",
              "    </button>\n",
              "\n",
              "  <style>\n",
              "    .colab-df-container {\n",
              "      display:flex;\n",
              "      gap: 12px;\n",
              "    }\n",
              "\n",
              "    .colab-df-convert {\n",
              "      background-color: #E8F0FE;\n",
              "      border: none;\n",
              "      border-radius: 50%;\n",
              "      cursor: pointer;\n",
              "      display: none;\n",
              "      fill: #1967D2;\n",
              "      height: 32px;\n",
              "      padding: 0 0 0 0;\n",
              "      width: 32px;\n",
              "    }\n",
              "\n",
              "    .colab-df-convert:hover {\n",
              "      background-color: #E2EBFA;\n",
              "      box-shadow: 0px 1px 2px rgba(60, 64, 67, 0.3), 0px 1px 3px 1px rgba(60, 64, 67, 0.15);\n",
              "      fill: #174EA6;\n",
              "    }\n",
              "\n",
              "    .colab-df-buttons div {\n",
              "      margin-bottom: 4px;\n",
              "    }\n",
              "\n",
              "    [theme=dark] .colab-df-convert {\n",
              "      background-color: #3B4455;\n",
              "      fill: #D2E3FC;\n",
              "    }\n",
              "\n",
              "    [theme=dark] .colab-df-convert:hover {\n",
              "      background-color: #434B5C;\n",
              "      box-shadow: 0px 1px 3px 1px rgba(0, 0, 0, 0.15);\n",
              "      filter: drop-shadow(0px 1px 2px rgba(0, 0, 0, 0.3));\n",
              "      fill: #FFFFFF;\n",
              "    }\n",
              "  </style>\n",
              "\n",
              "    <script>\n",
              "      const buttonEl =\n",
              "        document.querySelector('#df-8ad236f8-a84b-4f0e-8d6e-724054610d7b button.colab-df-convert');\n",
              "      buttonEl.style.display =\n",
              "        google.colab.kernel.accessAllowed ? 'block' : 'none';\n",
              "\n",
              "      async function convertToInteractive(key) {\n",
              "        const element = document.querySelector('#df-8ad236f8-a84b-4f0e-8d6e-724054610d7b');\n",
              "        const dataTable =\n",
              "          await google.colab.kernel.invokeFunction('convertToInteractive',\n",
              "                                                    [key], {});\n",
              "        if (!dataTable) return;\n",
              "\n",
              "        const docLinkHtml = 'Like what you see? Visit the ' +\n",
              "          '<a target=\"_blank\" href=https://colab.research.google.com/notebooks/data_table.ipynb>data table notebook</a>'\n",
              "          + ' to learn more about interactive tables.';\n",
              "        element.innerHTML = '';\n",
              "        dataTable['output_type'] = 'display_data';\n",
              "        await google.colab.output.renderOutput(dataTable, element);\n",
              "        const docLink = document.createElement('div');\n",
              "        docLink.innerHTML = docLinkHtml;\n",
              "        element.appendChild(docLink);\n",
              "      }\n",
              "    </script>\n",
              "  </div>\n",
              "\n",
              "\n",
              "<div id=\"df-fe2dd189-1dff-42ae-b8f7-03dda8204d56\">\n",
              "  <button class=\"colab-df-quickchart\" onclick=\"quickchart('df-fe2dd189-1dff-42ae-b8f7-03dda8204d56')\"\n",
              "            title=\"Suggest charts\"\n",
              "            style=\"display:none;\">\n",
              "\n",
              "<svg xmlns=\"http://www.w3.org/2000/svg\" height=\"24px\"viewBox=\"0 0 24 24\"\n",
              "     width=\"24px\">\n",
              "    <g>\n",
              "        <path d=\"M19 3H5c-1.1 0-2 .9-2 2v14c0 1.1.9 2 2 2h14c1.1 0 2-.9 2-2V5c0-1.1-.9-2-2-2zM9 17H7v-7h2v7zm4 0h-2V7h2v10zm4 0h-2v-4h2v4z\"/>\n",
              "    </g>\n",
              "</svg>\n",
              "  </button>\n",
              "\n",
              "<style>\n",
              "  .colab-df-quickchart {\n",
              "      --bg-color: #E8F0FE;\n",
              "      --fill-color: #1967D2;\n",
              "      --hover-bg-color: #E2EBFA;\n",
              "      --hover-fill-color: #174EA6;\n",
              "      --disabled-fill-color: #AAA;\n",
              "      --disabled-bg-color: #DDD;\n",
              "  }\n",
              "\n",
              "  [theme=dark] .colab-df-quickchart {\n",
              "      --bg-color: #3B4455;\n",
              "      --fill-color: #D2E3FC;\n",
              "      --hover-bg-color: #434B5C;\n",
              "      --hover-fill-color: #FFFFFF;\n",
              "      --disabled-bg-color: #3B4455;\n",
              "      --disabled-fill-color: #666;\n",
              "  }\n",
              "\n",
              "  .colab-df-quickchart {\n",
              "    background-color: var(--bg-color);\n",
              "    border: none;\n",
              "    border-radius: 50%;\n",
              "    cursor: pointer;\n",
              "    display: none;\n",
              "    fill: var(--fill-color);\n",
              "    height: 32px;\n",
              "    padding: 0;\n",
              "    width: 32px;\n",
              "  }\n",
              "\n",
              "  .colab-df-quickchart:hover {\n",
              "    background-color: var(--hover-bg-color);\n",
              "    box-shadow: 0 1px 2px rgba(60, 64, 67, 0.3), 0 1px 3px 1px rgba(60, 64, 67, 0.15);\n",
              "    fill: var(--button-hover-fill-color);\n",
              "  }\n",
              "\n",
              "  .colab-df-quickchart-complete:disabled,\n",
              "  .colab-df-quickchart-complete:disabled:hover {\n",
              "    background-color: var(--disabled-bg-color);\n",
              "    fill: var(--disabled-fill-color);\n",
              "    box-shadow: none;\n",
              "  }\n",
              "\n",
              "  .colab-df-spinner {\n",
              "    border: 2px solid var(--fill-color);\n",
              "    border-color: transparent;\n",
              "    border-bottom-color: var(--fill-color);\n",
              "    animation:\n",
              "      spin 1s steps(1) infinite;\n",
              "  }\n",
              "\n",
              "  @keyframes spin {\n",
              "    0% {\n",
              "      border-color: transparent;\n",
              "      border-bottom-color: var(--fill-color);\n",
              "      border-left-color: var(--fill-color);\n",
              "    }\n",
              "    20% {\n",
              "      border-color: transparent;\n",
              "      border-left-color: var(--fill-color);\n",
              "      border-top-color: var(--fill-color);\n",
              "    }\n",
              "    30% {\n",
              "      border-color: transparent;\n",
              "      border-left-color: var(--fill-color);\n",
              "      border-top-color: var(--fill-color);\n",
              "      border-right-color: var(--fill-color);\n",
              "    }\n",
              "    40% {\n",
              "      border-color: transparent;\n",
              "      border-right-color: var(--fill-color);\n",
              "      border-top-color: var(--fill-color);\n",
              "    }\n",
              "    60% {\n",
              "      border-color: transparent;\n",
              "      border-right-color: var(--fill-color);\n",
              "    }\n",
              "    80% {\n",
              "      border-color: transparent;\n",
              "      border-right-color: var(--fill-color);\n",
              "      border-bottom-color: var(--fill-color);\n",
              "    }\n",
              "    90% {\n",
              "      border-color: transparent;\n",
              "      border-bottom-color: var(--fill-color);\n",
              "    }\n",
              "  }\n",
              "</style>\n",
              "\n",
              "  <script>\n",
              "    async function quickchart(key) {\n",
              "      const quickchartButtonEl =\n",
              "        document.querySelector('#' + key + ' button');\n",
              "      quickchartButtonEl.disabled = true;  // To prevent multiple clicks.\n",
              "      quickchartButtonEl.classList.add('colab-df-spinner');\n",
              "      try {\n",
              "        const charts = await google.colab.kernel.invokeFunction(\n",
              "            'suggestCharts', [key], {});\n",
              "      } catch (error) {\n",
              "        console.error('Error during call to suggestCharts:', error);\n",
              "      }\n",
              "      quickchartButtonEl.classList.remove('colab-df-spinner');\n",
              "      quickchartButtonEl.classList.add('colab-df-quickchart-complete');\n",
              "    }\n",
              "    (() => {\n",
              "      let quickchartButtonEl =\n",
              "        document.querySelector('#df-fe2dd189-1dff-42ae-b8f7-03dda8204d56 button');\n",
              "      quickchartButtonEl.style.display =\n",
              "        google.colab.kernel.accessAllowed ? 'block' : 'none';\n",
              "    })();\n",
              "  </script>\n",
              "</div>\n",
              "\n",
              "    </div>\n",
              "  </div>\n"
            ],
            "application/vnd.google.colaboratory.intrinsic+json": {
              "type": "dataframe",
              "summary": "{\n  \"name\": \"subdf[:3] # show the first 3 records\",\n  \"rows\": 3,\n  \"fields\": [\n    {\n      \"column\": \"age\",\n      \"properties\": {\n        \"dtype\": \"number\",\n        \"std\": 6,\n        \"min\": 38,\n        \"max\": 50,\n        \"num_unique_values\": 3,\n        \"samples\": [\n          39,\n          50,\n          38\n        ],\n        \"semantic_type\": \"\",\n        \"description\": \"\"\n      }\n    },\n    {\n      \"column\": \"yredu\",\n      \"properties\": {\n        \"dtype\": \"number\",\n        \"std\": 2,\n        \"min\": 9,\n        \"max\": 13,\n        \"num_unique_values\": 2,\n        \"samples\": [\n          9,\n          13\n        ],\n        \"semantic_type\": \"\",\n        \"description\": \"\"\n      }\n    },\n    {\n      \"column\": \"capgain\",\n      \"properties\": {\n        \"dtype\": \"number\",\n        \"std\": 1255,\n        \"min\": 0,\n        \"max\": 2174,\n        \"num_unique_values\": 2,\n        \"samples\": [\n          0,\n          2174\n        ],\n        \"semantic_type\": \"\",\n        \"description\": \"\"\n      }\n    },\n    {\n      \"column\": \"caploss\",\n      \"properties\": {\n        \"dtype\": \"number\",\n        \"std\": 0,\n        \"min\": 0,\n        \"max\": 0,\n        \"num_unique_values\": 1,\n        \"samples\": [\n          0\n        ],\n        \"semantic_type\": \"\",\n        \"description\": \"\"\n      }\n    },\n    {\n      \"column\": \"workhr\",\n      \"properties\": {\n        \"dtype\": \"number\",\n        \"std\": 15,\n        \"min\": 13,\n        \"max\": 40,\n        \"num_unique_values\": 2,\n        \"samples\": [\n          13\n        ],\n        \"semantic_type\": \"\",\n        \"description\": \"\"\n      }\n    }\n  ]\n}"
            }
          },
          "metadata": {},
          "execution_count": 40
        }
      ],
      "source": [
        "subdf = df[[\"age\", \"yredu\", \"capgain\", \"caploss\", \"workhr\"]]\n",
        "subdf[:3] # show the first 3 records"
      ]
    },
    {
      "cell_type": "markdown",
      "metadata": {
        "id": "2Nru2P0E1pqD"
      },
      "source": [
        "Numpy works nicely with pandas, like below:"
      ]
    },
    {
      "cell_type": "code",
      "execution_count": 41,
      "metadata": {
        "colab": {
          "base_uri": "https://localhost:8080/"
        },
        "id": "JXrS6tjp1pqE",
        "outputId": "9d5bd107-4b5d-401f-a9d1-5fb38be14eae"
      },
      "outputs": [
        {
          "output_type": "execute_result",
          "data": {
            "text/plain": [
              "2842700"
            ]
          },
          "metadata": {},
          "execution_count": 41
        }
      ],
      "source": [
        "np.sum(subdf[\"caploss\"])"
      ]
    },
    {
      "cell_type": "markdown",
      "metadata": {
        "id": "Mv5mbxDM1pqH"
      },
      "source": [
        "Just like numpy arrays, you can modify\n",
        "entire columns of data rather than one scalar element at a time.\n",
        "For example, the code  \n",
        "\n",
        "`df[\"age\"] = df[\"age\"] + 1`\n",
        "\n",
        "would increment everyone's age by 1."
      ]
    },
    {
      "cell_type": "code",
      "execution_count": 42,
      "metadata": {
        "colab": {
          "base_uri": "https://localhost:8080/",
          "height": 233
        },
        "collapsed": true,
        "id": "k5rlWD7-1pqH",
        "jupyter": {
          "outputs_hidden": true
        },
        "outputId": "b423819c-c5d3-41cd-edb3-0450808b24da"
      },
      "outputs": [
        {
          "output_type": "execute_result",
          "data": {
            "text/plain": [
              "   age               work  fnlwgt         edu  yredu             marriage  \\\n",
              "0   40          State-gov   77516   Bachelors     13        Never-married   \n",
              "1   51   Self-emp-not-inc   83311   Bachelors     13   Married-civ-spouse   \n",
              "2   39            Private  215646     HS-grad      9             Divorced   \n",
              "\n",
              "           occupation    relationship    race    sex  capgain  caploss  \\\n",
              "0        Adm-clerical   Not-in-family   White   Male     2174        0   \n",
              "1     Exec-managerial         Husband   White   Male        0        0   \n",
              "2   Handlers-cleaners   Not-in-family   White   Male        0        0   \n",
              "\n",
              "   workhr         country  \n",
              "0      40   United-States  \n",
              "1      13   United-States  \n",
              "2      40   United-States  "
            ],
            "text/html": [
              "\n",
              "  <div id=\"df-46fcbeaf-336c-4928-b0b5-af2685b53aef\" class=\"colab-df-container\">\n",
              "    <div>\n",
              "<style scoped>\n",
              "    .dataframe tbody tr th:only-of-type {\n",
              "        vertical-align: middle;\n",
              "    }\n",
              "\n",
              "    .dataframe tbody tr th {\n",
              "        vertical-align: top;\n",
              "    }\n",
              "\n",
              "    .dataframe thead th {\n",
              "        text-align: right;\n",
              "    }\n",
              "</style>\n",
              "<table border=\"1\" class=\"dataframe\">\n",
              "  <thead>\n",
              "    <tr style=\"text-align: right;\">\n",
              "      <th></th>\n",
              "      <th>age</th>\n",
              "      <th>work</th>\n",
              "      <th>fnlwgt</th>\n",
              "      <th>edu</th>\n",
              "      <th>yredu</th>\n",
              "      <th>marriage</th>\n",
              "      <th>occupation</th>\n",
              "      <th>relationship</th>\n",
              "      <th>race</th>\n",
              "      <th>sex</th>\n",
              "      <th>capgain</th>\n",
              "      <th>caploss</th>\n",
              "      <th>workhr</th>\n",
              "      <th>country</th>\n",
              "    </tr>\n",
              "  </thead>\n",
              "  <tbody>\n",
              "    <tr>\n",
              "      <th>0</th>\n",
              "      <td>40</td>\n",
              "      <td>State-gov</td>\n",
              "      <td>77516</td>\n",
              "      <td>Bachelors</td>\n",
              "      <td>13</td>\n",
              "      <td>Never-married</td>\n",
              "      <td>Adm-clerical</td>\n",
              "      <td>Not-in-family</td>\n",
              "      <td>White</td>\n",
              "      <td>Male</td>\n",
              "      <td>2174</td>\n",
              "      <td>0</td>\n",
              "      <td>40</td>\n",
              "      <td>United-States</td>\n",
              "    </tr>\n",
              "    <tr>\n",
              "      <th>1</th>\n",
              "      <td>51</td>\n",
              "      <td>Self-emp-not-inc</td>\n",
              "      <td>83311</td>\n",
              "      <td>Bachelors</td>\n",
              "      <td>13</td>\n",
              "      <td>Married-civ-spouse</td>\n",
              "      <td>Exec-managerial</td>\n",
              "      <td>Husband</td>\n",
              "      <td>White</td>\n",
              "      <td>Male</td>\n",
              "      <td>0</td>\n",
              "      <td>0</td>\n",
              "      <td>13</td>\n",
              "      <td>United-States</td>\n",
              "    </tr>\n",
              "    <tr>\n",
              "      <th>2</th>\n",
              "      <td>39</td>\n",
              "      <td>Private</td>\n",
              "      <td>215646</td>\n",
              "      <td>HS-grad</td>\n",
              "      <td>9</td>\n",
              "      <td>Divorced</td>\n",
              "      <td>Handlers-cleaners</td>\n",
              "      <td>Not-in-family</td>\n",
              "      <td>White</td>\n",
              "      <td>Male</td>\n",
              "      <td>0</td>\n",
              "      <td>0</td>\n",
              "      <td>40</td>\n",
              "      <td>United-States</td>\n",
              "    </tr>\n",
              "  </tbody>\n",
              "</table>\n",
              "</div>\n",
              "    <div class=\"colab-df-buttons\">\n",
              "\n",
              "  <div class=\"colab-df-container\">\n",
              "    <button class=\"colab-df-convert\" onclick=\"convertToInteractive('df-46fcbeaf-336c-4928-b0b5-af2685b53aef')\"\n",
              "            title=\"Convert this dataframe to an interactive table.\"\n",
              "            style=\"display:none;\">\n",
              "\n",
              "  <svg xmlns=\"http://www.w3.org/2000/svg\" height=\"24px\" viewBox=\"0 -960 960 960\">\n",
              "    <path d=\"M120-120v-720h720v720H120Zm60-500h600v-160H180v160Zm220 220h160v-160H400v160Zm0 220h160v-160H400v160ZM180-400h160v-160H180v160Zm440 0h160v-160H620v160ZM180-180h160v-160H180v160Zm440 0h160v-160H620v160Z\"/>\n",
              "  </svg>\n",
              "    </button>\n",
              "\n",
              "  <style>\n",
              "    .colab-df-container {\n",
              "      display:flex;\n",
              "      gap: 12px;\n",
              "    }\n",
              "\n",
              "    .colab-df-convert {\n",
              "      background-color: #E8F0FE;\n",
              "      border: none;\n",
              "      border-radius: 50%;\n",
              "      cursor: pointer;\n",
              "      display: none;\n",
              "      fill: #1967D2;\n",
              "      height: 32px;\n",
              "      padding: 0 0 0 0;\n",
              "      width: 32px;\n",
              "    }\n",
              "\n",
              "    .colab-df-convert:hover {\n",
              "      background-color: #E2EBFA;\n",
              "      box-shadow: 0px 1px 2px rgba(60, 64, 67, 0.3), 0px 1px 3px 1px rgba(60, 64, 67, 0.15);\n",
              "      fill: #174EA6;\n",
              "    }\n",
              "\n",
              "    .colab-df-buttons div {\n",
              "      margin-bottom: 4px;\n",
              "    }\n",
              "\n",
              "    [theme=dark] .colab-df-convert {\n",
              "      background-color: #3B4455;\n",
              "      fill: #D2E3FC;\n",
              "    }\n",
              "\n",
              "    [theme=dark] .colab-df-convert:hover {\n",
              "      background-color: #434B5C;\n",
              "      box-shadow: 0px 1px 3px 1px rgba(0, 0, 0, 0.15);\n",
              "      filter: drop-shadow(0px 1px 2px rgba(0, 0, 0, 0.3));\n",
              "      fill: #FFFFFF;\n",
              "    }\n",
              "  </style>\n",
              "\n",
              "    <script>\n",
              "      const buttonEl =\n",
              "        document.querySelector('#df-46fcbeaf-336c-4928-b0b5-af2685b53aef button.colab-df-convert');\n",
              "      buttonEl.style.display =\n",
              "        google.colab.kernel.accessAllowed ? 'block' : 'none';\n",
              "\n",
              "      async function convertToInteractive(key) {\n",
              "        const element = document.querySelector('#df-46fcbeaf-336c-4928-b0b5-af2685b53aef');\n",
              "        const dataTable =\n",
              "          await google.colab.kernel.invokeFunction('convertToInteractive',\n",
              "                                                    [key], {});\n",
              "        if (!dataTable) return;\n",
              "\n",
              "        const docLinkHtml = 'Like what you see? Visit the ' +\n",
              "          '<a target=\"_blank\" href=https://colab.research.google.com/notebooks/data_table.ipynb>data table notebook</a>'\n",
              "          + ' to learn more about interactive tables.';\n",
              "        element.innerHTML = '';\n",
              "        dataTable['output_type'] = 'display_data';\n",
              "        await google.colab.output.renderOutput(dataTable, element);\n",
              "        const docLink = document.createElement('div');\n",
              "        docLink.innerHTML = docLinkHtml;\n",
              "        element.appendChild(docLink);\n",
              "      }\n",
              "    </script>\n",
              "  </div>\n",
              "\n",
              "\n",
              "<div id=\"df-3722d67f-c932-47b4-ad86-4b97ba0a4065\">\n",
              "  <button class=\"colab-df-quickchart\" onclick=\"quickchart('df-3722d67f-c932-47b4-ad86-4b97ba0a4065')\"\n",
              "            title=\"Suggest charts\"\n",
              "            style=\"display:none;\">\n",
              "\n",
              "<svg xmlns=\"http://www.w3.org/2000/svg\" height=\"24px\"viewBox=\"0 0 24 24\"\n",
              "     width=\"24px\">\n",
              "    <g>\n",
              "        <path d=\"M19 3H5c-1.1 0-2 .9-2 2v14c0 1.1.9 2 2 2h14c1.1 0 2-.9 2-2V5c0-1.1-.9-2-2-2zM9 17H7v-7h2v7zm4 0h-2V7h2v10zm4 0h-2v-4h2v4z\"/>\n",
              "    </g>\n",
              "</svg>\n",
              "  </button>\n",
              "\n",
              "<style>\n",
              "  .colab-df-quickchart {\n",
              "      --bg-color: #E8F0FE;\n",
              "      --fill-color: #1967D2;\n",
              "      --hover-bg-color: #E2EBFA;\n",
              "      --hover-fill-color: #174EA6;\n",
              "      --disabled-fill-color: #AAA;\n",
              "      --disabled-bg-color: #DDD;\n",
              "  }\n",
              "\n",
              "  [theme=dark] .colab-df-quickchart {\n",
              "      --bg-color: #3B4455;\n",
              "      --fill-color: #D2E3FC;\n",
              "      --hover-bg-color: #434B5C;\n",
              "      --hover-fill-color: #FFFFFF;\n",
              "      --disabled-bg-color: #3B4455;\n",
              "      --disabled-fill-color: #666;\n",
              "  }\n",
              "\n",
              "  .colab-df-quickchart {\n",
              "    background-color: var(--bg-color);\n",
              "    border: none;\n",
              "    border-radius: 50%;\n",
              "    cursor: pointer;\n",
              "    display: none;\n",
              "    fill: var(--fill-color);\n",
              "    height: 32px;\n",
              "    padding: 0;\n",
              "    width: 32px;\n",
              "  }\n",
              "\n",
              "  .colab-df-quickchart:hover {\n",
              "    background-color: var(--hover-bg-color);\n",
              "    box-shadow: 0 1px 2px rgba(60, 64, 67, 0.3), 0 1px 3px 1px rgba(60, 64, 67, 0.15);\n",
              "    fill: var(--button-hover-fill-color);\n",
              "  }\n",
              "\n",
              "  .colab-df-quickchart-complete:disabled,\n",
              "  .colab-df-quickchart-complete:disabled:hover {\n",
              "    background-color: var(--disabled-bg-color);\n",
              "    fill: var(--disabled-fill-color);\n",
              "    box-shadow: none;\n",
              "  }\n",
              "\n",
              "  .colab-df-spinner {\n",
              "    border: 2px solid var(--fill-color);\n",
              "    border-color: transparent;\n",
              "    border-bottom-color: var(--fill-color);\n",
              "    animation:\n",
              "      spin 1s steps(1) infinite;\n",
              "  }\n",
              "\n",
              "  @keyframes spin {\n",
              "    0% {\n",
              "      border-color: transparent;\n",
              "      border-bottom-color: var(--fill-color);\n",
              "      border-left-color: var(--fill-color);\n",
              "    }\n",
              "    20% {\n",
              "      border-color: transparent;\n",
              "      border-left-color: var(--fill-color);\n",
              "      border-top-color: var(--fill-color);\n",
              "    }\n",
              "    30% {\n",
              "      border-color: transparent;\n",
              "      border-left-color: var(--fill-color);\n",
              "      border-top-color: var(--fill-color);\n",
              "      border-right-color: var(--fill-color);\n",
              "    }\n",
              "    40% {\n",
              "      border-color: transparent;\n",
              "      border-right-color: var(--fill-color);\n",
              "      border-top-color: var(--fill-color);\n",
              "    }\n",
              "    60% {\n",
              "      border-color: transparent;\n",
              "      border-right-color: var(--fill-color);\n",
              "    }\n",
              "    80% {\n",
              "      border-color: transparent;\n",
              "      border-right-color: var(--fill-color);\n",
              "      border-bottom-color: var(--fill-color);\n",
              "    }\n",
              "    90% {\n",
              "      border-color: transparent;\n",
              "      border-bottom-color: var(--fill-color);\n",
              "    }\n",
              "  }\n",
              "</style>\n",
              "\n",
              "  <script>\n",
              "    async function quickchart(key) {\n",
              "      const quickchartButtonEl =\n",
              "        document.querySelector('#' + key + ' button');\n",
              "      quickchartButtonEl.disabled = true;  // To prevent multiple clicks.\n",
              "      quickchartButtonEl.classList.add('colab-df-spinner');\n",
              "      try {\n",
              "        const charts = await google.colab.kernel.invokeFunction(\n",
              "            'suggestCharts', [key], {});\n",
              "      } catch (error) {\n",
              "        console.error('Error during call to suggestCharts:', error);\n",
              "      }\n",
              "      quickchartButtonEl.classList.remove('colab-df-spinner');\n",
              "      quickchartButtonEl.classList.add('colab-df-quickchart-complete');\n",
              "    }\n",
              "    (() => {\n",
              "      let quickchartButtonEl =\n",
              "        document.querySelector('#df-3722d67f-c932-47b4-ad86-4b97ba0a4065 button');\n",
              "      quickchartButtonEl.style.display =\n",
              "        google.colab.kernel.accessAllowed ? 'block' : 'none';\n",
              "    })();\n",
              "  </script>\n",
              "</div>\n",
              "\n",
              "    </div>\n",
              "  </div>\n"
            ],
            "application/vnd.google.colaboratory.intrinsic+json": {
              "type": "dataframe",
              "summary": "{\n  \"name\": \"df[:3]\",\n  \"rows\": 3,\n  \"fields\": [\n    {\n      \"column\": \"age\",\n      \"properties\": {\n        \"dtype\": \"number\",\n        \"std\": 6,\n        \"min\": 39,\n        \"max\": 51,\n        \"num_unique_values\": 3,\n        \"samples\": [\n          40,\n          51,\n          39\n        ],\n        \"semantic_type\": \"\",\n        \"description\": \"\"\n      }\n    },\n    {\n      \"column\": \"work\",\n      \"properties\": {\n        \"dtype\": \"string\",\n        \"num_unique_values\": 3,\n        \"samples\": [\n          \" State-gov\",\n          \" Self-emp-not-inc\",\n          \" Private\"\n        ],\n        \"semantic_type\": \"\",\n        \"description\": \"\"\n      }\n    },\n    {\n      \"column\": \"fnlwgt\",\n      \"properties\": {\n        \"dtype\": \"number\",\n        \"std\": 78130,\n        \"min\": 77516,\n        \"max\": 215646,\n        \"num_unique_values\": 3,\n        \"samples\": [\n          77516,\n          83311,\n          215646\n        ],\n        \"semantic_type\": \"\",\n        \"description\": \"\"\n      }\n    },\n    {\n      \"column\": \"edu\",\n      \"properties\": {\n        \"dtype\": \"string\",\n        \"num_unique_values\": 2,\n        \"samples\": [\n          \" HS-grad\",\n          \" Bachelors\"\n        ],\n        \"semantic_type\": \"\",\n        \"description\": \"\"\n      }\n    },\n    {\n      \"column\": \"yredu\",\n      \"properties\": {\n        \"dtype\": \"number\",\n        \"std\": 2,\n        \"min\": 9,\n        \"max\": 13,\n        \"num_unique_values\": 2,\n        \"samples\": [\n          9,\n          13\n        ],\n        \"semantic_type\": \"\",\n        \"description\": \"\"\n      }\n    },\n    {\n      \"column\": \"marriage\",\n      \"properties\": {\n        \"dtype\": \"string\",\n        \"num_unique_values\": 3,\n        \"samples\": [\n          \" Never-married\",\n          \" Married-civ-spouse\"\n        ],\n        \"semantic_type\": \"\",\n        \"description\": \"\"\n      }\n    },\n    {\n      \"column\": \"occupation\",\n      \"properties\": {\n        \"dtype\": \"string\",\n        \"num_unique_values\": 3,\n        \"samples\": [\n          \" Adm-clerical\",\n          \" Exec-managerial\"\n        ],\n        \"semantic_type\": \"\",\n        \"description\": \"\"\n      }\n    },\n    {\n      \"column\": \"relationship\",\n      \"properties\": {\n        \"dtype\": \"string\",\n        \"num_unique_values\": 2,\n        \"samples\": [\n          \" Husband\",\n          \" Not-in-family\"\n        ],\n        \"semantic_type\": \"\",\n        \"description\": \"\"\n      }\n    },\n    {\n      \"column\": \"race\",\n      \"properties\": {\n        \"dtype\": \"category\",\n        \"num_unique_values\": 1,\n        \"samples\": [\n          \" White\"\n        ],\n        \"semantic_type\": \"\",\n        \"description\": \"\"\n      }\n    },\n    {\n      \"column\": \"sex\",\n      \"properties\": {\n        \"dtype\": \"category\",\n        \"num_unique_values\": 1,\n        \"samples\": [\n          \" Male\"\n        ],\n        \"semantic_type\": \"\",\n        \"description\": \"\"\n      }\n    },\n    {\n      \"column\": \"capgain\",\n      \"properties\": {\n        \"dtype\": \"number\",\n        \"std\": 1255,\n        \"min\": 0,\n        \"max\": 2174,\n        \"num_unique_values\": 2,\n        \"samples\": [\n          0\n        ],\n        \"semantic_type\": \"\",\n        \"description\": \"\"\n      }\n    },\n    {\n      \"column\": \"caploss\",\n      \"properties\": {\n        \"dtype\": \"number\",\n        \"std\": 0,\n        \"min\": 0,\n        \"max\": 0,\n        \"num_unique_values\": 1,\n        \"samples\": [\n          0\n        ],\n        \"semantic_type\": \"\",\n        \"description\": \"\"\n      }\n    },\n    {\n      \"column\": \"workhr\",\n      \"properties\": {\n        \"dtype\": \"number\",\n        \"std\": 15,\n        \"min\": 13,\n        \"max\": 40,\n        \"num_unique_values\": 2,\n        \"samples\": [\n          13\n        ],\n        \"semantic_type\": \"\",\n        \"description\": \"\"\n      }\n    },\n    {\n      \"column\": \"country\",\n      \"properties\": {\n        \"dtype\": \"category\",\n        \"num_unique_values\": 1,\n        \"samples\": [\n          \" United-States\"\n        ],\n        \"semantic_type\": \"\",\n        \"description\": \"\"\n      }\n    }\n  ]\n}"
            }
          },
          "metadata": {},
          "execution_count": 42
        }
      ],
      "source": [
        "df[\"age\"] = df[\"age\"] + 1\n",
        "df[:3]"
      ]
    },
    {
      "cell_type": "code",
      "source": [
        "df[\"age\"] = df[\"age\"] - 1"
      ],
      "metadata": {
        "id": "-9CCi3JSy7d9"
      },
      "execution_count": 43,
      "outputs": []
    },
    {
      "cell_type": "code",
      "source": [
        "max_values = subdf.max()\n",
        "min_values = subdf.min()"
      ],
      "metadata": {
        "id": "L363Pn1g_Ult"
      },
      "execution_count": 57,
      "outputs": []
    },
    {
      "cell_type": "code",
      "source": [
        "print(max_values)\n",
        "print(min_values)"
      ],
      "metadata": {
        "id": "ggtopCOn_iL3",
        "outputId": "7623297e-c966-4303-e87b-99bb305f9e99",
        "colab": {
          "base_uri": "https://localhost:8080/"
        }
      },
      "execution_count": 58,
      "outputs": [
        {
          "output_type": "stream",
          "name": "stdout",
          "text": [
            "age           90\n",
            "yredu         16\n",
            "capgain    99999\n",
            "caploss     4356\n",
            "workhr        99\n",
            "dtype: int64\n",
            "age        17\n",
            "yredu       1\n",
            "capgain     0\n",
            "caploss     0\n",
            "workhr      1\n",
            "dtype: int64\n"
          ]
        }
      ]
    },
    {
      "cell_type": "code",
      "source": [
        "# Normalize each of the features [\"age\", \"yredu\", \"capgain\", \"caploss\", \"workhr\"] so that their values are always between 0 and 1\n",
        "df[[\"age\", \"yredu\", \"capgain\", \"caploss\", \"workhr\"]] = (subdf - subdf.min())/(subdf.max() - subdf.min())\n",
        "df[:3]"
      ],
      "metadata": {
        "colab": {
          "base_uri": "https://localhost:8080/",
          "height": 233
        },
        "id": "pGTW-lujrYnN",
        "outputId": "e01079dc-387c-4cf4-f3d6-2fae66ee4598"
      },
      "execution_count": 45,
      "outputs": [
        {
          "output_type": "execute_result",
          "data": {
            "text/plain": [
              "        age               work  fnlwgt         edu     yredu  \\\n",
              "0  0.301370          State-gov   77516   Bachelors  0.800000   \n",
              "1  0.452055   Self-emp-not-inc   83311   Bachelors  0.800000   \n",
              "2  0.287671            Private  215646     HS-grad  0.533333   \n",
              "\n",
              "              marriage          occupation    relationship    race    sex  \\\n",
              "0        Never-married        Adm-clerical   Not-in-family   White   Male   \n",
              "1   Married-civ-spouse     Exec-managerial         Husband   White   Male   \n",
              "2             Divorced   Handlers-cleaners   Not-in-family   White   Male   \n",
              "\n",
              "   capgain  caploss    workhr         country  \n",
              "0  0.02174      0.0  0.397959   United-States  \n",
              "1  0.00000      0.0  0.122449   United-States  \n",
              "2  0.00000      0.0  0.397959   United-States  "
            ],
            "text/html": [
              "\n",
              "  <div id=\"df-b5df3e5f-116d-4c73-a81b-c2dc51079224\" class=\"colab-df-container\">\n",
              "    <div>\n",
              "<style scoped>\n",
              "    .dataframe tbody tr th:only-of-type {\n",
              "        vertical-align: middle;\n",
              "    }\n",
              "\n",
              "    .dataframe tbody tr th {\n",
              "        vertical-align: top;\n",
              "    }\n",
              "\n",
              "    .dataframe thead th {\n",
              "        text-align: right;\n",
              "    }\n",
              "</style>\n",
              "<table border=\"1\" class=\"dataframe\">\n",
              "  <thead>\n",
              "    <tr style=\"text-align: right;\">\n",
              "      <th></th>\n",
              "      <th>age</th>\n",
              "      <th>work</th>\n",
              "      <th>fnlwgt</th>\n",
              "      <th>edu</th>\n",
              "      <th>yredu</th>\n",
              "      <th>marriage</th>\n",
              "      <th>occupation</th>\n",
              "      <th>relationship</th>\n",
              "      <th>race</th>\n",
              "      <th>sex</th>\n",
              "      <th>capgain</th>\n",
              "      <th>caploss</th>\n",
              "      <th>workhr</th>\n",
              "      <th>country</th>\n",
              "    </tr>\n",
              "  </thead>\n",
              "  <tbody>\n",
              "    <tr>\n",
              "      <th>0</th>\n",
              "      <td>0.301370</td>\n",
              "      <td>State-gov</td>\n",
              "      <td>77516</td>\n",
              "      <td>Bachelors</td>\n",
              "      <td>0.800000</td>\n",
              "      <td>Never-married</td>\n",
              "      <td>Adm-clerical</td>\n",
              "      <td>Not-in-family</td>\n",
              "      <td>White</td>\n",
              "      <td>Male</td>\n",
              "      <td>0.02174</td>\n",
              "      <td>0.0</td>\n",
              "      <td>0.397959</td>\n",
              "      <td>United-States</td>\n",
              "    </tr>\n",
              "    <tr>\n",
              "      <th>1</th>\n",
              "      <td>0.452055</td>\n",
              "      <td>Self-emp-not-inc</td>\n",
              "      <td>83311</td>\n",
              "      <td>Bachelors</td>\n",
              "      <td>0.800000</td>\n",
              "      <td>Married-civ-spouse</td>\n",
              "      <td>Exec-managerial</td>\n",
              "      <td>Husband</td>\n",
              "      <td>White</td>\n",
              "      <td>Male</td>\n",
              "      <td>0.00000</td>\n",
              "      <td>0.0</td>\n",
              "      <td>0.122449</td>\n",
              "      <td>United-States</td>\n",
              "    </tr>\n",
              "    <tr>\n",
              "      <th>2</th>\n",
              "      <td>0.287671</td>\n",
              "      <td>Private</td>\n",
              "      <td>215646</td>\n",
              "      <td>HS-grad</td>\n",
              "      <td>0.533333</td>\n",
              "      <td>Divorced</td>\n",
              "      <td>Handlers-cleaners</td>\n",
              "      <td>Not-in-family</td>\n",
              "      <td>White</td>\n",
              "      <td>Male</td>\n",
              "      <td>0.00000</td>\n",
              "      <td>0.0</td>\n",
              "      <td>0.397959</td>\n",
              "      <td>United-States</td>\n",
              "    </tr>\n",
              "  </tbody>\n",
              "</table>\n",
              "</div>\n",
              "    <div class=\"colab-df-buttons\">\n",
              "\n",
              "  <div class=\"colab-df-container\">\n",
              "    <button class=\"colab-df-convert\" onclick=\"convertToInteractive('df-b5df3e5f-116d-4c73-a81b-c2dc51079224')\"\n",
              "            title=\"Convert this dataframe to an interactive table.\"\n",
              "            style=\"display:none;\">\n",
              "\n",
              "  <svg xmlns=\"http://www.w3.org/2000/svg\" height=\"24px\" viewBox=\"0 -960 960 960\">\n",
              "    <path d=\"M120-120v-720h720v720H120Zm60-500h600v-160H180v160Zm220 220h160v-160H400v160Zm0 220h160v-160H400v160ZM180-400h160v-160H180v160Zm440 0h160v-160H620v160ZM180-180h160v-160H180v160Zm440 0h160v-160H620v160Z\"/>\n",
              "  </svg>\n",
              "    </button>\n",
              "\n",
              "  <style>\n",
              "    .colab-df-container {\n",
              "      display:flex;\n",
              "      gap: 12px;\n",
              "    }\n",
              "\n",
              "    .colab-df-convert {\n",
              "      background-color: #E8F0FE;\n",
              "      border: none;\n",
              "      border-radius: 50%;\n",
              "      cursor: pointer;\n",
              "      display: none;\n",
              "      fill: #1967D2;\n",
              "      height: 32px;\n",
              "      padding: 0 0 0 0;\n",
              "      width: 32px;\n",
              "    }\n",
              "\n",
              "    .colab-df-convert:hover {\n",
              "      background-color: #E2EBFA;\n",
              "      box-shadow: 0px 1px 2px rgba(60, 64, 67, 0.3), 0px 1px 3px 1px rgba(60, 64, 67, 0.15);\n",
              "      fill: #174EA6;\n",
              "    }\n",
              "\n",
              "    .colab-df-buttons div {\n",
              "      margin-bottom: 4px;\n",
              "    }\n",
              "\n",
              "    [theme=dark] .colab-df-convert {\n",
              "      background-color: #3B4455;\n",
              "      fill: #D2E3FC;\n",
              "    }\n",
              "\n",
              "    [theme=dark] .colab-df-convert:hover {\n",
              "      background-color: #434B5C;\n",
              "      box-shadow: 0px 1px 3px 1px rgba(0, 0, 0, 0.15);\n",
              "      filter: drop-shadow(0px 1px 2px rgba(0, 0, 0, 0.3));\n",
              "      fill: #FFFFFF;\n",
              "    }\n",
              "  </style>\n",
              "\n",
              "    <script>\n",
              "      const buttonEl =\n",
              "        document.querySelector('#df-b5df3e5f-116d-4c73-a81b-c2dc51079224 button.colab-df-convert');\n",
              "      buttonEl.style.display =\n",
              "        google.colab.kernel.accessAllowed ? 'block' : 'none';\n",
              "\n",
              "      async function convertToInteractive(key) {\n",
              "        const element = document.querySelector('#df-b5df3e5f-116d-4c73-a81b-c2dc51079224');\n",
              "        const dataTable =\n",
              "          await google.colab.kernel.invokeFunction('convertToInteractive',\n",
              "                                                    [key], {});\n",
              "        if (!dataTable) return;\n",
              "\n",
              "        const docLinkHtml = 'Like what you see? Visit the ' +\n",
              "          '<a target=\"_blank\" href=https://colab.research.google.com/notebooks/data_table.ipynb>data table notebook</a>'\n",
              "          + ' to learn more about interactive tables.';\n",
              "        element.innerHTML = '';\n",
              "        dataTable['output_type'] = 'display_data';\n",
              "        await google.colab.output.renderOutput(dataTable, element);\n",
              "        const docLink = document.createElement('div');\n",
              "        docLink.innerHTML = docLinkHtml;\n",
              "        element.appendChild(docLink);\n",
              "      }\n",
              "    </script>\n",
              "  </div>\n",
              "\n",
              "\n",
              "<div id=\"df-e6c39fa9-d465-4fc0-ade6-c36663804af6\">\n",
              "  <button class=\"colab-df-quickchart\" onclick=\"quickchart('df-e6c39fa9-d465-4fc0-ade6-c36663804af6')\"\n",
              "            title=\"Suggest charts\"\n",
              "            style=\"display:none;\">\n",
              "\n",
              "<svg xmlns=\"http://www.w3.org/2000/svg\" height=\"24px\"viewBox=\"0 0 24 24\"\n",
              "     width=\"24px\">\n",
              "    <g>\n",
              "        <path d=\"M19 3H5c-1.1 0-2 .9-2 2v14c0 1.1.9 2 2 2h14c1.1 0 2-.9 2-2V5c0-1.1-.9-2-2-2zM9 17H7v-7h2v7zm4 0h-2V7h2v10zm4 0h-2v-4h2v4z\"/>\n",
              "    </g>\n",
              "</svg>\n",
              "  </button>\n",
              "\n",
              "<style>\n",
              "  .colab-df-quickchart {\n",
              "      --bg-color: #E8F0FE;\n",
              "      --fill-color: #1967D2;\n",
              "      --hover-bg-color: #E2EBFA;\n",
              "      --hover-fill-color: #174EA6;\n",
              "      --disabled-fill-color: #AAA;\n",
              "      --disabled-bg-color: #DDD;\n",
              "  }\n",
              "\n",
              "  [theme=dark] .colab-df-quickchart {\n",
              "      --bg-color: #3B4455;\n",
              "      --fill-color: #D2E3FC;\n",
              "      --hover-bg-color: #434B5C;\n",
              "      --hover-fill-color: #FFFFFF;\n",
              "      --disabled-bg-color: #3B4455;\n",
              "      --disabled-fill-color: #666;\n",
              "  }\n",
              "\n",
              "  .colab-df-quickchart {\n",
              "    background-color: var(--bg-color);\n",
              "    border: none;\n",
              "    border-radius: 50%;\n",
              "    cursor: pointer;\n",
              "    display: none;\n",
              "    fill: var(--fill-color);\n",
              "    height: 32px;\n",
              "    padding: 0;\n",
              "    width: 32px;\n",
              "  }\n",
              "\n",
              "  .colab-df-quickchart:hover {\n",
              "    background-color: var(--hover-bg-color);\n",
              "    box-shadow: 0 1px 2px rgba(60, 64, 67, 0.3), 0 1px 3px 1px rgba(60, 64, 67, 0.15);\n",
              "    fill: var(--button-hover-fill-color);\n",
              "  }\n",
              "\n",
              "  .colab-df-quickchart-complete:disabled,\n",
              "  .colab-df-quickchart-complete:disabled:hover {\n",
              "    background-color: var(--disabled-bg-color);\n",
              "    fill: var(--disabled-fill-color);\n",
              "    box-shadow: none;\n",
              "  }\n",
              "\n",
              "  .colab-df-spinner {\n",
              "    border: 2px solid var(--fill-color);\n",
              "    border-color: transparent;\n",
              "    border-bottom-color: var(--fill-color);\n",
              "    animation:\n",
              "      spin 1s steps(1) infinite;\n",
              "  }\n",
              "\n",
              "  @keyframes spin {\n",
              "    0% {\n",
              "      border-color: transparent;\n",
              "      border-bottom-color: var(--fill-color);\n",
              "      border-left-color: var(--fill-color);\n",
              "    }\n",
              "    20% {\n",
              "      border-color: transparent;\n",
              "      border-left-color: var(--fill-color);\n",
              "      border-top-color: var(--fill-color);\n",
              "    }\n",
              "    30% {\n",
              "      border-color: transparent;\n",
              "      border-left-color: var(--fill-color);\n",
              "      border-top-color: var(--fill-color);\n",
              "      border-right-color: var(--fill-color);\n",
              "    }\n",
              "    40% {\n",
              "      border-color: transparent;\n",
              "      border-right-color: var(--fill-color);\n",
              "      border-top-color: var(--fill-color);\n",
              "    }\n",
              "    60% {\n",
              "      border-color: transparent;\n",
              "      border-right-color: var(--fill-color);\n",
              "    }\n",
              "    80% {\n",
              "      border-color: transparent;\n",
              "      border-right-color: var(--fill-color);\n",
              "      border-bottom-color: var(--fill-color);\n",
              "    }\n",
              "    90% {\n",
              "      border-color: transparent;\n",
              "      border-bottom-color: var(--fill-color);\n",
              "    }\n",
              "  }\n",
              "</style>\n",
              "\n",
              "  <script>\n",
              "    async function quickchart(key) {\n",
              "      const quickchartButtonEl =\n",
              "        document.querySelector('#' + key + ' button');\n",
              "      quickchartButtonEl.disabled = true;  // To prevent multiple clicks.\n",
              "      quickchartButtonEl.classList.add('colab-df-spinner');\n",
              "      try {\n",
              "        const charts = await google.colab.kernel.invokeFunction(\n",
              "            'suggestCharts', [key], {});\n",
              "      } catch (error) {\n",
              "        console.error('Error during call to suggestCharts:', error);\n",
              "      }\n",
              "      quickchartButtonEl.classList.remove('colab-df-spinner');\n",
              "      quickchartButtonEl.classList.add('colab-df-quickchart-complete');\n",
              "    }\n",
              "    (() => {\n",
              "      let quickchartButtonEl =\n",
              "        document.querySelector('#df-e6c39fa9-d465-4fc0-ade6-c36663804af6 button');\n",
              "      quickchartButtonEl.style.display =\n",
              "        google.colab.kernel.accessAllowed ? 'block' : 'none';\n",
              "    })();\n",
              "  </script>\n",
              "</div>\n",
              "\n",
              "    </div>\n",
              "  </div>\n"
            ],
            "application/vnd.google.colaboratory.intrinsic+json": {
              "type": "dataframe",
              "summary": "{\n  \"name\": \"df[:3]\",\n  \"rows\": 3,\n  \"fields\": [\n    {\n      \"column\": \"age\",\n      \"properties\": {\n        \"dtype\": \"number\",\n        \"std\": 0.0912099742257451,\n        \"min\": 0.2876712328767123,\n        \"max\": 0.4520547945205479,\n        \"num_unique_values\": 3,\n        \"samples\": [\n          0.3013698630136986,\n          0.4520547945205479,\n          0.2876712328767123\n        ],\n        \"semantic_type\": \"\",\n        \"description\": \"\"\n      }\n    },\n    {\n      \"column\": \"work\",\n      \"properties\": {\n        \"dtype\": \"string\",\n        \"num_unique_values\": 3,\n        \"samples\": [\n          \" State-gov\",\n          \" Self-emp-not-inc\",\n          \" Private\"\n        ],\n        \"semantic_type\": \"\",\n        \"description\": \"\"\n      }\n    },\n    {\n      \"column\": \"fnlwgt\",\n      \"properties\": {\n        \"dtype\": \"number\",\n        \"std\": 78130,\n        \"min\": 77516,\n        \"max\": 215646,\n        \"num_unique_values\": 3,\n        \"samples\": [\n          77516,\n          83311,\n          215646\n        ],\n        \"semantic_type\": \"\",\n        \"description\": \"\"\n      }\n    },\n    {\n      \"column\": \"edu\",\n      \"properties\": {\n        \"dtype\": \"string\",\n        \"num_unique_values\": 2,\n        \"samples\": [\n          \" HS-grad\",\n          \" Bachelors\"\n        ],\n        \"semantic_type\": \"\",\n        \"description\": \"\"\n      }\n    },\n    {\n      \"column\": \"yredu\",\n      \"properties\": {\n        \"dtype\": \"number\",\n        \"std\": 0.15396007178390023,\n        \"min\": 0.5333333333333333,\n        \"max\": 0.8,\n        \"num_unique_values\": 2,\n        \"samples\": [\n          0.5333333333333333,\n          0.8\n        ],\n        \"semantic_type\": \"\",\n        \"description\": \"\"\n      }\n    },\n    {\n      \"column\": \"marriage\",\n      \"properties\": {\n        \"dtype\": \"string\",\n        \"num_unique_values\": 3,\n        \"samples\": [\n          \" Never-married\",\n          \" Married-civ-spouse\"\n        ],\n        \"semantic_type\": \"\",\n        \"description\": \"\"\n      }\n    },\n    {\n      \"column\": \"occupation\",\n      \"properties\": {\n        \"dtype\": \"string\",\n        \"num_unique_values\": 3,\n        \"samples\": [\n          \" Adm-clerical\",\n          \" Exec-managerial\"\n        ],\n        \"semantic_type\": \"\",\n        \"description\": \"\"\n      }\n    },\n    {\n      \"column\": \"relationship\",\n      \"properties\": {\n        \"dtype\": \"string\",\n        \"num_unique_values\": 2,\n        \"samples\": [\n          \" Husband\",\n          \" Not-in-family\"\n        ],\n        \"semantic_type\": \"\",\n        \"description\": \"\"\n      }\n    },\n    {\n      \"column\": \"race\",\n      \"properties\": {\n        \"dtype\": \"category\",\n        \"num_unique_values\": 1,\n        \"samples\": [\n          \" White\"\n        ],\n        \"semantic_type\": \"\",\n        \"description\": \"\"\n      }\n    },\n    {\n      \"column\": \"sex\",\n      \"properties\": {\n        \"dtype\": \"category\",\n        \"num_unique_values\": 1,\n        \"samples\": [\n          \" Male\"\n        ],\n        \"semantic_type\": \"\",\n        \"description\": \"\"\n      }\n    },\n    {\n      \"column\": \"capgain\",\n      \"properties\": {\n        \"dtype\": \"number\",\n        \"std\": 0.01255172036938616,\n        \"min\": 0.0,\n        \"max\": 0.021740217402174022,\n        \"num_unique_values\": 2,\n        \"samples\": [\n          0.0\n        ],\n        \"semantic_type\": \"\",\n        \"description\": \"\"\n      }\n    },\n    {\n      \"column\": \"caploss\",\n      \"properties\": {\n        \"dtype\": \"number\",\n        \"std\": 0.0,\n        \"min\": 0.0,\n        \"max\": 0.0,\n        \"num_unique_values\": 1,\n        \"samples\": [\n          0.0\n        ],\n        \"semantic_type\": \"\",\n        \"description\": \"\"\n      }\n    },\n    {\n      \"column\": \"workhr\",\n      \"properties\": {\n        \"dtype\": \"number\",\n        \"std\": 0.15906589049101935,\n        \"min\": 0.12244897959183673,\n        \"max\": 0.3979591836734694,\n        \"num_unique_values\": 2,\n        \"samples\": [\n          0.12244897959183673\n        ],\n        \"semantic_type\": \"\",\n        \"description\": \"\"\n      }\n    },\n    {\n      \"column\": \"country\",\n      \"properties\": {\n        \"dtype\": \"category\",\n        \"num_unique_values\": 1,\n        \"samples\": [\n          \" United-States\"\n        ],\n        \"semantic_type\": \"\",\n        \"description\": \"\"\n      }\n    }\n  ]\n}"
            }
          },
          "metadata": {},
          "execution_count": 45
        }
      ]
    },
    {
      "cell_type": "markdown",
      "metadata": {
        "id": "qbfMly4R1pqK"
      },
      "source": [
        "### Part (b) Categorical Features [1 pt]\n",
        "\n",
        "What percentage of people in our data set are male? Note that the data labels all have an unfortunate space in the beginning, e.g. \" Male\" instead of \"Male\".\n",
        "\n",
        "What percentage of people in our data set are female?"
      ]
    },
    {
      "cell_type": "code",
      "execution_count": 44,
      "metadata": {
        "colab": {
          "base_uri": "https://localhost:8080/"
        },
        "id": "DjAjcsB_1pqK",
        "outputId": "8211b91a-c3fc-4445-a709-99ed6ec18758"
      },
      "outputs": [
        {
          "output_type": "stream",
          "name": "stdout",
          "text": [
            "21790 10771 32561\n",
            "33.08% of people in out data set are female\n"
          ]
        }
      ],
      "source": [
        "# hint: you can do something like this in pandas\n",
        "num_male = sum(df[\"sex\"] == \" Male\")\n",
        "num_female = sum(df[\"sex\"] == \" Female\")\n",
        "num_people = len(df)\n",
        "print(num_male, num_female, num_people)\n",
        "print(f'{(num_female/num_people * 100):.2f}% of people in out data set are female')"
      ]
    },
    {
      "cell_type": "markdown",
      "metadata": {
        "id": "eGVw7pqL1pqN"
      },
      "source": [
        "### Part (c) [2 pt]\n",
        "\n",
        "Before proceeding, we will modify our data frame in a couple more ways:\n",
        "\n",
        "1. We will restrict ourselves to using a subset of the features (to simplify our autoencoder)\n",
        "2. We will remove any records (rows) already containing missing values, and store them in a second dataframe. We will only use records without missing values to train our autoencoder.\n",
        "\n",
        "Both of these steps are done for you, below.\n",
        "\n",
        "How many records contained missing features? What percentage of records were removed?"
      ]
    },
    {
      "cell_type": "code",
      "execution_count": 48,
      "metadata": {
        "collapsed": true,
        "id": "z6ewPUdv1pqO",
        "jupyter": {
          "outputs_hidden": true
        }
      },
      "outputs": [],
      "source": [
        "contcols = [\"age\", \"yredu\", \"capgain\", \"caploss\", \"workhr\"]\n",
        "catcols = [\"work\", \"marriage\", \"occupation\", \"edu\", \"relationship\", \"sex\"]\n",
        "features = contcols + catcols\n",
        "df = df[features]"
      ]
    },
    {
      "cell_type": "code",
      "execution_count": 13,
      "metadata": {
        "collapsed": true,
        "id": "fjdVll5a1pqQ",
        "jupyter": {
          "outputs_hidden": true
        }
      },
      "outputs": [],
      "source": [
        "missing = pd.concat([df[c] == \" ?\" for c in catcols], axis=1).any(axis=1)\n",
        "df_with_missing = df[missing]\n",
        "df_not_missing = df[~missing]"
      ]
    },
    {
      "cell_type": "code",
      "source": [
        "print(f'{(len(df_with_missing)/len(df) * 100):.2f}% of records were removed')\n",
        "print(f'{len(df_with_missing)} records were removed')"
      ],
      "metadata": {
        "colab": {
          "base_uri": "https://localhost:8080/"
        },
        "id": "5tH4oVvlzMaL",
        "outputId": "02ad8a85-f211-434f-e46d-80c7711cee27"
      },
      "execution_count": 14,
      "outputs": [
        {
          "output_type": "stream",
          "name": "stdout",
          "text": [
            "5.66% of records were removed\n",
            "1843 records were removed\n"
          ]
        }
      ]
    },
    {
      "cell_type": "markdown",
      "metadata": {
        "id": "XuEpndTQ1pqU"
      },
      "source": [
        "### Part (d) One-Hot Encoding [1 pt]\n",
        "\n",
        "What are all the possible values of the feature \"work\" in `df_not_missing`? You may find the Python function `set` useful."
      ]
    },
    {
      "cell_type": "code",
      "execution_count": 15,
      "metadata": {
        "colab": {
          "base_uri": "https://localhost:8080/"
        },
        "collapsed": true,
        "id": "iKFh4owE1pqV",
        "jupyter": {
          "outputs_hidden": true
        },
        "outputId": "1c1cfa8e-87ed-4915-c4b0-3db6c8ed9c5d"
      },
      "outputs": [
        {
          "output_type": "execute_result",
          "data": {
            "text/plain": [
              "{' Federal-gov',\n",
              " ' Local-gov',\n",
              " ' Private',\n",
              " ' Self-emp-inc',\n",
              " ' Self-emp-not-inc',\n",
              " ' State-gov',\n",
              " ' Without-pay'}"
            ]
          },
          "metadata": {},
          "execution_count": 15
        }
      ],
      "source": [
        "set(df_not_missing[\"work\"])"
      ]
    },
    {
      "cell_type": "markdown",
      "metadata": {
        "id": "COv3HaKr1pqY"
      },
      "source": [
        "We will be using a one-hot encoding to represent each of the categorical variables.\n",
        "Our autoencoder will be trained using these one-hot encodings.\n",
        "\n",
        "We will use the pandas function `get_dummies` to produce one-hot encodings\n",
        "for all of the categorical variables in `df_not_missing`."
      ]
    },
    {
      "cell_type": "code",
      "execution_count": 16,
      "metadata": {
        "collapsed": true,
        "id": "eKlSYmJg1pqZ",
        "jupyter": {
          "outputs_hidden": true
        }
      },
      "outputs": [],
      "source": [
        "data = pd.get_dummies(df_not_missing)"
      ]
    },
    {
      "cell_type": "code",
      "execution_count": 17,
      "metadata": {
        "colab": {
          "base_uri": "https://localhost:8080/",
          "height": 262
        },
        "collapsed": true,
        "id": "3y7nTZ7H1pqb",
        "jupyter": {
          "outputs_hidden": true
        },
        "scrolled": true,
        "outputId": "dad04e00-c8b0-4702-8833-2d1697f773d3"
      },
      "outputs": [
        {
          "output_type": "execute_result",
          "data": {
            "text/plain": [
              "        age     yredu  capgain  caploss    workhr  work_ Federal-gov  \\\n",
              "0  0.301370  0.800000  0.02174      0.0  0.397959              False   \n",
              "1  0.452055  0.800000  0.00000      0.0  0.122449              False   \n",
              "2  0.287671  0.533333  0.00000      0.0  0.397959              False   \n",
              "\n",
              "   work_ Local-gov  work_ Private  work_ Self-emp-inc  work_ Self-emp-not-inc  \\\n",
              "0            False          False               False                   False   \n",
              "1            False          False               False                    True   \n",
              "2            False           True               False                   False   \n",
              "\n",
              "   ...  edu_ Prof-school  edu_ Some-college  relationship_ Husband  \\\n",
              "0  ...             False              False                  False   \n",
              "1  ...             False              False                   True   \n",
              "2  ...             False              False                  False   \n",
              "\n",
              "   relationship_ Not-in-family  relationship_ Other-relative  \\\n",
              "0                         True                         False   \n",
              "1                        False                         False   \n",
              "2                         True                         False   \n",
              "\n",
              "   relationship_ Own-child  relationship_ Unmarried  relationship_ Wife  \\\n",
              "0                    False                    False               False   \n",
              "1                    False                    False               False   \n",
              "2                    False                    False               False   \n",
              "\n",
              "   sex_ Female  sex_ Male  \n",
              "0        False       True  \n",
              "1        False       True  \n",
              "2        False       True  \n",
              "\n",
              "[3 rows x 57 columns]"
            ],
            "text/html": [
              "\n",
              "  <div id=\"df-90d9d957-85d7-4cda-b8a8-ff95ce4585d0\" class=\"colab-df-container\">\n",
              "    <div>\n",
              "<style scoped>\n",
              "    .dataframe tbody tr th:only-of-type {\n",
              "        vertical-align: middle;\n",
              "    }\n",
              "\n",
              "    .dataframe tbody tr th {\n",
              "        vertical-align: top;\n",
              "    }\n",
              "\n",
              "    .dataframe thead th {\n",
              "        text-align: right;\n",
              "    }\n",
              "</style>\n",
              "<table border=\"1\" class=\"dataframe\">\n",
              "  <thead>\n",
              "    <tr style=\"text-align: right;\">\n",
              "      <th></th>\n",
              "      <th>age</th>\n",
              "      <th>yredu</th>\n",
              "      <th>capgain</th>\n",
              "      <th>caploss</th>\n",
              "      <th>workhr</th>\n",
              "      <th>work_ Federal-gov</th>\n",
              "      <th>work_ Local-gov</th>\n",
              "      <th>work_ Private</th>\n",
              "      <th>work_ Self-emp-inc</th>\n",
              "      <th>work_ Self-emp-not-inc</th>\n",
              "      <th>...</th>\n",
              "      <th>edu_ Prof-school</th>\n",
              "      <th>edu_ Some-college</th>\n",
              "      <th>relationship_ Husband</th>\n",
              "      <th>relationship_ Not-in-family</th>\n",
              "      <th>relationship_ Other-relative</th>\n",
              "      <th>relationship_ Own-child</th>\n",
              "      <th>relationship_ Unmarried</th>\n",
              "      <th>relationship_ Wife</th>\n",
              "      <th>sex_ Female</th>\n",
              "      <th>sex_ Male</th>\n",
              "    </tr>\n",
              "  </thead>\n",
              "  <tbody>\n",
              "    <tr>\n",
              "      <th>0</th>\n",
              "      <td>0.301370</td>\n",
              "      <td>0.800000</td>\n",
              "      <td>0.02174</td>\n",
              "      <td>0.0</td>\n",
              "      <td>0.397959</td>\n",
              "      <td>False</td>\n",
              "      <td>False</td>\n",
              "      <td>False</td>\n",
              "      <td>False</td>\n",
              "      <td>False</td>\n",
              "      <td>...</td>\n",
              "      <td>False</td>\n",
              "      <td>False</td>\n",
              "      <td>False</td>\n",
              "      <td>True</td>\n",
              "      <td>False</td>\n",
              "      <td>False</td>\n",
              "      <td>False</td>\n",
              "      <td>False</td>\n",
              "      <td>False</td>\n",
              "      <td>True</td>\n",
              "    </tr>\n",
              "    <tr>\n",
              "      <th>1</th>\n",
              "      <td>0.452055</td>\n",
              "      <td>0.800000</td>\n",
              "      <td>0.00000</td>\n",
              "      <td>0.0</td>\n",
              "      <td>0.122449</td>\n",
              "      <td>False</td>\n",
              "      <td>False</td>\n",
              "      <td>False</td>\n",
              "      <td>False</td>\n",
              "      <td>True</td>\n",
              "      <td>...</td>\n",
              "      <td>False</td>\n",
              "      <td>False</td>\n",
              "      <td>True</td>\n",
              "      <td>False</td>\n",
              "      <td>False</td>\n",
              "      <td>False</td>\n",
              "      <td>False</td>\n",
              "      <td>False</td>\n",
              "      <td>False</td>\n",
              "      <td>True</td>\n",
              "    </tr>\n",
              "    <tr>\n",
              "      <th>2</th>\n",
              "      <td>0.287671</td>\n",
              "      <td>0.533333</td>\n",
              "      <td>0.00000</td>\n",
              "      <td>0.0</td>\n",
              "      <td>0.397959</td>\n",
              "      <td>False</td>\n",
              "      <td>False</td>\n",
              "      <td>True</td>\n",
              "      <td>False</td>\n",
              "      <td>False</td>\n",
              "      <td>...</td>\n",
              "      <td>False</td>\n",
              "      <td>False</td>\n",
              "      <td>False</td>\n",
              "      <td>True</td>\n",
              "      <td>False</td>\n",
              "      <td>False</td>\n",
              "      <td>False</td>\n",
              "      <td>False</td>\n",
              "      <td>False</td>\n",
              "      <td>True</td>\n",
              "    </tr>\n",
              "  </tbody>\n",
              "</table>\n",
              "<p>3 rows × 57 columns</p>\n",
              "</div>\n",
              "    <div class=\"colab-df-buttons\">\n",
              "\n",
              "  <div class=\"colab-df-container\">\n",
              "    <button class=\"colab-df-convert\" onclick=\"convertToInteractive('df-90d9d957-85d7-4cda-b8a8-ff95ce4585d0')\"\n",
              "            title=\"Convert this dataframe to an interactive table.\"\n",
              "            style=\"display:none;\">\n",
              "\n",
              "  <svg xmlns=\"http://www.w3.org/2000/svg\" height=\"24px\" viewBox=\"0 -960 960 960\">\n",
              "    <path d=\"M120-120v-720h720v720H120Zm60-500h600v-160H180v160Zm220 220h160v-160H400v160Zm0 220h160v-160H400v160ZM180-400h160v-160H180v160Zm440 0h160v-160H620v160ZM180-180h160v-160H180v160Zm440 0h160v-160H620v160Z\"/>\n",
              "  </svg>\n",
              "    </button>\n",
              "\n",
              "  <style>\n",
              "    .colab-df-container {\n",
              "      display:flex;\n",
              "      gap: 12px;\n",
              "    }\n",
              "\n",
              "    .colab-df-convert {\n",
              "      background-color: #E8F0FE;\n",
              "      border: none;\n",
              "      border-radius: 50%;\n",
              "      cursor: pointer;\n",
              "      display: none;\n",
              "      fill: #1967D2;\n",
              "      height: 32px;\n",
              "      padding: 0 0 0 0;\n",
              "      width: 32px;\n",
              "    }\n",
              "\n",
              "    .colab-df-convert:hover {\n",
              "      background-color: #E2EBFA;\n",
              "      box-shadow: 0px 1px 2px rgba(60, 64, 67, 0.3), 0px 1px 3px 1px rgba(60, 64, 67, 0.15);\n",
              "      fill: #174EA6;\n",
              "    }\n",
              "\n",
              "    .colab-df-buttons div {\n",
              "      margin-bottom: 4px;\n",
              "    }\n",
              "\n",
              "    [theme=dark] .colab-df-convert {\n",
              "      background-color: #3B4455;\n",
              "      fill: #D2E3FC;\n",
              "    }\n",
              "\n",
              "    [theme=dark] .colab-df-convert:hover {\n",
              "      background-color: #434B5C;\n",
              "      box-shadow: 0px 1px 3px 1px rgba(0, 0, 0, 0.15);\n",
              "      filter: drop-shadow(0px 1px 2px rgba(0, 0, 0, 0.3));\n",
              "      fill: #FFFFFF;\n",
              "    }\n",
              "  </style>\n",
              "\n",
              "    <script>\n",
              "      const buttonEl =\n",
              "        document.querySelector('#df-90d9d957-85d7-4cda-b8a8-ff95ce4585d0 button.colab-df-convert');\n",
              "      buttonEl.style.display =\n",
              "        google.colab.kernel.accessAllowed ? 'block' : 'none';\n",
              "\n",
              "      async function convertToInteractive(key) {\n",
              "        const element = document.querySelector('#df-90d9d957-85d7-4cda-b8a8-ff95ce4585d0');\n",
              "        const dataTable =\n",
              "          await google.colab.kernel.invokeFunction('convertToInteractive',\n",
              "                                                    [key], {});\n",
              "        if (!dataTable) return;\n",
              "\n",
              "        const docLinkHtml = 'Like what you see? Visit the ' +\n",
              "          '<a target=\"_blank\" href=https://colab.research.google.com/notebooks/data_table.ipynb>data table notebook</a>'\n",
              "          + ' to learn more about interactive tables.';\n",
              "        element.innerHTML = '';\n",
              "        dataTable['output_type'] = 'display_data';\n",
              "        await google.colab.output.renderOutput(dataTable, element);\n",
              "        const docLink = document.createElement('div');\n",
              "        docLink.innerHTML = docLinkHtml;\n",
              "        element.appendChild(docLink);\n",
              "      }\n",
              "    </script>\n",
              "  </div>\n",
              "\n",
              "\n",
              "<div id=\"df-c7ce896b-dfcb-4529-a37a-5e089c29f319\">\n",
              "  <button class=\"colab-df-quickchart\" onclick=\"quickchart('df-c7ce896b-dfcb-4529-a37a-5e089c29f319')\"\n",
              "            title=\"Suggest charts\"\n",
              "            style=\"display:none;\">\n",
              "\n",
              "<svg xmlns=\"http://www.w3.org/2000/svg\" height=\"24px\"viewBox=\"0 0 24 24\"\n",
              "     width=\"24px\">\n",
              "    <g>\n",
              "        <path d=\"M19 3H5c-1.1 0-2 .9-2 2v14c0 1.1.9 2 2 2h14c1.1 0 2-.9 2-2V5c0-1.1-.9-2-2-2zM9 17H7v-7h2v7zm4 0h-2V7h2v10zm4 0h-2v-4h2v4z\"/>\n",
              "    </g>\n",
              "</svg>\n",
              "  </button>\n",
              "\n",
              "<style>\n",
              "  .colab-df-quickchart {\n",
              "      --bg-color: #E8F0FE;\n",
              "      --fill-color: #1967D2;\n",
              "      --hover-bg-color: #E2EBFA;\n",
              "      --hover-fill-color: #174EA6;\n",
              "      --disabled-fill-color: #AAA;\n",
              "      --disabled-bg-color: #DDD;\n",
              "  }\n",
              "\n",
              "  [theme=dark] .colab-df-quickchart {\n",
              "      --bg-color: #3B4455;\n",
              "      --fill-color: #D2E3FC;\n",
              "      --hover-bg-color: #434B5C;\n",
              "      --hover-fill-color: #FFFFFF;\n",
              "      --disabled-bg-color: #3B4455;\n",
              "      --disabled-fill-color: #666;\n",
              "  }\n",
              "\n",
              "  .colab-df-quickchart {\n",
              "    background-color: var(--bg-color);\n",
              "    border: none;\n",
              "    border-radius: 50%;\n",
              "    cursor: pointer;\n",
              "    display: none;\n",
              "    fill: var(--fill-color);\n",
              "    height: 32px;\n",
              "    padding: 0;\n",
              "    width: 32px;\n",
              "  }\n",
              "\n",
              "  .colab-df-quickchart:hover {\n",
              "    background-color: var(--hover-bg-color);\n",
              "    box-shadow: 0 1px 2px rgba(60, 64, 67, 0.3), 0 1px 3px 1px rgba(60, 64, 67, 0.15);\n",
              "    fill: var(--button-hover-fill-color);\n",
              "  }\n",
              "\n",
              "  .colab-df-quickchart-complete:disabled,\n",
              "  .colab-df-quickchart-complete:disabled:hover {\n",
              "    background-color: var(--disabled-bg-color);\n",
              "    fill: var(--disabled-fill-color);\n",
              "    box-shadow: none;\n",
              "  }\n",
              "\n",
              "  .colab-df-spinner {\n",
              "    border: 2px solid var(--fill-color);\n",
              "    border-color: transparent;\n",
              "    border-bottom-color: var(--fill-color);\n",
              "    animation:\n",
              "      spin 1s steps(1) infinite;\n",
              "  }\n",
              "\n",
              "  @keyframes spin {\n",
              "    0% {\n",
              "      border-color: transparent;\n",
              "      border-bottom-color: var(--fill-color);\n",
              "      border-left-color: var(--fill-color);\n",
              "    }\n",
              "    20% {\n",
              "      border-color: transparent;\n",
              "      border-left-color: var(--fill-color);\n",
              "      border-top-color: var(--fill-color);\n",
              "    }\n",
              "    30% {\n",
              "      border-color: transparent;\n",
              "      border-left-color: var(--fill-color);\n",
              "      border-top-color: var(--fill-color);\n",
              "      border-right-color: var(--fill-color);\n",
              "    }\n",
              "    40% {\n",
              "      border-color: transparent;\n",
              "      border-right-color: var(--fill-color);\n",
              "      border-top-color: var(--fill-color);\n",
              "    }\n",
              "    60% {\n",
              "      border-color: transparent;\n",
              "      border-right-color: var(--fill-color);\n",
              "    }\n",
              "    80% {\n",
              "      border-color: transparent;\n",
              "      border-right-color: var(--fill-color);\n",
              "      border-bottom-color: var(--fill-color);\n",
              "    }\n",
              "    90% {\n",
              "      border-color: transparent;\n",
              "      border-bottom-color: var(--fill-color);\n",
              "    }\n",
              "  }\n",
              "</style>\n",
              "\n",
              "  <script>\n",
              "    async function quickchart(key) {\n",
              "      const quickchartButtonEl =\n",
              "        document.querySelector('#' + key + ' button');\n",
              "      quickchartButtonEl.disabled = true;  // To prevent multiple clicks.\n",
              "      quickchartButtonEl.classList.add('colab-df-spinner');\n",
              "      try {\n",
              "        const charts = await google.colab.kernel.invokeFunction(\n",
              "            'suggestCharts', [key], {});\n",
              "      } catch (error) {\n",
              "        console.error('Error during call to suggestCharts:', error);\n",
              "      }\n",
              "      quickchartButtonEl.classList.remove('colab-df-spinner');\n",
              "      quickchartButtonEl.classList.add('colab-df-quickchart-complete');\n",
              "    }\n",
              "    (() => {\n",
              "      let quickchartButtonEl =\n",
              "        document.querySelector('#df-c7ce896b-dfcb-4529-a37a-5e089c29f319 button');\n",
              "      quickchartButtonEl.style.display =\n",
              "        google.colab.kernel.accessAllowed ? 'block' : 'none';\n",
              "    })();\n",
              "  </script>\n",
              "</div>\n",
              "\n",
              "    </div>\n",
              "  </div>\n"
            ],
            "application/vnd.google.colaboratory.intrinsic+json": {
              "type": "dataframe"
            }
          },
          "metadata": {},
          "execution_count": 17
        }
      ],
      "source": [
        "data[:3]"
      ]
    },
    {
      "cell_type": "markdown",
      "metadata": {
        "id": "HwjDg1uM1pqe"
      },
      "source": [
        "### Part (e) One-Hot Encoding [2 pt]\n",
        "\n",
        "The dataframe `data` contains the cleaned and normalized data that we will use to train our denoising autoencoder.\n",
        "\n",
        "How many **columns** (features) are in the dataframe `data`?\n",
        "\n",
        "Briefly explain where that number come from."
      ]
    },
    {
      "cell_type": "code",
      "execution_count": 18,
      "metadata": {
        "colab": {
          "base_uri": "https://localhost:8080/"
        },
        "collapsed": true,
        "id": "yjZ5N0Tl1pqf",
        "jupyter": {
          "outputs_hidden": true
        },
        "outputId": "757ec080-6200-4c70-c2dc-df93c4c8f85a"
      },
      "outputs": [
        {
          "output_type": "execute_result",
          "data": {
            "text/plain": [
              "57"
            ]
          },
          "metadata": {},
          "execution_count": 18
        }
      ],
      "source": [
        "len(data.columns)"
      ]
    },
    {
      "cell_type": "markdown",
      "source": [
        "Answer: There are **57** columns in the dataframe `data` from the code above. The process from `get_dummies` has performed one-hot encoding processing for cateforical features like `work`, turning that one column into multiple binary columns representing different categories and keep the Continuos Features intact.\n",
        "\n"
      ],
      "metadata": {
        "id": "6QeSiCpZvw42"
      }
    },
    {
      "cell_type": "markdown",
      "metadata": {
        "id": "OEJ0Ci3l1pqh"
      },
      "source": [
        "### Part (f) One-Hot Conversion [3 pt]\n",
        "\n",
        "We will convert the pandas data frame `data` into numpy, so that\n",
        "it can be further converted into a PyTorch tensor.\n",
        "However, in doing so, we lose the column label information that\n",
        "a panda data frame automatically stores.\n",
        "\n",
        "Complete the function `get_categorical_value` that will return\n",
        "the named value of a feature given a one-hot embedding.\n",
        "You may find the global variables `cat_index` and `cat_values`\n",
        "useful. (Display them and figure out what they are first.)\n",
        "\n",
        "We will need this function in the next part of the lab\n",
        "to interpret our autoencoder outputs. So, the input\n",
        "to our function `get_categorical_values` might not\n",
        "actually be \"one-hot\" -- the input may instead\n",
        "contain real-valued predictions from our neural network."
      ]
    },
    {
      "cell_type": "code",
      "execution_count": 19,
      "metadata": {
        "collapsed": true,
        "id": "ZmovX6gu1pqi",
        "jupyter": {
          "outputs_hidden": true
        }
      },
      "outputs": [],
      "source": [
        "datanp = data.values.astype(np.float32)"
      ]
    },
    {
      "cell_type": "code",
      "source": [
        "print(datanp.shape)\n",
        "print(datanp[:3])"
      ],
      "metadata": {
        "colab": {
          "base_uri": "https://localhost:8080/"
        },
        "id": "PeajvxkDzLnY",
        "outputId": "2004ae93-8673-4ba4-9712-8295239c6bc2"
      },
      "execution_count": 20,
      "outputs": [
        {
          "output_type": "stream",
          "name": "stdout",
          "text": [
            "(30718, 57)\n",
            "[[0.30136988 0.8        0.02174022 0.         0.39795917 0.\n",
            "  0.         0.         0.         0.         1.         0.\n",
            "  0.         0.         0.         0.         1.         0.\n",
            "  0.         1.         0.         0.         0.         0.\n",
            "  0.         0.         0.         0.         0.         0.\n",
            "  0.         0.         0.         0.         0.         0.\n",
            "  0.         0.         0.         0.         0.         0.\n",
            "  1.         0.         0.         0.         0.         0.\n",
            "  0.         0.         1.         0.         0.         0.\n",
            "  0.         0.         1.        ]\n",
            " [0.4520548  0.8        0.         0.         0.12244898 0.\n",
            "  0.         0.         0.         1.         0.         0.\n",
            "  0.         0.         1.         0.         0.         0.\n",
            "  0.         0.         0.         0.         1.         0.\n",
            "  0.         0.         0.         0.         0.         0.\n",
            "  0.         0.         0.         0.         0.         0.\n",
            "  0.         0.         0.         0.         0.         0.\n",
            "  1.         0.         0.         0.         0.         0.\n",
            "  0.         1.         0.         0.         0.         0.\n",
            "  0.         0.         1.        ]\n",
            " [0.28767124 0.53333336 0.         0.         0.39795917 0.\n",
            "  0.         1.         0.         0.         0.         0.\n",
            "  1.         0.         0.         0.         0.         0.\n",
            "  0.         0.         0.         0.         0.         0.\n",
            "  1.         0.         0.         0.         0.         0.\n",
            "  0.         0.         0.         0.         0.         0.\n",
            "  0.         0.         0.         0.         0.         0.\n",
            "  0.         0.         1.         0.         0.         0.\n",
            "  0.         0.         1.         0.         0.         0.\n",
            "  0.         0.         1.        ]]\n"
          ]
        }
      ]
    },
    {
      "cell_type": "code",
      "execution_count": 21,
      "metadata": {
        "collapsed": true,
        "id": "YRIa5MBd1pql",
        "jupyter": {
          "outputs_hidden": true
        }
      },
      "outputs": [],
      "source": [
        "cat_index = {}  # Mapping of feature -> start index of feature in a record\n",
        "cat_values = {} # Mapping of feature -> list of categorical values the feature can take\n",
        "\n",
        "# build up the cat_index and cat_values dictionary\n",
        "for i, header in enumerate(data.keys()):\n",
        "    if \"_\" in header: # categorical header\n",
        "        feature, value = header.split()\n",
        "        feature = feature[:-1] # remove the last char; it is always an underscore\n",
        "        if feature not in cat_index:\n",
        "            cat_index[feature] = i\n",
        "            cat_values[feature] = [value]\n",
        "        else:\n",
        "            cat_values[feature].append(value)\n",
        "\n",
        "def get_onehot(record, feature):\n",
        "    \"\"\"\n",
        "    Return the portion of `record` that is the one-hot encoding\n",
        "    of `feature`. For example, since the feature \"work\" is stored\n",
        "    in the indices [5:12] in each record, calling `get_range(record, \"work\")`\n",
        "    is equivalent to accessing `record[5:12]`.\n",
        "\n",
        "    Args:\n",
        "        - record: a numpy array representing one record, formatted\n",
        "                  the same way as a row in `data.np`\n",
        "        - feature: a string, should be an element of `catcols`\n",
        "    \"\"\"\n",
        "    start_index = cat_index[feature]\n",
        "    stop_index = cat_index[feature] + len(cat_values[feature])\n",
        "    return record[start_index:stop_index]\n",
        "\n",
        "def get_categorical_value(onehot, feature):\n",
        "    \"\"\"\n",
        "    Return the categorical value name of a feature given\n",
        "    a one-hot vector representing the feature.\n",
        "\n",
        "    Args:\n",
        "        - onehot: a numpy array one-hot representation of the feature\n",
        "        - feature: a string, should be an element of `catcols`\n",
        "\n",
        "    Examples:\n",
        "\n",
        "    >>> get_categorical_value(np.array([0., 0., 0., 0., 0., 1., 0.]), \"work\")\n",
        "    'State-gov'\n",
        "    >>> get_categorical_value(np.array([0.1, 0., 1.1, 0.2, 0., 1., 0.]), \"work\")\n",
        "    'Private'\n",
        "    \"\"\"\n",
        "    # <----- TODO: WRITE YOUR CODE HERE ----->\n",
        "    # You may find the variables `cat_index` and `cat_values`\n",
        "    # (created above) useful.\n",
        "    return cat_values[feature][np.argmax(onehot)]"
      ]
    },
    {
      "cell_type": "markdown",
      "source": [
        "Unit Testing for `get_categorical_value`:"
      ],
      "metadata": {
        "id": "-g5SZSrb8Dgh"
      }
    },
    {
      "cell_type": "code",
      "source": [
        "get_categorical_value(np.array([0., 0., 0., 0., 0., 1., 0.]), \"work\")"
      ],
      "metadata": {
        "colab": {
          "base_uri": "https://localhost:8080/",
          "height": 37
        },
        "id": "E0br53Pb76y9",
        "outputId": "39ca6f7b-e3fc-49ad-de29-70d23cfa60ad"
      },
      "execution_count": 22,
      "outputs": [
        {
          "output_type": "execute_result",
          "data": {
            "text/plain": [
              "'State-gov'"
            ],
            "application/vnd.google.colaboratory.intrinsic+json": {
              "type": "string"
            }
          },
          "metadata": {},
          "execution_count": 22
        }
      ]
    },
    {
      "cell_type": "code",
      "source": [
        "get_categorical_value(np.array([0.1, 0., 1.1, 0.2, 0., 1., 0.]), \"work\")"
      ],
      "metadata": {
        "colab": {
          "base_uri": "https://localhost:8080/",
          "height": 37
        },
        "id": "ZFNNBsPG7-y7",
        "outputId": "71b94ce1-dd4c-444e-89bd-755d61fc3148"
      },
      "execution_count": 23,
      "outputs": [
        {
          "output_type": "execute_result",
          "data": {
            "text/plain": [
              "'Private'"
            ],
            "application/vnd.google.colaboratory.intrinsic+json": {
              "type": "string"
            }
          },
          "metadata": {},
          "execution_count": 23
        }
      ]
    },
    {
      "cell_type": "code",
      "execution_count": 24,
      "metadata": {
        "collapsed": true,
        "id": "T_XXxZdh1pqv",
        "jupyter": {
          "outputs_hidden": true
        }
      },
      "outputs": [],
      "source": [
        "# more useful code, used during training, that depends on the function\n",
        "# you write above\n",
        "\n",
        "def get_feature(record, feature):\n",
        "    \"\"\"\n",
        "    Return the categorical feature value of a record\n",
        "    \"\"\"\n",
        "    onehot = get_onehot(record, feature)\n",
        "    return get_categorical_value(onehot, feature)\n",
        "\n",
        "def get_features(record):\n",
        "    \"\"\"\n",
        "    Return a dictionary of all categorical feature values of a record\n",
        "    \"\"\"\n",
        "    return { f: get_feature(record, f) for f in catcols }"
      ]
    },
    {
      "cell_type": "markdown",
      "metadata": {
        "id": "1_5ZZR_J1pqy"
      },
      "source": [
        "### Part (g) Train/Test Split [3 pt]\n",
        "\n",
        "Randomly split the data into approximately 70% training, 15% validation and 15% test.\n",
        "\n",
        "Report the number of items in your training, validation, and test set."
      ]
    },
    {
      "cell_type": "code",
      "execution_count": 25,
      "metadata": {
        "collapsed": true,
        "id": "TE_fTJJf1pqz",
        "jupyter": {
          "outputs_hidden": true
        }
      },
      "outputs": [],
      "source": [
        "# set the numpy seed for reproducibility\n",
        "# https://docs.scipy.org/doc/numpy/reference/generated/numpy.random.seed.html\n",
        "np.random.seed(50)\n",
        "\n",
        "# todo\n",
        "train_size = int(0.7 * len(datanp))\n",
        "valid_size = int(0.15 * len(datanp))\n",
        "test_size = len(datanp) - train_size - valid_size\n",
        "train_data, valid_data, test_data = torch.utils.data.random_split(datanp, [train_size, valid_size, test_size])\n"
      ]
    },
    {
      "cell_type": "code",
      "source": [
        "print(f'Training set size: {len(train_data)}')\n",
        "print(f'Validation set size: {len(valid_data)}')\n",
        "print(f'Test set size: {len(test_data)}')"
      ],
      "metadata": {
        "colab": {
          "base_uri": "https://localhost:8080/"
        },
        "id": "zF6LdeGezlU-",
        "outputId": "5fc4bd8a-1588-413a-ccc5-847714c17e46"
      },
      "execution_count": 26,
      "outputs": [
        {
          "output_type": "stream",
          "name": "stdout",
          "text": [
            "Training set size: 21502\n",
            "Validation set size: 4607\n",
            "Test set size: 4609\n"
          ]
        }
      ]
    },
    {
      "cell_type": "markdown",
      "metadata": {
        "id": "h9wJAKOI1pq3"
      },
      "source": [
        "## Part 2. Model Setup [5 pt]\n",
        "\n",
        "### Part (a) [4 pt]\n",
        "\n",
        "Design a fully-connected autoencoder by modifying the `encoder` and `decoder`\n",
        "below.\n",
        "\n",
        "The input to this autoencoder will be the features of the `data`, with\n",
        "one categorical feature recorded as \"missing\". The output of the autoencoder\n",
        "should be the reconstruction of the same features, but with the missing\n",
        "value filled in.\n",
        "\n",
        "**Note**: Do not reduce the dimensionality of the input too much!\n",
        "The output of your embedding is expected to contain information\n",
        "about ~11 features."
      ]
    },
    {
      "cell_type": "code",
      "execution_count": 27,
      "metadata": {
        "collapsed": true,
        "id": "f3F--tdn1pq3",
        "jupyter": {
          "outputs_hidden": true
        }
      },
      "outputs": [],
      "source": [
        "from torch import nn\n",
        "\n",
        "class AutoEncoder(nn.Module):\n",
        "    def __init__(self):\n",
        "        super(AutoEncoder, self).__init__()\n",
        "        self.name = \"AutoEncoder\"\n",
        "        self.encoder = nn.Sequential(\n",
        "            nn.Linear(57, 40), # TODO -- FILL OUT THE CODE HERE!\n",
        "            nn.ReLU(),\n",
        "            nn.Linear(40, 25),\n",
        "            nn.ReLU(),\n",
        "        )\n",
        "        self.decoder = nn.Sequential(\n",
        "            nn.Linear(25, 40), # TODO -- FILL OUT THE CODE HERE!\n",
        "            nn.ReLU(),\n",
        "            nn.Linear(40, 57),\n",
        "            nn.Sigmoid() # get to the range (0, 1)\n",
        "        )\n",
        "\n",
        "    def forward(self, x):\n",
        "        x = self.encoder(x)\n",
        "        x = self.decoder(x)\n",
        "        return x"
      ]
    },
    {
      "cell_type": "markdown",
      "metadata": {
        "id": "kuEzTSAv1pq6"
      },
      "source": [
        "### Part (b) [1 pt]\n",
        "\n",
        "Explain why there is a sigmoid activation in the last step of the decoder.\n",
        "\n",
        "(**Note**: the values inside the data frame `data` and the training code in Part 3 might be helpful.)"
      ]
    },
    {
      "cell_type": "markdown",
      "source": [
        "**Answer:** Sigmoid in the last step ensures the output is in the range of 0 and 1. This is because we have normalized our data to the range of 0 and 1."
      ],
      "metadata": {
        "id": "pE0VwFpdz2e1"
      }
    },
    {
      "cell_type": "markdown",
      "metadata": {
        "id": "jYwqFWVl1pq8"
      },
      "source": [
        "## Part 3. Training [18]\n",
        "\n",
        "### Part (a) [6 pt]\n",
        "\n",
        "We will train our autoencoder in the following way:\n",
        "\n",
        "- In each iteration, we will hide one of the categorical features using the `zero_out_random_features` function\n",
        "- We will pass the data with one missing feature through the autoencoder, and obtain a reconstruction\n",
        "- We will check how close the reconstruction is compared to the original data -- including the value of the missing feature\n",
        "\n",
        "Complete the code to train the autoencoder, and plot the training and validation loss every few iterations.\n",
        "You may also want to plot training and validation \"accuracy\" every few iterations, as we will define in\n",
        "part (b). You may also want to checkpoint your model every few iterations or epochs.\n",
        "\n",
        "Use `nn.MSELoss()` as your loss function. (Side note: you might recognize that this loss function is not\n",
        "ideal for this problem, but we will use it anyway.)"
      ]
    },
    {
      "cell_type": "code",
      "source": [
        "import time\n",
        "import matplotlib.pyplot as plt"
      ],
      "metadata": {
        "id": "s-Xo-k8xySMe"
      },
      "execution_count": 28,
      "outputs": []
    },
    {
      "cell_type": "code",
      "source": [
        "def zero_out_feature(records, feature):\n",
        "    \"\"\" Set the feature missing in records, by setting the appropriate\n",
        "    columns of records to 0\n",
        "    \"\"\"\n",
        "    start_index = cat_index[feature]\n",
        "    stop_index = cat_index[feature] + len(cat_values[feature])\n",
        "    records[:, start_index:stop_index] = 0\n",
        "    return records\n",
        "\n",
        "def zero_out_random_feature(records):\n",
        "    \"\"\" Set one random feature missing in records, by setting the\n",
        "    appropriate columns of records to 0\n",
        "    \"\"\"\n",
        "    return zero_out_feature(records, random.choice(catcols))\n",
        "\n",
        "def train(model, train_data, valid_data, batch_size=64, num_epochs=5, learning_rate=1e-4, plotting=True):\n",
        "    \"\"\" Training loop. You should update this.\"\"\"\n",
        "    train_loader = torch.utils.data.DataLoader(train_data, batch_size=batch_size, shuffle=True)\n",
        "    val_loader = torch.utils.data.DataLoader(valid_data, batch_size=batch_size, shuffle=False) # no shuffle to ensure consistency\n",
        "\n",
        "    torch.manual_seed(42)\n",
        "    criterion = nn.MSELoss()\n",
        "    optimizer = torch.optim.Adam(model.parameters(), lr=learning_rate)\n",
        "\n",
        "    epochs, train_losses, val_losses, train_acc, val_acc = [], [], [], [], []\n",
        "\n",
        "    start_time = time.time()\n",
        "\n",
        "    for epoch in range(num_epochs):\n",
        "\n",
        "        # Training Phase\n",
        "        model.train()\n",
        "        total_train_loss = 0.0\n",
        "\n",
        "        for data in train_loader:\n",
        "            datam = zero_out_random_feature(data.clone()) # zero out one categorical feature\n",
        "            recon = model(datam)\n",
        "            train_loss = criterion(recon, data)\n",
        "            train_loss.backward()\n",
        "            optimizer.step()\n",
        "            optimizer.zero_grad()\n",
        "\n",
        "            total_train_loss += train_loss.item()\n",
        "\n",
        "        average_train_loss = total_train_loss / len(train_loader)\n",
        "        train_losses.append(average_train_loss) # compute *average* loss\n",
        "\n",
        "        # Save the current model (checkpoint) to a file\n",
        "        model_path = get_model_name(model.name, batch_size, learning_rate, epoch)\n",
        "        torch.save(model.state_dict(), model_path)\n",
        "\n",
        "        # Validation Phase\n",
        "        model.eval()\n",
        "        total_val_loss = 0.0\n",
        "\n",
        "        with torch.no_grad():\n",
        "          for data in val_loader:\n",
        "              datam = zero_out_random_feature(data.clone()) # zero out one categorical feature\n",
        "              recon = model(datam)\n",
        "              loss = criterion(recon, data)\n",
        "              total_val_loss += loss.item()\n",
        "\n",
        "        average_val_loss = total_val_loss / len(val_loader)\n",
        "        val_losses.append(average_val_loss)\n",
        "\n",
        "        # compute accuracy\n",
        "        train_acc.append(get_accuracy(model, train_loader))  # compute training accuracy\n",
        "        val_acc.append(get_accuracy(model, val_loader))    #compute validation accuracy\n",
        "\n",
        "        epochs.append(epoch + 1)\n",
        "\n",
        "        if plotting:\n",
        "          print(f\"Epoch {epoch + 1}: Train Acc: {train_acc[-1]:.4f} | Train Loss: {train_losses[-1]:.4f} | \"\n",
        "                f\"Validation Acc: {val_acc[-1]:.4f} | Validation Loss: {val_losses[-1]:.4f}\")\n",
        "\n",
        "    print(\"Finish Training\")\n",
        "    elapsed_time = time.time() - start_time\n",
        "    print(f\"Total time elapsed: {elapsed_time:.2f} seconds\")\n",
        "\n",
        "    if plotting:\n",
        "      # plot loss curve\n",
        "      plt.title(\"Training Loss Curve\")\n",
        "      plt.plot(epochs, train_losses, label=\"Train\")\n",
        "      plt.plot(epochs, val_losses, label=\"Validation\")\n",
        "      plt.xlabel(\"Iterations\")\n",
        "      plt.ylabel(\"Loss\")\n",
        "      plt.legend(loc='best')\n",
        "      plt.show()\n",
        "\n",
        "      # Plot Accuracy Curve\n",
        "      plt.title(\"Training Accuracy Curve\")\n",
        "      plt.plot(epochs, train_acc, label=\"Train\")\n",
        "      plt.plot(epochs, val_acc, label=\"Validation\")\n",
        "      plt.xlabel(\"Iterations\")\n",
        "      plt.ylabel(\"Accuracy\")\n",
        "      plt.legend(loc='best')\n",
        "      plt.show()\n",
        "\n",
        "    print(f\"Final Training Accuracy: {train_acc[-1]:.4f}\")\n",
        "    print(f\"Final Training Loss: {train_losses[-1]:.4f}\")\n",
        "    print(f\"Final Validation Accuracy: {val_acc[-1]:.4f}\")\n",
        "    print(f\"Final Validation Loss: {val_losses[-1]:.4f}\")\n",
        "\n",
        "def get_model_name(name, batch_size, learning_rate, epoch):\n",
        "    path = \"model_{0}_bs{1}_lr{2}_epoch{3}\".format(name,\n",
        "                                                   batch_size,\n",
        "                                                   learning_rate,\n",
        "                                                  epoch)\n",
        "    return path\n",
        "\n"
      ],
      "metadata": {
        "id": "QbX13MAgxa_M"
      },
      "execution_count": 29,
      "outputs": []
    },
    {
      "cell_type": "markdown",
      "metadata": {
        "id": "WKk01pwx1pq_"
      },
      "source": [
        "### Part (b) [3 pt]\n",
        "\n",
        "While plotting training and validation loss is valuable, loss values are harder to compare\n",
        "than accuracy percentages. It would be nice to have a measure of \"accuracy\" in this problem.\n",
        "\n",
        "Since we will only be imputing missing categorical values, we will define an accuracy measure.\n",
        "For each record and for each categorical feature, we determine whether\n",
        "the model can predict the categorical feature given all the other features of the record.\n",
        "\n",
        "A function `get_accuracy` is written for you. It is up to you to figure out how to\n",
        "use the function. **You don't need to submit anything in this part.**\n",
        "To earn the marks, correctly plot the training and validation accuracy every few\n",
        "iterations as part of your training curve."
      ]
    },
    {
      "cell_type": "code",
      "execution_count": 30,
      "metadata": {
        "collapsed": true,
        "id": "bHWLfCzM1pq_",
        "jupyter": {
          "outputs_hidden": true
        }
      },
      "outputs": [],
      "source": [
        "def get_accuracy(model, data_loader):\n",
        "    \"\"\"Return the \"accuracy\" of the autoencoder model across a data set.\n",
        "    That is, for each record and for each categorical feature,\n",
        "    we determine whether the model can successfully predict the value\n",
        "    of the categorical feature given all the other features of the\n",
        "    record. The returned \"accuracy\" measure is the percentage of times\n",
        "    that our model is successful.\n",
        "\n",
        "    Args:\n",
        "       - model: the autoencoder model, an instance of nn.Module\n",
        "       - data_loader: an instance of torch.utils.data.DataLoader\n",
        "\n",
        "    Example (to illustrate how get_accuracy is intended to be called.\n",
        "             Depending on your variable naming this code might require\n",
        "             modification.)\n",
        "\n",
        "        >>> model = AutoEncoder()\n",
        "        >>> vdl = torch.utils.data.DataLoader(data_valid, batch_size=256, shuffle=True)\n",
        "        >>> get_accuracy(model, vdl)\n",
        "    \"\"\"\n",
        "    total = 0\n",
        "    acc = 0\n",
        "    for col in catcols:\n",
        "        for item in data_loader: # minibatches\n",
        "            inp = item.detach().numpy()\n",
        "            out = model(zero_out_feature(item.clone(), col)).detach().numpy()\n",
        "            for i in range(out.shape[0]): # record in minibatch\n",
        "                acc += int(get_feature(out[i], col) == get_feature(inp[i], col))\n",
        "                total += 1\n",
        "    return acc / total"
      ]
    },
    {
      "cell_type": "markdown",
      "metadata": {
        "id": "SxCTlXoV1prB"
      },
      "source": [
        "### Part (c) [4 pt]\n",
        "\n",
        "Run your updated training code, using reasonable initial hyperparameters.\n",
        "\n",
        "Include your training curve in your submission."
      ]
    },
    {
      "cell_type": "code",
      "execution_count": 34,
      "metadata": {
        "colab": {
          "base_uri": "https://localhost:8080/",
          "height": 1000
        },
        "collapsed": true,
        "id": "nj5b71l-1prC",
        "jupyter": {
          "outputs_hidden": true
        },
        "outputId": "2c0d20dd-da23-4063-d99b-7d879615afd8"
      },
      "outputs": [
        {
          "output_type": "stream",
          "name": "stdout",
          "text": [
            "Epoch 1: Train Acc: 0.4214 | Train Loss: 0.2075 | Validation Acc: 0.4200 | Validation Loss: 0.1256\n",
            "Epoch 2: Train Acc: 0.4599 | Train Loss: 0.0809 | Validation Acc: 0.4594 | Validation Loss: 0.0717\n",
            "Epoch 3: Train Acc: 0.4604 | Train Loss: 0.0709 | Validation Acc: 0.4588 | Validation Loss: 0.0707\n",
            "Epoch 4: Train Acc: 0.4593 | Train Loss: 0.0701 | Validation Acc: 0.4576 | Validation Loss: 0.0699\n",
            "Epoch 5: Train Acc: 0.4604 | Train Loss: 0.0689 | Validation Acc: 0.4579 | Validation Loss: 0.0680\n",
            "Epoch 6: Train Acc: 0.5124 | Train Loss: 0.0649 | Validation Acc: 0.5108 | Validation Loss: 0.0615\n",
            "Epoch 7: Train Acc: 0.5225 | Train Loss: 0.0583 | Validation Acc: 0.5226 | Validation Loss: 0.0564\n",
            "Epoch 8: Train Acc: 0.5391 | Train Loss: 0.0553 | Validation Acc: 0.5398 | Validation Loss: 0.0545\n",
            "Epoch 9: Train Acc: 0.5585 | Train Loss: 0.0536 | Validation Acc: 0.5550 | Validation Loss: 0.0527\n",
            "Epoch 10: Train Acc: 0.5682 | Train Loss: 0.0516 | Validation Acc: 0.5656 | Validation Loss: 0.0508\n",
            "Epoch 11: Train Acc: 0.5705 | Train Loss: 0.0495 | Validation Acc: 0.5672 | Validation Loss: 0.0487\n",
            "Epoch 12: Train Acc: 0.5704 | Train Loss: 0.0478 | Validation Acc: 0.5677 | Validation Loss: 0.0469\n",
            "Epoch 13: Train Acc: 0.5749 | Train Loss: 0.0461 | Validation Acc: 0.5706 | Validation Loss: 0.0453\n",
            "Epoch 14: Train Acc: 0.5764 | Train Loss: 0.0441 | Validation Acc: 0.5707 | Validation Loss: 0.0430\n",
            "Epoch 15: Train Acc: 0.5791 | Train Loss: 0.0419 | Validation Acc: 0.5754 | Validation Loss: 0.0411\n",
            "Epoch 16: Train Acc: 0.5862 | Train Loss: 0.0403 | Validation Acc: 0.5841 | Validation Loss: 0.0395\n",
            "Epoch 17: Train Acc: 0.5885 | Train Loss: 0.0390 | Validation Acc: 0.5883 | Validation Loss: 0.0386\n",
            "Epoch 18: Train Acc: 0.5923 | Train Loss: 0.0380 | Validation Acc: 0.5909 | Validation Loss: 0.0375\n",
            "Epoch 19: Train Acc: 0.5979 | Train Loss: 0.0372 | Validation Acc: 0.5984 | Validation Loss: 0.0366\n",
            "Epoch 20: Train Acc: 0.6001 | Train Loss: 0.0362 | Validation Acc: 0.6021 | Validation Loss: 0.0357\n",
            "Epoch 21: Train Acc: 0.6030 | Train Loss: 0.0353 | Validation Acc: 0.6053 | Validation Loss: 0.0348\n",
            "Epoch 22: Train Acc: 0.6046 | Train Loss: 0.0343 | Validation Acc: 0.6066 | Validation Loss: 0.0340\n",
            "Epoch 23: Train Acc: 0.6068 | Train Loss: 0.0335 | Validation Acc: 0.6078 | Validation Loss: 0.0329\n",
            "Epoch 24: Train Acc: 0.6094 | Train Loss: 0.0324 | Validation Acc: 0.6110 | Validation Loss: 0.0320\n",
            "Epoch 25: Train Acc: 0.6095 | Train Loss: 0.0315 | Validation Acc: 0.6109 | Validation Loss: 0.0310\n",
            "Epoch 26: Train Acc: 0.6116 | Train Loss: 0.0307 | Validation Acc: 0.6127 | Validation Loss: 0.0303\n",
            "Epoch 27: Train Acc: 0.6094 | Train Loss: 0.0297 | Validation Acc: 0.6107 | Validation Loss: 0.0297\n",
            "Epoch 28: Train Acc: 0.6113 | Train Loss: 0.0288 | Validation Acc: 0.6120 | Validation Loss: 0.0285\n",
            "Epoch 29: Train Acc: 0.6113 | Train Loss: 0.0282 | Validation Acc: 0.6129 | Validation Loss: 0.0282\n",
            "Epoch 30: Train Acc: 0.6092 | Train Loss: 0.0275 | Validation Acc: 0.6105 | Validation Loss: 0.0272\n",
            "Epoch 31: Train Acc: 0.6152 | Train Loss: 0.0269 | Validation Acc: 0.6152 | Validation Loss: 0.0271\n",
            "Epoch 32: Train Acc: 0.6139 | Train Loss: 0.0264 | Validation Acc: 0.6146 | Validation Loss: 0.0258\n",
            "Epoch 33: Train Acc: 0.6144 | Train Loss: 0.0259 | Validation Acc: 0.6145 | Validation Loss: 0.0260\n",
            "Epoch 34: Train Acc: 0.6130 | Train Loss: 0.0257 | Validation Acc: 0.6141 | Validation Loss: 0.0250\n",
            "Epoch 35: Train Acc: 0.6147 | Train Loss: 0.0253 | Validation Acc: 0.6156 | Validation Loss: 0.0251\n",
            "Epoch 36: Train Acc: 0.6165 | Train Loss: 0.0250 | Validation Acc: 0.6157 | Validation Loss: 0.0252\n",
            "Epoch 37: Train Acc: 0.6173 | Train Loss: 0.0245 | Validation Acc: 0.6175 | Validation Loss: 0.0243\n",
            "Epoch 38: Train Acc: 0.6158 | Train Loss: 0.0241 | Validation Acc: 0.6146 | Validation Loss: 0.0241\n",
            "Epoch 39: Train Acc: 0.6167 | Train Loss: 0.0240 | Validation Acc: 0.6171 | Validation Loss: 0.0241\n",
            "Epoch 40: Train Acc: 0.6153 | Train Loss: 0.0238 | Validation Acc: 0.6141 | Validation Loss: 0.0232\n",
            "Epoch 41: Train Acc: 0.6154 | Train Loss: 0.0235 | Validation Acc: 0.6139 | Validation Loss: 0.0233\n",
            "Epoch 42: Train Acc: 0.6144 | Train Loss: 0.0230 | Validation Acc: 0.6143 | Validation Loss: 0.0230\n",
            "Epoch 43: Train Acc: 0.6159 | Train Loss: 0.0228 | Validation Acc: 0.6156 | Validation Loss: 0.0225\n",
            "Epoch 44: Train Acc: 0.6157 | Train Loss: 0.0227 | Validation Acc: 0.6138 | Validation Loss: 0.0225\n",
            "Epoch 45: Train Acc: 0.6173 | Train Loss: 0.0224 | Validation Acc: 0.6165 | Validation Loss: 0.0224\n",
            "Epoch 46: Train Acc: 0.6178 | Train Loss: 0.0221 | Validation Acc: 0.6161 | Validation Loss: 0.0220\n",
            "Epoch 47: Train Acc: 0.6144 | Train Loss: 0.0218 | Validation Acc: 0.6141 | Validation Loss: 0.0218\n",
            "Epoch 48: Train Acc: 0.6166 | Train Loss: 0.0219 | Validation Acc: 0.6150 | Validation Loss: 0.0217\n",
            "Epoch 49: Train Acc: 0.6176 | Train Loss: 0.0214 | Validation Acc: 0.6163 | Validation Loss: 0.0214\n",
            "Epoch 50: Train Acc: 0.6166 | Train Loss: 0.0216 | Validation Acc: 0.6147 | Validation Loss: 0.0213\n",
            "Finish Training\n",
            "Total time elapsed: 170.99 seconds\n"
          ]
        },
        {
          "output_type": "display_data",
          "data": {
            "text/plain": [
              "<Figure size 640x480 with 1 Axes>"
            ],
            "image/png": "[encoded data removed]"
          },
          "metadata": {}
        },
        {
          "output_type": "display_data",
          "data": {
            "text/plain": [
              "<Figure size 640x480 with 1 Axes>"
            ],
            "image/png": "[encoded data removed]"
          },
          "metadata": {}
        },
        {
          "output_type": "stream",
          "name": "stdout",
          "text": [
            "Final Training Accuracy: 0.6166\n",
            "Final Training Loss: 0.0216\n",
            "Final Validation Accuracy: 0.6147\n",
            "Final Validation Loss: 0.0213\n"
          ]
        }
      ],
      "source": [
        "model = AutoEncoder()\n",
        "train(model, train_data, valid_data, batch_size=64, num_epochs=50, learning_rate=1e-4)"
      ]
    },
    {
      "cell_type": "markdown",
      "metadata": {
        "id": "h9xTwIf51prF"
      },
      "source": [
        "### Part (d) [5 pt]\n",
        "\n",
        "Tune your hyperparameters, training at least 4 different models (4 sets of hyperparameters).\n",
        "\n",
        "Do not include all your training curves. Instead, explain what hyperparameters\n",
        "you tried, what their effect was, and what your thought process was as you\n",
        "chose the next set of hyperparameters to try."
      ]
    },
    {
      "cell_type": "markdown",
      "source": [
        "**Answer**: The model showed good trends of a steadily increasing accuracy and decreasing loss, without any sign of overfitting, but starts to enter a plateau, and ened up with 0.6147 Validation Accuracy.\n",
        "- So I first increased the batach size in the hope to speed up training, but the performance went down slightly, but basicaly is the same.\n",
        "- The second time, I decreased the batch_size, and the accuracy increased slightly to 0.6301.\n",
        "- The third time, I tried to increase model complexity by adding another layer, but this didn't solve the plataeu issue, and the validation accuracy is slightly worse at 0.6106.  \n",
        "- The fourth time I tried to have the first layer of my model to be an expansion layer, having more neurons than the input neuron, this did not help the performance, ended in 0.6044 Validation Accuracy, and the model still enters a plateau.  \n",
        "- The fifth time, I tried to widen my hidden space, this did not help.\n",
        "- The sixth time, I used the current best performing hyperaparameter, which is step 2, with original model and batch_size=32, I decreased learning rate to 1e-5, this worsen the validation Accuracy to 0.6036.\n",
        "- The seventh time, I did the other way around, increasing learning rate to 1e-3, this significantly increased validation Accuracy to 0.6649 and decrease Validation Loss to 0.0103. I think the increase in learning rate helped my model to evade local minimum.\n",
        "- ... After tuning around the seventh time hyperparameter, My model's performance ended up with 0.7156 Validation Accuracy, 0.0084 Validation Loss, on batch_size=64, learning_rate=3e-3, epoch=44."
      ],
      "metadata": {
        "id": "5_31Pjd8HBad"
      }
    },
    {
      "cell_type": "code",
      "execution_count": 32,
      "metadata": {
        "colab": {
          "base_uri": "https://localhost:8080/"
        },
        "collapsed": true,
        "id": "PhTKt9iL1prG",
        "jupyter": {
          "outputs_hidden": true
        },
        "outputId": "95c4b468-e183-48f0-c24e-fbd3e840291f"
      },
      "outputs": [
        {
          "output_type": "stream",
          "name": "stdout",
          "text": [
            "Finish Training\n",
            "Total time elapsed: 126.61 seconds\n",
            "Final Training Accuracy: 0.6162\n",
            "Final Training Loss: 0.0273\n",
            "Final Validation Accuracy: 0.6132\n",
            "Final Validation Loss: 0.0276\n"
          ]
        }
      ],
      "source": [
        "# 1.increase batch size\n",
        "model = AutoEncoder()\n",
        "train(model, train_data, valid_data, batch_size=128, num_epochs=50, learning_rate=1e-4, plotting=False)"
      ]
    },
    {
      "cell_type": "code",
      "source": [
        "# 2.decrease batch size\n",
        "model = AutoEncoder()\n",
        "train(model, train_data, valid_data, batch_size=32, num_epochs=50, learning_rate=1e-4, plotting=False)"
      ],
      "metadata": {
        "colab": {
          "base_uri": "https://localhost:8080/"
        },
        "id": "Ept7q9kH8RtZ",
        "outputId": "0d7040a0-79e5-4ede-9a18-303a145f2711"
      },
      "execution_count": 33,
      "outputs": [
        {
          "output_type": "stream",
          "name": "stdout",
          "text": [
            "Finish Training\n",
            "Total time elapsed: 252.00 seconds\n",
            "Final Training Accuracy: 0.6320\n",
            "Final Training Loss: 0.0162\n",
            "Final Validation Accuracy: 0.6301\n",
            "Final Validation Loss: 0.0162\n"
          ]
        }
      ]
    },
    {
      "cell_type": "code",
      "source": [
        "# 3.increase model complexity\n",
        "class ComplexAutoEncoder(nn.Module):\n",
        "    def __init__(self):\n",
        "        super(ComplexAutoEncoder, self).__init__()\n",
        "        self.name = \"ComplexAutoEncoder\"\n",
        "        self.encoder = nn.Sequential(\n",
        "            nn.Linear(57, 50), # TODO -- FILL OUT THE CODE HERE!\n",
        "            nn.ReLU(),\n",
        "            nn.Linear(50, 40),\n",
        "            nn.ReLU(),\n",
        "            nn.Linear(40, 30),\n",
        "            nn.ReLU(),\n",
        "            nn.Linear(30, 25),\n",
        "            nn.ReLU(),\n",
        "        )\n",
        "        self.decoder = nn.Sequential(\n",
        "            nn.Linear(25, 30), # TODO -- FILL OUT THE CODE HERE!\n",
        "            nn.ReLU(),\n",
        "            nn.Linear(30, 40),\n",
        "            nn.ReLU(),\n",
        "            nn.Linear(40, 50),\n",
        "            nn.ReLU(),\n",
        "            nn.Linear(50, 57),\n",
        "            nn.Sigmoid() # get to the range (0, 1)\n",
        "        )\n",
        "\n",
        "    def forward(self, x):\n",
        "        x = self.encoder(x)\n",
        "        x = self.decoder(x)\n",
        "        return x"
      ],
      "metadata": {
        "id": "WOEe3Idk8pIB"
      },
      "execution_count": 41,
      "outputs": []
    },
    {
      "cell_type": "code",
      "source": [
        "model = ComplexAutoEncoder()\n",
        "train(model, train_data, valid_data, batch_size=32, num_epochs=100, learning_rate=1e-4, plotting=True)"
      ],
      "metadata": {
        "colab": {
          "base_uri": "https://localhost:8080/",
          "height": 1000
        },
        "id": "ZZaLZNbB9iq5",
        "outputId": "9230f24b-b9fc-43b8-d5c2-b4727c7c4a60"
      },
      "execution_count": 42,
      "outputs": [
        {
          "output_type": "stream",
          "name": "stdout",
          "text": [
            "Epoch 1: Train Acc: 0.4605 | Train Loss: 0.1308 | Validation Acc: 0.4587 | Validation Loss: 0.0709\n",
            "Epoch 2: Train Acc: 0.4532 | Train Loss: 0.0698 | Validation Acc: 0.4518 | Validation Loss: 0.0686\n",
            "Epoch 3: Train Acc: 0.5444 | Train Loss: 0.0644 | Validation Acc: 0.5459 | Validation Loss: 0.0583\n",
            "Epoch 4: Train Acc: 0.5641 | Train Loss: 0.0561 | Validation Acc: 0.5674 | Validation Loss: 0.0545\n",
            "Epoch 5: Train Acc: 0.5718 | Train Loss: 0.0540 | Validation Acc: 0.5733 | Validation Loss: 0.0535\n",
            "Epoch 6: Train Acc: 0.5780 | Train Loss: 0.0530 | Validation Acc: 0.5794 | Validation Loss: 0.0527\n",
            "Epoch 7: Train Acc: 0.5801 | Train Loss: 0.0521 | Validation Acc: 0.5799 | Validation Loss: 0.0516\n",
            "Epoch 8: Train Acc: 0.5807 | Train Loss: 0.0511 | Validation Acc: 0.5809 | Validation Loss: 0.0508\n",
            "Epoch 9: Train Acc: 0.5839 | Train Loss: 0.0503 | Validation Acc: 0.5832 | Validation Loss: 0.0499\n",
            "Epoch 10: Train Acc: 0.5845 | Train Loss: 0.0496 | Validation Acc: 0.5837 | Validation Loss: 0.0496\n",
            "Epoch 11: Train Acc: 0.5859 | Train Loss: 0.0492 | Validation Acc: 0.5853 | Validation Loss: 0.0492\n",
            "Epoch 12: Train Acc: 0.5849 | Train Loss: 0.0488 | Validation Acc: 0.5843 | Validation Loss: 0.0492\n",
            "Epoch 13: Train Acc: 0.5861 | Train Loss: 0.0485 | Validation Acc: 0.5849 | Validation Loss: 0.0483\n",
            "Epoch 14: Train Acc: 0.5908 | Train Loss: 0.0483 | Validation Acc: 0.5903 | Validation Loss: 0.0480\n",
            "Epoch 15: Train Acc: 0.5910 | Train Loss: 0.0478 | Validation Acc: 0.5885 | Validation Loss: 0.0479\n",
            "Epoch 16: Train Acc: 0.5896 | Train Loss: 0.0476 | Validation Acc: 0.5863 | Validation Loss: 0.0477\n",
            "Epoch 17: Train Acc: 0.5958 | Train Loss: 0.0472 | Validation Acc: 0.5932 | Validation Loss: 0.0469\n",
            "Epoch 18: Train Acc: 0.5915 | Train Loss: 0.0468 | Validation Acc: 0.5886 | Validation Loss: 0.0470\n",
            "Epoch 19: Train Acc: 0.5931 | Train Loss: 0.0464 | Validation Acc: 0.5903 | Validation Loss: 0.0463\n",
            "Epoch 20: Train Acc: 0.5911 | Train Loss: 0.0460 | Validation Acc: 0.5889 | Validation Loss: 0.0461\n",
            "Epoch 21: Train Acc: 0.5951 | Train Loss: 0.0458 | Validation Acc: 0.5917 | Validation Loss: 0.0456\n",
            "Epoch 22: Train Acc: 0.5948 | Train Loss: 0.0454 | Validation Acc: 0.5928 | Validation Loss: 0.0453\n",
            "Epoch 23: Train Acc: 0.5990 | Train Loss: 0.0449 | Validation Acc: 0.5952 | Validation Loss: 0.0454\n",
            "Epoch 24: Train Acc: 0.5975 | Train Loss: 0.0446 | Validation Acc: 0.5941 | Validation Loss: 0.0446\n",
            "Epoch 25: Train Acc: 0.5979 | Train Loss: 0.0442 | Validation Acc: 0.5943 | Validation Loss: 0.0442\n",
            "Epoch 26: Train Acc: 0.6015 | Train Loss: 0.0437 | Validation Acc: 0.5985 | Validation Loss: 0.0438\n",
            "Epoch 27: Train Acc: 0.6019 | Train Loss: 0.0433 | Validation Acc: 0.5983 | Validation Loss: 0.0433\n",
            "Epoch 28: Train Acc: 0.6041 | Train Loss: 0.0431 | Validation Acc: 0.6009 | Validation Loss: 0.0430\n",
            "Epoch 29: Train Acc: 0.6034 | Train Loss: 0.0427 | Validation Acc: 0.5997 | Validation Loss: 0.0427\n",
            "Epoch 30: Train Acc: 0.6037 | Train Loss: 0.0425 | Validation Acc: 0.5992 | Validation Loss: 0.0424\n",
            "Epoch 31: Train Acc: 0.5983 | Train Loss: 0.0422 | Validation Acc: 0.5951 | Validation Loss: 0.0423\n",
            "Epoch 32: Train Acc: 0.6011 | Train Loss: 0.0418 | Validation Acc: 0.6002 | Validation Loss: 0.0422\n",
            "Epoch 33: Train Acc: 0.6016 | Train Loss: 0.0416 | Validation Acc: 0.6005 | Validation Loss: 0.0419\n",
            "Epoch 34: Train Acc: 0.6011 | Train Loss: 0.0413 | Validation Acc: 0.5988 | Validation Loss: 0.0413\n",
            "Epoch 35: Train Acc: 0.6043 | Train Loss: 0.0411 | Validation Acc: 0.6022 | Validation Loss: 0.0412\n",
            "Epoch 36: Train Acc: 0.6023 | Train Loss: 0.0408 | Validation Acc: 0.6025 | Validation Loss: 0.0411\n",
            "Epoch 37: Train Acc: 0.6026 | Train Loss: 0.0404 | Validation Acc: 0.6015 | Validation Loss: 0.0405\n",
            "Epoch 38: Train Acc: 0.6001 | Train Loss: 0.0402 | Validation Acc: 0.5996 | Validation Loss: 0.0401\n",
            "Epoch 39: Train Acc: 0.5957 | Train Loss: 0.0399 | Validation Acc: 0.5944 | Validation Loss: 0.0401\n",
            "Epoch 40: Train Acc: 0.6020 | Train Loss: 0.0396 | Validation Acc: 0.6007 | Validation Loss: 0.0397\n",
            "Epoch 41: Train Acc: 0.6023 | Train Loss: 0.0393 | Validation Acc: 0.6008 | Validation Loss: 0.0393\n",
            "Epoch 42: Train Acc: 0.6046 | Train Loss: 0.0389 | Validation Acc: 0.6011 | Validation Loss: 0.0392\n",
            "Epoch 43: Train Acc: 0.6041 | Train Loss: 0.0387 | Validation Acc: 0.6009 | Validation Loss: 0.0388\n",
            "Epoch 44: Train Acc: 0.5982 | Train Loss: 0.0382 | Validation Acc: 0.5937 | Validation Loss: 0.0384\n",
            "Epoch 45: Train Acc: 0.6016 | Train Loss: 0.0381 | Validation Acc: 0.5994 | Validation Loss: 0.0380\n",
            "Epoch 46: Train Acc: 0.6089 | Train Loss: 0.0378 | Validation Acc: 0.6040 | Validation Loss: 0.0381\n",
            "Epoch 47: Train Acc: 0.6057 | Train Loss: 0.0376 | Validation Acc: 0.6013 | Validation Loss: 0.0379\n",
            "Epoch 48: Train Acc: 0.6001 | Train Loss: 0.0375 | Validation Acc: 0.5966 | Validation Loss: 0.0376\n",
            "Epoch 49: Train Acc: 0.6030 | Train Loss: 0.0373 | Validation Acc: 0.5993 | Validation Loss: 0.0377\n",
            "Epoch 50: Train Acc: 0.6023 | Train Loss: 0.0371 | Validation Acc: 0.6001 | Validation Loss: 0.0374\n",
            "Epoch 51: Train Acc: 0.6083 | Train Loss: 0.0369 | Validation Acc: 0.6053 | Validation Loss: 0.0371\n",
            "Epoch 52: Train Acc: 0.5983 | Train Loss: 0.0369 | Validation Acc: 0.5964 | Validation Loss: 0.0368\n",
            "Epoch 53: Train Acc: 0.6031 | Train Loss: 0.0367 | Validation Acc: 0.6000 | Validation Loss: 0.0367\n",
            "Epoch 54: Train Acc: 0.6071 | Train Loss: 0.0366 | Validation Acc: 0.6039 | Validation Loss: 0.0369\n",
            "Epoch 55: Train Acc: 0.6106 | Train Loss: 0.0364 | Validation Acc: 0.6076 | Validation Loss: 0.0364\n",
            "Epoch 56: Train Acc: 0.6088 | Train Loss: 0.0362 | Validation Acc: 0.6054 | Validation Loss: 0.0366\n",
            "Epoch 57: Train Acc: 0.6046 | Train Loss: 0.0362 | Validation Acc: 0.6019 | Validation Loss: 0.0365\n",
            "Epoch 58: Train Acc: 0.6083 | Train Loss: 0.0360 | Validation Acc: 0.6052 | Validation Loss: 0.0363\n",
            "Epoch 59: Train Acc: 0.6080 | Train Loss: 0.0359 | Validation Acc: 0.6035 | Validation Loss: 0.0364\n",
            "Epoch 60: Train Acc: 0.6104 | Train Loss: 0.0359 | Validation Acc: 0.6054 | Validation Loss: 0.0363\n",
            "Epoch 61: Train Acc: 0.6062 | Train Loss: 0.0357 | Validation Acc: 0.6011 | Validation Loss: 0.0359\n",
            "Epoch 62: Train Acc: 0.6072 | Train Loss: 0.0356 | Validation Acc: 0.6032 | Validation Loss: 0.0359\n",
            "Epoch 63: Train Acc: 0.6101 | Train Loss: 0.0355 | Validation Acc: 0.6066 | Validation Loss: 0.0358\n",
            "Epoch 64: Train Acc: 0.6102 | Train Loss: 0.0354 | Validation Acc: 0.6042 | Validation Loss: 0.0358\n",
            "Epoch 65: Train Acc: 0.6061 | Train Loss: 0.0353 | Validation Acc: 0.6027 | Validation Loss: 0.0355\n",
            "Epoch 66: Train Acc: 0.6077 | Train Loss: 0.0353 | Validation Acc: 0.6028 | Validation Loss: 0.0357\n",
            "Epoch 67: Train Acc: 0.6125 | Train Loss: 0.0351 | Validation Acc: 0.6090 | Validation Loss: 0.0354\n",
            "Epoch 68: Train Acc: 0.6088 | Train Loss: 0.0351 | Validation Acc: 0.6042 | Validation Loss: 0.0357\n",
            "Epoch 69: Train Acc: 0.6138 | Train Loss: 0.0349 | Validation Acc: 0.6104 | Validation Loss: 0.0352\n",
            "Epoch 70: Train Acc: 0.6058 | Train Loss: 0.0349 | Validation Acc: 0.6005 | Validation Loss: 0.0353\n",
            "Epoch 71: Train Acc: 0.6105 | Train Loss: 0.0348 | Validation Acc: 0.6070 | Validation Loss: 0.0348\n",
            "Epoch 72: Train Acc: 0.6103 | Train Loss: 0.0347 | Validation Acc: 0.6049 | Validation Loss: 0.0351\n",
            "Epoch 73: Train Acc: 0.6144 | Train Loss: 0.0346 | Validation Acc: 0.6099 | Validation Loss: 0.0348\n",
            "Epoch 74: Train Acc: 0.6103 | Train Loss: 0.0346 | Validation Acc: 0.6076 | Validation Loss: 0.0349\n",
            "Epoch 75: Train Acc: 0.6092 | Train Loss: 0.0345 | Validation Acc: 0.6049 | Validation Loss: 0.0348\n",
            "Epoch 76: Train Acc: 0.6094 | Train Loss: 0.0344 | Validation Acc: 0.6056 | Validation Loss: 0.0348\n",
            "Epoch 77: Train Acc: 0.6099 | Train Loss: 0.0343 | Validation Acc: 0.6067 | Validation Loss: 0.0348\n",
            "Epoch 78: Train Acc: 0.6093 | Train Loss: 0.0342 | Validation Acc: 0.6048 | Validation Loss: 0.0344\n",
            "Epoch 79: Train Acc: 0.6046 | Train Loss: 0.0340 | Validation Acc: 0.5998 | Validation Loss: 0.0342\n",
            "Epoch 80: Train Acc: 0.6102 | Train Loss: 0.0341 | Validation Acc: 0.6080 | Validation Loss: 0.0342\n",
            "Epoch 81: Train Acc: 0.6056 | Train Loss: 0.0339 | Validation Acc: 0.6017 | Validation Loss: 0.0342\n",
            "Epoch 82: Train Acc: 0.6118 | Train Loss: 0.0338 | Validation Acc: 0.6092 | Validation Loss: 0.0344\n",
            "Epoch 83: Train Acc: 0.6074 | Train Loss: 0.0338 | Validation Acc: 0.6038 | Validation Loss: 0.0340\n",
            "Epoch 84: Train Acc: 0.6110 | Train Loss: 0.0336 | Validation Acc: 0.6074 | Validation Loss: 0.0337\n",
            "Epoch 85: Train Acc: 0.6098 | Train Loss: 0.0336 | Validation Acc: 0.6062 | Validation Loss: 0.0337\n",
            "Epoch 86: Train Acc: 0.6082 | Train Loss: 0.0334 | Validation Acc: 0.6031 | Validation Loss: 0.0339\n",
            "Epoch 87: Train Acc: 0.6089 | Train Loss: 0.0334 | Validation Acc: 0.6070 | Validation Loss: 0.0338\n",
            "Epoch 88: Train Acc: 0.6106 | Train Loss: 0.0331 | Validation Acc: 0.6066 | Validation Loss: 0.0333\n",
            "Epoch 89: Train Acc: 0.6040 | Train Loss: 0.0332 | Validation Acc: 0.5998 | Validation Loss: 0.0335\n",
            "Epoch 90: Train Acc: 0.6120 | Train Loss: 0.0330 | Validation Acc: 0.6073 | Validation Loss: 0.0331\n",
            "Epoch 91: Train Acc: 0.6101 | Train Loss: 0.0328 | Validation Acc: 0.6074 | Validation Loss: 0.0333\n",
            "Epoch 92: Train Acc: 0.6120 | Train Loss: 0.0327 | Validation Acc: 0.6081 | Validation Loss: 0.0330\n",
            "Epoch 93: Train Acc: 0.6106 | Train Loss: 0.0325 | Validation Acc: 0.6061 | Validation Loss: 0.0330\n",
            "Epoch 94: Train Acc: 0.6135 | Train Loss: 0.0324 | Validation Acc: 0.6087 | Validation Loss: 0.0328\n",
            "Epoch 95: Train Acc: 0.6088 | Train Loss: 0.0323 | Validation Acc: 0.6039 | Validation Loss: 0.0325\n",
            "Epoch 96: Train Acc: 0.6127 | Train Loss: 0.0320 | Validation Acc: 0.6083 | Validation Loss: 0.0324\n",
            "Epoch 97: Train Acc: 0.6147 | Train Loss: 0.0320 | Validation Acc: 0.6083 | Validation Loss: 0.0321\n",
            "Epoch 98: Train Acc: 0.6203 | Train Loss: 0.0318 | Validation Acc: 0.6155 | Validation Loss: 0.0321\n",
            "Epoch 99: Train Acc: 0.6137 | Train Loss: 0.0316 | Validation Acc: 0.6078 | Validation Loss: 0.0316\n",
            "Epoch 100: Train Acc: 0.6166 | Train Loss: 0.0315 | Validation Acc: 0.6106 | Validation Loss: 0.0317\n",
            "Finish Training\n",
            "Total time elapsed: 654.71 seconds\n"
          ]
        },
        {
          "output_type": "display_data",
          "data": {
            "text/plain": [
              "<Figure size 640x480 with 1 Axes>"
            ],
            "image/png": "[encoded data removed]"
          },
          "metadata": {}
        },
        {
          "output_type": "display_data",
          "data": {
            "text/plain": [
              "<Figure size 640x480 with 1 Axes>"
            ],
            "image/png": "[encoded data removed]"
          },
          "metadata": {}
        },
        {
          "output_type": "stream",
          "name": "stdout",
          "text": [
            "Final Training Accuracy: 0.6166\n",
            "Final Training Loss: 0.0315\n",
            "Final Validation Accuracy: 0.6106\n",
            "Final Validation Loss: 0.0317\n"
          ]
        }
      ]
    },
    {
      "cell_type": "code",
      "source": [
        "# 4. increase hidden layer size first then decrease\n",
        "class UpscaleAutoEncoder(nn.Module):\n",
        "    def __init__(self):\n",
        "        super(UpscaleAutoEncoder, self).__init__()\n",
        "        self.name = \"UpscaleAutoEncoder\"\n",
        "        self.encoder = nn.Sequential(\n",
        "            nn.Linear(57, 62), # TODO -- FILL OUT THE CODE HERE!\n",
        "            nn.ReLU(),\n",
        "            nn.Linear(62, 43),\n",
        "            nn.ReLU(),\n",
        "            nn.Linear(43, 30),\n",
        "            nn.ReLU(),\n",
        "            nn.Linear(30, 25),\n",
        "            nn.ReLU(),\n",
        "        )\n",
        "        self.decoder = nn.Sequential(\n",
        "            nn.Linear(25, 30), # TODO -- FILL OUT THE CODE HERE!\n",
        "            nn.ReLU(),\n",
        "            nn.Linear(30, 43),\n",
        "            nn.ReLU(),\n",
        "            nn.Linear(43, 62),\n",
        "            nn.ReLU(),\n",
        "            nn.Linear(62, 57),\n",
        "            nn.Sigmoid() # get to the range (0, 1)\n",
        "        )\n",
        "\n",
        "    def forward(self, x):\n",
        "        x = self.encoder(x)\n",
        "        x = self.decoder(x)\n",
        "        return x"
      ],
      "metadata": {
        "id": "2TmevW_gCJyE"
      },
      "execution_count": 43,
      "outputs": []
    },
    {
      "cell_type": "code",
      "source": [
        "upscale_model = UpscaleAutoEncoder()\n",
        "train(upscale_model, train_data, valid_data, batch_size=32, num_epochs=30, learning_rate=1e-4, plotting=True)"
      ],
      "metadata": {
        "colab": {
          "base_uri": "https://localhost:8080/",
          "height": 1000
        },
        "id": "K0Nz2edQCeJ6",
        "outputId": "c813f97f-47d7-427d-db78-453b23bd76ba"
      },
      "execution_count": 44,
      "outputs": [
        {
          "output_type": "stream",
          "name": "stdout",
          "text": [
            "Epoch 1: Train Acc: 0.4605 | Train Loss: 0.1240 | Validation Acc: 0.4587 | Validation Loss: 0.0707\n",
            "Epoch 2: Train Acc: 0.4662 | Train Loss: 0.0696 | Validation Acc: 0.4665 | Validation Loss: 0.0677\n",
            "Epoch 3: Train Acc: 0.5560 | Train Loss: 0.0596 | Validation Acc: 0.5589 | Validation Loss: 0.0553\n",
            "Epoch 4: Train Acc: 0.5714 | Train Loss: 0.0539 | Validation Acc: 0.5700 | Validation Loss: 0.0529\n",
            "Epoch 5: Train Acc: 0.5753 | Train Loss: 0.0520 | Validation Acc: 0.5734 | Validation Loss: 0.0516\n",
            "Epoch 6: Train Acc: 0.5737 | Train Loss: 0.0507 | Validation Acc: 0.5735 | Validation Loss: 0.0506\n",
            "Epoch 7: Train Acc: 0.5785 | Train Loss: 0.0498 | Validation Acc: 0.5801 | Validation Loss: 0.0495\n",
            "Epoch 8: Train Acc: 0.5821 | Train Loss: 0.0490 | Validation Acc: 0.5820 | Validation Loss: 0.0489\n",
            "Epoch 9: Train Acc: 0.5835 | Train Loss: 0.0485 | Validation Acc: 0.5834 | Validation Loss: 0.0488\n",
            "Epoch 10: Train Acc: 0.5840 | Train Loss: 0.0481 | Validation Acc: 0.5820 | Validation Loss: 0.0477\n",
            "Epoch 11: Train Acc: 0.5856 | Train Loss: 0.0475 | Validation Acc: 0.5857 | Validation Loss: 0.0476\n",
            "Epoch 12: Train Acc: 0.5891 | Train Loss: 0.0467 | Validation Acc: 0.5879 | Validation Loss: 0.0464\n",
            "Epoch 13: Train Acc: 0.5939 | Train Loss: 0.0457 | Validation Acc: 0.5920 | Validation Loss: 0.0457\n",
            "Epoch 14: Train Acc: 0.5950 | Train Loss: 0.0448 | Validation Acc: 0.5920 | Validation Loss: 0.0446\n",
            "Epoch 15: Train Acc: 0.5967 | Train Loss: 0.0443 | Validation Acc: 0.5946 | Validation Loss: 0.0440\n",
            "Epoch 16: Train Acc: 0.5965 | Train Loss: 0.0435 | Validation Acc: 0.5939 | Validation Loss: 0.0434\n",
            "Epoch 17: Train Acc: 0.5967 | Train Loss: 0.0432 | Validation Acc: 0.5920 | Validation Loss: 0.0430\n",
            "Epoch 18: Train Acc: 0.5977 | Train Loss: 0.0427 | Validation Acc: 0.5980 | Validation Loss: 0.0427\n",
            "Epoch 19: Train Acc: 0.5967 | Train Loss: 0.0422 | Validation Acc: 0.5956 | Validation Loss: 0.0420\n",
            "Epoch 20: Train Acc: 0.5986 | Train Loss: 0.0420 | Validation Acc: 0.5967 | Validation Loss: 0.0422\n",
            "Epoch 21: Train Acc: 0.6054 | Train Loss: 0.0414 | Validation Acc: 0.6044 | Validation Loss: 0.0413\n",
            "Epoch 22: Train Acc: 0.6039 | Train Loss: 0.0409 | Validation Acc: 0.6021 | Validation Loss: 0.0406\n",
            "Epoch 23: Train Acc: 0.6076 | Train Loss: 0.0407 | Validation Acc: 0.6062 | Validation Loss: 0.0405\n",
            "Epoch 24: Train Acc: 0.6062 | Train Loss: 0.0403 | Validation Acc: 0.6049 | Validation Loss: 0.0406\n",
            "Epoch 25: Train Acc: 0.6086 | Train Loss: 0.0400 | Validation Acc: 0.6082 | Validation Loss: 0.0400\n",
            "Epoch 26: Train Acc: 0.6102 | Train Loss: 0.0396 | Validation Acc: 0.6088 | Validation Loss: 0.0396\n",
            "Epoch 27: Train Acc: 0.6108 | Train Loss: 0.0394 | Validation Acc: 0.6071 | Validation Loss: 0.0394\n",
            "Epoch 28: Train Acc: 0.6073 | Train Loss: 0.0391 | Validation Acc: 0.6034 | Validation Loss: 0.0394\n",
            "Epoch 29: Train Acc: 0.6103 | Train Loss: 0.0387 | Validation Acc: 0.6077 | Validation Loss: 0.0390\n",
            "Epoch 30: Train Acc: 0.6072 | Train Loss: 0.0384 | Validation Acc: 0.6044 | Validation Loss: 0.0385\n",
            "Finish Training\n",
            "Total time elapsed: 198.08 seconds\n"
          ]
        },
        {
          "output_type": "display_data",
          "data": {
            "text/plain": [
              "<Figure size 640x480 with 1 Axes>"
            ],
            "image/png": "[encoded data removed]"
          },
          "metadata": {}
        },
        {
          "output_type": "display_data",
          "data": {
            "text/plain": [
              "<Figure size 640x480 with 1 Axes>"
            ],
            "image/png": "[encoded data removed]"
          },
          "metadata": {}
        },
        {
          "output_type": "stream",
          "name": "stdout",
          "text": [
            "Final Training Accuracy: 0.6072\n",
            "Final Training Loss: 0.0384\n",
            "Final Validation Accuracy: 0.6044\n",
            "Final Validation Loss: 0.0385\n"
          ]
        }
      ]
    },
    {
      "cell_type": "code",
      "source": [
        "# 5.decrease model complexity\n",
        "class SimpleAutoEncoder(nn.Module):\n",
        "    def __init__(self):\n",
        "        super(SimpleAutoEncoder, self).__init__()\n",
        "        self.name = \"SimpleAutoEncoder\"\n",
        "        self.encoder = nn.Sequential(\n",
        "            nn.Linear(57, 43), # TODO -- FILL OUT THE CODE HERE!\n",
        "            nn.ReLU(),\n",
        "            nn.Linear(43, 30),\n",
        "            nn.ReLU(),\n",
        "        )\n",
        "        self.decoder = nn.Sequential(\n",
        "            nn.Linear(30, 43), # TODO -- FILL OUT THE CODE HERE!\n",
        "            nn.ReLU(),\n",
        "            nn.Linear(43, 57),\n",
        "            nn.Sigmoid() # get to the range (0, 1)\n",
        "        )\n",
        "\n",
        "    def forward(self, x):\n",
        "        x = self.encoder(x)\n",
        "        x = self.decoder(x)\n",
        "        return x"
      ],
      "metadata": {
        "id": "h36tQ9Y_DjWc"
      },
      "execution_count": 47,
      "outputs": []
    },
    {
      "cell_type": "code",
      "source": [
        "simple_model = SimpleAutoEncoder()\n",
        "train(simple_model, train_data, valid_data, batch_size=32, num_epochs=30, learning_rate=1e-4, plotting=True)"
      ],
      "metadata": {
        "colab": {
          "base_uri": "https://localhost:8080/",
          "height": 1000
        },
        "id": "g9OsFzrbD3-8",
        "outputId": "e3ad9e81-40d6-40c8-ca88-4c51b835123f"
      },
      "execution_count": 48,
      "outputs": [
        {
          "output_type": "stream",
          "name": "stdout",
          "text": [
            "Epoch 1: Train Acc: 0.4563 | Train Loss: 0.1352 | Validation Acc: 0.4547 | Validation Loss: 0.0713\n",
            "Epoch 2: Train Acc: 0.5029 | Train Loss: 0.0684 | Validation Acc: 0.5034 | Validation Loss: 0.0627\n",
            "Epoch 3: Train Acc: 0.5352 | Train Loss: 0.0576 | Validation Acc: 0.5392 | Validation Loss: 0.0552\n",
            "Epoch 4: Train Acc: 0.5561 | Train Loss: 0.0542 | Validation Acc: 0.5593 | Validation Loss: 0.0529\n",
            "Epoch 5: Train Acc: 0.5686 | Train Loss: 0.0510 | Validation Acc: 0.5693 | Validation Loss: 0.0490\n",
            "Epoch 6: Train Acc: 0.5718 | Train Loss: 0.0462 | Validation Acc: 0.5701 | Validation Loss: 0.0439\n",
            "Epoch 7: Train Acc: 0.5824 | Train Loss: 0.0420 | Validation Acc: 0.5809 | Validation Loss: 0.0402\n",
            "Epoch 8: Train Acc: 0.5911 | Train Loss: 0.0388 | Validation Acc: 0.5885 | Validation Loss: 0.0377\n",
            "Epoch 9: Train Acc: 0.5983 | Train Loss: 0.0371 | Validation Acc: 0.5965 | Validation Loss: 0.0365\n",
            "Epoch 10: Train Acc: 0.6009 | Train Loss: 0.0361 | Validation Acc: 0.6001 | Validation Loss: 0.0355\n",
            "Epoch 11: Train Acc: 0.6073 | Train Loss: 0.0349 | Validation Acc: 0.6069 | Validation Loss: 0.0342\n",
            "Epoch 12: Train Acc: 0.6120 | Train Loss: 0.0336 | Validation Acc: 0.6082 | Validation Loss: 0.0331\n",
            "Epoch 13: Train Acc: 0.6201 | Train Loss: 0.0323 | Validation Acc: 0.6173 | Validation Loss: 0.0318\n",
            "Epoch 14: Train Acc: 0.6197 | Train Loss: 0.0309 | Validation Acc: 0.6161 | Validation Loss: 0.0305\n",
            "Epoch 15: Train Acc: 0.6204 | Train Loss: 0.0297 | Validation Acc: 0.6176 | Validation Loss: 0.0296\n",
            "Epoch 16: Train Acc: 0.6157 | Train Loss: 0.0287 | Validation Acc: 0.6127 | Validation Loss: 0.0286\n",
            "Epoch 17: Train Acc: 0.6202 | Train Loss: 0.0280 | Validation Acc: 0.6166 | Validation Loss: 0.0279\n",
            "Epoch 18: Train Acc: 0.6203 | Train Loss: 0.0273 | Validation Acc: 0.6176 | Validation Loss: 0.0274\n",
            "Epoch 19: Train Acc: 0.6197 | Train Loss: 0.0266 | Validation Acc: 0.6174 | Validation Loss: 0.0266\n",
            "Epoch 20: Train Acc: 0.6213 | Train Loss: 0.0260 | Validation Acc: 0.6175 | Validation Loss: 0.0256\n",
            "Epoch 21: Train Acc: 0.6233 | Train Loss: 0.0250 | Validation Acc: 0.6202 | Validation Loss: 0.0250\n",
            "Epoch 22: Train Acc: 0.6207 | Train Loss: 0.0242 | Validation Acc: 0.6176 | Validation Loss: 0.0240\n",
            "Epoch 23: Train Acc: 0.6171 | Train Loss: 0.0234 | Validation Acc: 0.6133 | Validation Loss: 0.0232\n",
            "Epoch 24: Train Acc: 0.6187 | Train Loss: 0.0228 | Validation Acc: 0.6142 | Validation Loss: 0.0230\n",
            "Epoch 25: Train Acc: 0.6192 | Train Loss: 0.0221 | Validation Acc: 0.6144 | Validation Loss: 0.0223\n",
            "Epoch 26: Train Acc: 0.6170 | Train Loss: 0.0215 | Validation Acc: 0.6133 | Validation Loss: 0.0215\n",
            "Epoch 27: Train Acc: 0.6185 | Train Loss: 0.0207 | Validation Acc: 0.6149 | Validation Loss: 0.0213\n",
            "Epoch 28: Train Acc: 0.6190 | Train Loss: 0.0204 | Validation Acc: 0.6158 | Validation Loss: 0.0205\n",
            "Epoch 29: Train Acc: 0.6154 | Train Loss: 0.0200 | Validation Acc: 0.6109 | Validation Loss: 0.0208\n",
            "Epoch 30: Train Acc: 0.6200 | Train Loss: 0.0196 | Validation Acc: 0.6152 | Validation Loss: 0.0195\n",
            "Finish Training\n",
            "Total time elapsed: 150.25 seconds\n"
          ]
        },
        {
          "output_type": "display_data",
          "data": {
            "text/plain": [
              "<Figure size 640x480 with 1 Axes>"
            ],
            "image/png": "[encoded data removed]"
          },
          "metadata": {}
        },
        {
          "output_type": "display_data",
          "data": {
            "text/plain": [
              "<Figure size 640x480 with 1 Axes>"
            ],
            "image/png": "[encoded data removed]"
          },
          "metadata": {}
        },
        {
          "output_type": "stream",
          "name": "stdout",
          "text": [
            "Final Training Accuracy: 0.6200\n",
            "Final Training Loss: 0.0196\n",
            "Final Validation Accuracy: 0.6152\n",
            "Final Validation Loss: 0.0195\n"
          ]
        }
      ]
    },
    {
      "cell_type": "code",
      "source": [
        "# best performing model for now is 2 original model with batch_size=32\n",
        "# 6. use that and decrease learning rate\n",
        "model = AutoEncoder()\n",
        "train(model, train_data, valid_data, batch_size=32, num_epochs=100, learning_rate=1e-5, plotting=False)"
      ],
      "metadata": {
        "colab": {
          "base_uri": "https://localhost:8080/"
        },
        "id": "uraG5dQHFKZ6",
        "outputId": "91733fc9-f784-46d5-c3a0-61f59f8da036"
      },
      "execution_count": 49,
      "outputs": [
        {
          "output_type": "stream",
          "name": "stdout",
          "text": [
            "Finish Training\n",
            "Total time elapsed: 503.46 seconds\n",
            "Final Training Accuracy: 0.6046\n",
            "Final Training Loss: 0.0355\n",
            "Final Validation Accuracy: 0.6036\n",
            "Final Validation Loss: 0.0353\n"
          ]
        }
      ]
    },
    {
      "cell_type": "code",
      "source": [
        "# 7. increase learning rate\n",
        "model = AutoEncoder()\n",
        "train(model, train_data, valid_data, batch_size=32, num_epochs=50, learning_rate=1e-3, plotting=True)"
      ],
      "metadata": {
        "colab": {
          "base_uri": "https://localhost:8080/",
          "height": 1000
        },
        "id": "3zpJSAtAFh9Y",
        "outputId": "e681cda3-b4d0-4cb3-ff1a-9fe2be5ba526"
      },
      "execution_count": 51,
      "outputs": [
        {
          "output_type": "stream",
          "name": "stdout",
          "text": [
            "Epoch 1: Train Acc: 0.5762 | Train Loss: 0.0651 | Validation Acc: 0.5748 | Validation Loss: 0.0415\n",
            "Epoch 2: Train Acc: 0.6159 | Train Loss: 0.0331 | Validation Acc: 0.6105 | Validation Loss: 0.0287\n",
            "Epoch 3: Train Acc: 0.6189 | Train Loss: 0.0262 | Validation Acc: 0.6152 | Validation Loss: 0.0248\n",
            "Epoch 4: Train Acc: 0.6193 | Train Loss: 0.0227 | Validation Acc: 0.6162 | Validation Loss: 0.0215\n",
            "Epoch 5: Train Acc: 0.6229 | Train Loss: 0.0205 | Validation Acc: 0.6224 | Validation Loss: 0.0198\n",
            "Epoch 6: Train Acc: 0.6285 | Train Loss: 0.0186 | Validation Acc: 0.6276 | Validation Loss: 0.0178\n",
            "Epoch 7: Train Acc: 0.6281 | Train Loss: 0.0174 | Validation Acc: 0.6269 | Validation Loss: 0.0167\n",
            "Epoch 8: Train Acc: 0.6150 | Train Loss: 0.0160 | Validation Acc: 0.6126 | Validation Loss: 0.0165\n",
            "Epoch 9: Train Acc: 0.6322 | Train Loss: 0.0151 | Validation Acc: 0.6319 | Validation Loss: 0.0157\n",
            "Epoch 10: Train Acc: 0.6330 | Train Loss: 0.0143 | Validation Acc: 0.6322 | Validation Loss: 0.0145\n",
            "Epoch 11: Train Acc: 0.6391 | Train Loss: 0.0136 | Validation Acc: 0.6372 | Validation Loss: 0.0136\n",
            "Epoch 12: Train Acc: 0.6411 | Train Loss: 0.0134 | Validation Acc: 0.6390 | Validation Loss: 0.0134\n",
            "Epoch 13: Train Acc: 0.6424 | Train Loss: 0.0130 | Validation Acc: 0.6395 | Validation Loss: 0.0135\n",
            "Epoch 14: Train Acc: 0.6342 | Train Loss: 0.0129 | Validation Acc: 0.6308 | Validation Loss: 0.0135\n",
            "Epoch 15: Train Acc: 0.6457 | Train Loss: 0.0125 | Validation Acc: 0.6420 | Validation Loss: 0.0134\n",
            "Epoch 16: Train Acc: 0.6508 | Train Loss: 0.0124 | Validation Acc: 0.6485 | Validation Loss: 0.0125\n",
            "Epoch 17: Train Acc: 0.6492 | Train Loss: 0.0124 | Validation Acc: 0.6473 | Validation Loss: 0.0121\n",
            "Epoch 18: Train Acc: 0.6463 | Train Loss: 0.0121 | Validation Acc: 0.6435 | Validation Loss: 0.0116\n",
            "Epoch 19: Train Acc: 0.6524 | Train Loss: 0.0118 | Validation Acc: 0.6470 | Validation Loss: 0.0126\n",
            "Epoch 20: Train Acc: 0.6530 | Train Loss: 0.0117 | Validation Acc: 0.6481 | Validation Loss: 0.0114\n",
            "Epoch 21: Train Acc: 0.6502 | Train Loss: 0.0116 | Validation Acc: 0.6497 | Validation Loss: 0.0114\n",
            "Epoch 22: Train Acc: 0.6531 | Train Loss: 0.0118 | Validation Acc: 0.6523 | Validation Loss: 0.0121\n",
            "Epoch 23: Train Acc: 0.6561 | Train Loss: 0.0115 | Validation Acc: 0.6548 | Validation Loss: 0.0114\n",
            "Epoch 24: Train Acc: 0.6531 | Train Loss: 0.0114 | Validation Acc: 0.6507 | Validation Loss: 0.0114\n",
            "Epoch 25: Train Acc: 0.6456 | Train Loss: 0.0113 | Validation Acc: 0.6405 | Validation Loss: 0.0116\n",
            "Epoch 26: Train Acc: 0.6501 | Train Loss: 0.0111 | Validation Acc: 0.6506 | Validation Loss: 0.0103\n",
            "Epoch 27: Train Acc: 0.6575 | Train Loss: 0.0109 | Validation Acc: 0.6545 | Validation Loss: 0.0107\n",
            "Epoch 28: Train Acc: 0.6427 | Train Loss: 0.0109 | Validation Acc: 0.6388 | Validation Loss: 0.0115\n",
            "Epoch 29: Train Acc: 0.6539 | Train Loss: 0.0107 | Validation Acc: 0.6528 | Validation Loss: 0.0116\n",
            "Epoch 30: Train Acc: 0.6494 | Train Loss: 0.0105 | Validation Acc: 0.6473 | Validation Loss: 0.0109\n",
            "Epoch 31: Train Acc: 0.6500 | Train Loss: 0.0105 | Validation Acc: 0.6448 | Validation Loss: 0.0116\n",
            "Epoch 32: Train Acc: 0.6587 | Train Loss: 0.0108 | Validation Acc: 0.6559 | Validation Loss: 0.0110\n",
            "Epoch 33: Train Acc: 0.6577 | Train Loss: 0.0105 | Validation Acc: 0.6532 | Validation Loss: 0.0107\n",
            "Epoch 34: Train Acc: 0.6544 | Train Loss: 0.0104 | Validation Acc: 0.6524 | Validation Loss: 0.0105\n",
            "Epoch 35: Train Acc: 0.6612 | Train Loss: 0.0103 | Validation Acc: 0.6573 | Validation Loss: 0.0106\n",
            "Epoch 36: Train Acc: 0.6607 | Train Loss: 0.0102 | Validation Acc: 0.6573 | Validation Loss: 0.0105\n",
            "Epoch 37: Train Acc: 0.6596 | Train Loss: 0.0100 | Validation Acc: 0.6544 | Validation Loss: 0.0101\n",
            "Epoch 38: Train Acc: 0.6586 | Train Loss: 0.0102 | Validation Acc: 0.6550 | Validation Loss: 0.0104\n",
            "Epoch 39: Train Acc: 0.6603 | Train Loss: 0.0102 | Validation Acc: 0.6562 | Validation Loss: 0.0105\n",
            "Epoch 40: Train Acc: 0.6587 | Train Loss: 0.0097 | Validation Acc: 0.6531 | Validation Loss: 0.0102\n",
            "Epoch 41: Train Acc: 0.6637 | Train Loss: 0.0100 | Validation Acc: 0.6592 | Validation Loss: 0.0097\n",
            "Epoch 42: Train Acc: 0.6631 | Train Loss: 0.0098 | Validation Acc: 0.6611 | Validation Loss: 0.0104\n",
            "Epoch 43: Train Acc: 0.6602 | Train Loss: 0.0099 | Validation Acc: 0.6537 | Validation Loss: 0.0103\n",
            "Epoch 44: Train Acc: 0.6577 | Train Loss: 0.0099 | Validation Acc: 0.6517 | Validation Loss: 0.0106\n",
            "Epoch 45: Train Acc: 0.6609 | Train Loss: 0.0098 | Validation Acc: 0.6540 | Validation Loss: 0.0100\n",
            "Epoch 46: Train Acc: 0.6607 | Train Loss: 0.0096 | Validation Acc: 0.6546 | Validation Loss: 0.0100\n",
            "Epoch 47: Train Acc: 0.6600 | Train Loss: 0.0095 | Validation Acc: 0.6563 | Validation Loss: 0.0101\n",
            "Epoch 48: Train Acc: 0.6640 | Train Loss: 0.0098 | Validation Acc: 0.6572 | Validation Loss: 0.0095\n",
            "Epoch 49: Train Acc: 0.6632 | Train Loss: 0.0098 | Validation Acc: 0.6589 | Validation Loss: 0.0101\n",
            "Epoch 50: Train Acc: 0.6685 | Train Loss: 0.0096 | Validation Acc: 0.6649 | Validation Loss: 0.0103\n",
            "Finish Training\n",
            "Total time elapsed: 251.41 seconds\n"
          ]
        },
        {
          "output_type": "display_data",
          "data": {
            "text/plain": [
              "<Figure size 640x480 with 1 Axes>"
            ],
            "image/png": "[encoded data removed]"
          },
          "metadata": {}
        },
        {
          "output_type": "display_data",
          "data": {
            "text/plain": [
              "<Figure size 640x480 with 1 Axes>"
            ],
            "image/png": "[encoded data removed]"
          },
          "metadata": {}
        },
        {
          "output_type": "stream",
          "name": "stdout",
          "text": [
            "Final Training Accuracy: 0.6685\n",
            "Final Training Loss: 0.0096\n",
            "Final Validation Accuracy: 0.6649\n",
            "Final Validation Loss: 0.0103\n"
          ]
        }
      ]
    },
    {
      "cell_type": "code",
      "source": [
        "# 8. increase batch_size and increase learning rate\n",
        "model = AutoEncoder()\n",
        "train(model, train_data, valid_data, batch_size=64, num_epochs=50, learning_rate=3e-3, plotting=True)"
      ],
      "metadata": {
        "colab": {
          "base_uri": "https://localhost:8080/",
          "height": 1000
        },
        "id": "rqvmJT5XLoGJ",
        "outputId": "87c12645-47c1-43cd-ca54-55ef8baccb44"
      },
      "execution_count": 52,
      "outputs": [
        {
          "output_type": "stream",
          "name": "stdout",
          "text": [
            "Epoch 1: Train Acc: 0.5996 | Train Loss: 0.0579 | Validation Acc: 0.6037 | Validation Loss: 0.0354\n",
            "Epoch 2: Train Acc: 0.6003 | Train Loss: 0.0293 | Validation Acc: 0.5983 | Validation Loss: 0.0250\n",
            "Epoch 3: Train Acc: 0.6130 | Train Loss: 0.0225 | Validation Acc: 0.6088 | Validation Loss: 0.0205\n",
            "Epoch 4: Train Acc: 0.6035 | Train Loss: 0.0195 | Validation Acc: 0.6016 | Validation Loss: 0.0192\n",
            "Epoch 5: Train Acc: 0.6244 | Train Loss: 0.0177 | Validation Acc: 0.6227 | Validation Loss: 0.0167\n",
            "Epoch 6: Train Acc: 0.6229 | Train Loss: 0.0158 | Validation Acc: 0.6199 | Validation Loss: 0.0156\n",
            "Epoch 7: Train Acc: 0.6277 | Train Loss: 0.0152 | Validation Acc: 0.6245 | Validation Loss: 0.0144\n",
            "Epoch 8: Train Acc: 0.6315 | Train Loss: 0.0140 | Validation Acc: 0.6295 | Validation Loss: 0.0144\n",
            "Epoch 9: Train Acc: 0.6359 | Train Loss: 0.0140 | Validation Acc: 0.6353 | Validation Loss: 0.0134\n",
            "Epoch 10: Train Acc: 0.6363 | Train Loss: 0.0132 | Validation Acc: 0.6332 | Validation Loss: 0.0137\n",
            "Epoch 11: Train Acc: 0.6405 | Train Loss: 0.0131 | Validation Acc: 0.6370 | Validation Loss: 0.0131\n",
            "Epoch 12: Train Acc: 0.6411 | Train Loss: 0.0128 | Validation Acc: 0.6381 | Validation Loss: 0.0129\n",
            "Epoch 13: Train Acc: 0.6352 | Train Loss: 0.0124 | Validation Acc: 0.6336 | Validation Loss: 0.0127\n",
            "Epoch 14: Train Acc: 0.6399 | Train Loss: 0.0122 | Validation Acc: 0.6372 | Validation Loss: 0.0128\n",
            "Epoch 15: Train Acc: 0.6436 | Train Loss: 0.0122 | Validation Acc: 0.6387 | Validation Loss: 0.0113\n",
            "Epoch 16: Train Acc: 0.6291 | Train Loss: 0.0119 | Validation Acc: 0.6264 | Validation Loss: 0.0125\n",
            "Epoch 17: Train Acc: 0.6485 | Train Loss: 0.0117 | Validation Acc: 0.6457 | Validation Loss: 0.0120\n",
            "Epoch 18: Train Acc: 0.6435 | Train Loss: 0.0116 | Validation Acc: 0.6382 | Validation Loss: 0.0123\n",
            "Epoch 19: Train Acc: 0.6512 | Train Loss: 0.0121 | Validation Acc: 0.6496 | Validation Loss: 0.0116\n",
            "Epoch 20: Train Acc: 0.6482 | Train Loss: 0.0116 | Validation Acc: 0.6426 | Validation Loss: 0.0114\n",
            "Epoch 21: Train Acc: 0.6541 | Train Loss: 0.0109 | Validation Acc: 0.6522 | Validation Loss: 0.0111\n",
            "Epoch 22: Train Acc: 0.6553 | Train Loss: 0.0115 | Validation Acc: 0.6523 | Validation Loss: 0.0118\n",
            "Epoch 23: Train Acc: 0.6558 | Train Loss: 0.0108 | Validation Acc: 0.6527 | Validation Loss: 0.0119\n",
            "Epoch 24: Train Acc: 0.6520 | Train Loss: 0.0110 | Validation Acc: 0.6480 | Validation Loss: 0.0127\n",
            "Epoch 25: Train Acc: 0.6543 | Train Loss: 0.0111 | Validation Acc: 0.6494 | Validation Loss: 0.0113\n",
            "Epoch 26: Train Acc: 0.6573 | Train Loss: 0.0110 | Validation Acc: 0.6553 | Validation Loss: 0.0110\n",
            "Epoch 27: Train Acc: 0.6475 | Train Loss: 0.0110 | Validation Acc: 0.6404 | Validation Loss: 0.0108\n",
            "Epoch 28: Train Acc: 0.6495 | Train Loss: 0.0106 | Validation Acc: 0.6470 | Validation Loss: 0.0104\n",
            "Epoch 29: Train Acc: 0.6450 | Train Loss: 0.0106 | Validation Acc: 0.6396 | Validation Loss: 0.0126\n",
            "Epoch 30: Train Acc: 0.6584 | Train Loss: 0.0109 | Validation Acc: 0.6556 | Validation Loss: 0.0115\n",
            "Epoch 31: Train Acc: 0.6523 | Train Loss: 0.0105 | Validation Acc: 0.6471 | Validation Loss: 0.0106\n",
            "Epoch 32: Train Acc: 0.6602 | Train Loss: 0.0099 | Validation Acc: 0.6553 | Validation Loss: 0.0095\n",
            "Epoch 33: Train Acc: 0.6551 | Train Loss: 0.0105 | Validation Acc: 0.6489 | Validation Loss: 0.0115\n",
            "Epoch 34: Train Acc: 0.6588 | Train Loss: 0.0100 | Validation Acc: 0.6533 | Validation Loss: 0.0108\n",
            "Epoch 35: Train Acc: 0.6615 | Train Loss: 0.0104 | Validation Acc: 0.6591 | Validation Loss: 0.0105\n",
            "Epoch 36: Train Acc: 0.6599 | Train Loss: 0.0098 | Validation Acc: 0.6581 | Validation Loss: 0.0108\n",
            "Epoch 37: Train Acc: 0.6636 | Train Loss: 0.0097 | Validation Acc: 0.6600 | Validation Loss: 0.0100\n",
            "Epoch 38: Train Acc: 0.6597 | Train Loss: 0.0099 | Validation Acc: 0.6549 | Validation Loss: 0.0100\n",
            "Epoch 39: Train Acc: 0.6612 | Train Loss: 0.0101 | Validation Acc: 0.6582 | Validation Loss: 0.0099\n",
            "Epoch 40: Train Acc: 0.6620 | Train Loss: 0.0096 | Validation Acc: 0.6587 | Validation Loss: 0.0107\n",
            "Epoch 41: Train Acc: 0.6629 | Train Loss: 0.0096 | Validation Acc: 0.6589 | Validation Loss: 0.0106\n",
            "Epoch 42: Train Acc: 0.6621 | Train Loss: 0.0098 | Validation Acc: 0.6579 | Validation Loss: 0.0106\n",
            "Epoch 43: Train Acc: 0.6595 | Train Loss: 0.0095 | Validation Acc: 0.6527 | Validation Loss: 0.0099\n",
            "Epoch 44: Train Acc: 0.6715 | Train Loss: 0.0095 | Validation Acc: 0.6658 | Validation Loss: 0.0097\n",
            "Epoch 45: Train Acc: 0.6714 | Train Loss: 0.0093 | Validation Acc: 0.6674 | Validation Loss: 0.0086\n",
            "Epoch 46: Train Acc: 0.6709 | Train Loss: 0.0096 | Validation Acc: 0.6681 | Validation Loss: 0.0087\n",
            "Epoch 47: Train Acc: 0.6566 | Train Loss: 0.0094 | Validation Acc: 0.6515 | Validation Loss: 0.0101\n",
            "Epoch 48: Train Acc: 0.6709 | Train Loss: 0.0092 | Validation Acc: 0.6652 | Validation Loss: 0.0092\n",
            "Epoch 49: Train Acc: 0.6649 | Train Loss: 0.0091 | Validation Acc: 0.6613 | Validation Loss: 0.0097\n",
            "Epoch 50: Train Acc: 0.6629 | Train Loss: 0.0088 | Validation Acc: 0.6595 | Validation Loss: 0.0092\n",
            "Finish Training\n",
            "Total time elapsed: 171.03 seconds\n"
          ]
        },
        {
          "output_type": "display_data",
          "data": {
            "text/plain": [
              "<Figure size 640x480 with 1 Axes>"
            ],
            "image/png": "[encoded data removed]"
          },
          "metadata": {}
        },
        {
          "output_type": "display_data",
          "data": {
            "text/plain": [
              "<Figure size 640x480 with 1 Axes>"
            ],
            "image/png": "[encoded data removed]"
          },
          "metadata": {}
        },
        {
          "output_type": "stream",
          "name": "stdout",
          "text": [
            "Final Training Accuracy: 0.6629\n",
            "Final Training Loss: 0.0088\n",
            "Final Validation Accuracy: 0.6595\n",
            "Final Validation Loss: 0.0092\n"
          ]
        }
      ]
    },
    {
      "cell_type": "code",
      "source": [
        "# 9.early stopping\n",
        "model = AutoEncoder()\n",
        "train(model, train_data, valid_data, batch_size=64, num_epochs=44, learning_rate=3e-3, plotting=False)"
      ],
      "metadata": {
        "colab": {
          "base_uri": "https://localhost:8080/"
        },
        "id": "C8_gG6lWNFvz",
        "outputId": "7e877f07-dd87-49b6-b8c4-7d958a46c098"
      },
      "execution_count": 73,
      "outputs": [
        {
          "output_type": "stream",
          "name": "stdout",
          "text": [
            "Finish Training\n",
            "Total time elapsed: 164.07 seconds\n",
            "Final Training Accuracy: 0.7129\n",
            "Final Training Loss: 0.0087\n",
            "Final Validation Accuracy: 0.7156\n",
            "Final Validation Loss: 0.0084\n"
          ]
        }
      ]
    },
    {
      "cell_type": "markdown",
      "metadata": {
        "id": "ymCsZH291prI"
      },
      "source": [
        "## Part 4. Testing [12 pt]\n",
        "\n",
        "### Part (a) [2 pt]\n",
        "\n",
        "Compute and report the test accuracy."
      ]
    },
    {
      "cell_type": "code",
      "execution_count": 74,
      "metadata": {
        "colab": {
          "base_uri": "https://localhost:8080/"
        },
        "collapsed": true,
        "id": "0OkSbup91prJ",
        "jupyter": {
          "outputs_hidden": true
        },
        "outputId": "e663c97f-f680-41fa-a424-6bc4409cd2c7"
      },
      "outputs": [
        {
          "output_type": "stream",
          "name": "stdout",
          "text": [
            "Test Accuracy: 0.7083604541838432\n"
          ]
        }
      ],
      "source": [
        "model.eval()\n",
        "test_loader = torch.utils.data.DataLoader(test_data, batch_size=64, shuffle=False)\n",
        "with torch.no_grad():\n",
        "  test_acc = get_accuracy(model, test_loader)\n",
        "print(f\"Test Accuracy: {test_acc}\")"
      ]
    },
    {
      "cell_type": "markdown",
      "metadata": {
        "id": "UEe9yt6L1prM"
      },
      "source": [
        "### Part (b) [4 pt]\n",
        "\n",
        "Based on the test accuracy alone, it is difficult to assess whether our model\n",
        "is actually performing well. We don't know whether a high accuracy is due to\n",
        "the simplicity of the problem, or if a poor accuracy is a result of the inherent\n",
        "difficulty of the problem.\n",
        "\n",
        "It is therefore very important to be able to compare our model to at least one\n",
        "alternative. In particular, we consider a simple **baseline**\n",
        "model that is not very computationally expensive. Our neural network\n",
        "should at least outperform this baseline model. If our network is not much\n",
        "better than the baseline, then it is not doing well.\n",
        "\n",
        "For our data imputation problem, consider the following baseline model:\n",
        "to predict a missing feature, the baseline model will look at the **most common value** of the feature in the training set.\n",
        "\n",
        "For example, if the feature \"marriage\" is missing, then this model's prediction will be the most common value for \"marriage\" in the training set, which happens to be \"Married-civ-spouse\".\n",
        "\n",
        "What would be the test accuracy of this baseline model?\n"
      ]
    },
    {
      "cell_type": "code",
      "source": [
        "len(catcols)"
      ],
      "metadata": {
        "colab": {
          "base_uri": "https://localhost:8080/"
        },
        "id": "VcvELTnqTfpo",
        "outputId": "d2c2dadb-ef70-41aa-f8bf-8919d7b2a294"
      },
      "execution_count": 34,
      "outputs": [
        {
          "output_type": "execute_result",
          "data": {
            "text/plain": [
              "6"
            ]
          },
          "metadata": {},
          "execution_count": 34
        }
      ]
    },
    {
      "cell_type": "code",
      "execution_count": 35,
      "metadata": {
        "colab": {
          "base_uri": "https://localhost:8080/"
        },
        "collapsed": true,
        "id": "p45VHp011prN",
        "jupyter": {
          "outputs_hidden": true
        },
        "outputId": "6d5150cb-7b2f-4127-bb6c-1f22601f7be0"
      },
      "outputs": [
        {
          "output_type": "stream",
          "name": "stdout",
          "text": [
            "Most Common Values:  [' Private', ' Married-civ-spouse', ' Prof-specialty', ' HS-grad', ' Husband', ' Male']\n",
            "probabilities of mcv:  [0.7388501855589557, 0.4667947131974738, 0.1347743993749593, 0.32450029298782473, 0.4135685917051891, 0.6767367667165831]\n",
            "Expected Test Accuracy of Baseline Model: 0.4592\n"
          ]
        }
      ],
      "source": [
        "df_not_missing\n",
        "import pandas as pd\n",
        "\n",
        "most_common_values = []\n",
        "mcv_prob = []\n",
        "\n",
        "for category in catcols:\n",
        "  # Find the most frequent category's probability\n",
        "  most_common_values.append(df_not_missing[category].value_counts().idxmax())\n",
        "  mcv_prob.append(df_not_missing[category].value_counts(normalize=True).max())\n",
        "\n",
        "print(\"Most Common Values: \", most_common_values)\n",
        "print(\"probabilities of mcv: \", mcv_prob)\n",
        "# Average over all features\n",
        "expected_accuracy = sum(mcv_prob) / len(catcols)\n",
        "\n",
        "print(f\"Expected Test Accuracy of Baseline Model: {expected_accuracy:.4f}\")\n"
      ]
    },
    {
      "cell_type": "markdown",
      "metadata": {
        "id": "QlHu0wxh1prP"
      },
      "source": [
        "### Part (c) [1 pt]\n",
        "\n",
        "How does your test accuracy from part (a) compared to your basline test accuracy in part (b)?"
      ]
    },
    {
      "cell_type": "markdown",
      "source": [
        "**Answwer**: My test acuracy from part(a) which is 0.7084 which is much **better** than 0.4592 from part(b)."
      ],
      "metadata": {
        "id": "aNfN5mzY5ycL"
      }
    },
    {
      "cell_type": "markdown",
      "metadata": {
        "id": "DfQPgu1Q1prS"
      },
      "source": [
        "### Part (d) [1 pt]\n",
        "\n",
        "Look at the first item in your test data.\n",
        "Do you think it is reasonable for a human\n",
        "to be able to guess this person's education level\n",
        "based on their other features? Explain."
      ]
    },
    {
      "cell_type": "markdown",
      "source": [
        "**Answer**: The first item in the test data is a 32 year-old male who has 9 years of education. From our dataset, it's not hard to see 9 years of education basically implicates high-school graduate. So it is reasonable **easy** for a human to guess this person's education level based on number of years of education."
      ],
      "metadata": {
        "id": "cAIwfnE4BUBR"
      }
    },
    {
      "cell_type": "code",
      "source": [
        "test_data[0]"
      ],
      "metadata": {
        "id": "xjh9mGiTGFLN",
        "outputId": "219f4195-1602-4ca6-9303-7faaac195a40",
        "colab": {
          "base_uri": "https://localhost:8080/"
        }
      },
      "execution_count": 78,
      "outputs": [
        {
          "output_type": "execute_result",
          "data": {
            "text/plain": [
              "array([0.20547946, 0.53333336, 0.        , 0.        , 0.39795917,\n",
              "       1.        , 0.        , 0.        , 0.        , 0.        ,\n",
              "       0.        , 0.        , 0.        , 0.        , 0.        ,\n",
              "       0.        , 1.        , 0.        , 0.        , 0.        ,\n",
              "       0.        , 0.        , 0.        , 0.        , 0.        ,\n",
              "       0.        , 1.        , 0.        , 0.        , 0.        ,\n",
              "       0.        , 0.        , 0.        , 0.        , 0.        ,\n",
              "       0.        , 0.        , 0.        , 0.        , 0.        ,\n",
              "       0.        , 0.        , 0.        , 0.        , 1.        ,\n",
              "       0.        , 0.        , 0.        , 0.        , 0.        ,\n",
              "       0.        , 0.        , 1.        , 0.        , 0.        ,\n",
              "       0.        , 1.        ], dtype=float32)"
            ]
          },
          "metadata": {},
          "execution_count": 78
        }
      ]
    },
    {
      "cell_type": "code",
      "execution_count": 60,
      "metadata": {
        "colab": {
          "base_uri": "https://localhost:8080/"
        },
        "collapsed": true,
        "id": "3qbQ1vvT1prT",
        "jupyter": {
          "outputs_hidden": true
        },
        "outputId": "62fc9ce5-c6d9-40c7-f9e7-b0e3d923f2aa"
      },
      "outputs": [
        {
          "output_type": "execute_result",
          "data": {
            "text/plain": [
              "{'work': 'Federal-gov',\n",
              " 'marriage': 'Never-married',\n",
              " 'occupation': 'Other-service',\n",
              " 'edu': 'HS-grad',\n",
              " 'relationship': 'Own-child',\n",
              " 'sex': 'Male'}"
            ]
          },
          "metadata": {},
          "execution_count": 60
        }
      ],
      "source": [
        "get_features(test_data[0])"
      ]
    },
    {
      "cell_type": "code",
      "source": [
        "normalized_cont = test_data[0][:5]\n",
        "\n",
        "# restore normalization\n",
        "original_cont = (normalized_cont * (max_values - min_values)) + min_values\n",
        "print(original_cont)"
      ],
      "metadata": {
        "id": "63u65KrV-Yy8",
        "outputId": "bb9dcf24-8791-49a2-99e0-c5d371dc65ad",
        "colab": {
          "base_uri": "https://localhost:8080/"
        }
      },
      "execution_count": 59,
      "outputs": [
        {
          "output_type": "stream",
          "name": "stdout",
          "text": [
            "age        32.000000\n",
            "yredu       9.000000\n",
            "capgain     0.000000\n",
            "caploss     0.000000\n",
            "workhr     39.999999\n",
            "dtype: float64\n"
          ]
        }
      ]
    },
    {
      "cell_type": "code",
      "source": [
        "original_df[:10]"
      ],
      "metadata": {
        "id": "1c3fpRkLBMrO",
        "outputId": "e118611c-c7ce-4681-e737-8d05f112c525",
        "colab": {
          "base_uri": "https://localhost:8080/",
          "height": 608
        }
      },
      "execution_count": 87,
      "outputs": [
        {
          "output_type": "execute_result",
          "data": {
            "text/plain": [
              "   age               work  fnlwgt         edu  yredu                marriage  \\\n",
              "0   39          State-gov   77516   Bachelors     13           Never-married   \n",
              "1   50   Self-emp-not-inc   83311   Bachelors     13      Married-civ-spouse   \n",
              "2   38            Private  215646     HS-grad      9                Divorced   \n",
              "3   53            Private  234721        11th      7      Married-civ-spouse   \n",
              "4   28            Private  338409   Bachelors     13      Married-civ-spouse   \n",
              "5   37            Private  284582     Masters     14      Married-civ-spouse   \n",
              "6   49            Private  160187         9th      5   Married-spouse-absent   \n",
              "7   52   Self-emp-not-inc  209642     HS-grad      9      Married-civ-spouse   \n",
              "8   31            Private   45781     Masters     14           Never-married   \n",
              "9   42            Private  159449   Bachelors     13      Married-civ-spouse   \n",
              "\n",
              "           occupation    relationship    race      sex  capgain  caploss  \\\n",
              "0        Adm-clerical   Not-in-family   White     Male     2174        0   \n",
              "1     Exec-managerial         Husband   White     Male        0        0   \n",
              "2   Handlers-cleaners   Not-in-family   White     Male        0        0   \n",
              "3   Handlers-cleaners         Husband   Black     Male        0        0   \n",
              "4      Prof-specialty            Wife   Black   Female        0        0   \n",
              "5     Exec-managerial            Wife   White   Female        0        0   \n",
              "6       Other-service   Not-in-family   Black   Female        0        0   \n",
              "7     Exec-managerial         Husband   White     Male        0        0   \n",
              "8      Prof-specialty   Not-in-family   White   Female    14084        0   \n",
              "9     Exec-managerial         Husband   White     Male     5178        0   \n",
              "\n",
              "   workhr         country  \n",
              "0      40   United-States  \n",
              "1      13   United-States  \n",
              "2      40   United-States  \n",
              "3      40   United-States  \n",
              "4      40            Cuba  \n",
              "5      40   United-States  \n",
              "6      16         Jamaica  \n",
              "7      45   United-States  \n",
              "8      50   United-States  \n",
              "9      40   United-States  "
            ],
            "text/html": [
              "\n",
              "  <div id=\"df-624c6019-b690-4190-8066-85a7b455759d\" class=\"colab-df-container\">\n",
              "    <div>\n",
              "<style scoped>\n",
              "    .dataframe tbody tr th:only-of-type {\n",
              "        vertical-align: middle;\n",
              "    }\n",
              "\n",
              "    .dataframe tbody tr th {\n",
              "        vertical-align: top;\n",
              "    }\n",
              "\n",
              "    .dataframe thead th {\n",
              "        text-align: right;\n",
              "    }\n",
              "</style>\n",
              "<table border=\"1\" class=\"dataframe\">\n",
              "  <thead>\n",
              "    <tr style=\"text-align: right;\">\n",
              "      <th></th>\n",
              "      <th>age</th>\n",
              "      <th>work</th>\n",
              "      <th>fnlwgt</th>\n",
              "      <th>edu</th>\n",
              "      <th>yredu</th>\n",
              "      <th>marriage</th>\n",
              "      <th>occupation</th>\n",
              "      <th>relationship</th>\n",
              "      <th>race</th>\n",
              "      <th>sex</th>\n",
              "      <th>capgain</th>\n",
              "      <th>caploss</th>\n",
              "      <th>workhr</th>\n",
              "      <th>country</th>\n",
              "    </tr>\n",
              "  </thead>\n",
              "  <tbody>\n",
              "    <tr>\n",
              "      <th>0</th>\n",
              "      <td>39</td>\n",
              "      <td>State-gov</td>\n",
              "      <td>77516</td>\n",
              "      <td>Bachelors</td>\n",
              "      <td>13</td>\n",
              "      <td>Never-married</td>\n",
              "      <td>Adm-clerical</td>\n",
              "      <td>Not-in-family</td>\n",
              "      <td>White</td>\n",
              "      <td>Male</td>\n",
              "      <td>2174</td>\n",
              "      <td>0</td>\n",
              "      <td>40</td>\n",
              "      <td>United-States</td>\n",
              "    </tr>\n",
              "    <tr>\n",
              "      <th>1</th>\n",
              "      <td>50</td>\n",
              "      <td>Self-emp-not-inc</td>\n",
              "      <td>83311</td>\n",
              "      <td>Bachelors</td>\n",
              "      <td>13</td>\n",
              "      <td>Married-civ-spouse</td>\n",
              "      <td>Exec-managerial</td>\n",
              "      <td>Husband</td>\n",
              "      <td>White</td>\n",
              "      <td>Male</td>\n",
              "      <td>0</td>\n",
              "      <td>0</td>\n",
              "      <td>13</td>\n",
              "      <td>United-States</td>\n",
              "    </tr>\n",
              "    <tr>\n",
              "      <th>2</th>\n",
              "      <td>38</td>\n",
              "      <td>Private</td>\n",
              "      <td>215646</td>\n",
              "      <td>HS-grad</td>\n",
              "      <td>9</td>\n",
              "      <td>Divorced</td>\n",
              "      <td>Handlers-cleaners</td>\n",
              "      <td>Not-in-family</td>\n",
              "      <td>White</td>\n",
              "      <td>Male</td>\n",
              "      <td>0</td>\n",
              "      <td>0</td>\n",
              "      <td>40</td>\n",
              "      <td>United-States</td>\n",
              "    </tr>\n",
              "    <tr>\n",
              "      <th>3</th>\n",
              "      <td>53</td>\n",
              "      <td>Private</td>\n",
              "      <td>234721</td>\n",
              "      <td>11th</td>\n",
              "      <td>7</td>\n",
              "      <td>Married-civ-spouse</td>\n",
              "      <td>Handlers-cleaners</td>\n",
              "      <td>Husband</td>\n",
              "      <td>Black</td>\n",
              "      <td>Male</td>\n",
              "      <td>0</td>\n",
              "      <td>0</td>\n",
              "      <td>40</td>\n",
              "      <td>United-States</td>\n",
              "    </tr>\n",
              "    <tr>\n",
              "      <th>4</th>\n",
              "      <td>28</td>\n",
              "      <td>Private</td>\n",
              "      <td>338409</td>\n",
              "      <td>Bachelors</td>\n",
              "      <td>13</td>\n",
              "      <td>Married-civ-spouse</td>\n",
              "      <td>Prof-specialty</td>\n",
              "      <td>Wife</td>\n",
              "      <td>Black</td>\n",
              "      <td>Female</td>\n",
              "      <td>0</td>\n",
              "      <td>0</td>\n",
              "      <td>40</td>\n",
              "      <td>Cuba</td>\n",
              "    </tr>\n",
              "    <tr>\n",
              "      <th>5</th>\n",
              "      <td>37</td>\n",
              "      <td>Private</td>\n",
              "      <td>284582</td>\n",
              "      <td>Masters</td>\n",
              "      <td>14</td>\n",
              "      <td>Married-civ-spouse</td>\n",
              "      <td>Exec-managerial</td>\n",
              "      <td>Wife</td>\n",
              "      <td>White</td>\n",
              "      <td>Female</td>\n",
              "      <td>0</td>\n",
              "      <td>0</td>\n",
              "      <td>40</td>\n",
              "      <td>United-States</td>\n",
              "    </tr>\n",
              "    <tr>\n",
              "      <th>6</th>\n",
              "      <td>49</td>\n",
              "      <td>Private</td>\n",
              "      <td>160187</td>\n",
              "      <td>9th</td>\n",
              "      <td>5</td>\n",
              "      <td>Married-spouse-absent</td>\n",
              "      <td>Other-service</td>\n",
              "      <td>Not-in-family</td>\n",
              "      <td>Black</td>\n",
              "      <td>Female</td>\n",
              "      <td>0</td>\n",
              "      <td>0</td>\n",
              "      <td>16</td>\n",
              "      <td>Jamaica</td>\n",
              "    </tr>\n",
              "    <tr>\n",
              "      <th>7</th>\n",
              "      <td>52</td>\n",
              "      <td>Self-emp-not-inc</td>\n",
              "      <td>209642</td>\n",
              "      <td>HS-grad</td>\n",
              "      <td>9</td>\n",
              "      <td>Married-civ-spouse</td>\n",
              "      <td>Exec-managerial</td>\n",
              "      <td>Husband</td>\n",
              "      <td>White</td>\n",
              "      <td>Male</td>\n",
              "      <td>0</td>\n",
              "      <td>0</td>\n",
              "      <td>45</td>\n",
              "      <td>United-States</td>\n",
              "    </tr>\n",
              "    <tr>\n",
              "      <th>8</th>\n",
              "      <td>31</td>\n",
              "      <td>Private</td>\n",
              "      <td>45781</td>\n",
              "      <td>Masters</td>\n",
              "      <td>14</td>\n",
              "      <td>Never-married</td>\n",
              "      <td>Prof-specialty</td>\n",
              "      <td>Not-in-family</td>\n",
              "      <td>White</td>\n",
              "      <td>Female</td>\n",
              "      <td>14084</td>\n",
              "      <td>0</td>\n",
              "      <td>50</td>\n",
              "      <td>United-States</td>\n",
              "    </tr>\n",
              "    <tr>\n",
              "      <th>9</th>\n",
              "      <td>42</td>\n",
              "      <td>Private</td>\n",
              "      <td>159449</td>\n",
              "      <td>Bachelors</td>\n",
              "      <td>13</td>\n",
              "      <td>Married-civ-spouse</td>\n",
              "      <td>Exec-managerial</td>\n",
              "      <td>Husband</td>\n",
              "      <td>White</td>\n",
              "      <td>Male</td>\n",
              "      <td>5178</td>\n",
              "      <td>0</td>\n",
              "      <td>40</td>\n",
              "      <td>United-States</td>\n",
              "    </tr>\n",
              "  </tbody>\n",
              "</table>\n",
              "</div>\n",
              "    <div class=\"colab-df-buttons\">\n",
              "\n",
              "  <div class=\"colab-df-container\">\n",
              "    <button class=\"colab-df-convert\" onclick=\"convertToInteractive('df-624c6019-b690-4190-8066-85a7b455759d')\"\n",
              "            title=\"Convert this dataframe to an interactive table.\"\n",
              "            style=\"display:none;\">\n",
              "\n",
              "  <svg xmlns=\"http://www.w3.org/2000/svg\" height=\"24px\" viewBox=\"0 -960 960 960\">\n",
              "    <path d=\"M120-120v-720h720v720H120Zm60-500h600v-160H180v160Zm220 220h160v-160H400v160Zm0 220h160v-160H400v160ZM180-400h160v-160H180v160Zm440 0h160v-160H620v160ZM180-180h160v-160H180v160Zm440 0h160v-160H620v160Z\"/>\n",
              "  </svg>\n",
              "    </button>\n",
              "\n",
              "  <style>\n",
              "    .colab-df-container {\n",
              "      display:flex;\n",
              "      gap: 12px;\n",
              "    }\n",
              "\n",
              "    .colab-df-convert {\n",
              "      background-color: #E8F0FE;\n",
              "      border: none;\n",
              "      border-radius: 50%;\n",
              "      cursor: pointer;\n",
              "      display: none;\n",
              "      fill: #1967D2;\n",
              "      height: 32px;\n",
              "      padding: 0 0 0 0;\n",
              "      width: 32px;\n",
              "    }\n",
              "\n",
              "    .colab-df-convert:hover {\n",
              "      background-color: #E2EBFA;\n",
              "      box-shadow: 0px 1px 2px rgba(60, 64, 67, 0.3), 0px 1px 3px 1px rgba(60, 64, 67, 0.15);\n",
              "      fill: #174EA6;\n",
              "    }\n",
              "\n",
              "    .colab-df-buttons div {\n",
              "      margin-bottom: 4px;\n",
              "    }\n",
              "\n",
              "    [theme=dark] .colab-df-convert {\n",
              "      background-color: #3B4455;\n",
              "      fill: #D2E3FC;\n",
              "    }\n",
              "\n",
              "    [theme=dark] .colab-df-convert:hover {\n",
              "      background-color: #434B5C;\n",
              "      box-shadow: 0px 1px 3px 1px rgba(0, 0, 0, 0.15);\n",
              "      filter: drop-shadow(0px 1px 2px rgba(0, 0, 0, 0.3));\n",
              "      fill: #FFFFFF;\n",
              "    }\n",
              "  </style>\n",
              "\n",
              "    <script>\n",
              "      const buttonEl =\n",
              "        document.querySelector('#df-624c6019-b690-4190-8066-85a7b455759d button.colab-df-convert');\n",
              "      buttonEl.style.display =\n",
              "        google.colab.kernel.accessAllowed ? 'block' : 'none';\n",
              "\n",
              "      async function convertToInteractive(key) {\n",
              "        const element = document.querySelector('#df-624c6019-b690-4190-8066-85a7b455759d');\n",
              "        const dataTable =\n",
              "          await google.colab.kernel.invokeFunction('convertToInteractive',\n",
              "                                                    [key], {});\n",
              "        if (!dataTable) return;\n",
              "\n",
              "        const docLinkHtml = 'Like what you see? Visit the ' +\n",
              "          '<a target=\"_blank\" href=https://colab.research.google.com/notebooks/data_table.ipynb>data table notebook</a>'\n",
              "          + ' to learn more about interactive tables.';\n",
              "        element.innerHTML = '';\n",
              "        dataTable['output_type'] = 'display_data';\n",
              "        await google.colab.output.renderOutput(dataTable, element);\n",
              "        const docLink = document.createElement('div');\n",
              "        docLink.innerHTML = docLinkHtml;\n",
              "        element.appendChild(docLink);\n",
              "      }\n",
              "    </script>\n",
              "  </div>\n",
              "\n",
              "\n",
              "<div id=\"df-916c21a9-d7fc-406c-8491-b72896caa4f9\">\n",
              "  <button class=\"colab-df-quickchart\" onclick=\"quickchart('df-916c21a9-d7fc-406c-8491-b72896caa4f9')\"\n",
              "            title=\"Suggest charts\"\n",
              "            style=\"display:none;\">\n",
              "\n",
              "<svg xmlns=\"http://www.w3.org/2000/svg\" height=\"24px\"viewBox=\"0 0 24 24\"\n",
              "     width=\"24px\">\n",
              "    <g>\n",
              "        <path d=\"M19 3H5c-1.1 0-2 .9-2 2v14c0 1.1.9 2 2 2h14c1.1 0 2-.9 2-2V5c0-1.1-.9-2-2-2zM9 17H7v-7h2v7zm4 0h-2V7h2v10zm4 0h-2v-4h2v4z\"/>\n",
              "    </g>\n",
              "</svg>\n",
              "  </button>\n",
              "\n",
              "<style>\n",
              "  .colab-df-quickchart {\n",
              "      --bg-color: #E8F0FE;\n",
              "      --fill-color: #1967D2;\n",
              "      --hover-bg-color: #E2EBFA;\n",
              "      --hover-fill-color: #174EA6;\n",
              "      --disabled-fill-color: #AAA;\n",
              "      --disabled-bg-color: #DDD;\n",
              "  }\n",
              "\n",
              "  [theme=dark] .colab-df-quickchart {\n",
              "      --bg-color: #3B4455;\n",
              "      --fill-color: #D2E3FC;\n",
              "      --hover-bg-color: #434B5C;\n",
              "      --hover-fill-color: #FFFFFF;\n",
              "      --disabled-bg-color: #3B4455;\n",
              "      --disabled-fill-color: #666;\n",
              "  }\n",
              "\n",
              "  .colab-df-quickchart {\n",
              "    background-color: var(--bg-color);\n",
              "    border: none;\n",
              "    border-radius: 50%;\n",
              "    cursor: pointer;\n",
              "    display: none;\n",
              "    fill: var(--fill-color);\n",
              "    height: 32px;\n",
              "    padding: 0;\n",
              "    width: 32px;\n",
              "  }\n",
              "\n",
              "  .colab-df-quickchart:hover {\n",
              "    background-color: var(--hover-bg-color);\n",
              "    box-shadow: 0 1px 2px rgba(60, 64, 67, 0.3), 0 1px 3px 1px rgba(60, 64, 67, 0.15);\n",
              "    fill: var(--button-hover-fill-color);\n",
              "  }\n",
              "\n",
              "  .colab-df-quickchart-complete:disabled,\n",
              "  .colab-df-quickchart-complete:disabled:hover {\n",
              "    background-color: var(--disabled-bg-color);\n",
              "    fill: var(--disabled-fill-color);\n",
              "    box-shadow: none;\n",
              "  }\n",
              "\n",
              "  .colab-df-spinner {\n",
              "    border: 2px solid var(--fill-color);\n",
              "    border-color: transparent;\n",
              "    border-bottom-color: var(--fill-color);\n",
              "    animation:\n",
              "      spin 1s steps(1) infinite;\n",
              "  }\n",
              "\n",
              "  @keyframes spin {\n",
              "    0% {\n",
              "      border-color: transparent;\n",
              "      border-bottom-color: var(--fill-color);\n",
              "      border-left-color: var(--fill-color);\n",
              "    }\n",
              "    20% {\n",
              "      border-color: transparent;\n",
              "      border-left-color: var(--fill-color);\n",
              "      border-top-color: var(--fill-color);\n",
              "    }\n",
              "    30% {\n",
              "      border-color: transparent;\n",
              "      border-left-color: var(--fill-color);\n",
              "      border-top-color: var(--fill-color);\n",
              "      border-right-color: var(--fill-color);\n",
              "    }\n",
              "    40% {\n",
              "      border-color: transparent;\n",
              "      border-right-color: var(--fill-color);\n",
              "      border-top-color: var(--fill-color);\n",
              "    }\n",
              "    60% {\n",
              "      border-color: transparent;\n",
              "      border-right-color: var(--fill-color);\n",
              "    }\n",
              "    80% {\n",
              "      border-color: transparent;\n",
              "      border-right-color: var(--fill-color);\n",
              "      border-bottom-color: var(--fill-color);\n",
              "    }\n",
              "    90% {\n",
              "      border-color: transparent;\n",
              "      border-bottom-color: var(--fill-color);\n",
              "    }\n",
              "  }\n",
              "</style>\n",
              "\n",
              "  <script>\n",
              "    async function quickchart(key) {\n",
              "      const quickchartButtonEl =\n",
              "        document.querySelector('#' + key + ' button');\n",
              "      quickchartButtonEl.disabled = true;  // To prevent multiple clicks.\n",
              "      quickchartButtonEl.classList.add('colab-df-spinner');\n",
              "      try {\n",
              "        const charts = await google.colab.kernel.invokeFunction(\n",
              "            'suggestCharts', [key], {});\n",
              "      } catch (error) {\n",
              "        console.error('Error during call to suggestCharts:', error);\n",
              "      }\n",
              "      quickchartButtonEl.classList.remove('colab-df-spinner');\n",
              "      quickchartButtonEl.classList.add('colab-df-quickchart-complete');\n",
              "    }\n",
              "    (() => {\n",
              "      let quickchartButtonEl =\n",
              "        document.querySelector('#df-916c21a9-d7fc-406c-8491-b72896caa4f9 button');\n",
              "      quickchartButtonEl.style.display =\n",
              "        google.colab.kernel.accessAllowed ? 'block' : 'none';\n",
              "    })();\n",
              "  </script>\n",
              "</div>\n",
              "\n",
              "    </div>\n",
              "  </div>\n"
            ],
            "application/vnd.google.colaboratory.intrinsic+json": {
              "type": "dataframe",
              "summary": "{\n  \"name\": \"original_df[:10]\",\n  \"rows\": 10,\n  \"fields\": [\n    {\n      \"column\": \"age\",\n      \"properties\": {\n        \"dtype\": \"number\",\n        \"std\": 8,\n        \"min\": 28,\n        \"max\": 53,\n        \"num_unique_values\": 10,\n        \"samples\": [\n          31,\n          50,\n          37\n        ],\n        \"semantic_type\": \"\",\n        \"description\": \"\"\n      }\n    },\n    {\n      \"column\": \"work\",\n      \"properties\": {\n        \"dtype\": \"category\",\n        \"num_unique_values\": 3,\n        \"samples\": [\n          \" State-gov\",\n          \" Self-emp-not-inc\",\n          \" Private\"\n        ],\n        \"semantic_type\": \"\",\n        \"description\": \"\"\n      }\n    },\n    {\n      \"column\": \"fnlwgt\",\n      \"properties\": {\n        \"dtype\": \"number\",\n        \"std\": 94190,\n        \"min\": 45781,\n        \"max\": 338409,\n        \"num_unique_values\": 10,\n        \"samples\": [\n          45781,\n          83311,\n          284582\n        ],\n        \"semantic_type\": \"\",\n        \"description\": \"\"\n      }\n    },\n    {\n      \"column\": \"edu\",\n      \"properties\": {\n        \"dtype\": \"string\",\n        \"num_unique_values\": 5,\n        \"samples\": [\n          \" HS-grad\",\n          \" 9th\",\n          \" 11th\"\n        ],\n        \"semantic_type\": \"\",\n        \"description\": \"\"\n      }\n    },\n    {\n      \"column\": \"yredu\",\n      \"properties\": {\n        \"dtype\": \"number\",\n        \"std\": 3,\n        \"min\": 5,\n        \"max\": 14,\n        \"num_unique_values\": 5,\n        \"samples\": [\n          9,\n          5,\n          7\n        ],\n        \"semantic_type\": \"\",\n        \"description\": \"\"\n      }\n    },\n    {\n      \"column\": \"marriage\",\n      \"properties\": {\n        \"dtype\": \"category\",\n        \"num_unique_values\": 4,\n        \"samples\": [\n          \" Married-civ-spouse\",\n          \" Married-spouse-absent\",\n          \" Never-married\"\n        ],\n        \"semantic_type\": \"\",\n        \"description\": \"\"\n      }\n    },\n    {\n      \"column\": \"occupation\",\n      \"properties\": {\n        \"dtype\": \"string\",\n        \"num_unique_values\": 5,\n        \"samples\": [\n          \" Exec-managerial\",\n          \" Other-service\",\n          \" Handlers-cleaners\"\n        ],\n        \"semantic_type\": \"\",\n        \"description\": \"\"\n      }\n    },\n    {\n      \"column\": \"relationship\",\n      \"properties\": {\n        \"dtype\": \"category\",\n        \"num_unique_values\": 3,\n        \"samples\": [\n          \" Not-in-family\",\n          \" Husband\",\n          \" Wife\"\n        ],\n        \"semantic_type\": \"\",\n        \"description\": \"\"\n      }\n    },\n    {\n      \"column\": \"race\",\n      \"properties\": {\n        \"dtype\": \"category\",\n        \"num_unique_values\": 2,\n        \"samples\": [\n          \" Black\",\n          \" White\"\n        ],\n        \"semantic_type\": \"\",\n        \"description\": \"\"\n      }\n    },\n    {\n      \"column\": \"sex\",\n      \"properties\": {\n        \"dtype\": \"category\",\n        \"num_unique_values\": 2,\n        \"samples\": [\n          \" Female\",\n          \" Male\"\n        ],\n        \"semantic_type\": \"\",\n        \"description\": \"\"\n      }\n    },\n    {\n      \"column\": \"capgain\",\n      \"properties\": {\n        \"dtype\": \"number\",\n        \"std\": 4520,\n        \"min\": 0,\n        \"max\": 14084,\n        \"num_unique_values\": 4,\n        \"samples\": [\n          0,\n          5178\n        ],\n        \"semantic_type\": \"\",\n        \"description\": \"\"\n      }\n    },\n    {\n      \"column\": \"caploss\",\n      \"properties\": {\n        \"dtype\": \"number\",\n        \"std\": 0,\n        \"min\": 0,\n        \"max\": 0,\n        \"num_unique_values\": 1,\n        \"samples\": [\n          0\n        ],\n        \"semantic_type\": \"\",\n        \"description\": \"\"\n      }\n    },\n    {\n      \"column\": \"workhr\",\n      \"properties\": {\n        \"dtype\": \"number\",\n        \"std\": 12,\n        \"min\": 13,\n        \"max\": 50,\n        \"num_unique_values\": 5,\n        \"samples\": [\n          13\n        ],\n        \"semantic_type\": \"\",\n        \"description\": \"\"\n      }\n    },\n    {\n      \"column\": \"country\",\n      \"properties\": {\n        \"dtype\": \"category\",\n        \"num_unique_values\": 3,\n        \"samples\": [\n          \" United-States\"\n        ],\n        \"semantic_type\": \"\",\n        \"description\": \"\"\n      }\n    }\n  ]\n}"
            }
          },
          "metadata": {},
          "execution_count": 87
        }
      ]
    },
    {
      "cell_type": "markdown",
      "metadata": {
        "id": "p_d5uuAY1prZ"
      },
      "source": [
        "### Part (e) [2 pt]\n",
        "\n",
        "What is your model's prediction of this person's education\n",
        "level, given their other features?\n"
      ]
    },
    {
      "cell_type": "code",
      "execution_count": 85,
      "metadata": {
        "colab": {
          "base_uri": "https://localhost:8080/"
        },
        "collapsed": true,
        "id": "kBY5gKXR1pra",
        "jupyter": {
          "outputs_hidden": true
        },
        "outputId": "81400ab7-c419-42cc-ed68-f10bff5ce1cd"
      },
      "outputs": [
        {
          "output_type": "stream",
          "name": "stdout",
          "text": [
            "HS-grad\n"
          ]
        }
      ],
      "source": [
        "edu_hidden = zero_out_feature(test_data[:1],\"edu\")[0]\n",
        "with torch.no_grad():\n",
        "  edu_pred = model(torch.from_numpy(edu_hidden)).detach().numpy()\n",
        "edu_val = get_feature(edu_pred, 'edu')\n",
        "\n",
        "print(edu_val)"
      ]
    },
    {
      "cell_type": "markdown",
      "metadata": {
        "id": "fdLNA0ce1prd"
      },
      "source": [
        "### Part (f) [2 pt]\n",
        "\n",
        "What is the baseline model's prediction\n",
        "of this person's education level?"
      ]
    },
    {
      "cell_type": "code",
      "execution_count": 86,
      "metadata": {
        "colab": {
          "base_uri": "https://localhost:8080/",
          "height": 37
        },
        "collapsed": true,
        "id": "TXgoM9qk1prd",
        "jupyter": {
          "outputs_hidden": true
        },
        "outputId": "1b207267-aebc-4281-aede-b4c860ec5469"
      },
      "outputs": [
        {
          "output_type": "execute_result",
          "data": {
            "text/plain": [
              "' HS-grad'"
            ],
            "application/vnd.google.colaboratory.intrinsic+json": {
              "type": "string"
            }
          },
          "metadata": {},
          "execution_count": 86
        }
      ],
      "source": [
        "df_not_missing['edu'].value_counts().idxmax()"
      ]
    }
  ],
  "metadata": {
    "colab": {
      "collapsed_sections": [
        "HwjDg1uM1pqe",
        "OEJ0Ci3l1pqh",
        "1_5ZZR_J1pqy",
        "WKk01pwx1pq_",
        "SxCTlXoV1prB",
        "h9xTwIf51prF",
        "UEe9yt6L1prM",
        "QlHu0wxh1prP",
        "DfQPgu1Q1prS",
        "p_d5uuAY1prZ",
        "fdLNA0ce1prd"
      ],
      "name": "Lab 4 - Data Imputation",
      "provenance": [],
      "machine_shape": "hm",
      "gpuType": "A100"
    },
    "kernelspec": {
      "display_name": "Python 3",
      "name": "python3"
    },
    "language_info": {
      "codemirror_mode": {
        "name": "ipython",
        "version": 3
      },
      "file_extension": ".py",
      "mimetype": "text/x-python",
      "name": "python",
      "nbconvert_exporter": "python",
      "pygments_lexer": "ipython3",
      "version": "3.9.4"
    },
    "accelerator": "GPU"
  },
  "nbformat": 4,
  "nbformat_minor": 0
}