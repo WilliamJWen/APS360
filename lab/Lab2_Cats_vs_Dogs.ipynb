{
  "cells": [
    {
      "cell_type": "markdown",
      "metadata": {
        "id": "view-in-github",
        "colab_type": "text"
      },
      "source": [
        "<a href=\"https://colab.research.google.com/github/WilliamJWen/APS360/blob/main/lab/Lab2_Cats_vs_Dogs.ipynb\" target=\"_parent\"><img src=\"https://colab.research.google.com/assets/colab-badge.svg\" alt=\"Open In Colab\"/></a>"
      ]
    },
    {
      "cell_type": "markdown",
      "metadata": {
        "id": "X6WDvajSqIDs"
      },
      "source": [
        "# Lab 2: Cats vs Dogs\n",
        "\n",
        "In this lab, you will train a convolutional neural network to classify an image\n",
        "into one of two classes: \"cat\" or \"dog\". The code for the neural networks\n",
        "you train will be written for you, and you are not (yet!) expected\n",
        "to understand all provided code. However, by the end of the lab,\n",
        "you should be able to:\n",
        "\n",
        "1. Understand at a high level the training loop for a machine learning model.\n",
        "2. Understand the distinction between training, validation, and test data.\n",
        "3. The concepts of overfitting and underfitting.\n",
        "4. Investigate how different hyperparameters, such as learning rate and batch size, affect the success of training.\n",
        "5. Compare an ANN (aka Multi-Layer Perceptron) with a CNN.\n",
        "\n",
        "### What to submit\n",
        "\n",
        "Submit a PDF file containing all your code, outputs, and write-up\n",
        "from parts 1-5. You can produce a PDF of your Google Colab file by\n",
        "going to **File > Print** and then save as PDF. The Colab instructions\n",
        "has more information.\n",
        "\n",
        "**Do not submit any other files produced by your code.**\n",
        "\n",
        "Include a link to your colab file in your submission.\n",
        "\n",
        "Please use Google Colab to complete this assignment. If you want to use Jupyter Notebook, please complete the assignment and upload your Jupyter Notebook file to Google Colab for submission.\n",
        "\n",
        "With Colab, you can export a PDF file using the menu option\n",
        "`File -> Print` and save as PDF file. **Adjust the scaling to ensure that the text is not cutoff at the margins.**"
      ]
    },
    {
      "cell_type": "markdown",
      "metadata": {
        "id": "LfiFE_WOqIDu"
      },
      "source": [
        "## Colab Link\n",
        "\n",
        "Include a link to your colab file here\n",
        "\n",
        "Colab Link: https://colab.research.google.com/github/WilliamJWen/APS360/blob/main/lab/Lab2_Cats_vs_Dogs.ipynb"
      ]
    },
    {
      "cell_type": "code",
      "execution_count": 1,
      "metadata": {
        "collapsed": true,
        "id": "SwyDuiuUqIDv",
        "jupyter": {
          "outputs_hidden": true
        }
      },
      "outputs": [],
      "source": [
        "import numpy as np\n",
        "import time\n",
        "import torch\n",
        "import torch.nn as nn\n",
        "import torch.nn.functional as F\n",
        "import torch.optim as optim\n",
        "import torchvision\n",
        "from torch.utils.data.sampler import SubsetRandomSampler\n",
        "import torchvision.transforms as transforms\n"
      ]
    },
    {
      "cell_type": "markdown",
      "metadata": {
        "id": "kvTXpH_kqIDy"
      },
      "source": [
        "## Part 0. Helper Functions\n",
        "\n",
        "We will be making use of the following helper functions. You will be asked to look\n",
        "at and possibly modify some of these, but you are not expected to understand all of them.\n",
        "\n",
        "You should look at the function names and read the docstrings. If you are curious, come back and explore the code *after* making some progress on the lab."
      ]
    },
    {
      "cell_type": "code",
      "execution_count": 2,
      "metadata": {
        "collapsed": true,
        "id": "wEjwWEkoqIDz",
        "jupyter": {
          "outputs_hidden": true
        }
      },
      "outputs": [],
      "source": [
        "###############################################################################\n",
        "# Data Loading\n",
        "\n",
        "def get_relevant_indices(dataset, classes, target_classes):\n",
        "    \"\"\" Return the indices for datapoints in the dataset that belongs to the\n",
        "    desired target classes, a subset of all possible classes.\n",
        "\n",
        "    Args:\n",
        "        dataset: Dataset object\n",
        "        classes: A list of strings denoting the name of each class\n",
        "        target_classes: A list of strings denoting the name of desired classes\n",
        "                        Should be a subset of the 'classes'\n",
        "    Returns:\n",
        "        indices: list of indices that have labels corresponding to one of the\n",
        "                 target classes\n",
        "    \"\"\"\n",
        "    indices = []\n",
        "    for i in range(len(dataset)):\n",
        "        # Check if the label is in the target classes\n",
        "        label_index = dataset[i][1] # ex: 3\n",
        "        label_class = classes[label_index] # ex: 'cat'\n",
        "        if label_class in target_classes:\n",
        "            indices.append(i)\n",
        "    return indices\n",
        "\n",
        "def get_data_loader(target_classes, batch_size):\n",
        "    \"\"\" Loads images of cats and dogs, splits the data into training, validation\n",
        "    and testing datasets. Returns data loaders for the three preprocessed datasets.\n",
        "\n",
        "    Args:\n",
        "        target_classes: A list of strings denoting the name of the desired\n",
        "                        classes. Should be a subset of the argument 'classes'\n",
        "        batch_size: A int representing the number of samples per batch\n",
        "\n",
        "    Returns:\n",
        "        train_loader: iterable training dataset organized according to batch size\n",
        "        val_loader: iterable validation dataset organized according to batch size\n",
        "        test_loader: iterable testing dataset organized according to batch size\n",
        "        classes: A list of strings denoting the name of each class\n",
        "    \"\"\"\n",
        "\n",
        "    classes = ('plane', 'car', 'bird', 'cat',\n",
        "               'deer', 'dog', 'frog', 'horse', 'ship', 'truck')\n",
        "    ########################################################################\n",
        "    # The output of torchvision datasets are PILImage images of range [0, 1].\n",
        "    # We transform them to Tensors of normalized range [-1, 1].\n",
        "    transform = transforms.Compose(\n",
        "        [transforms.ToTensor(),\n",
        "         transforms.Normalize((0.5, 0.5, 0.5), (0.5, 0.5, 0.5))])\n",
        "    # Load CIFAR10 training data\n",
        "    trainset = torchvision.datasets.CIFAR10(root='./data', train=True,\n",
        "                                            download=True, transform=transform)\n",
        "    # Get the list of indices to sample from\n",
        "    relevant_indices = get_relevant_indices(trainset, classes, target_classes)\n",
        "\n",
        "    # Split into train and validation\n",
        "    np.random.seed(1000) # Fixed numpy random seed for reproducible shuffling\n",
        "    np.random.shuffle(relevant_indices)\n",
        "    split = int(len(relevant_indices) * 0.8) #split at 80%\n",
        "\n",
        "    # split into training and validation indices\n",
        "    relevant_train_indices, relevant_val_indices = relevant_indices[:split], relevant_indices[split:]\n",
        "    train_sampler = SubsetRandomSampler(relevant_train_indices)\n",
        "    train_loader = torch.utils.data.DataLoader(trainset, batch_size=batch_size,\n",
        "                                               num_workers=1, sampler=train_sampler)\n",
        "    val_sampler = SubsetRandomSampler(relevant_val_indices)\n",
        "    val_loader = torch.utils.data.DataLoader(trainset, batch_size=batch_size,\n",
        "                                              num_workers=1, sampler=val_sampler)\n",
        "    # Load CIFAR10 testing data\n",
        "    testset = torchvision.datasets.CIFAR10(root='./data', train=False,\n",
        "                                           download=True, transform=transform)\n",
        "    # Get the list of indices to sample from\n",
        "    relevant_test_indices = get_relevant_indices(testset, classes, target_classes)\n",
        "    test_sampler = SubsetRandomSampler(relevant_test_indices)\n",
        "    test_loader = torch.utils.data.DataLoader(testset, batch_size=batch_size,\n",
        "                                             num_workers=1, sampler=test_sampler)\n",
        "    return train_loader, val_loader, test_loader, classes\n",
        "\n",
        "###############################################################################\n",
        "# Training\n",
        "def get_model_name(name, batch_size, learning_rate, epoch):\n",
        "    \"\"\" Generate a name for the model consisting of all the hyperparameter values\n",
        "\n",
        "    Args:\n",
        "        config: Configuration object containing the hyperparameters\n",
        "    Returns:\n",
        "        path: A string with the hyperparameter name and value concatenated\n",
        "    \"\"\"\n",
        "    path = \"model_{0}_bs{1}_lr{2}_epoch{3}\".format(name,\n",
        "                                                   batch_size,\n",
        "                                                   learning_rate,\n",
        "                                                   epoch)\n",
        "    return path\n",
        "\n",
        "def normalize_label(labels):\n",
        "    \"\"\"\n",
        "    Given a tensor containing 2 possible values, normalize this to 0/1\n",
        "\n",
        "    Args:\n",
        "        labels: a 1D tensor containing two possible scalar values\n",
        "    Returns:\n",
        "        A tensor normalize to 0/1 value\n",
        "    \"\"\"\n",
        "    max_val = torch.max(labels)\n",
        "    min_val = torch.min(labels)\n",
        "    norm_labels = (labels - min_val)/(max_val - min_val)\n",
        "    return norm_labels\n",
        "\n",
        "def evaluate(net, loader, criterion):\n",
        "    \"\"\" Evaluate the network on the validation set.\n",
        "\n",
        "     Args:\n",
        "         net: PyTorch neural network object\n",
        "         loader: PyTorch data loader for the validation set\n",
        "         criterion: The loss function\n",
        "     Returns:\n",
        "         err: A scalar for the avg classification error over the validation set\n",
        "         loss: A scalar for the average loss function over the validation set\n",
        "     \"\"\"\n",
        "    total_loss = 0.0\n",
        "    total_err = 0.0\n",
        "    total_epoch = 0\n",
        "    for i, data in enumerate(loader, 0):\n",
        "        inputs, labels = data\n",
        "        labels = normalize_label(labels)  # Convert labels to 0/1\n",
        "        outputs = net(inputs)\n",
        "        loss = criterion(outputs, labels.float())\n",
        "        corr = (outputs > 0.0).squeeze().long() != labels\n",
        "        total_err += int(corr.sum())\n",
        "        total_loss += loss.item()\n",
        "        total_epoch += len(labels)\n",
        "    err = float(total_err) / total_epoch\n",
        "    loss = float(total_loss) / (i + 1)\n",
        "    return err, loss\n",
        "\n",
        "###############################################################################\n",
        "# Training Curve\n",
        "def plot_training_curve(path):\n",
        "    \"\"\" Plots the training curve for a model run, given the csv files\n",
        "    containing the train/validation error/loss.\n",
        "\n",
        "    Args:\n",
        "        path: The base path of the csv files produced during training\n",
        "    \"\"\"\n",
        "    import matplotlib.pyplot as plt\n",
        "    train_err = np.loadtxt(\"{}_train_err.csv\".format(path))\n",
        "    val_err = np.loadtxt(\"{}_val_err.csv\".format(path))\n",
        "    train_loss = np.loadtxt(\"{}_train_loss.csv\".format(path))\n",
        "    val_loss = np.loadtxt(\"{}_val_loss.csv\".format(path))\n",
        "    plt.title(\"Train vs Validation Error\")\n",
        "    n = len(train_err) # number of epochs\n",
        "    plt.plot(range(1,n+1), train_err, label=\"Train\")\n",
        "    plt.plot(range(1,n+1), val_err, label=\"Validation\")\n",
        "    plt.xlabel(\"Epoch\")\n",
        "    plt.ylabel(\"Error\")\n",
        "    plt.legend(loc='best')\n",
        "    plt.show()\n",
        "    plt.title(\"Train vs Validation Loss\")\n",
        "    plt.plot(range(1,n+1), train_loss, label=\"Train\")\n",
        "    plt.plot(range(1,n+1), val_loss, label=\"Validation\")\n",
        "    plt.xlabel(\"Epoch\")\n",
        "    plt.ylabel(\"Loss\")\n",
        "    plt.legend(loc='best')\n",
        "    plt.show()"
      ]
    },
    {
      "cell_type": "markdown",
      "metadata": {
        "id": "bJxMgWGNqID2"
      },
      "source": [
        "## Part 1. Visualizing the Data [7 pt]\n",
        "\n",
        "We will make use of some of the CIFAR-10 data set, which consists of\n",
        "colour images of size 32x32 pixels belonging to 10 categories. You can\n",
        "find out more about the dataset at https://www.cs.toronto.edu/~kriz/cifar.html\n",
        "\n",
        "For this assignment, we will only be using the cat and dog categories.\n",
        "We have included code that automatically downloads the dataset the\n",
        "first time that the main script is run."
      ]
    },
    {
      "cell_type": "code",
      "execution_count": 3,
      "metadata": {
        "collapsed": true,
        "id": "Rp7LVcGfqID3",
        "jupyter": {
          "outputs_hidden": true
        },
        "scrolled": true,
        "outputId": "7fd6d5a1-ba0d-460e-e05b-646b108a3b7e",
        "colab": {
          "base_uri": "https://localhost:8080/"
        }
      },
      "outputs": [
        {
          "output_type": "stream",
          "name": "stdout",
          "text": [
            "Downloading https://www.cs.toronto.edu/~kriz/cifar-10-python.tar.gz to ./data/cifar-10-python.tar.gz\n"
          ]
        },
        {
          "output_type": "stream",
          "name": "stderr",
          "text": [
            "100%|██████████| 170M/170M [00:04<00:00, 36.4MB/s]\n"
          ]
        },
        {
          "output_type": "stream",
          "name": "stdout",
          "text": [
            "Extracting ./data/cifar-10-python.tar.gz to ./data\n",
            "Files already downloaded and verified\n"
          ]
        }
      ],
      "source": [
        "# This will download the CIFAR-10 dataset to a folder called \"data\"\n",
        "# the first time you run this code.\n",
        "train_loader, val_loader, test_loader, classes = get_data_loader(\n",
        "    target_classes=[\"cat\", \"dog\"],\n",
        "    batch_size=1) # One image per batch"
      ]
    },
    {
      "cell_type": "code",
      "source": [
        "print(classes)"
      ],
      "metadata": {
        "id": "BOOJEwjEpCKk",
        "outputId": "d7a1c258-575a-4e3e-8f40-303f175a3cfa",
        "colab": {
          "base_uri": "https://localhost:8080/"
        }
      },
      "execution_count": 4,
      "outputs": [
        {
          "output_type": "stream",
          "name": "stdout",
          "text": [
            "('plane', 'car', 'bird', 'cat', 'deer', 'dog', 'frog', 'horse', 'ship', 'truck')\n"
          ]
        }
      ]
    },
    {
      "cell_type": "markdown",
      "metadata": {
        "id": "JiYX_HM-qID6"
      },
      "source": [
        "### Part (a) -- 1 pt\n",
        "\n",
        "Visualize some of the data by running the code below.\n",
        "Include the visualization in your writeup.\n",
        "\n",
        "(You don't need to submit anything else.)"
      ]
    },
    {
      "cell_type": "code",
      "execution_count": 12,
      "metadata": {
        "collapsed": true,
        "id": "UJ4pYFTQqID7",
        "jupyter": {
          "outputs_hidden": true
        },
        "scrolled": true,
        "outputId": "92264734-0c19-4cea-d9a8-222df2a39747",
        "colab": {
          "base_uri": "https://localhost:8080/",
          "height": 651
        }
      },
      "outputs": [
        {
          "output_type": "stream",
          "name": "stdout",
          "text": [
            "tensor(5)\n",
            "tensor(5)\n",
            "tensor(3)\n",
            "tensor(5)\n",
            "tensor(5)\n",
            "tensor(5)\n",
            "tensor(3)\n",
            "tensor(5)\n",
            "tensor(5)\n",
            "tensor(3)\n",
            "tensor(3)\n",
            "tensor(5)\n",
            "tensor(5)\n",
            "tensor(3)\n",
            "tensor(5)\n"
          ]
        },
        {
          "output_type": "display_data",
          "data": {
            "text/plain": [
              "<Figure size 640x480 with 15 Axes>"
            ],
            "image/png": "[encoded data removed]"
          },
          "metadata": {}
        }
      ],
      "source": [
        "import matplotlib.pyplot as plt\n",
        "\n",
        "k = 0\n",
        "for images, labels in train_loader:\n",
        "    # since batch_size = 1, there is only 1 image in `images`\n",
        "    image = images[0]\n",
        "    # place the colour channel at the end, instead of at the beginning\n",
        "    img = np.transpose(image, [1,2,0])\n",
        "    # normalize pixel intensity values to [0, 1]\n",
        "    img = img / 2 + 0.5\n",
        "    plt.subplot(3, 5, k+1)\n",
        "    plt.axis('off')\n",
        "    plt.imshow(img)\n",
        "\n",
        "    k += 1\n",
        "    if k > 14:\n",
        "        break"
      ]
    },
    {
      "cell_type": "markdown",
      "metadata": {
        "id": "UmHiUOaDqID9"
      },
      "source": [
        "### Part (b) -- 3 pt\n",
        "\n",
        "How many training examples do we have for the combined `cat` and `dog` classes?\n",
        "What about validation examples?\n",
        "What about test examples?"
      ]
    },
    {
      "cell_type": "code",
      "execution_count": 23,
      "metadata": {
        "collapsed": true,
        "id": "6p4eAz1IqID-",
        "jupyter": {
          "outputs_hidden": true
        }
      },
      "outputs": [],
      "source": [
        "def get_class_num(data_loader, target_classes, classes, batch_size=1):\n",
        "  sum = 0\n",
        "  for _, labels in data_loader:\n",
        "    for i in range(batch_size):\n",
        "      if classes[labels[i]] in target_classes:\n",
        "        sum += 1\n",
        "  return sum\n"
      ]
    },
    {
      "cell_type": "code",
      "source": [
        "num_training = get_class_num(train_loader, ['cat', 'dog'], classes)\n",
        "print(f\"Training data has {num_training} examples.\")"
      ],
      "metadata": {
        "id": "0GVmJVJ4qg5f",
        "outputId": "045c4957-78f7-4a0c-f4c2-c9f6a315d8d2",
        "colab": {
          "base_uri": "https://localhost:8080/"
        }
      },
      "execution_count": 27,
      "outputs": [
        {
          "output_type": "stream",
          "name": "stdout",
          "text": [
            "Training data has 8000 examples.\n"
          ]
        }
      ]
    },
    {
      "cell_type": "code",
      "source": [
        "num_validation = get_class_num(val_loader, ['cat', 'dog'], classes)\n",
        "print(f\"Validation data has {num_validation} examples.\")"
      ],
      "metadata": {
        "id": "QfG93oiiui9u",
        "outputId": "5d3bec9d-9a87-4aa3-f665-8af5a5719ff3",
        "colab": {
          "base_uri": "https://localhost:8080/"
        }
      },
      "execution_count": 21,
      "outputs": [
        {
          "output_type": "stream",
          "name": "stdout",
          "text": [
            "Validation data has 2000 examples.\n"
          ]
        }
      ]
    },
    {
      "cell_type": "code",
      "source": [
        "num_test = get_class_num(test_loader, ['cat', 'dog'], classes)\n",
        "print(f\"Test data has {num_test} examples.\")"
      ],
      "metadata": {
        "id": "NL-tYclKujoq",
        "outputId": "db26aa42-2b84-4807-ee3b-dc975828fc43",
        "colab": {
          "base_uri": "https://localhost:8080/"
        }
      },
      "execution_count": 25,
      "outputs": [
        {
          "output_type": "stream",
          "name": "stdout",
          "text": [
            "Test data has 2000 examples.\n"
          ]
        }
      ]
    },
    {
      "cell_type": "markdown",
      "metadata": {
        "id": "3aY25I_oqIEB"
      },
      "source": [
        "### Part (c) -- 3pt\n",
        "\n",
        "Why do we need a validation set when training our model? What happens if we judge the\n",
        "performance of our models using the training set loss/error instead of the validation\n",
        "set loss/error?"
      ]
    },
    {
      "cell_type": "markdown",
      "source": [
        "Because the model might overfit on the training data and not generalize well with unseen data.  If we judge the performance of our model using the training set, the model might not work well outside training data."
      ],
      "metadata": {
        "id": "Mn2iRu_mwAlw"
      }
    },
    {
      "cell_type": "markdown",
      "metadata": {
        "id": "6iYZ4xXHqIEE"
      },
      "source": [
        "## Part 2. Training [15 pt]\n",
        "\n",
        "We define two neural networks, a `LargeNet` and `SmallNet`.\n",
        "We'll be training the networks in this section.\n",
        "\n",
        "You won't understand fully what these networks are doing until\n",
        "the next few classes, and that's okay. For this assignment, please\n",
        "focus on learning how to train networks, and how hyperparameters affect\n",
        "training."
      ]
    },
    {
      "cell_type": "code",
      "execution_count": null,
      "metadata": {
        "collapsed": true,
        "id": "HniZoI3lqIEF",
        "jupyter": {
          "outputs_hidden": true
        }
      },
      "outputs": [],
      "source": [
        "class LargeNet(nn.Module):\n",
        "    def __init__(self):\n",
        "        super(LargeNet, self).__init__()\n",
        "        self.name = \"large\"\n",
        "        self.conv1 = nn.Conv2d(3, 5, 5)\n",
        "        self.pool = nn.MaxPool2d(2, 2)\n",
        "        self.conv2 = nn.Conv2d(5, 10, 5)\n",
        "        self.fc1 = nn.Linear(10 * 5 * 5, 32)\n",
        "        self.fc2 = nn.Linear(32, 1)\n",
        "\n",
        "    def forward(self, x):\n",
        "        x = self.pool(F.relu(self.conv1(x)))\n",
        "        x = self.pool(F.relu(self.conv2(x)))\n",
        "        x = x.view(-1, 10 * 5 * 5)\n",
        "        x = F.relu(self.fc1(x))\n",
        "        x = self.fc2(x)\n",
        "        x = x.squeeze(1) # Flatten to [batch_size]\n",
        "        return x"
      ]
    },
    {
      "cell_type": "code",
      "execution_count": null,
      "metadata": {
        "collapsed": true,
        "id": "pJgOmJdvqIEH",
        "jupyter": {
          "outputs_hidden": true
        }
      },
      "outputs": [],
      "source": [
        "class SmallNet(nn.Module):\n",
        "    def __init__(self):\n",
        "        super(SmallNet, self).__init__()\n",
        "        self.name = \"small\"\n",
        "        self.conv = nn.Conv2d(3, 5, 3)\n",
        "        self.pool = nn.MaxPool2d(2, 2)\n",
        "        self.fc = nn.Linear(5 * 7 * 7, 1)\n",
        "\n",
        "    def forward(self, x):\n",
        "        x = self.pool(F.relu(self.conv(x)))\n",
        "        x = self.pool(x)\n",
        "        x = x.view(-1, 5 * 7 * 7)\n",
        "        x = self.fc(x)\n",
        "        x = x.squeeze(1) # Flatten to [batch_size]\n",
        "        return x"
      ]
    },
    {
      "cell_type": "code",
      "execution_count": null,
      "metadata": {
        "collapsed": true,
        "id": "pMJZt_S2qIEM",
        "jupyter": {
          "outputs_hidden": true
        }
      },
      "outputs": [],
      "source": [
        "small_net = SmallNet()\n",
        "large_net = LargeNet()"
      ]
    },
    {
      "cell_type": "markdown",
      "metadata": {
        "id": "-ekO3pj9qIEQ"
      },
      "source": [
        "### Part (a) -- 2pt\n",
        "\n",
        "The methods `small_net.parameters()` and `large_net.parameters()`\n",
        "produces an iterator of all the trainable parameters of the network.\n",
        "These parameters are torch tensors containing many scalar values.\n",
        "\n",
        "We haven't learned how how the parameters in these high-dimensional\n",
        "tensors will be used, but we should be able to count the number\n",
        "of parameters. Measuring the number of parameters in a network is\n",
        "one way of measuring the \"size\" of a network.\n",
        "\n",
        "What is the total number of parameters in `small_net` and in\n",
        "`large_net`? (Hint: how many numbers are in each tensor?)"
      ]
    },
    {
      "cell_type": "code",
      "execution_count": null,
      "metadata": {
        "collapsed": true,
        "id": "dc4keyOnqIER",
        "jupyter": {
          "outputs_hidden": true
        }
      },
      "outputs": [],
      "source": [
        "for param in small_net.parameters():\n",
        "    print(param.shape)"
      ]
    },
    {
      "cell_type": "markdown",
      "metadata": {
        "id": "OcZVo2DsqIET"
      },
      "source": [
        "### The function train_net\n",
        "\n",
        "The function `train_net` below takes an untrained neural network (like `small_net` and `large_net`) and\n",
        "several other parameters. You should be able to understand how this function works.\n",
        "The figure below shows the high level training loop for a machine learning model:\n",
        "\n",
        "![alt text](https://github.com/UTNeural/Lab2/blob/master/Diagram.png?raw=true)"
      ]
    },
    {
      "cell_type": "code",
      "execution_count": null,
      "metadata": {
        "collapsed": true,
        "id": "jC90G_VGqIEU",
        "jupyter": {
          "outputs_hidden": true
        }
      },
      "outputs": [],
      "source": [
        "def train_net(net, batch_size=64, learning_rate=0.01, num_epochs=30):\n",
        "    ########################################################################\n",
        "    # Train a classifier on cats vs dogs\n",
        "    target_classes = [\"cat\", \"dog\"]\n",
        "    ########################################################################\n",
        "    # Fixed PyTorch random seed for reproducible result\n",
        "    torch.manual_seed(1000)\n",
        "    ########################################################################\n",
        "    # Obtain the PyTorch data loader objects to load batches of the datasets\n",
        "    train_loader, val_loader, test_loader, classes = get_data_loader(\n",
        "            target_classes, batch_size)\n",
        "    ########################################################################\n",
        "    # Define the Loss function and optimizer\n",
        "    # The loss function will be Binary Cross Entropy (BCE). In this case we\n",
        "    # will use the BCEWithLogitsLoss which takes unnormalized output from\n",
        "    # the neural network and scalar label.\n",
        "    # Optimizer will be SGD with Momentum.\n",
        "    criterion = nn.BCEWithLogitsLoss()\n",
        "    optimizer = optim.SGD(net.parameters(), lr=learning_rate, momentum=0.9)\n",
        "    ########################################################################\n",
        "    # Set up some numpy arrays to store the training/test loss/erruracy\n",
        "    train_err = np.zeros(num_epochs)\n",
        "    train_loss = np.zeros(num_epochs)\n",
        "    val_err = np.zeros(num_epochs)\n",
        "    val_loss = np.zeros(num_epochs)\n",
        "    ########################################################################\n",
        "    # Train the network\n",
        "    # Loop over the data iterator and sample a new batch of training data\n",
        "    # Get the output from the network, and optimize our loss function.\n",
        "    start_time = time.time()\n",
        "    for epoch in range(num_epochs):  # loop over the dataset multiple times\n",
        "        total_train_loss = 0.0\n",
        "        total_train_err = 0.0\n",
        "        total_epoch = 0\n",
        "        for i, data in enumerate(train_loader, 0):\n",
        "            # Get the inputs\n",
        "            inputs, labels = data\n",
        "            labels = normalize_label(labels) # Convert labels to 0/1\n",
        "            # Zero the parameter gradients\n",
        "            optimizer.zero_grad()\n",
        "            # Forward pass, backward pass, and optimize\n",
        "            outputs = net(inputs)\n",
        "            loss = criterion(outputs, labels.float())\n",
        "            loss.backward()\n",
        "            optimizer.step()\n",
        "            # Calculate the statistics\n",
        "            corr = (outputs > 0.0).squeeze().long() != labels\n",
        "            total_train_err += int(corr.sum())\n",
        "            total_train_loss += loss.item()\n",
        "            total_epoch += len(labels)\n",
        "        train_err[epoch] = float(total_train_err) / total_epoch\n",
        "        train_loss[epoch] = float(total_train_loss) / (i+1)\n",
        "        val_err[epoch], val_loss[epoch] = evaluate(net, val_loader, criterion)\n",
        "        print((\"Epoch {}: Train err: {}, Train loss: {} |\"+\n",
        "               \"Validation err: {}, Validation loss: {}\").format(\n",
        "                   epoch + 1,\n",
        "                   train_err[epoch],\n",
        "                   train_loss[epoch],\n",
        "                   val_err[epoch],\n",
        "                   val_loss[epoch]))\n",
        "        # Save the current model (checkpoint) to a file\n",
        "        model_path = get_model_name(net.name, batch_size, learning_rate, epoch)\n",
        "        torch.save(net.state_dict(), model_path)\n",
        "    print('Finished Training')\n",
        "    end_time = time.time()\n",
        "    elapsed_time = end_time - start_time\n",
        "    print(\"Total time elapsed: {:.2f} seconds\".format(elapsed_time))\n",
        "    # Write the train/test loss/err into CSV file for plotting later\n",
        "    epochs = np.arange(1, num_epochs + 1)\n",
        "    np.savetxt(\"{}_train_err.csv\".format(model_path), train_err)\n",
        "    np.savetxt(\"{}_train_loss.csv\".format(model_path), train_loss)\n",
        "    np.savetxt(\"{}_val_err.csv\".format(model_path), val_err)\n",
        "    np.savetxt(\"{}_val_loss.csv\".format(model_path), val_loss)"
      ]
    },
    {
      "cell_type": "markdown",
      "metadata": {
        "id": "jEhligNaqIEW"
      },
      "source": [
        "### Part (b) -- 1pt\n",
        "\n",
        "The parameters to the function `train_net` are hyperparameters of our neural network.\n",
        "We made these hyperparameters easy to modify so that we can tune them later on.\n",
        "\n",
        "What are the default values of the parameters `batch_size`, `learning_rate`,\n",
        "and `num_epochs`?"
      ]
    },
    {
      "cell_type": "code",
      "execution_count": null,
      "metadata": {
        "collapsed": true,
        "id": "Ybq2F5KTqIEX",
        "jupyter": {
          "outputs_hidden": true
        }
      },
      "outputs": [],
      "source": []
    },
    {
      "cell_type": "markdown",
      "metadata": {
        "id": "Qy_yv9NMqIEa"
      },
      "source": [
        "### Part (c) -- 3 pt\n",
        "\n",
        "What files are written to disk when we call `train_net` with `small_net`, and train for 5 epochs? Provide a list\n",
        "of all the files written to disk, and what information the files contain."
      ]
    },
    {
      "cell_type": "code",
      "execution_count": null,
      "metadata": {
        "collapsed": true,
        "id": "hNwhtyP1qIEb",
        "jupyter": {
          "outputs_hidden": true
        }
      },
      "outputs": [],
      "source": []
    },
    {
      "cell_type": "markdown",
      "metadata": {
        "id": "a6shtCFDqIEd"
      },
      "source": [
        "### Part (d) -- 2pt\n",
        "\n",
        "Train both `small_net` and `large_net` using the function `train_net` and its default parameters.\n",
        "The function will write many files to disk, including a model checkpoint (saved values of model weights)\n",
        "at the end of each epoch.\n",
        "\n",
        "If you are using Google Colab, you will need to mount Google Drive\n",
        "so that the files generated by `train_net` gets saved. We will be using\n",
        "these files in part (d).\n",
        "(See the Google Colab tutorial for more information about this.)\n",
        "\n",
        "Report the total time elapsed when training each network. Which network took longer to train?\n",
        "Why?"
      ]
    },
    {
      "cell_type": "code",
      "execution_count": null,
      "metadata": {
        "collapsed": true,
        "id": "tawIVwTfqIEe",
        "jupyter": {
          "outputs_hidden": true
        }
      },
      "outputs": [],
      "source": [
        "# Since the function writes files to disk, you will need to mount\n",
        "# your Google Drive. If you are working on the lab locally, you\n",
        "# can comment out this code.\n",
        "\n",
        "from google.colab import drive\n",
        "drive.mount('/content/gdrive')"
      ]
    },
    {
      "cell_type": "code",
      "execution_count": null,
      "metadata": {
        "collapsed": true,
        "id": "MWSZm9SvqIEh",
        "jupyter": {
          "outputs_hidden": true
        }
      },
      "outputs": [],
      "source": []
    },
    {
      "cell_type": "markdown",
      "metadata": {
        "id": "Pk4GIF3QqIEj"
      },
      "source": [
        "### Part (e) - 2pt\n",
        "\n",
        "Use the function `plot_training_curve` to display the trajectory of the\n",
        "training/validation error and the training/validation loss.\n",
        "You will need to use the function `get_model_name` to generate the\n",
        "argument to the `plot_training_curve` function.\n",
        "\n",
        "Do this for both the small network and the large network. Include both plots\n",
        "in your writeup."
      ]
    },
    {
      "cell_type": "code",
      "execution_count": null,
      "metadata": {
        "collapsed": true,
        "id": "EXrEgOtuqIEk",
        "jupyter": {
          "outputs_hidden": true
        }
      },
      "outputs": [],
      "source": [
        "#model_path = get_model_name(\"small\", batch_size=??, learning_rate=??, epoch=29)"
      ]
    },
    {
      "cell_type": "markdown",
      "metadata": {
        "id": "kUzWo8HRqIEu"
      },
      "source": [
        "### Part (f) - 5pt\n",
        "\n",
        "Describe what you notice about the training curve.\n",
        "How do the curves differ for `small_net` and `large_net`?\n",
        "Identify any occurences of underfitting and overfitting."
      ]
    },
    {
      "cell_type": "code",
      "execution_count": null,
      "metadata": {
        "collapsed": true,
        "id": "Tqlu1fHZqIEw",
        "jupyter": {
          "outputs_hidden": true
        }
      },
      "outputs": [],
      "source": []
    },
    {
      "cell_type": "markdown",
      "metadata": {
        "id": "jYP_y58SqIEz"
      },
      "source": [
        "## Part 3. Optimization Parameters [12 pt]\n",
        "\n",
        "For this section, we will work with `large_net` only."
      ]
    },
    {
      "cell_type": "markdown",
      "metadata": {
        "id": "f1uGdKUIqIE1"
      },
      "source": [
        "### Part (a) - 3pt\n",
        "\n",
        "Train `large_net` with all default parameters, except set `learning_rate=0.001`.\n",
        "Does the model take longer/shorter to train?\n",
        "Plot the training curve. Describe the effect of *lowering* the learning rate."
      ]
    },
    {
      "cell_type": "code",
      "execution_count": null,
      "metadata": {
        "collapsed": true,
        "id": "b9-toERSqIE2",
        "jupyter": {
          "outputs_hidden": true
        }
      },
      "outputs": [],
      "source": [
        "# Note: When we re-construct the model, we start the training\n",
        "# with *random weights*. If we omit this code, the values of\n",
        "# the weights will still be the previously trained values.\n",
        "large_net = LargeNet()"
      ]
    },
    {
      "cell_type": "markdown",
      "metadata": {
        "id": "5APYluUoqIE4"
      },
      "source": [
        "### Part (b) - 3pt\n",
        "\n",
        "Train `large_net` with all default parameters, except set `learning_rate=0.1`.\n",
        "Does the model take longer/shorter to train?\n",
        "Plot the training curve. Describe the effect of *increasing* the learning rate."
      ]
    },
    {
      "cell_type": "code",
      "execution_count": null,
      "metadata": {
        "collapsed": true,
        "id": "IY7GrjFxqIE5",
        "jupyter": {
          "outputs_hidden": true
        }
      },
      "outputs": [],
      "source": []
    },
    {
      "cell_type": "markdown",
      "metadata": {
        "id": "GMb-NLitqIE7"
      },
      "source": [
        "### Part (c) - 3pt\n",
        "\n",
        "Train `large_net` with all default parameters, including with `learning_rate=0.01`.\n",
        "Now, set `batch_size=512`. Does the model take longer/shorter to train?\n",
        "Plot the training curve. Describe the effect of *increasing* the batch size."
      ]
    },
    {
      "cell_type": "code",
      "execution_count": null,
      "metadata": {
        "collapsed": true,
        "id": "WHRzqMAcqIE8",
        "jupyter": {
          "outputs_hidden": true
        }
      },
      "outputs": [],
      "source": []
    },
    {
      "cell_type": "markdown",
      "metadata": {
        "id": "DwvN15IzqIE-"
      },
      "source": [
        "### Part (d) - 3pt\n",
        "\n",
        "Train `large_net` with all default parameters, including with `learning_rate=0.01`.\n",
        "Now, set `batch_size=16`. Does the model take longer/shorter to train?\n",
        "Plot the training curve. Describe the effect of *decreasing* the batch size."
      ]
    },
    {
      "cell_type": "code",
      "execution_count": null,
      "metadata": {
        "collapsed": true,
        "id": "E0SKvrNGqIE-",
        "jupyter": {
          "outputs_hidden": true
        }
      },
      "outputs": [],
      "source": []
    },
    {
      "cell_type": "markdown",
      "metadata": {
        "id": "1MkpZLc4qIFA"
      },
      "source": [
        "## Part 4. Hyperparameter Search [6 pt]\n",
        "\n",
        "### Part (a) - 2pt\n",
        "\n",
        "Based on the plots from above, choose another set of values for the hyperparameters (network, batch_size, learning_rate)\n",
        "that you think would help you improve the validation accuracy. Justify your choice."
      ]
    },
    {
      "cell_type": "code",
      "execution_count": null,
      "metadata": {
        "collapsed": true,
        "id": "0MocaZsUqIFB",
        "jupyter": {
          "outputs_hidden": true
        }
      },
      "outputs": [],
      "source": []
    },
    {
      "cell_type": "markdown",
      "metadata": {
        "id": "fTLRs2f7qIFD"
      },
      "source": [
        "### Part (b) - 1pt\n",
        "\n",
        "Train the model with the hyperparameters you chose in part(a), and include the training curve."
      ]
    },
    {
      "cell_type": "code",
      "execution_count": null,
      "metadata": {
        "collapsed": true,
        "id": "hCFV10I9qIFD",
        "jupyter": {
          "outputs_hidden": true
        }
      },
      "outputs": [],
      "source": []
    },
    {
      "cell_type": "markdown",
      "metadata": {
        "id": "ZsO4z7JJqIFF"
      },
      "source": [
        "### Part (c) - 2pt\n",
        "\n",
        "Based on your result from Part(a), suggest another set of hyperparameter values to try.\n",
        "Justify your choice."
      ]
    },
    {
      "cell_type": "code",
      "execution_count": null,
      "metadata": {
        "collapsed": true,
        "id": "4sZjOR2RqIFG",
        "jupyter": {
          "outputs_hidden": true
        }
      },
      "outputs": [],
      "source": []
    },
    {
      "cell_type": "markdown",
      "metadata": {
        "id": "VrMyc5QnqIFI"
      },
      "source": [
        "### Part (d) - 1pt\n",
        "\n",
        "Train the model with the hyperparameters you chose in part(c), and include the training curve."
      ]
    },
    {
      "cell_type": "code",
      "execution_count": null,
      "metadata": {
        "collapsed": true,
        "id": "AU0a0PHFqIFJ",
        "jupyter": {
          "outputs_hidden": true
        }
      },
      "outputs": [],
      "source": []
    },
    {
      "cell_type": "markdown",
      "metadata": {
        "id": "1kQB1IFuqIFN"
      },
      "source": [
        "## Part 4. Evaluating the Best Model [15 pt]\n"
      ]
    },
    {
      "cell_type": "markdown",
      "metadata": {
        "id": "Xxje12xKqIFN"
      },
      "source": [
        "### Part (a) - 1pt\n",
        "\n",
        "Choose the **best** model that you have so far. This means choosing the best model checkpoint,\n",
        "including the choice of `small_net` vs `large_net`, the `batch_size`, `learning_rate`,\n",
        "**and the epoch number**.\n",
        "\n",
        "Modify the code below to load your chosen set of weights to the model object `net`."
      ]
    },
    {
      "cell_type": "code",
      "execution_count": null,
      "metadata": {
        "collapsed": true,
        "id": "AanLwIAEqIFO",
        "jupyter": {
          "outputs_hidden": true
        }
      },
      "outputs": [],
      "source": [
        "net = SmallNet()\n",
        "model_path = get_model_name(net.name, batch_size=64, learning_rate=0.01, epoch=10)\n",
        "state = torch.load(model_path)\n",
        "net.load_state_dict(state)"
      ]
    },
    {
      "cell_type": "code",
      "execution_count": null,
      "metadata": {
        "collapsed": true,
        "id": "psNcmnIPqIFQ",
        "jupyter": {
          "outputs_hidden": true
        }
      },
      "outputs": [],
      "source": []
    },
    {
      "cell_type": "markdown",
      "metadata": {
        "id": "vXXwLMIXqIFS"
      },
      "source": [
        "### Part (b) - 2pt\n",
        "\n",
        "Justify your choice of model from part (a)."
      ]
    },
    {
      "cell_type": "code",
      "execution_count": null,
      "metadata": {
        "collapsed": true,
        "id": "yY0cG56EqIFS",
        "jupyter": {
          "outputs_hidden": true
        }
      },
      "outputs": [],
      "source": []
    },
    {
      "cell_type": "markdown",
      "metadata": {
        "id": "S0GE8Z5kqIFU"
      },
      "source": [
        "### Part (c) - 2pt\n",
        "\n",
        "Using the code in Part 0, any code from lecture notes, or any code that you write,\n",
        "compute and report the **test classification error** for your chosen model."
      ]
    },
    {
      "cell_type": "code",
      "execution_count": null,
      "metadata": {
        "collapsed": true,
        "id": "wPUe9iomqIFV",
        "jupyter": {
          "outputs_hidden": true
        }
      },
      "outputs": [],
      "source": [
        "# If you use the `evaluate` function provided in part 0, you will need to\n",
        "# set batch_size > 1\n",
        "train_loader, val_loader, test_loader, classes = get_data_loader(\n",
        "    target_classes=[\"cat\", \"dog\"],\n",
        "    batch_size=64)"
      ]
    },
    {
      "cell_type": "markdown",
      "metadata": {
        "id": "RXK0XaayqIFY"
      },
      "source": [
        "### Part (d) - 3pt\n",
        "\n",
        "How does the test classification error compare with the **validation error**?\n",
        "Explain why you would expect the test error to be *higher* than the validation error."
      ]
    },
    {
      "cell_type": "code",
      "execution_count": null,
      "metadata": {
        "collapsed": true,
        "id": "uxcr2b9NqIFZ",
        "jupyter": {
          "outputs_hidden": true
        }
      },
      "outputs": [],
      "source": []
    },
    {
      "cell_type": "markdown",
      "metadata": {
        "id": "GMA9b8vXqIFd"
      },
      "source": [
        "### Part (e) - 2pt\n",
        "\n",
        "Why did we only use the test data set at the very end?\n",
        "Why is it important that we use the test data as little as possible?"
      ]
    },
    {
      "cell_type": "code",
      "execution_count": null,
      "metadata": {
        "collapsed": true,
        "id": "LPH4pTRKqIFe",
        "jupyter": {
          "outputs_hidden": true
        }
      },
      "outputs": [],
      "source": []
    },
    {
      "cell_type": "markdown",
      "metadata": {
        "id": "hxG0sYDZM2KR"
      },
      "source": [
        "### Part (f) - 5pt\n",
        "\n",
        "How does the your best CNN model compare with an 2-layer ANN model (no convolutional layers) on classifying cat and dog images. You can use a 2-layer ANN architecture similar to what you used in Lab 1. You should explore different hyperparameter settings to determine how well you can do on the validation dataset. Once satisified with the performance, you may test it out on the test data.\n",
        "\n",
        "Hint: The ANN in lab 1 was applied on greyscale images. The cat and dog images are colour (RGB) and so you will need to flatted and concatinate all three colour layers before feeding them into an ANN."
      ]
    },
    {
      "cell_type": "code",
      "execution_count": null,
      "metadata": {
        "collapsed": true,
        "id": "pjI2Zw9jqIFg",
        "jupyter": {
          "outputs_hidden": true
        }
      },
      "outputs": [],
      "source": []
    }
  ],
  "metadata": {
    "colab": {
      "collapsed_sections": [
        "-ekO3pj9qIEQ",
        "OcZVo2DsqIET",
        "jEhligNaqIEW",
        "Qy_yv9NMqIEa",
        "a6shtCFDqIEd",
        "Pk4GIF3QqIEj",
        "kUzWo8HRqIEu",
        "f1uGdKUIqIE1",
        "5APYluUoqIE4",
        "GMb-NLitqIE7",
        "DwvN15IzqIE-",
        "fTLRs2f7qIFD",
        "ZsO4z7JJqIFF",
        "VrMyc5QnqIFI",
        "Xxje12xKqIFN",
        "S0GE8Z5kqIFU"
      ],
      "provenance": [],
      "include_colab_link": true
    },
    "kernelspec": {
      "display_name": "Python 3 (ipykernel)",
      "language": "python",
      "name": "python3"
    },
    "language_info": {
      "codemirror_mode": {
        "name": "ipython",
        "version": 3
      },
      "file_extension": ".py",
      "mimetype": "text/x-python",
      "name": "python",
      "nbconvert_exporter": "python",
      "pygments_lexer": "ipython3",
      "version": "3.9.4"
    }
  },
  "nbformat": 4,
  "nbformat_minor": 0
}